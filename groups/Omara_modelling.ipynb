{
 "cells": [
  {
   "cell_type": "code",
   "execution_count": 6,
   "metadata": {
    "ExecuteTime": {
     "end_time": "2020-08-27T03:25:16.263527Z",
     "start_time": "2020-08-27T03:25:14.281223Z"
    }
   },
   "outputs": [],
   "source": [
    "\n",
    "import pandas as pd\n",
    "import numpy as np\n",
    "import matplotlib.pyplot as plt\n",
    "from sklearn.model_selection import train_test_split, GridSearchCV, cross_val_score\n",
    "\n",
    "%matplotlib inline"
   ]
  },
  {
   "cell_type": "code",
   "execution_count": 7,
   "metadata": {
    "ExecuteTime": {
     "end_time": "2020-08-27T03:25:17.928985Z",
     "start_time": "2020-08-27T03:25:17.371406Z"
    }
   },
   "outputs": [
    {
     "data": {
      "text/html": [
       "<div>\n",
       "<style scoped>\n",
       "    .dataframe tbody tr th:only-of-type {\n",
       "        vertical-align: middle;\n",
       "    }\n",
       "\n",
       "    .dataframe tbody tr th {\n",
       "        vertical-align: top;\n",
       "    }\n",
       "\n",
       "    .dataframe thead th {\n",
       "        text-align: right;\n",
       "    }\n",
       "</style>\n",
       "<table border=\"1\" class=\"dataframe\">\n",
       "  <thead>\n",
       "    <tr style=\"text-align: right;\">\n",
       "      <th></th>\n",
       "      <th>CRASH_RECORD_ID</th>\n",
       "      <th>CRASH_DATE_EST_I</th>\n",
       "      <th>CRASH_DATE</th>\n",
       "      <th>POSTED_SPEED_LIMIT</th>\n",
       "      <th>TRAFFIC_CONTROL_DEVICE</th>\n",
       "      <th>DEVICE_CONDITION</th>\n",
       "      <th>WEATHER_CONDITION</th>\n",
       "      <th>LIGHTING_CONDITION</th>\n",
       "      <th>FIRST_CRASH_TYPE</th>\n",
       "      <th>TRAFFICWAY_TYPE</th>\n",
       "      <th>...</th>\n",
       "      <th>INJURIES_NON_INCAPACITATING</th>\n",
       "      <th>INJURIES_REPORTED_NOT_EVIDENT</th>\n",
       "      <th>INJURIES_NO_INDICATION</th>\n",
       "      <th>INJURIES_UNKNOWN</th>\n",
       "      <th>CRASH_HOUR</th>\n",
       "      <th>CRASH_DAY_OF_WEEK</th>\n",
       "      <th>CRASH_MONTH</th>\n",
       "      <th>LATITUDE</th>\n",
       "      <th>LONGITUDE</th>\n",
       "      <th>LOCATION</th>\n",
       "    </tr>\n",
       "  </thead>\n",
       "  <tbody>\n",
       "    <tr>\n",
       "      <th>0</th>\n",
       "      <td>23a79931ef555d54118f64dc9be2cf2dbf59636ce253f7...</td>\n",
       "      <td>NaN</td>\n",
       "      <td>09/05/2023 07:05:00 PM</td>\n",
       "      <td>30.0</td>\n",
       "      <td>TRAFFIC SIGNAL</td>\n",
       "      <td>FUNCTIONING PROPERLY</td>\n",
       "      <td>CLEAR</td>\n",
       "      <td>DUSK</td>\n",
       "      <td>ANGLE</td>\n",
       "      <td>FIVE POINT, OR MORE</td>\n",
       "      <td>...</td>\n",
       "      <td>2.0</td>\n",
       "      <td>0.0</td>\n",
       "      <td>2.0</td>\n",
       "      <td>0.0</td>\n",
       "      <td>19.0</td>\n",
       "      <td>3.0</td>\n",
       "      <td>9.0</td>\n",
       "      <td>NaN</td>\n",
       "      <td>NaN</td>\n",
       "      <td>NaN</td>\n",
       "    </tr>\n",
       "    <tr>\n",
       "      <th>1</th>\n",
       "      <td>2675c13fd0f474d730a5b780968b3cafc7c12d7adb661f...</td>\n",
       "      <td>NaN</td>\n",
       "      <td>09/22/2023 06:45:00 PM</td>\n",
       "      <td>50.0</td>\n",
       "      <td>NO CONTROLS</td>\n",
       "      <td>NO CONTROLS</td>\n",
       "      <td>CLEAR</td>\n",
       "      <td>DARKNESS, LIGHTED ROAD</td>\n",
       "      <td>REAR END</td>\n",
       "      <td>DIVIDED - W/MEDIAN BARRIER</td>\n",
       "      <td>...</td>\n",
       "      <td>0.0</td>\n",
       "      <td>0.0</td>\n",
       "      <td>2.0</td>\n",
       "      <td>0.0</td>\n",
       "      <td>18.0</td>\n",
       "      <td>6.0</td>\n",
       "      <td>9.0</td>\n",
       "      <td>NaN</td>\n",
       "      <td>NaN</td>\n",
       "      <td>NaN</td>\n",
       "    </tr>\n",
       "    <tr>\n",
       "      <th>2</th>\n",
       "      <td>5f54a59fcb087b12ae5b1acff96a3caf4f2d37e79f8db4...</td>\n",
       "      <td>NaN</td>\n",
       "      <td>07/29/2023 02:45:00 PM</td>\n",
       "      <td>30.0</td>\n",
       "      <td>TRAFFIC SIGNAL</td>\n",
       "      <td>FUNCTIONING PROPERLY</td>\n",
       "      <td>CLEAR</td>\n",
       "      <td>DAYLIGHT</td>\n",
       "      <td>PARKED MOTOR VEHICLE</td>\n",
       "      <td>DIVIDED - W/MEDIAN (NOT RAISED)</td>\n",
       "      <td>...</td>\n",
       "      <td>0.0</td>\n",
       "      <td>0.0</td>\n",
       "      <td>1.0</td>\n",
       "      <td>0.0</td>\n",
       "      <td>14.0</td>\n",
       "      <td>7.0</td>\n",
       "      <td>7.0</td>\n",
       "      <td>41.85412</td>\n",
       "      <td>-87.665902</td>\n",
       "      <td>POINT (-87.665902342962 41.854120262952)</td>\n",
       "    </tr>\n",
       "    <tr>\n",
       "      <th>3</th>\n",
       "      <td>7ebf015016f83d09b321afd671a836d6b148330535d5df...</td>\n",
       "      <td>NaN</td>\n",
       "      <td>08/09/2023 11:00:00 PM</td>\n",
       "      <td>30.0</td>\n",
       "      <td>NO CONTROLS</td>\n",
       "      <td>NO CONTROLS</td>\n",
       "      <td>CLEAR</td>\n",
       "      <td>DARKNESS, LIGHTED ROAD</td>\n",
       "      <td>SIDESWIPE SAME DIRECTION</td>\n",
       "      <td>NOT DIVIDED</td>\n",
       "      <td>...</td>\n",
       "      <td>0.0</td>\n",
       "      <td>0.0</td>\n",
       "      <td>2.0</td>\n",
       "      <td>0.0</td>\n",
       "      <td>23.0</td>\n",
       "      <td>4.0</td>\n",
       "      <td>8.0</td>\n",
       "      <td>NaN</td>\n",
       "      <td>NaN</td>\n",
       "      <td>NaN</td>\n",
       "    </tr>\n",
       "    <tr>\n",
       "      <th>4</th>\n",
       "      <td>6c1659069e9c6285a650e70d6f9b574ed5f64c12888479...</td>\n",
       "      <td>NaN</td>\n",
       "      <td>08/18/2023 12:50:00 PM</td>\n",
       "      <td>15.0</td>\n",
       "      <td>OTHER</td>\n",
       "      <td>FUNCTIONING PROPERLY</td>\n",
       "      <td>CLEAR</td>\n",
       "      <td>DAYLIGHT</td>\n",
       "      <td>REAR END</td>\n",
       "      <td>OTHER</td>\n",
       "      <td>...</td>\n",
       "      <td>1.0</td>\n",
       "      <td>0.0</td>\n",
       "      <td>1.0</td>\n",
       "      <td>0.0</td>\n",
       "      <td>12.0</td>\n",
       "      <td>6.0</td>\n",
       "      <td>8.0</td>\n",
       "      <td>NaN</td>\n",
       "      <td>NaN</td>\n",
       "      <td>NaN</td>\n",
       "    </tr>\n",
       "  </tbody>\n",
       "</table>\n",
       "<p>5 rows × 48 columns</p>\n",
       "</div>"
      ],
      "text/plain": [
       "                                     CRASH_RECORD_ID CRASH_DATE_EST_I  \\\n",
       "0  23a79931ef555d54118f64dc9be2cf2dbf59636ce253f7...              NaN   \n",
       "1  2675c13fd0f474d730a5b780968b3cafc7c12d7adb661f...              NaN   \n",
       "2  5f54a59fcb087b12ae5b1acff96a3caf4f2d37e79f8db4...              NaN   \n",
       "3  7ebf015016f83d09b321afd671a836d6b148330535d5df...              NaN   \n",
       "4  6c1659069e9c6285a650e70d6f9b574ed5f64c12888479...              NaN   \n",
       "\n",
       "               CRASH_DATE  POSTED_SPEED_LIMIT TRAFFIC_CONTROL_DEVICE  \\\n",
       "0  09/05/2023 07:05:00 PM                30.0         TRAFFIC SIGNAL   \n",
       "1  09/22/2023 06:45:00 PM                50.0            NO CONTROLS   \n",
       "2  07/29/2023 02:45:00 PM                30.0         TRAFFIC SIGNAL   \n",
       "3  08/09/2023 11:00:00 PM                30.0            NO CONTROLS   \n",
       "4  08/18/2023 12:50:00 PM                15.0                  OTHER   \n",
       "\n",
       "       DEVICE_CONDITION WEATHER_CONDITION      LIGHTING_CONDITION  \\\n",
       "0  FUNCTIONING PROPERLY             CLEAR                    DUSK   \n",
       "1           NO CONTROLS             CLEAR  DARKNESS, LIGHTED ROAD   \n",
       "2  FUNCTIONING PROPERLY             CLEAR                DAYLIGHT   \n",
       "3           NO CONTROLS             CLEAR  DARKNESS, LIGHTED ROAD   \n",
       "4  FUNCTIONING PROPERLY             CLEAR                DAYLIGHT   \n",
       "\n",
       "           FIRST_CRASH_TYPE                  TRAFFICWAY_TYPE  ...  \\\n",
       "0                     ANGLE              FIVE POINT, OR MORE  ...   \n",
       "1                  REAR END       DIVIDED - W/MEDIAN BARRIER  ...   \n",
       "2      PARKED MOTOR VEHICLE  DIVIDED - W/MEDIAN (NOT RAISED)  ...   \n",
       "3  SIDESWIPE SAME DIRECTION                      NOT DIVIDED  ...   \n",
       "4                  REAR END                            OTHER  ...   \n",
       "\n",
       "   INJURIES_NON_INCAPACITATING INJURIES_REPORTED_NOT_EVIDENT  \\\n",
       "0                          2.0                           0.0   \n",
       "1                          0.0                           0.0   \n",
       "2                          0.0                           0.0   \n",
       "3                          0.0                           0.0   \n",
       "4                          1.0                           0.0   \n",
       "\n",
       "  INJURIES_NO_INDICATION INJURIES_UNKNOWN CRASH_HOUR CRASH_DAY_OF_WEEK  \\\n",
       "0                    2.0              0.0       19.0               3.0   \n",
       "1                    2.0              0.0       18.0               6.0   \n",
       "2                    1.0              0.0       14.0               7.0   \n",
       "3                    2.0              0.0       23.0               4.0   \n",
       "4                    1.0              0.0       12.0               6.0   \n",
       "\n",
       "  CRASH_MONTH  LATITUDE  LONGITUDE                                  LOCATION  \n",
       "0         9.0       NaN        NaN                                       NaN  \n",
       "1         9.0       NaN        NaN                                       NaN  \n",
       "2         7.0  41.85412 -87.665902  POINT (-87.665902342962 41.854120262952)  \n",
       "3         8.0       NaN        NaN                                       NaN  \n",
       "4         8.0       NaN        NaN                                       NaN  \n",
       "\n",
       "[5 rows x 48 columns]"
      ]
     },
     "execution_count": 7,
     "metadata": {},
     "output_type": "execute_result"
    }
   ],
   "source": [
    "df_crashes = pd.read_csv('Traffic_Crashes_-_Crashes_20240830.csv', low_memory=False)\n",
    "df_crashes.head()"
   ]
  },
  {
   "cell_type": "code",
   "execution_count": null,
   "metadata": {
    "ExecuteTime": {
     "end_time": "2020-08-27T01:14:15.197062Z",
     "start_time": "2020-08-27T01:14:15.152157Z"
    }
   },
   "outputs": [
    {
     "name": "stdout",
     "output_type": "stream",
     "text": [
      "<class 'pandas.core.frame.DataFrame'>\n",
      "RangeIndex: 63768 entries, 0 to 63767\n",
      "Data columns (total 28 columns):\n",
      " #   Column                    Non-Null Count  Dtype  \n",
      "---  ------                    --------------  -----  \n",
      " 0   CRASH_RECORD_ID           63768 non-null  object \n",
      " 1   POSTED_SPEED_LIMIT        63768 non-null  int64  \n",
      " 2   TRAFFIC_CONTROL_DEVICE    63768 non-null  object \n",
      " 3   DEVICE_CONDITION          63768 non-null  object \n",
      " 4   WEATHER_CONDITION         63768 non-null  object \n",
      " 5   LIGHTING_CONDITION        63768 non-null  object \n",
      " 6   FIRST_CRASH_TYPE          63768 non-null  object \n",
      " 7   TRAFFICWAY_TYPE           63768 non-null  object \n",
      " 8   ROAD_DEFECT               63768 non-null  int64  \n",
      " 9   INTERSECTION_RELATED_I    63768 non-null  int64  \n",
      " 10  NOT_RIGHT_OF_WAY_I        63768 non-null  int64  \n",
      " 11  HIT_AND_RUN_I             63768 non-null  int64  \n",
      " 12  PRIM_CONTRIBUTORY_CAUSE   63768 non-null  object \n",
      " 13  DOORING_I                 63768 non-null  int64  \n",
      " 14  WORK_ZONE_I               63768 non-null  int64  \n",
      " 15  WORKERS_PRESENT_I         63768 non-null  int64  \n",
      " 16  NUM_UNITS                 63768 non-null  int64  \n",
      " 17  MOST_SEVERE_INJURY        63768 non-null  object \n",
      " 18  INJURIES_TOTAL            63768 non-null  float64\n",
      " 19  CRASH_HOUR                63768 non-null  int64  \n",
      " 20  CRASH_DAY_OF_WEEK         63768 non-null  int64  \n",
      " 21  CRASH_MONTH               63768 non-null  int64  \n",
      " 22  LATITUDE                  63768 non-null  float64\n",
      " 23  LONGITUDE                 63768 non-null  float64\n",
      " 24  ALIGNMENT_STRAIGHT        63768 non-null  int64  \n",
      " 25  ROADWAY_SURFACE_COND_DRY  63768 non-null  int64  \n",
      " 26  CRASH_TYPE_NO_INJURY      63768 non-null  int64  \n",
      " 27  DAMAGE_DOLLARS            63768 non-null  object \n",
      "dtypes: float64(3), int64(15), object(10)\n",
      "memory usage: 13.6+ MB\n"
     ]
    }
   ],
   "source": [
    "df_crashes.info()"
   ]
  },
  {
   "cell_type": "code",
   "execution_count": null,
   "metadata": {
    "ExecuteTime": {
     "end_time": "2020-08-27T01:14:15.855278Z",
     "start_time": "2020-08-27T01:14:15.836329Z"
    }
   },
   "outputs": [],
   "source": [
    "data = df_crashes.drop(columns = ['CRASH_RECORD_ID'])"
   ]
  },
  {
   "cell_type": "code",
   "execution_count": null,
   "metadata": {
    "ExecuteTime": {
     "end_time": "2020-08-27T01:14:16.472641Z",
     "start_time": "2020-08-27T01:14:16.454675Z"
    }
   },
   "outputs": [],
   "source": [
    "# Establish predictor and result variables\n",
    "X = data.drop('PRIM_CONTRIBUTORY_CAUSE', axis=1)  \n",
    "y = data['PRIM_CONTRIBUTORY_CAUSE'] "
   ]
  },
  {
   "cell_type": "code",
   "execution_count": null,
   "metadata": {
    "ExecuteTime": {
     "end_time": "2020-08-27T01:14:17.165851Z",
     "start_time": "2020-08-27T01:14:17.081001Z"
    }
   },
   "outputs": [],
   "source": [
    "data_dummies = pd.get_dummies(X)"
   ]
  },
  {
   "cell_type": "code",
   "execution_count": null,
   "metadata": {
    "ExecuteTime": {
     "end_time": "2020-08-27T01:14:17.821025Z",
     "start_time": "2020-08-27T01:14:17.763195Z"
    }
   },
   "outputs": [
    {
     "name": "stdout",
     "output_type": "stream",
     "text": [
      "<class 'pandas.core.frame.DataFrame'>\n",
      "RangeIndex: 63768 entries, 0 to 63767\n",
      "Data columns (total 64 columns):\n",
      " #   Column                                            Non-Null Count  Dtype  \n",
      "---  ------                                            --------------  -----  \n",
      " 0   POSTED_SPEED_LIMIT                                63768 non-null  int64  \n",
      " 1   ROAD_DEFECT                                       63768 non-null  int64  \n",
      " 2   INTERSECTION_RELATED_I                            63768 non-null  int64  \n",
      " 3   NOT_RIGHT_OF_WAY_I                                63768 non-null  int64  \n",
      " 4   HIT_AND_RUN_I                                     63768 non-null  int64  \n",
      " 5   DOORING_I                                         63768 non-null  int64  \n",
      " 6   WORK_ZONE_I                                       63768 non-null  int64  \n",
      " 7   WORKERS_PRESENT_I                                 63768 non-null  int64  \n",
      " 8   NUM_UNITS                                         63768 non-null  int64  \n",
      " 9   INJURIES_TOTAL                                    63768 non-null  float64\n",
      " 10  CRASH_HOUR                                        63768 non-null  int64  \n",
      " 11  CRASH_DAY_OF_WEEK                                 63768 non-null  int64  \n",
      " 12  CRASH_MONTH                                       63768 non-null  int64  \n",
      " 13  LATITUDE                                          63768 non-null  float64\n",
      " 14  LONGITUDE                                         63768 non-null  float64\n",
      " 15  ALIGNMENT_STRAIGHT                                63768 non-null  int64  \n",
      " 16  ROADWAY_SURFACE_COND_DRY                          63768 non-null  int64  \n",
      " 17  CRASH_TYPE_NO_INJURY                              63768 non-null  int64  \n",
      " 18  TRAFFIC_CONTROL_DEVICE_NO CONTROLS                63768 non-null  uint8  \n",
      " 19  TRAFFIC_CONTROL_DEVICE_OTHER                      63768 non-null  uint8  \n",
      " 20  TRAFFIC_CONTROL_DEVICE_SIGN                       63768 non-null  uint8  \n",
      " 21  TRAFFIC_CONTROL_DEVICE_SIGNAL                     63768 non-null  uint8  \n",
      " 22  DEVICE_CONDITION_FUNCTIONING IMPROPERLY/ MISSING  63768 non-null  uint8  \n",
      " 23  DEVICE_CONDITION_FUNCTIONING PROPERLY             63768 non-null  uint8  \n",
      " 24  DEVICE_CONDITION_NO CONTROLS                      63768 non-null  uint8  \n",
      " 25  WEATHER_CONDITION_CLEAR                           63768 non-null  uint8  \n",
      " 26  WEATHER_CONDITION_OTHER                           63768 non-null  uint8  \n",
      " 27  WEATHER_CONDITION_PRECIPITATION                   63768 non-null  uint8  \n",
      " 28  LIGHTING_CONDITION_DARKNESS                       63768 non-null  uint8  \n",
      " 29  LIGHTING_CONDITION_LIGHT                          63768 non-null  uint8  \n",
      " 30  LIGHTING_CONDITION_SOME LIGHT                     63768 non-null  uint8  \n",
      " 31  FIRST_CRASH_TYPE_ANGLE                            63768 non-null  uint8  \n",
      " 32  FIRST_CRASH_TYPE_HEAD ON                          63768 non-null  uint8  \n",
      " 33  FIRST_CRASH_TYPE_OTHER NONCOLLISION               63768 non-null  uint8  \n",
      " 34  FIRST_CRASH_TYPE_OVERTURNED                       63768 non-null  uint8  \n",
      " 35  FIRST_CRASH_TYPE_PARKED CAR/OBJECT                63768 non-null  uint8  \n",
      " 36  FIRST_CRASH_TYPE_PERSON/ANIMAL                    63768 non-null  uint8  \n",
      " 37  FIRST_CRASH_TYPE_REAR END                         63768 non-null  uint8  \n",
      " 38  FIRST_CRASH_TYPE_REAR TO FRONT                    63768 non-null  uint8  \n",
      " 39  FIRST_CRASH_TYPE_REAR TO REAR                     63768 non-null  uint8  \n",
      " 40  FIRST_CRASH_TYPE_REAR TO SIDE                     63768 non-null  uint8  \n",
      " 41  FIRST_CRASH_TYPE_SIDESWIPE                        63768 non-null  uint8  \n",
      " 42  FIRST_CRASH_TYPE_TRAIN                            63768 non-null  uint8  \n",
      " 43  FIRST_CRASH_TYPE_TURNING                          63768 non-null  uint8  \n",
      " 44  TRAFFICWAY_TYPE_ALLEY                             63768 non-null  uint8  \n",
      " 45  TRAFFICWAY_TYPE_CENTER TURN LANE                  63768 non-null  uint8  \n",
      " 46  TRAFFICWAY_TYPE_DIVIDED - W/MEDIAN (NOT RAISED)   63768 non-null  uint8  \n",
      " 47  TRAFFICWAY_TYPE_DIVIDED - W/MEDIAN BARRIER        63768 non-null  uint8  \n",
      " 48  TRAFFICWAY_TYPE_DRIVEWAY                          63768 non-null  uint8  \n",
      " 49  TRAFFICWAY_TYPE_FOUR WAY                          63768 non-null  uint8  \n",
      " 50  TRAFFICWAY_TYPE_INTERSECTION                      63768 non-null  uint8  \n",
      " 51  TRAFFICWAY_TYPE_NOT DIVIDED                       63768 non-null  uint8  \n",
      " 52  TRAFFICWAY_TYPE_ONE-WAY                           63768 non-null  uint8  \n",
      " 53  TRAFFICWAY_TYPE_OTHER                             63768 non-null  uint8  \n",
      " 54  TRAFFICWAY_TYPE_PARKING LOT                       63768 non-null  uint8  \n",
      " 55  TRAFFICWAY_TYPE_RAMP                              63768 non-null  uint8  \n",
      " 56  TRAFFICWAY_TYPE_TRAFFIC ROUTE                     63768 non-null  uint8  \n",
      " 57  MOST_SEVERE_INJURY_FATAL                          63768 non-null  uint8  \n",
      " 58  MOST_SEVERE_INJURY_MAJOR INJURIES                 63768 non-null  uint8  \n",
      " 59  MOST_SEVERE_INJURY_MINOR INJURIES                 63768 non-null  uint8  \n",
      " 60  MOST_SEVERE_INJURY_NO INJURY                      63768 non-null  uint8  \n",
      " 61  DAMAGE_DOLLARS_500 OR LESS                        63768 non-null  uint8  \n",
      " 62  DAMAGE_DOLLARS_501 THRU 1500                      63768 non-null  uint8  \n",
      " 63  DAMAGE_DOLLARS_OVER 1500                          63768 non-null  uint8  \n",
      "dtypes: float64(3), int64(15), uint8(46)\n",
      "memory usage: 11.6 MB\n"
     ]
    }
   ],
   "source": [
    "data_dummies.info()"
   ]
  },
  {
   "cell_type": "code",
   "execution_count": null,
   "metadata": {
    "ExecuteTime": {
     "end_time": "2020-08-27T01:14:18.419425Z",
     "start_time": "2020-08-27T01:14:18.399476Z"
    }
   },
   "outputs": [
    {
     "data": {
      "text/html": [
       "<div>\n",
       "<style scoped>\n",
       "    .dataframe tbody tr th:only-of-type {\n",
       "        vertical-align: middle;\n",
       "    }\n",
       "\n",
       "    .dataframe tbody tr th {\n",
       "        vertical-align: top;\n",
       "    }\n",
       "\n",
       "    .dataframe thead th {\n",
       "        text-align: right;\n",
       "    }\n",
       "</style>\n",
       "<table border=\"1\" class=\"dataframe\">\n",
       "  <thead>\n",
       "    <tr style=\"text-align: right;\">\n",
       "      <th></th>\n",
       "      <th>POSTED_SPEED_LIMIT</th>\n",
       "      <th>ROAD_DEFECT</th>\n",
       "      <th>INTERSECTION_RELATED_I</th>\n",
       "      <th>NOT_RIGHT_OF_WAY_I</th>\n",
       "      <th>HIT_AND_RUN_I</th>\n",
       "      <th>DOORING_I</th>\n",
       "      <th>WORK_ZONE_I</th>\n",
       "      <th>WORKERS_PRESENT_I</th>\n",
       "      <th>NUM_UNITS</th>\n",
       "      <th>INJURIES_TOTAL</th>\n",
       "      <th>...</th>\n",
       "      <th>TRAFFICWAY_TYPE_PARKING LOT</th>\n",
       "      <th>TRAFFICWAY_TYPE_RAMP</th>\n",
       "      <th>TRAFFICWAY_TYPE_TRAFFIC ROUTE</th>\n",
       "      <th>MOST_SEVERE_INJURY_FATAL</th>\n",
       "      <th>MOST_SEVERE_INJURY_MAJOR INJURIES</th>\n",
       "      <th>MOST_SEVERE_INJURY_MINOR INJURIES</th>\n",
       "      <th>MOST_SEVERE_INJURY_NO INJURY</th>\n",
       "      <th>DAMAGE_DOLLARS_500 OR LESS</th>\n",
       "      <th>DAMAGE_DOLLARS_501 THRU 1500</th>\n",
       "      <th>DAMAGE_DOLLARS_OVER 1500</th>\n",
       "    </tr>\n",
       "  </thead>\n",
       "  <tbody>\n",
       "    <tr>\n",
       "      <th>0</th>\n",
       "      <td>20</td>\n",
       "      <td>0</td>\n",
       "      <td>0</td>\n",
       "      <td>0</td>\n",
       "      <td>0</td>\n",
       "      <td>0</td>\n",
       "      <td>0</td>\n",
       "      <td>0</td>\n",
       "      <td>2</td>\n",
       "      <td>0.0</td>\n",
       "      <td>...</td>\n",
       "      <td>0</td>\n",
       "      <td>0</td>\n",
       "      <td>0</td>\n",
       "      <td>0</td>\n",
       "      <td>0</td>\n",
       "      <td>0</td>\n",
       "      <td>1</td>\n",
       "      <td>1</td>\n",
       "      <td>0</td>\n",
       "      <td>0</td>\n",
       "    </tr>\n",
       "    <tr>\n",
       "      <th>1</th>\n",
       "      <td>30</td>\n",
       "      <td>0</td>\n",
       "      <td>0</td>\n",
       "      <td>0</td>\n",
       "      <td>0</td>\n",
       "      <td>0</td>\n",
       "      <td>0</td>\n",
       "      <td>0</td>\n",
       "      <td>2</td>\n",
       "      <td>0.0</td>\n",
       "      <td>...</td>\n",
       "      <td>0</td>\n",
       "      <td>0</td>\n",
       "      <td>0</td>\n",
       "      <td>0</td>\n",
       "      <td>0</td>\n",
       "      <td>0</td>\n",
       "      <td>1</td>\n",
       "      <td>0</td>\n",
       "      <td>0</td>\n",
       "      <td>1</td>\n",
       "    </tr>\n",
       "    <tr>\n",
       "      <th>2</th>\n",
       "      <td>30</td>\n",
       "      <td>0</td>\n",
       "      <td>0</td>\n",
       "      <td>0</td>\n",
       "      <td>1</td>\n",
       "      <td>0</td>\n",
       "      <td>0</td>\n",
       "      <td>0</td>\n",
       "      <td>2</td>\n",
       "      <td>0.0</td>\n",
       "      <td>...</td>\n",
       "      <td>0</td>\n",
       "      <td>0</td>\n",
       "      <td>0</td>\n",
       "      <td>0</td>\n",
       "      <td>0</td>\n",
       "      <td>0</td>\n",
       "      <td>1</td>\n",
       "      <td>0</td>\n",
       "      <td>1</td>\n",
       "      <td>0</td>\n",
       "    </tr>\n",
       "    <tr>\n",
       "      <th>3</th>\n",
       "      <td>35</td>\n",
       "      <td>0</td>\n",
       "      <td>1</td>\n",
       "      <td>0</td>\n",
       "      <td>0</td>\n",
       "      <td>0</td>\n",
       "      <td>0</td>\n",
       "      <td>0</td>\n",
       "      <td>2</td>\n",
       "      <td>0.0</td>\n",
       "      <td>...</td>\n",
       "      <td>0</td>\n",
       "      <td>0</td>\n",
       "      <td>0</td>\n",
       "      <td>0</td>\n",
       "      <td>0</td>\n",
       "      <td>0</td>\n",
       "      <td>1</td>\n",
       "      <td>0</td>\n",
       "      <td>1</td>\n",
       "      <td>0</td>\n",
       "    </tr>\n",
       "    <tr>\n",
       "      <th>4</th>\n",
       "      <td>30</td>\n",
       "      <td>0</td>\n",
       "      <td>0</td>\n",
       "      <td>0</td>\n",
       "      <td>0</td>\n",
       "      <td>0</td>\n",
       "      <td>0</td>\n",
       "      <td>0</td>\n",
       "      <td>2</td>\n",
       "      <td>1.0</td>\n",
       "      <td>...</td>\n",
       "      <td>0</td>\n",
       "      <td>0</td>\n",
       "      <td>0</td>\n",
       "      <td>0</td>\n",
       "      <td>1</td>\n",
       "      <td>0</td>\n",
       "      <td>0</td>\n",
       "      <td>0</td>\n",
       "      <td>0</td>\n",
       "      <td>1</td>\n",
       "    </tr>\n",
       "  </tbody>\n",
       "</table>\n",
       "<p>5 rows × 64 columns</p>\n",
       "</div>"
      ],
      "text/plain": [
       "   POSTED_SPEED_LIMIT  ROAD_DEFECT  INTERSECTION_RELATED_I  \\\n",
       "0                  20            0                       0   \n",
       "1                  30            0                       0   \n",
       "2                  30            0                       0   \n",
       "3                  35            0                       1   \n",
       "4                  30            0                       0   \n",
       "\n",
       "   NOT_RIGHT_OF_WAY_I  HIT_AND_RUN_I  DOORING_I  WORK_ZONE_I  \\\n",
       "0                   0              0          0            0   \n",
       "1                   0              0          0            0   \n",
       "2                   0              1          0            0   \n",
       "3                   0              0          0            0   \n",
       "4                   0              0          0            0   \n",
       "\n",
       "   WORKERS_PRESENT_I  NUM_UNITS  INJURIES_TOTAL  ...  \\\n",
       "0                  0          2             0.0  ...   \n",
       "1                  0          2             0.0  ...   \n",
       "2                  0          2             0.0  ...   \n",
       "3                  0          2             0.0  ...   \n",
       "4                  0          2             1.0  ...   \n",
       "\n",
       "   TRAFFICWAY_TYPE_PARKING LOT  TRAFFICWAY_TYPE_RAMP  \\\n",
       "0                            0                     0   \n",
       "1                            0                     0   \n",
       "2                            0                     0   \n",
       "3                            0                     0   \n",
       "4                            0                     0   \n",
       "\n",
       "   TRAFFICWAY_TYPE_TRAFFIC ROUTE  MOST_SEVERE_INJURY_FATAL  \\\n",
       "0                              0                         0   \n",
       "1                              0                         0   \n",
       "2                              0                         0   \n",
       "3                              0                         0   \n",
       "4                              0                         0   \n",
       "\n",
       "   MOST_SEVERE_INJURY_MAJOR INJURIES  MOST_SEVERE_INJURY_MINOR INJURIES  \\\n",
       "0                                  0                                  0   \n",
       "1                                  0                                  0   \n",
       "2                                  0                                  0   \n",
       "3                                  0                                  0   \n",
       "4                                  1                                  0   \n",
       "\n",
       "   MOST_SEVERE_INJURY_NO INJURY  DAMAGE_DOLLARS_500 OR LESS  \\\n",
       "0                             1                           1   \n",
       "1                             1                           0   \n",
       "2                             1                           0   \n",
       "3                             1                           0   \n",
       "4                             0                           0   \n",
       "\n",
       "   DAMAGE_DOLLARS_501 THRU 1500  DAMAGE_DOLLARS_OVER 1500  \n",
       "0                             0                         0  \n",
       "1                             0                         1  \n",
       "2                             1                         0  \n",
       "3                             1                         0  \n",
       "4                             0                         1  \n",
       "\n",
       "[5 rows x 64 columns]"
      ]
     },
     "execution_count": 20,
     "metadata": {},
     "output_type": "execute_result"
    }
   ],
   "source": [
    "data_dummies.head()"
   ]
  },
  {
   "cell_type": "code",
   "execution_count": null,
   "metadata": {
    "ExecuteTime": {
     "end_time": "2020-08-27T01:14:19.020813Z",
     "start_time": "2020-08-27T01:14:19.013832Z"
    }
   },
   "outputs": [
    {
     "data": {
      "text/plain": [
       "Index(['POSTED_SPEED_LIMIT', 'ROAD_DEFECT', 'INTERSECTION_RELATED_I',\n",
       "       'NOT_RIGHT_OF_WAY_I', 'HIT_AND_RUN_I', 'DOORING_I', 'WORK_ZONE_I',\n",
       "       'WORKERS_PRESENT_I', 'NUM_UNITS', 'INJURIES_TOTAL', 'CRASH_HOUR',\n",
       "       'CRASH_DAY_OF_WEEK', 'CRASH_MONTH', 'LATITUDE', 'LONGITUDE',\n",
       "       'ALIGNMENT_STRAIGHT', 'ROADWAY_SURFACE_COND_DRY',\n",
       "       'CRASH_TYPE_NO_INJURY', 'TRAFFIC_CONTROL_DEVICE_NO CONTROLS',\n",
       "       'TRAFFIC_CONTROL_DEVICE_OTHER', 'TRAFFIC_CONTROL_DEVICE_SIGN',\n",
       "       'TRAFFIC_CONTROL_DEVICE_SIGNAL',\n",
       "       'DEVICE_CONDITION_FUNCTIONING IMPROPERLY/ MISSING',\n",
       "       'DEVICE_CONDITION_FUNCTIONING PROPERLY', 'DEVICE_CONDITION_NO CONTROLS',\n",
       "       'WEATHER_CONDITION_CLEAR', 'WEATHER_CONDITION_OTHER',\n",
       "       'WEATHER_CONDITION_PRECIPITATION', 'LIGHTING_CONDITION_DARKNESS',\n",
       "       'LIGHTING_CONDITION_LIGHT', 'LIGHTING_CONDITION_SOME LIGHT',\n",
       "       'FIRST_CRASH_TYPE_ANGLE', 'FIRST_CRASH_TYPE_HEAD ON',\n",
       "       'FIRST_CRASH_TYPE_OTHER NONCOLLISION', 'FIRST_CRASH_TYPE_OVERTURNED',\n",
       "       'FIRST_CRASH_TYPE_PARKED CAR/OBJECT', 'FIRST_CRASH_TYPE_PERSON/ANIMAL',\n",
       "       'FIRST_CRASH_TYPE_REAR END', 'FIRST_CRASH_TYPE_REAR TO FRONT',\n",
       "       'FIRST_CRASH_TYPE_REAR TO REAR', 'FIRST_CRASH_TYPE_REAR TO SIDE',\n",
       "       'FIRST_CRASH_TYPE_SIDESWIPE', 'FIRST_CRASH_TYPE_TRAIN',\n",
       "       'FIRST_CRASH_TYPE_TURNING', 'TRAFFICWAY_TYPE_ALLEY',\n",
       "       'TRAFFICWAY_TYPE_CENTER TURN LANE',\n",
       "       'TRAFFICWAY_TYPE_DIVIDED - W/MEDIAN (NOT RAISED)',\n",
       "       'TRAFFICWAY_TYPE_DIVIDED - W/MEDIAN BARRIER',\n",
       "       'TRAFFICWAY_TYPE_DRIVEWAY', 'TRAFFICWAY_TYPE_FOUR WAY',\n",
       "       'TRAFFICWAY_TYPE_INTERSECTION', 'TRAFFICWAY_TYPE_NOT DIVIDED',\n",
       "       'TRAFFICWAY_TYPE_ONE-WAY', 'TRAFFICWAY_TYPE_OTHER',\n",
       "       'TRAFFICWAY_TYPE_PARKING LOT', 'TRAFFICWAY_TYPE_RAMP',\n",
       "       'TRAFFICWAY_TYPE_TRAFFIC ROUTE', 'MOST_SEVERE_INJURY_FATAL',\n",
       "       'MOST_SEVERE_INJURY_MAJOR INJURIES',\n",
       "       'MOST_SEVERE_INJURY_MINOR INJURIES', 'MOST_SEVERE_INJURY_NO INJURY',\n",
       "       'DAMAGE_DOLLARS_500 OR LESS', 'DAMAGE_DOLLARS_501 THRU 1500',\n",
       "       'DAMAGE_DOLLARS_OVER 1500'],\n",
       "      dtype='object')"
      ]
     },
     "execution_count": 21,
     "metadata": {},
     "output_type": "execute_result"
    }
   ],
   "source": [
    "data_dummies.columns"
   ]
  },
  {
   "cell_type": "markdown",
   "metadata": {},
   "source": [
    "# Model 1 - K- Nearest Neighbors"
   ]
  },
  {
   "cell_type": "code",
   "execution_count": null,
   "metadata": {
    "ExecuteTime": {
     "end_time": "2020-08-27T01:14:19.638235Z",
     "start_time": "2020-08-27T01:14:19.605259Z"
    }
   },
   "outputs": [],
   "source": [
    "# Create a train-test split of the data, with 25% of the data set aside for testing\n",
    "X_train, X_test, y_train, y_test = train_test_split(data_dummies, y, test_size=0.25, random_state=42)"
   ]
  },
  {
   "cell_type": "code",
   "execution_count": null,
   "metadata": {
    "ExecuteTime": {
     "end_time": "2020-08-27T01:14:20.739221Z",
     "start_time": "2020-08-27T01:14:20.385165Z"
    }
   },
   "outputs": [
    {
     "data": {
      "text/html": [
       "<div>\n",
       "<style scoped>\n",
       "    .dataframe tbody tr th:only-of-type {\n",
       "        vertical-align: middle;\n",
       "    }\n",
       "\n",
       "    .dataframe tbody tr th {\n",
       "        vertical-align: top;\n",
       "    }\n",
       "\n",
       "    .dataframe thead th {\n",
       "        text-align: right;\n",
       "    }\n",
       "</style>\n",
       "<table border=\"1\" class=\"dataframe\">\n",
       "  <thead>\n",
       "    <tr style=\"text-align: right;\">\n",
       "      <th></th>\n",
       "      <th>POSTED_SPEED_LIMIT</th>\n",
       "      <th>ROAD_DEFECT</th>\n",
       "      <th>INTERSECTION_RELATED_I</th>\n",
       "      <th>NOT_RIGHT_OF_WAY_I</th>\n",
       "      <th>HIT_AND_RUN_I</th>\n",
       "      <th>DOORING_I</th>\n",
       "      <th>WORK_ZONE_I</th>\n",
       "      <th>WORKERS_PRESENT_I</th>\n",
       "      <th>NUM_UNITS</th>\n",
       "      <th>INJURIES_TOTAL</th>\n",
       "      <th>...</th>\n",
       "      <th>TRAFFICWAY_TYPE_PARKING LOT</th>\n",
       "      <th>TRAFFICWAY_TYPE_RAMP</th>\n",
       "      <th>TRAFFICWAY_TYPE_TRAFFIC ROUTE</th>\n",
       "      <th>MOST_SEVERE_INJURY_FATAL</th>\n",
       "      <th>MOST_SEVERE_INJURY_MAJOR INJURIES</th>\n",
       "      <th>MOST_SEVERE_INJURY_MINOR INJURIES</th>\n",
       "      <th>MOST_SEVERE_INJURY_NO INJURY</th>\n",
       "      <th>DAMAGE_DOLLARS_500 OR LESS</th>\n",
       "      <th>DAMAGE_DOLLARS_501 THRU 1500</th>\n",
       "      <th>DAMAGE_DOLLARS_OVER 1500</th>\n",
       "    </tr>\n",
       "  </thead>\n",
       "  <tbody>\n",
       "    <tr>\n",
       "      <th>0</th>\n",
       "      <td>0.197149</td>\n",
       "      <td>-0.133869</td>\n",
       "      <td>-0.642103</td>\n",
       "      <td>-0.202729</td>\n",
       "      <td>1.879128</td>\n",
       "      <td>-0.042443</td>\n",
       "      <td>-0.069363</td>\n",
       "      <td>-0.041443</td>\n",
       "      <td>-0.123347</td>\n",
       "      <td>-0.390369</td>\n",
       "      <td>...</td>\n",
       "      <td>-0.236090</td>\n",
       "      <td>-0.060078</td>\n",
       "      <td>-0.041189</td>\n",
       "      <td>-0.034845</td>\n",
       "      <td>-0.15386</td>\n",
       "      <td>-0.427605</td>\n",
       "      <td>0.466805</td>\n",
       "      <td>-0.363285</td>\n",
       "      <td>-0.586896</td>\n",
       "      <td>0.770947</td>\n",
       "    </tr>\n",
       "    <tr>\n",
       "      <th>1</th>\n",
       "      <td>0.197149</td>\n",
       "      <td>-0.133869</td>\n",
       "      <td>1.557383</td>\n",
       "      <td>-0.202729</td>\n",
       "      <td>-0.532162</td>\n",
       "      <td>-0.042443</td>\n",
       "      <td>-0.069363</td>\n",
       "      <td>-0.041443</td>\n",
       "      <td>-0.123347</td>\n",
       "      <td>-0.390369</td>\n",
       "      <td>...</td>\n",
       "      <td>-0.236090</td>\n",
       "      <td>-0.060078</td>\n",
       "      <td>-0.041189</td>\n",
       "      <td>-0.034845</td>\n",
       "      <td>-0.15386</td>\n",
       "      <td>-0.427605</td>\n",
       "      <td>0.466805</td>\n",
       "      <td>-0.363285</td>\n",
       "      <td>-0.586896</td>\n",
       "      <td>0.770947</td>\n",
       "    </tr>\n",
       "    <tr>\n",
       "      <th>2</th>\n",
       "      <td>-2.590304</td>\n",
       "      <td>-0.133869</td>\n",
       "      <td>-0.642103</td>\n",
       "      <td>-0.202729</td>\n",
       "      <td>1.879128</td>\n",
       "      <td>-0.042443</td>\n",
       "      <td>-0.069363</td>\n",
       "      <td>-0.041443</td>\n",
       "      <td>-0.123347</td>\n",
       "      <td>-0.390369</td>\n",
       "      <td>...</td>\n",
       "      <td>-0.236090</td>\n",
       "      <td>-0.060078</td>\n",
       "      <td>-0.041189</td>\n",
       "      <td>-0.034845</td>\n",
       "      <td>-0.15386</td>\n",
       "      <td>-0.427605</td>\n",
       "      <td>0.466805</td>\n",
       "      <td>-0.363285</td>\n",
       "      <td>-0.586896</td>\n",
       "      <td>0.770947</td>\n",
       "    </tr>\n",
       "    <tr>\n",
       "      <th>3</th>\n",
       "      <td>0.197149</td>\n",
       "      <td>-0.133869</td>\n",
       "      <td>-0.642103</td>\n",
       "      <td>4.932704</td>\n",
       "      <td>-0.532162</td>\n",
       "      <td>-0.042443</td>\n",
       "      <td>-0.069363</td>\n",
       "      <td>-0.041443</td>\n",
       "      <td>-0.123347</td>\n",
       "      <td>-0.390369</td>\n",
       "      <td>...</td>\n",
       "      <td>4.235681</td>\n",
       "      <td>-0.060078</td>\n",
       "      <td>-0.041189</td>\n",
       "      <td>-0.034845</td>\n",
       "      <td>-0.15386</td>\n",
       "      <td>-0.427605</td>\n",
       "      <td>0.466805</td>\n",
       "      <td>-0.363285</td>\n",
       "      <td>1.703880</td>\n",
       "      <td>-1.297106</td>\n",
       "    </tr>\n",
       "    <tr>\n",
       "      <th>4</th>\n",
       "      <td>0.197149</td>\n",
       "      <td>-0.133869</td>\n",
       "      <td>-0.642103</td>\n",
       "      <td>-0.202729</td>\n",
       "      <td>-0.532162</td>\n",
       "      <td>-0.042443</td>\n",
       "      <td>-0.069363</td>\n",
       "      <td>-0.041443</td>\n",
       "      <td>-0.123347</td>\n",
       "      <td>-0.390369</td>\n",
       "      <td>...</td>\n",
       "      <td>-0.236090</td>\n",
       "      <td>-0.060078</td>\n",
       "      <td>-0.041189</td>\n",
       "      <td>-0.034845</td>\n",
       "      <td>-0.15386</td>\n",
       "      <td>-0.427605</td>\n",
       "      <td>0.466805</td>\n",
       "      <td>-0.363285</td>\n",
       "      <td>-0.586896</td>\n",
       "      <td>0.770947</td>\n",
       "    </tr>\n",
       "  </tbody>\n",
       "</table>\n",
       "<p>5 rows × 64 columns</p>\n",
       "</div>"
      ],
      "text/plain": [
       "   POSTED_SPEED_LIMIT  ROAD_DEFECT  INTERSECTION_RELATED_I  \\\n",
       "0            0.197149    -0.133869               -0.642103   \n",
       "1            0.197149    -0.133869                1.557383   \n",
       "2           -2.590304    -0.133869               -0.642103   \n",
       "3            0.197149    -0.133869               -0.642103   \n",
       "4            0.197149    -0.133869               -0.642103   \n",
       "\n",
       "   NOT_RIGHT_OF_WAY_I  HIT_AND_RUN_I  DOORING_I  WORK_ZONE_I  \\\n",
       "0           -0.202729       1.879128  -0.042443    -0.069363   \n",
       "1           -0.202729      -0.532162  -0.042443    -0.069363   \n",
       "2           -0.202729       1.879128  -0.042443    -0.069363   \n",
       "3            4.932704      -0.532162  -0.042443    -0.069363   \n",
       "4           -0.202729      -0.532162  -0.042443    -0.069363   \n",
       "\n",
       "   WORKERS_PRESENT_I  NUM_UNITS  INJURIES_TOTAL  ...  \\\n",
       "0          -0.041443  -0.123347       -0.390369  ...   \n",
       "1          -0.041443  -0.123347       -0.390369  ...   \n",
       "2          -0.041443  -0.123347       -0.390369  ...   \n",
       "3          -0.041443  -0.123347       -0.390369  ...   \n",
       "4          -0.041443  -0.123347       -0.390369  ...   \n",
       "\n",
       "   TRAFFICWAY_TYPE_PARKING LOT  TRAFFICWAY_TYPE_RAMP  \\\n",
       "0                    -0.236090             -0.060078   \n",
       "1                    -0.236090             -0.060078   \n",
       "2                    -0.236090             -0.060078   \n",
       "3                     4.235681             -0.060078   \n",
       "4                    -0.236090             -0.060078   \n",
       "\n",
       "   TRAFFICWAY_TYPE_TRAFFIC ROUTE  MOST_SEVERE_INJURY_FATAL  \\\n",
       "0                      -0.041189                 -0.034845   \n",
       "1                      -0.041189                 -0.034845   \n",
       "2                      -0.041189                 -0.034845   \n",
       "3                      -0.041189                 -0.034845   \n",
       "4                      -0.041189                 -0.034845   \n",
       "\n",
       "   MOST_SEVERE_INJURY_MAJOR INJURIES  MOST_SEVERE_INJURY_MINOR INJURIES  \\\n",
       "0                           -0.15386                          -0.427605   \n",
       "1                           -0.15386                          -0.427605   \n",
       "2                           -0.15386                          -0.427605   \n",
       "3                           -0.15386                          -0.427605   \n",
       "4                           -0.15386                          -0.427605   \n",
       "\n",
       "   MOST_SEVERE_INJURY_NO INJURY  DAMAGE_DOLLARS_500 OR LESS  \\\n",
       "0                      0.466805                   -0.363285   \n",
       "1                      0.466805                   -0.363285   \n",
       "2                      0.466805                   -0.363285   \n",
       "3                      0.466805                   -0.363285   \n",
       "4                      0.466805                   -0.363285   \n",
       "\n",
       "   DAMAGE_DOLLARS_501 THRU 1500  DAMAGE_DOLLARS_OVER 1500  \n",
       "0                     -0.586896                  0.770947  \n",
       "1                     -0.586896                  0.770947  \n",
       "2                     -0.586896                  0.770947  \n",
       "3                      1.703880                 -1.297106  \n",
       "4                     -0.586896                  0.770947  \n",
       "\n",
       "[5 rows x 64 columns]"
      ]
     },
     "execution_count": 23,
     "metadata": {},
     "output_type": "execute_result"
    }
   ],
   "source": [
    "scaler = StandardScaler()\n",
    "scaled_df = scaler.fit_transform(data_dummies)\n",
    "# Transform the training and test sets\n",
    "scaled_data_train = scaler.fit_transform(X_train)\n",
    "scaled_data_test = scaler.transform(X_test)\n",
    "\n",
    "# Convert into a DataFrame\n",
    "scaled_df_train = pd.DataFrame(scaled_data_train, columns=X_train.columns)\n",
    "scaled_df_train.head()"
   ]
  },
  {
   "cell_type": "code",
   "execution_count": null,
   "metadata": {
    "ExecuteTime": {
     "end_time": "2020-08-26T19:01:27.151308Z",
     "start_time": "2020-08-26T19:00:01.697780Z"
    }
   },
   "outputs": [],
   "source": [
    "# Instantiate KNeighborsClassifier\n",
    "clf = KNeighborsClassifier()\n",
    "\n",
    "# Fit the classifier\n",
    "clf.fit(scaled_data_train, y_train)\n",
    "\n",
    "# Predict on the test set\n",
    "test_preds = clf.predict(scaled_data_test)"
   ]
  },
  {
   "cell_type": "code",
   "execution_count": null,
   "metadata": {
    "ExecuteTime": {
     "end_time": "2020-08-26T19:01:27.556218Z",
     "start_time": "2020-08-26T19:01:27.154269Z"
    }
   },
   "outputs": [
    {
     "name": "stdout",
     "output_type": "stream",
     "text": [
      "Precision Score: 0.615843398341419\n",
      "Recall Score: 0.6305356918830761\n",
      "Accuracy Score: 0.6305356918830761\n",
      "F1 Score: 0.619466223665974\n"
     ]
    }
   ],
   "source": [
    "def print_metrics(labels, preds):\n",
    "    print(\"Precision Score: {}\".format(precision_score(labels, preds, average= 'weighted')))\n",
    "    print(\"Recall Score: {}\".format(recall_score(labels, preds,average='weighted')))\n",
    "    print(\"Accuracy Score: {}\".format(accuracy_score(labels, preds)))\n",
    "    print(\"F1 Score: {}\".format(f1_score(labels, preds,average= 'weighted')))\n",
    "    \n",
    "print_metrics(y_test, test_preds)"
   ]
  },
  {
   "cell_type": "code",
   "execution_count": null,
   "metadata": {
    "ExecuteTime": {
     "end_time": "2020-08-26T19:01:27.568161Z",
     "start_time": "2020-08-26T19:01:27.559184Z"
    }
   },
   "outputs": [],
   "source": [
    "def find_best_k(X_train, y_train, X_test, y_test, min_k=1, max_k=10):\n",
    "    best_k = 0\n",
    "    best_score = 0.0\n",
    "    for k in range(min_k, max_k+1, 2):\n",
    "        knn = KNeighborsClassifier(n_neighbors=k)\n",
    "        knn.fit(X_train, y_train)\n",
    "        preds = knn.predict(X_test)\n",
    "        f1 = f1_score(y_test, preds,average= 'weighted')\n",
    "        if f1 > best_score:\n",
    "            best_k = k\n",
    "            best_score = f1\n",
    "    \n",
    "    print(\"Best Value for k: {}\".format(best_k))\n",
    "    print(\"F1-Score: {}\".format(best_score))"
   ]
  },
  {
   "cell_type": "code",
   "execution_count": null,
   "metadata": {
    "ExecuteTime": {
     "end_time": "2020-08-26T19:09:05.882281Z",
     "start_time": "2020-08-26T19:01:27.570154Z"
    }
   },
   "outputs": [
    {
     "name": "stdout",
     "output_type": "stream",
     "text": [
      "Best Value for k: 9\n",
      "F1-Score: 0.6389041195035063\n"
     ]
    }
   ],
   "source": [
    "find_best_k(scaled_data_train, y_train, scaled_data_test, y_test)"
   ]
  },
  {
   "cell_type": "code",
   "execution_count": null,
   "metadata": {
    "ExecuteTime": {
     "end_time": "2020-08-27T01:14:31.546906Z",
     "start_time": "2020-08-27T01:14:31.540946Z"
    }
   },
   "outputs": [],
   "source": [
    "X_train = scaled_data_train\n",
    "X_test = scaled_data_test"
   ]
  },
  {
   "cell_type": "code",
   "execution_count": null,
   "metadata": {
    "ExecuteTime": {
     "end_time": "2020-08-26T19:10:36.231600Z",
     "start_time": "2020-08-26T19:09:05.894223Z"
    }
   },
   "outputs": [],
   "source": [
    "clf = KNeighborsClassifier(n_neighbors = 9)\n",
    "\n",
    "# Fit the classifier\n",
    "clf.fit(X_train, y_train)\n",
    "\n",
    "# Predict on the test set\n",
    "test_preds = clf.predict(X_test)"
   ]
  },
  {
   "cell_type": "code",
   "execution_count": null,
   "metadata": {
    "ExecuteTime": {
     "end_time": "2020-08-26T19:10:36.600441Z",
     "start_time": "2020-08-26T19:10:36.233556Z"
    },
    "scrolled": true
   },
   "outputs": [
    {
     "name": "stdout",
     "output_type": "stream",
     "text": [
      "Precision Score: 0.6353906909847924\n",
      "Recall Score: 0.6553130096600176\n",
      "Accuracy Score: 0.6553130096600176\n",
      "F1 Score: 0.6389041195035063\n"
     ]
    }
   ],
   "source": [
    "print_metrics(y_test, test_preds)"
   ]
  },
  {
   "cell_type": "code",
   "execution_count": null,
   "metadata": {
    "ExecuteTime": {
     "end_time": "2020-08-26T19:11:53.468916Z",
     "start_time": "2020-08-26T19:10:36.603431Z"
    }
   },
   "outputs": [
    {
     "data": {
      "text/plain": [
       "<Figure size 720x720 with 0 Axes>"
      ]
     },
     "metadata": {},
     "output_type": "display_data"
    },
    {
     "data": {
      "image/png": "[encoded data removed]",
      "text/plain": [
       "<Figure size 432x288 with 2 Axes>"
      ]
     },
     "metadata": {
      "needs_background": "light"
     },
     "output_type": "display_data"
    }
   ],
   "source": [
    "plt.figure(figsize =(10,10))\n",
    "plot_confusion_matrix(clf, X_test, y_test,\n",
    "                     cmap=plt.cm.Blues,normalize='true')\n",
    "plt.show()"
   ]
  },
  {
   "cell_type": "markdown",
   "metadata": {},
   "source": [
    "# Model 2 - Decision Trees"
   ]
  },
  {
   "cell_type": "code",
   "execution_count": null,
   "metadata": {
    "ExecuteTime": {
     "end_time": "2020-08-26T19:11:54.357350Z",
     "start_time": "2020-08-26T19:11:53.470881Z"
    }
   },
   "outputs": [
    {
     "data": {
      "text/plain": [
       "DecisionTreeClassifier(ccp_alpha=0.0, class_weight=None, criterion='gini',\n",
       "                       max_depth=None, max_features=None, max_leaf_nodes=None,\n",
       "                       min_impurity_decrease=0.0, min_impurity_split=None,\n",
       "                       min_samples_leaf=1, min_samples_split=2,\n",
       "                       min_weight_fraction_leaf=0.0, presort='deprecated',\n",
       "                       random_state=42, splitter='best')"
      ]
     },
     "execution_count": 20,
     "metadata": {},
     "output_type": "execute_result"
    }
   ],
   "source": [
    "# Train a DT classifier\n",
    "classifier = DecisionTreeClassifier(random_state=42)  \n",
    "classifier.fit(X_train, y_train) "
   ]
  },
  {
   "cell_type": "code",
   "execution_count": null,
   "metadata": {
    "ExecuteTime": {
     "end_time": "2020-08-26T19:11:54.374356Z",
     "start_time": "2020-08-26T19:11:54.359317Z"
    }
   },
   "outputs": [],
   "source": [
    "y_pred = classifier.predict(X_test)  "
   ]
  },
  {
   "cell_type": "code",
   "execution_count": null,
   "metadata": {
    "ExecuteTime": {
     "end_time": "2020-08-26T19:24:12.274789Z",
     "start_time": "2020-08-26T19:24:11.914750Z"
    },
    "scrolled": true
   },
   "outputs": [
    {
     "name": "stdout",
     "output_type": "stream",
     "text": [
      "Precision Score: 0.5679878216732228\n",
      "Recall Score: 0.5646719357671559\n",
      "Accuracy Score: 0.5646719357671559\n",
      "F1 Score: 0.566277272302482\n"
     ]
    }
   ],
   "source": [
    "print_metrics(y_test, y_pred)"
   ]
  }
 ],
 "metadata": {
  "kernelspec": {
   "display_name": "Python 3",
   "language": "python",
   "name": "python3"
  },
  "language_info": {
   "codemirror_mode": {
    "name": "ipython",
    "version": 3
   },
   "file_extension": ".py",
   "mimetype": "text/x-python",
   "name": "python",
   "nbconvert_exporter": "python",
   "pygments_lexer": "ipython3",
   "version": "3.11.5"
  },
  "toc": {
   "base_numbering": 1,
   "nav_menu": {},
   "number_sections": true,
   "sideBar": true,
   "skip_h1_title": false,
   "title_cell": "Table of Contents",
   "title_sidebar": "Contents",
   "toc_cell": false,
   "toc_position": {
    "height": "calc(100% - 180px)",
    "left": "10px",
    "top": "150px",
    "width": "384px"
   },
   "toc_section_display": true,
   "toc_window_display": true
  },
  "varInspector": {
   "cols": {
    "lenName": 16,
    "lenType": 16,
    "lenVar": 40
   },
   "kernels_config": {
    "python": {
     "delete_cmd_postfix": "",
     "delete_cmd_prefix": "del ",
     "library": "var_list.py",
     "varRefreshCmd": "print(var_dic_list())"
    },
    "r": {
     "delete_cmd_postfix": ") ",
     "delete_cmd_prefix": "rm(",
     "library": "var_list.r",
     "varRefreshCmd": "cat(var_dic_list()) "
    }
   },
   "types_to_exclude": [
    "module",
    "function",
    "builtin_function_or_method",
    "instance",
    "_Feature"
   ],
   "window_display": false
  }
 },
 "nbformat": 4,
 "nbformat_minor": 2
}
