{
  "cells": [
    {
      "cell_type": "markdown",
      "metadata": {
        "id": "5oUuCOZhkB7A"
      },
      "source": [
        "# **City of Chicago Traffic Crashes**"
      ]
    },
    {
      "cell_type": "markdown",
      "metadata": {
        "id": "oggZClyZkB7D"
      },
      "source": [
        "<div style=\"width: 2000px; overflow: hidden;\">\n",
        "  <header style=\"height: 5in; display: flex; justify-content: center; align-items: center;\">\n",
        "    <img src=\"..\\chicago2.png\" alt=\"Chicago skyline\" style=\"height: 5in; width: 100%; object-fit: cover;\"/>\n",
        "  </header>\n",
        "</div>\n"
      ]
    },
    {
      "cell_type": "markdown",
      "metadata": {
        "id": "z3cWawXDkB7F"
      },
      "source": [
        "# **1. Business Understanding**"
      ]
    },
    {
      "cell_type": "markdown",
      "metadata": {},
      "source": [
        "### **Problem:**\n",
        "Traffic accidents are a significant issue in large cities like Chicago, causing property damage, injuries, and fatalities. Identifying the primary causes of these accidents can help city planners, traffic safety boards, and policymakers take proactive measures to reduce accidents and improve road safety. The dataset used in this project, provided by the City of Chicago, includes detailed information about accidents, vehicles, and the people involved, offering a rich resource for understanding the underlying causes of crashes.\n",
        "\n",
        "### **Stakeholders:**\n",
        "- **Vehicle Safety Boards**: These organizations are tasked with analyzing traffic accidents and implementing strategies to prevent future incidents. They could use the findings from this project to identify key risk factors contributing to accidents and introduce targeted interventions.\n",
        "- **City of Chicago**: City officials and traffic planners could benefit from the insights gained from this project by making data-driven decisions to improve road safety infrastructure, optimize traffic management, and reduce accident rates.\n",
        "\n",
        "### **Project Goals:**\n",
        "The goal of this project is to build a model that predicts the **primary contributory cause** of a car accident based on factors such as road conditions, vehicle characteristics, and the people involved. Since the original dataset contains over 40 unique contributory causes, we have grouped these into 5 main categories to make the task more manageable. The project also uses different classification models and iterating on them to achieve the best possible results. The target variable, `PRIM_CONTRIBUTORY_CAUSE`, represents the main reason for each accident.\n",
        "\n",
        "### **Approach:**\n",
        "- **Target Simplification**: To make the problem manageable, we grouped the 40 unique values of the `PRIM_CONTRIBUTORY_CAUSE` column into 5 broad categories.\n",
        "- **Classification Models**: We approached this as a classification problem, iterating through various models like Logistic Regression, Random Forest, and XGBoost, and Neural Networks, refining hyperparameters and improving upon each model.\n",
        "\n",
        "\n",
        "### **Objectives:**\n",
        "\n",
        "1. **Main Objective**: \n",
        "   - Build a model to predict the **PRIM_CONTRIBUTORY_CAUSE** of car accidents. The model should highlight the key factors contributing to accidents, such as **driver error**, **environmental factors**, **alcohol/drugs**, **mechanical failures**,  **pedestrian/cyclist errors**, and **others**. These insights will support traffic safety boards in designing targeted prevention strategies.\n",
        "\n",
        "2. **Data Quality**: \n",
        "   - Ensure the dataset is of high quality by maintaining completeness and accuracy, especially in critical variables like road conditions, weather, and vehicle information. Reliable data will enable more accurate predictions and ensure robust models.\n",
        "\n",
        "3. **Data Imbalance**: \n",
        "   - Address the severe imbalance in the target variable (`PRIM_CONTRIBUTORY_CAUSE`) by applying techniques such as **SMOTE**, **class weighting**, or **ensemble methods**. Handling imbalance effectively will result in models that perform better across all categories, not just the dominant ones.\n",
        "\n",
        "4. **Feature Importance**: \n",
        "   - Investigate the relationships between key features, such as **road conditions**, **vehicle types**, and **driver behavior**. Interaction features and deeper insights into how these variables influence accidents can improve model performance and offer more actionable insights for stakeholders.\n",
        "\n"
      ]
    },
    {
      "cell_type": "markdown",
      "metadata": {
        "id": "5fK7vrAhkB7G"
      },
      "source": [
        "# **2. Data Understanding**\n",
        "The dataset used for this project comes from the City of Chicago and includes detailed information on vehicle crashes, along with additional data on the involved vehicles and people. (https://data.cityofchicago.org/Transportation/Traffic-Crashes-Crashes/85ca-t3if/about_data)"
      ]
    },
    {
      "cell_type": "markdown",
      "metadata": {
        "id": "9lx8Y7tbkB7H"
      },
      "source": [
        "### **a) Imported relevant modules**\n"
      ]
    },
    {
      "cell_type": "code",
      "execution_count": 140,
      "metadata": {
        "id": "DDxlAe-ekB7I"
      },
      "outputs": [],
      "source": [
        "import pandas as pd\n",
        "import numpy as np\n",
        "import matplotlib.pyplot as plt\n",
        "import seaborn as sns\n",
        "%matplotlib inline\n"
      ]
    },
    {
      "cell_type": "markdown",
      "metadata": {
        "id": "V-BUs05-kB7K"
      },
      "source": [
        "#### **b) Loading the dataset**"
      ]
    },
    {
      "cell_type": "code",
      "execution_count": 141,
      "metadata": {
        "colab": {
          "base_uri": "https://localhost:8080/",
          "height": 446
        },
        "id": "x093nvFukB7L",
        "outputId": "bd18ee9b-09bb-4bd3-f58e-ccd2bf6c656d"
      },
      "outputs": [],
      "source": [
        "#from google.colab import drive\n",
        "\n",
        "\n",
        "# Mount your Google Drive\n",
        "#drive.mount('/content/drive')\n",
        "\n",
        "# Now you can read the CSV file\n",
        "#df = pd.read_csv('/content/drive/My Drive/Traffic_Crashes_-_Crashes_20241007.csv')  # Updated path\n",
        "#df.head()"
      ]
    },
    {
      "cell_type": "code",
      "execution_count": 142,
      "metadata": {
        "id": "87nVDwx3rF6C"
      },
      "outputs": [
        {
          "data": {
            "text/html": [
              "<div>\n",
              "<style scoped>\n",
              "    .dataframe tbody tr th:only-of-type {\n",
              "        vertical-align: middle;\n",
              "    }\n",
              "\n",
              "    .dataframe tbody tr th {\n",
              "        vertical-align: top;\n",
              "    }\n",
              "\n",
              "    .dataframe thead th {\n",
              "        text-align: right;\n",
              "    }\n",
              "</style>\n",
              "<table border=\"1\" class=\"dataframe\">\n",
              "  <thead>\n",
              "    <tr style=\"text-align: right;\">\n",
              "      <th></th>\n",
              "      <th>CRASH_RECORD_ID</th>\n",
              "      <th>CRASH_DATE_EST_I</th>\n",
              "      <th>CRASH_DATE</th>\n",
              "      <th>POSTED_SPEED_LIMIT</th>\n",
              "      <th>TRAFFIC_CONTROL_DEVICE</th>\n",
              "      <th>DEVICE_CONDITION</th>\n",
              "      <th>WEATHER_CONDITION</th>\n",
              "      <th>LIGHTING_CONDITION</th>\n",
              "      <th>FIRST_CRASH_TYPE</th>\n",
              "      <th>TRAFFICWAY_TYPE</th>\n",
              "      <th>...</th>\n",
              "      <th>INJURIES_NON_INCAPACITATING</th>\n",
              "      <th>INJURIES_REPORTED_NOT_EVIDENT</th>\n",
              "      <th>INJURIES_NO_INDICATION</th>\n",
              "      <th>INJURIES_UNKNOWN</th>\n",
              "      <th>CRASH_HOUR</th>\n",
              "      <th>CRASH_DAY_OF_WEEK</th>\n",
              "      <th>CRASH_MONTH</th>\n",
              "      <th>LATITUDE</th>\n",
              "      <th>LONGITUDE</th>\n",
              "      <th>LOCATION</th>\n",
              "    </tr>\n",
              "  </thead>\n",
              "  <tbody>\n",
              "    <tr>\n",
              "      <th>0</th>\n",
              "      <td>6c1659069e9c6285a650e70d6f9b574ed5f64c12888479...</td>\n",
              "      <td>NaN</td>\n",
              "      <td>08/18/2023 12:50:00 PM</td>\n",
              "      <td>15</td>\n",
              "      <td>OTHER</td>\n",
              "      <td>FUNCTIONING PROPERLY</td>\n",
              "      <td>CLEAR</td>\n",
              "      <td>DAYLIGHT</td>\n",
              "      <td>REAR END</td>\n",
              "      <td>OTHER</td>\n",
              "      <td>...</td>\n",
              "      <td>1.0</td>\n",
              "      <td>0.0</td>\n",
              "      <td>1.0</td>\n",
              "      <td>0.0</td>\n",
              "      <td>12</td>\n",
              "      <td>6</td>\n",
              "      <td>8</td>\n",
              "      <td>NaN</td>\n",
              "      <td>NaN</td>\n",
              "      <td>NaN</td>\n",
              "    </tr>\n",
              "    <tr>\n",
              "      <th>1</th>\n",
              "      <td>5f54a59fcb087b12ae5b1acff96a3caf4f2d37e79f8db4...</td>\n",
              "      <td>NaN</td>\n",
              "      <td>07/29/2023 02:45:00 PM</td>\n",
              "      <td>30</td>\n",
              "      <td>TRAFFIC SIGNAL</td>\n",
              "      <td>FUNCTIONING PROPERLY</td>\n",
              "      <td>CLEAR</td>\n",
              "      <td>DAYLIGHT</td>\n",
              "      <td>PARKED MOTOR VEHICLE</td>\n",
              "      <td>DIVIDED - W/MEDIAN (NOT RAISED)</td>\n",
              "      <td>...</td>\n",
              "      <td>0.0</td>\n",
              "      <td>0.0</td>\n",
              "      <td>1.0</td>\n",
              "      <td>0.0</td>\n",
              "      <td>14</td>\n",
              "      <td>7</td>\n",
              "      <td>7</td>\n",
              "      <td>41.854120</td>\n",
              "      <td>-87.665902</td>\n",
              "      <td>POINT (-87.665902342962 41.854120262952)</td>\n",
              "    </tr>\n",
              "    <tr>\n",
              "      <th>2</th>\n",
              "      <td>61fcb8c1eb522a6469b460e2134df3d15f82e81fd93e9c...</td>\n",
              "      <td>NaN</td>\n",
              "      <td>08/18/2023 05:58:00 PM</td>\n",
              "      <td>30</td>\n",
              "      <td>NO CONTROLS</td>\n",
              "      <td>NO CONTROLS</td>\n",
              "      <td>CLEAR</td>\n",
              "      <td>DAYLIGHT</td>\n",
              "      <td>PEDALCYCLIST</td>\n",
              "      <td>NOT DIVIDED</td>\n",
              "      <td>...</td>\n",
              "      <td>1.0</td>\n",
              "      <td>0.0</td>\n",
              "      <td>1.0</td>\n",
              "      <td>0.0</td>\n",
              "      <td>17</td>\n",
              "      <td>6</td>\n",
              "      <td>8</td>\n",
              "      <td>41.942976</td>\n",
              "      <td>-87.761883</td>\n",
              "      <td>POINT (-87.761883496974 41.942975745006)</td>\n",
              "    </tr>\n",
              "    <tr>\n",
              "      <th>3</th>\n",
              "      <td>004cd14d0303a9163aad69a2d7f341b7da2a8572b2ab33...</td>\n",
              "      <td>NaN</td>\n",
              "      <td>11/26/2019 08:38:00 AM</td>\n",
              "      <td>25</td>\n",
              "      <td>NO CONTROLS</td>\n",
              "      <td>NO CONTROLS</td>\n",
              "      <td>CLEAR</td>\n",
              "      <td>DAYLIGHT</td>\n",
              "      <td>PEDESTRIAN</td>\n",
              "      <td>ONE-WAY</td>\n",
              "      <td>...</td>\n",
              "      <td>0.0</td>\n",
              "      <td>0.0</td>\n",
              "      <td>1.0</td>\n",
              "      <td>0.0</td>\n",
              "      <td>8</td>\n",
              "      <td>3</td>\n",
              "      <td>11</td>\n",
              "      <td>NaN</td>\n",
              "      <td>NaN</td>\n",
              "      <td>NaN</td>\n",
              "    </tr>\n",
              "    <tr>\n",
              "      <th>4</th>\n",
              "      <td>a1d5f0ea90897745365a4cbb06cc60329a120d89753fac...</td>\n",
              "      <td>NaN</td>\n",
              "      <td>08/18/2023 10:45:00 AM</td>\n",
              "      <td>20</td>\n",
              "      <td>NO CONTROLS</td>\n",
              "      <td>NO CONTROLS</td>\n",
              "      <td>CLEAR</td>\n",
              "      <td>DAYLIGHT</td>\n",
              "      <td>FIXED OBJECT</td>\n",
              "      <td>OTHER</td>\n",
              "      <td>...</td>\n",
              "      <td>0.0</td>\n",
              "      <td>0.0</td>\n",
              "      <td>1.0</td>\n",
              "      <td>0.0</td>\n",
              "      <td>10</td>\n",
              "      <td>6</td>\n",
              "      <td>8</td>\n",
              "      <td>NaN</td>\n",
              "      <td>NaN</td>\n",
              "      <td>NaN</td>\n",
              "    </tr>\n",
              "  </tbody>\n",
              "</table>\n",
              "<p>5 rows × 48 columns</p>\n",
              "</div>"
            ],
            "text/plain": [
              "                                     CRASH_RECORD_ID CRASH_DATE_EST_I  \\\n",
              "0  6c1659069e9c6285a650e70d6f9b574ed5f64c12888479...              NaN   \n",
              "1  5f54a59fcb087b12ae5b1acff96a3caf4f2d37e79f8db4...              NaN   \n",
              "2  61fcb8c1eb522a6469b460e2134df3d15f82e81fd93e9c...              NaN   \n",
              "3  004cd14d0303a9163aad69a2d7f341b7da2a8572b2ab33...              NaN   \n",
              "4  a1d5f0ea90897745365a4cbb06cc60329a120d89753fac...              NaN   \n",
              "\n",
              "               CRASH_DATE  POSTED_SPEED_LIMIT TRAFFIC_CONTROL_DEVICE  \\\n",
              "0  08/18/2023 12:50:00 PM                  15                  OTHER   \n",
              "1  07/29/2023 02:45:00 PM                  30         TRAFFIC SIGNAL   \n",
              "2  08/18/2023 05:58:00 PM                  30            NO CONTROLS   \n",
              "3  11/26/2019 08:38:00 AM                  25            NO CONTROLS   \n",
              "4  08/18/2023 10:45:00 AM                  20            NO CONTROLS   \n",
              "\n",
              "       DEVICE_CONDITION WEATHER_CONDITION LIGHTING_CONDITION  \\\n",
              "0  FUNCTIONING PROPERLY             CLEAR           DAYLIGHT   \n",
              "1  FUNCTIONING PROPERLY             CLEAR           DAYLIGHT   \n",
              "2           NO CONTROLS             CLEAR           DAYLIGHT   \n",
              "3           NO CONTROLS             CLEAR           DAYLIGHT   \n",
              "4           NO CONTROLS             CLEAR           DAYLIGHT   \n",
              "\n",
              "       FIRST_CRASH_TYPE                  TRAFFICWAY_TYPE  ...  \\\n",
              "0              REAR END                            OTHER  ...   \n",
              "1  PARKED MOTOR VEHICLE  DIVIDED - W/MEDIAN (NOT RAISED)  ...   \n",
              "2          PEDALCYCLIST                      NOT DIVIDED  ...   \n",
              "3            PEDESTRIAN                          ONE-WAY  ...   \n",
              "4          FIXED OBJECT                            OTHER  ...   \n",
              "\n",
              "   INJURIES_NON_INCAPACITATING INJURIES_REPORTED_NOT_EVIDENT  \\\n",
              "0                          1.0                           0.0   \n",
              "1                          0.0                           0.0   \n",
              "2                          1.0                           0.0   \n",
              "3                          0.0                           0.0   \n",
              "4                          0.0                           0.0   \n",
              "\n",
              "  INJURIES_NO_INDICATION INJURIES_UNKNOWN CRASH_HOUR CRASH_DAY_OF_WEEK  \\\n",
              "0                    1.0              0.0         12                 6   \n",
              "1                    1.0              0.0         14                 7   \n",
              "2                    1.0              0.0         17                 6   \n",
              "3                    1.0              0.0          8                 3   \n",
              "4                    1.0              0.0         10                 6   \n",
              "\n",
              "  CRASH_MONTH   LATITUDE  LONGITUDE                                  LOCATION  \n",
              "0           8        NaN        NaN                                       NaN  \n",
              "1           7  41.854120 -87.665902  POINT (-87.665902342962 41.854120262952)  \n",
              "2           8  41.942976 -87.761883  POINT (-87.761883496974 41.942975745006)  \n",
              "3          11        NaN        NaN                                       NaN  \n",
              "4           8        NaN        NaN                                       NaN  \n",
              "\n",
              "[5 rows x 48 columns]"
            ]
          },
          "execution_count": 142,
          "metadata": {},
          "output_type": "execute_result"
        }
      ],
      "source": [
        "data = pd.read_csv('..\\Traffic_Crashes_-_Crashes_20241010.csv')\n",
        "data.head()"
      ]
    },
    {
      "cell_type": "markdown",
      "metadata": {
        "id": "SmVSCl6akB7R"
      },
      "source": [
        "### **c) Data Shape**"
      ]
    },
    {
      "cell_type": "code",
      "execution_count": 143,
      "metadata": {
        "colab": {
          "base_uri": "https://localhost:8080/"
        },
        "id": "8Eu6_cookB7S",
        "outputId": "1e268f08-e37c-4940-ef28-8c652c45e14c"
      },
      "outputs": [
        {
          "name": "stdout",
          "output_type": "stream",
          "text": [
            "Our data has 881316 rows and 48 columns\n"
          ]
        }
      ],
      "source": [
        "print('Our data has {} rows and {} columns'.format(data.shape[0], data.shape[1]))"
      ]
    },
    {
      "cell_type": "markdown",
      "metadata": {
        "id": "EPzbFx5mkB7S"
      },
      "source": [
        "### **d) Data Description**"
      ]
    },
    {
      "cell_type": "code",
      "execution_count": 144,
      "metadata": {
        "colab": {
          "base_uri": "https://localhost:8080/",
          "height": 320
        },
        "id": "MelnqLuHkB7T",
        "outputId": "3b485efc-8a41-4c0e-8081-ca1bfb0f778f"
      },
      "outputs": [
        {
          "data": {
            "text/html": [
              "<div>\n",
              "<style scoped>\n",
              "    .dataframe tbody tr th:only-of-type {\n",
              "        vertical-align: middle;\n",
              "    }\n",
              "\n",
              "    .dataframe tbody tr th {\n",
              "        vertical-align: top;\n",
              "    }\n",
              "\n",
              "    .dataframe thead th {\n",
              "        text-align: right;\n",
              "    }\n",
              "</style>\n",
              "<table border=\"1\" class=\"dataframe\">\n",
              "  <thead>\n",
              "    <tr style=\"text-align: right;\">\n",
              "      <th></th>\n",
              "      <th>POSTED_SPEED_LIMIT</th>\n",
              "      <th>LANE_CNT</th>\n",
              "      <th>STREET_NO</th>\n",
              "      <th>BEAT_OF_OCCURRENCE</th>\n",
              "      <th>NUM_UNITS</th>\n",
              "      <th>INJURIES_TOTAL</th>\n",
              "      <th>INJURIES_FATAL</th>\n",
              "      <th>INJURIES_INCAPACITATING</th>\n",
              "      <th>INJURIES_NON_INCAPACITATING</th>\n",
              "      <th>INJURIES_REPORTED_NOT_EVIDENT</th>\n",
              "      <th>INJURIES_NO_INDICATION</th>\n",
              "      <th>INJURIES_UNKNOWN</th>\n",
              "      <th>CRASH_HOUR</th>\n",
              "      <th>CRASH_DAY_OF_WEEK</th>\n",
              "      <th>CRASH_MONTH</th>\n",
              "      <th>LATITUDE</th>\n",
              "      <th>LONGITUDE</th>\n",
              "    </tr>\n",
              "  </thead>\n",
              "  <tbody>\n",
              "    <tr>\n",
              "      <th>count</th>\n",
              "      <td>881316.000000</td>\n",
              "      <td>1.990170e+05</td>\n",
              "      <td>881316.00000</td>\n",
              "      <td>881311.000000</td>\n",
              "      <td>881316.000000</td>\n",
              "      <td>879371.000000</td>\n",
              "      <td>879371.000000</td>\n",
              "      <td>879371.00000</td>\n",
              "      <td>879371.000000</td>\n",
              "      <td>879371.000000</td>\n",
              "      <td>879371.000000</td>\n",
              "      <td>879371.0</td>\n",
              "      <td>881316.000000</td>\n",
              "      <td>881316.000000</td>\n",
              "      <td>881316.000000</td>\n",
              "      <td>875032.000000</td>\n",
              "      <td>875032.000000</td>\n",
              "    </tr>\n",
              "    <tr>\n",
              "      <th>mean</th>\n",
              "      <td>28.418132</td>\n",
              "      <td>1.332970e+01</td>\n",
              "      <td>3687.43465</td>\n",
              "      <td>1244.790214</td>\n",
              "      <td>2.035163</td>\n",
              "      <td>0.193642</td>\n",
              "      <td>0.001188</td>\n",
              "      <td>0.01982</td>\n",
              "      <td>0.108670</td>\n",
              "      <td>0.063964</td>\n",
              "      <td>2.001278</td>\n",
              "      <td>0.0</td>\n",
              "      <td>13.204026</td>\n",
              "      <td>4.120368</td>\n",
              "      <td>6.646201</td>\n",
              "      <td>41.855122</td>\n",
              "      <td>-87.673690</td>\n",
              "    </tr>\n",
              "    <tr>\n",
              "      <th>std</th>\n",
              "      <td>6.121071</td>\n",
              "      <td>2.961542e+03</td>\n",
              "      <td>2880.56134</td>\n",
              "      <td>704.988384</td>\n",
              "      <td>0.452429</td>\n",
              "      <td>0.571621</td>\n",
              "      <td>0.037365</td>\n",
              "      <td>0.16492</td>\n",
              "      <td>0.425142</td>\n",
              "      <td>0.325155</td>\n",
              "      <td>1.157169</td>\n",
              "      <td>0.0</td>\n",
              "      <td>5.573179</td>\n",
              "      <td>1.981708</td>\n",
              "      <td>3.363464</td>\n",
              "      <td>0.333964</td>\n",
              "      <td>0.678455</td>\n",
              "    </tr>\n",
              "    <tr>\n",
              "      <th>min</th>\n",
              "      <td>0.000000</td>\n",
              "      <td>0.000000e+00</td>\n",
              "      <td>0.00000</td>\n",
              "      <td>111.000000</td>\n",
              "      <td>1.000000</td>\n",
              "      <td>0.000000</td>\n",
              "      <td>0.000000</td>\n",
              "      <td>0.00000</td>\n",
              "      <td>0.000000</td>\n",
              "      <td>0.000000</td>\n",
              "      <td>0.000000</td>\n",
              "      <td>0.0</td>\n",
              "      <td>0.000000</td>\n",
              "      <td>1.000000</td>\n",
              "      <td>1.000000</td>\n",
              "      <td>0.000000</td>\n",
              "      <td>-87.936193</td>\n",
              "    </tr>\n",
              "    <tr>\n",
              "      <th>25%</th>\n",
              "      <td>30.000000</td>\n",
              "      <td>2.000000e+00</td>\n",
              "      <td>1250.00000</td>\n",
              "      <td>715.000000</td>\n",
              "      <td>2.000000</td>\n",
              "      <td>0.000000</td>\n",
              "      <td>0.000000</td>\n",
              "      <td>0.00000</td>\n",
              "      <td>0.000000</td>\n",
              "      <td>0.000000</td>\n",
              "      <td>1.000000</td>\n",
              "      <td>0.0</td>\n",
              "      <td>9.000000</td>\n",
              "      <td>2.000000</td>\n",
              "      <td>4.000000</td>\n",
              "      <td>41.783065</td>\n",
              "      <td>-87.721824</td>\n",
              "    </tr>\n",
              "    <tr>\n",
              "      <th>50%</th>\n",
              "      <td>30.000000</td>\n",
              "      <td>2.000000e+00</td>\n",
              "      <td>3201.00000</td>\n",
              "      <td>1212.000000</td>\n",
              "      <td>2.000000</td>\n",
              "      <td>0.000000</td>\n",
              "      <td>0.000000</td>\n",
              "      <td>0.00000</td>\n",
              "      <td>0.000000</td>\n",
              "      <td>0.000000</td>\n",
              "      <td>2.000000</td>\n",
              "      <td>0.0</td>\n",
              "      <td>14.000000</td>\n",
              "      <td>4.000000</td>\n",
              "      <td>7.000000</td>\n",
              "      <td>41.874951</td>\n",
              "      <td>-87.674228</td>\n",
              "    </tr>\n",
              "    <tr>\n",
              "      <th>75%</th>\n",
              "      <td>30.000000</td>\n",
              "      <td>4.000000e+00</td>\n",
              "      <td>5562.00000</td>\n",
              "      <td>1822.000000</td>\n",
              "      <td>2.000000</td>\n",
              "      <td>0.000000</td>\n",
              "      <td>0.000000</td>\n",
              "      <td>0.00000</td>\n",
              "      <td>0.000000</td>\n",
              "      <td>0.000000</td>\n",
              "      <td>2.000000</td>\n",
              "      <td>0.0</td>\n",
              "      <td>17.000000</td>\n",
              "      <td>6.000000</td>\n",
              "      <td>9.000000</td>\n",
              "      <td>41.924518</td>\n",
              "      <td>-87.633520</td>\n",
              "    </tr>\n",
              "    <tr>\n",
              "      <th>max</th>\n",
              "      <td>99.000000</td>\n",
              "      <td>1.191625e+06</td>\n",
              "      <td>451100.00000</td>\n",
              "      <td>6100.000000</td>\n",
              "      <td>18.000000</td>\n",
              "      <td>21.000000</td>\n",
              "      <td>4.000000</td>\n",
              "      <td>10.00000</td>\n",
              "      <td>21.000000</td>\n",
              "      <td>15.000000</td>\n",
              "      <td>61.000000</td>\n",
              "      <td>0.0</td>\n",
              "      <td>23.000000</td>\n",
              "      <td>7.000000</td>\n",
              "      <td>12.000000</td>\n",
              "      <td>42.022780</td>\n",
              "      <td>0.000000</td>\n",
              "    </tr>\n",
              "  </tbody>\n",
              "</table>\n",
              "</div>"
            ],
            "text/plain": [
              "       POSTED_SPEED_LIMIT      LANE_CNT     STREET_NO  BEAT_OF_OCCURRENCE  \\\n",
              "count       881316.000000  1.990170e+05  881316.00000       881311.000000   \n",
              "mean            28.418132  1.332970e+01    3687.43465         1244.790214   \n",
              "std              6.121071  2.961542e+03    2880.56134          704.988384   \n",
              "min              0.000000  0.000000e+00       0.00000          111.000000   \n",
              "25%             30.000000  2.000000e+00    1250.00000          715.000000   \n",
              "50%             30.000000  2.000000e+00    3201.00000         1212.000000   \n",
              "75%             30.000000  4.000000e+00    5562.00000         1822.000000   \n",
              "max             99.000000  1.191625e+06  451100.00000         6100.000000   \n",
              "\n",
              "           NUM_UNITS  INJURIES_TOTAL  INJURIES_FATAL  INJURIES_INCAPACITATING  \\\n",
              "count  881316.000000   879371.000000   879371.000000             879371.00000   \n",
              "mean        2.035163        0.193642        0.001188                  0.01982   \n",
              "std         0.452429        0.571621        0.037365                  0.16492   \n",
              "min         1.000000        0.000000        0.000000                  0.00000   \n",
              "25%         2.000000        0.000000        0.000000                  0.00000   \n",
              "50%         2.000000        0.000000        0.000000                  0.00000   \n",
              "75%         2.000000        0.000000        0.000000                  0.00000   \n",
              "max        18.000000       21.000000        4.000000                 10.00000   \n",
              "\n",
              "       INJURIES_NON_INCAPACITATING  INJURIES_REPORTED_NOT_EVIDENT  \\\n",
              "count                879371.000000                  879371.000000   \n",
              "mean                      0.108670                       0.063964   \n",
              "std                       0.425142                       0.325155   \n",
              "min                       0.000000                       0.000000   \n",
              "25%                       0.000000                       0.000000   \n",
              "50%                       0.000000                       0.000000   \n",
              "75%                       0.000000                       0.000000   \n",
              "max                      21.000000                      15.000000   \n",
              "\n",
              "       INJURIES_NO_INDICATION  INJURIES_UNKNOWN     CRASH_HOUR  \\\n",
              "count           879371.000000          879371.0  881316.000000   \n",
              "mean                 2.001278               0.0      13.204026   \n",
              "std                  1.157169               0.0       5.573179   \n",
              "min                  0.000000               0.0       0.000000   \n",
              "25%                  1.000000               0.0       9.000000   \n",
              "50%                  2.000000               0.0      14.000000   \n",
              "75%                  2.000000               0.0      17.000000   \n",
              "max                 61.000000               0.0      23.000000   \n",
              "\n",
              "       CRASH_DAY_OF_WEEK    CRASH_MONTH       LATITUDE      LONGITUDE  \n",
              "count      881316.000000  881316.000000  875032.000000  875032.000000  \n",
              "mean            4.120368       6.646201      41.855122     -87.673690  \n",
              "std             1.981708       3.363464       0.333964       0.678455  \n",
              "min             1.000000       1.000000       0.000000     -87.936193  \n",
              "25%             2.000000       4.000000      41.783065     -87.721824  \n",
              "50%             4.000000       7.000000      41.874951     -87.674228  \n",
              "75%             6.000000       9.000000      41.924518     -87.633520  \n",
              "max             7.000000      12.000000      42.022780       0.000000  "
            ]
          },
          "execution_count": 144,
          "metadata": {},
          "output_type": "execute_result"
        }
      ],
      "source": [
        "data.describe()"
      ]
    },
    {
      "cell_type": "markdown",
      "metadata": {
        "id": "ArtDG4g4kB7T"
      },
      "source": [
        "Our data includes conditions surrounding a crash as well as the crash's outcome.\n",
        "\n",
        "The columns include:\n",
        "1. CRASH_RECORD_ID: Unique ID for each crash, used to link to related datasets.\n",
        "2. CRASH_DATE_EST_I: Estimated crash date if reported later.\n",
        "3. CRASH_DATE: Date and time of the crash.\n",
        "4. POSTED_SPEED_LIMIT: Speed limit at the crash location.\n",
        "5. TRAFFIC_CONTROL_DEVICE: Traffic control device present.\n",
        "6. DEVICE_CONDITION: Condition of the traffic control device.\n",
        "7. WEATHER_CONDITION: Weather at the time of the crash.\n",
        "8. LIGHTING_CONDITION: Lighting at the time of the crash.\n",
        "9. FIRST_CRASH_TYPE: Type of first collision.\n",
        "10. TRAFFICWAY_TYPE: Type of trafficway.\n",
        "11. LANE_CNT: Number of through lanes.\n",
        "12. ALIGNMENT: Street alignment.\n",
        "13. ROADWAY_SURFACE_COND: Road surface condition.\n",
        "14. ROAD_DEFECT: Road defects.\n",
        "15. REPORT_TYPE: Type of report (at scene, at desk, amended).\n",
        "16. CRASH_TYPE: Severity classification of the crash.\n",
        "17. INTERSECTION_RELATED_I: Whether an intersection played a role.\n",
        "18. NOT_RIGHT_OF_WAY_I: Whether the crash occurred outside the public right-of-way.\n",
        "19. HIT_AND_RUN_I: Whether it was a hit-and-run.\n",
        "20. DAMAGE: Estimated damage.\n",
        "21. DATE_POLICE_NOTIFIED: Date police were notified.\n",
        "22. **PRIM_CONTRIBUTORY_CAUSE: Primary cause of the crash**\n",
        "23. SEC_CONTRIBUTORY_CAUSE: Secondary cause of the crash.\n",
        "24. STREET_NO: Street address number.\n",
        "25. STREET_DIRECTION: Street address direction.\n",
        "26. STREET_NAME: Street address name.\n",
        "27. BEAT_OF_OCCURRENCE: Chicago Police Department Beat ID.\n",
        "28. PHOTOS_TAKEN_I: Whether photos were taken.\n",
        "29. STATEMENTS_TAKEN_I: Whether statements were taken.\n",
        "30. DOORING_I: Whether it involved dooring.\n",
        "31. WORK_ZONE_I: Whether it occurred in a work zone.\n",
        "32. WORK_ZONE_TYPE: Type of work zone.\n",
        "33. WORKERS_PRESENT_I: Whether workers were present.\n",
        "34. NUM_UNITS: Number of units involved.\n",
        "35. MOST_SEVERE_INJURY: Most severe injury sustained1.\n",
        "36. INJURIES_TOTAL: Total number of injuries.\n",
        "37. NJURIES_FATAL: Number of fatal injuries.\n",
        "38. INJURIES_INCAPACITATING: Number of incapacitating injuries.\n",
        "39. INJURIES_NON_INCAPACITATING: Number of non-incapacitating injuries.\n",
        "40. INJURIES_REPORTED_NOT_EVIDENT: Number of reported but not evident injuries.\n",
        "41. INJURIES_NO_INDICATION: Number of no indication of injuries.\n",
        "42. INJURIES_UNKNOWN: Number of unknown injuries.\n",
        "43. CRASH_HOUR: Hour of the crash.\n",
        "44. CRASH_DAY_OF_WEEK: Day of the week of the crash.\n",
        "45. CRASH_MONTH: Month of the crash.\n",
        "46. LATITUDE: Latitude of the crash location.\n",
        "47. LONGITUDE: Longitude of the crash location.\n",
        "48. LOCATION: Geographic location of the crash.\n",
        "\n",
        "PRIM_CONTRIBUTORY_CAUSE and SEC_CONTRIBUTORY_CAUSE are closely related. Below we compare how frequently each variable appears in the respective columns"
      ]
    },
    {
      "cell_type": "code",
      "execution_count": 145,
      "metadata": {
        "colab": {
          "base_uri": "https://localhost:8080/"
        },
        "id": "sbEAfk6vrF6K",
        "outputId": "8f2e54f4-4431-42d0-8660-b0cd78e1c48d"
      },
      "outputs": [
        {
          "name": "stdout",
          "output_type": "stream",
          "text": [
            "Variabe, PRIM_CONTRIBUTORY_CAUSE, SEC_CONTRIBUTORY_CAUSE\n",
            "FOLLOWING TOO CLOSELY, 9.66%, 2.63%\n",
            "FAILING TO REDUCE SPEED TO AVOID CRASH, 4.20%, 3.69%\n",
            "UNABLE TO DETERMINE, 39.08%, 36.06%\n",
            "IMPROPER BACKING, 3.88%, 0.80%\n",
            "IMPROPER TURNING/NO SIGNAL, 3.34%, 1.03%\n",
            "NOT APPLICABLE, 5.30%, 41.21%\n",
            "WEATHER, 1.44%, 1.11%\n",
            "IMPROPER OVERTAKING/PASSING, 4.97%, 1.55%\n",
            "DRIVING SKILLS/KNOWLEDGE/EXPERIENCE, 3.39%, 3.10%\n",
            "IMPROPER LANE USAGE, 3.56%, 1.41%\n",
            "VISION OBSCURED (SIGNS, TREE LIMBS, BUILDINGS, ETC.), 0.57%, 0.31%\n",
            "ROAD ENGINEERING/SURFACE/MARKING DEFECTS, 0.24%, 0.09%\n",
            "FAILING TO YIELD RIGHT-OF-WAY, 11.02%, 3.19%\n",
            "EQUIPMENT - VEHICLE CONDITION, 0.62%, 0.20%\n",
            "RELATED TO BUS STOP, 0.05%, 0.05%\n",
            "DISREGARDING OTHER TRAFFIC SIGNS, 0.21%, 0.10%\n",
            "DRIVING ON WRONG SIDE/WRONG WAY, 0.54%, 0.21%\n",
            "ROAD CONSTRUCTION/MAINTENANCE, 0.21%, 0.12%\n",
            "DISTRACTION - FROM INSIDE VEHICLE, 0.68%, 0.30%\n",
            "ANIMAL, 0.08%, 0.05%\n",
            "TEXTING, 0.04%, 0.02%\n",
            "DISREGARDING TRAFFIC SIGNALS, 1.96%, 0.41%\n",
            "DISREGARDING ROAD MARKINGS, 0.12%, 0.10%\n",
            "CELL PHONE USE OTHER THAN TEXTING, 0.13%, 0.07%\n",
            "DISREGARDING STOP SIGN, 1.07%, 0.29%\n",
            "OPERATING VEHICLE IN ERRATIC, RECKLESS, CARELESS, NEGLIGENT OR AGGRESSIVE MANNER, 1.26%, 0.62%\n",
            "EXCEEDING AUTHORIZED SPEED LIMIT, 0.22%, 0.17%\n",
            "DISTRACTION - FROM OUTSIDE VEHICLE, 0.41%, 0.16%\n",
            "PHYSICAL CONDITION OF DRIVER, 0.59%, 0.30%\n",
            "EXCEEDING SAFE SPEED FOR CONDITIONS, 0.19%, 0.16%\n",
            "DISREGARDING YIELD SIGN, 0.03%, 0.02%\n",
            "TURNING RIGHT ON RED, 0.08%, 0.04%\n",
            "UNDER THE INFLUENCE OF ALCOHOL/DRUGS (USE WHEN ARREST IS EFFECTED), 0.46%, 0.16%\n",
            "EVASIVE ACTION DUE TO ANIMAL, OBJECT, NONMOTORIST, 0.18%, 0.05%\n",
            "HAD BEEN DRINKING (USE WHEN ARREST IS NOT MADE), 0.10%, 0.12%\n",
            "DISTRACTION - OTHER ELECTRONIC DEVICE (NAVIGATION DEVICE, DVD PLAYER, ETC.), 0.05%, 0.03%\n",
            "OBSTRUCTED CROSSWALKS, 0.01%, 0.01%\n",
            "BICYCLE ADVANCING LEGALLY ON RED LIGHT, 0.01%, 0.03%\n",
            "PASSING STOPPED SCHOOL BUS, 0.01%, 0.01%\n",
            "MOTORCYCLE ADVANCING LEGALLY ON RED LIGHT, 0.00%, 0.01%\n"
          ]
        }
      ],
      "source": [
        "print('Variabe, PRIM_CONTRIBUTORY_CAUSE, SEC_CONTRIBUTORY_CAUSE') #creates a header for our output\n",
        "\n",
        "#summarizes variables in our target by percentage\n",
        "for i in data['PRIM_CONTRIBUTORY_CAUSE'].unique():\n",
        "    prim_percentage = (data['PRIM_CONTRIBUTORY_CAUSE'].value_counts()[i]/data['PRIM_CONTRIBUTORY_CAUSE'].value_counts().sum())*100\n",
        "    sec_percentage = (data['SEC_CONTRIBUTORY_CAUSE'].value_counts()[i]/data['SEC_CONTRIBUTORY_CAUSE'].value_counts().sum())*100 if i in data['SEC_CONTRIBUTORY_CAUSE'].unique() else None\n",
        "    print(f\"{i}, {prim_percentage:.2f}%\", end='')\n",
        "    if sec_percentage is not None:\n",
        "        print(f\", {sec_percentage:.2f}%\", end='')\n",
        "    print()"
      ]
    },
    {
      "cell_type": "markdown",
      "metadata": {},
      "source": [
        "'PRIM_CONTRIBUTORY_CAUSE' and 'SEC_CONTRIBUTORY_CAUSE' are obviously very highly related. Hence we will drop 'SEC_CONTRIBUTORY_CAUSE'"
      ]
    },
    {
      "cell_type": "code",
      "execution_count": 146,
      "metadata": {},
      "outputs": [
        {
          "name": "stdout",
          "output_type": "stream",
          "text": [
            "Our target variable has 40 unique values\n"
          ]
        }
      ],
      "source": [
        "\n",
        "print(f'Our target variable has {data[\"PRIM_CONTRIBUTORY_CAUSE\"].nunique()} unique values')"
      ]
    },
    {
      "cell_type": "markdown",
      "metadata": {},
      "source": [
        "Below we summarize related variables into 6 main groups based on how closely they are related to reduce the number of unique values and make our classification task easier to handle"
      ]
    },
    {
      "cell_type": "code",
      "execution_count": 147,
      "metadata": {
        "id": "Pq-EepYrEK9H"
      },
      "outputs": [],
      "source": [
        "def categorize_cause(cause):\n",
        "    if cause in [\n",
        "        'FAILING TO YIELD RIGHT-OF-WAY', 'FOLLOWING TOO CLOSELY', 'IMPROPER LANE USAGE',\n",
        "        'DISREGARDING TRAFFIC SIGNALS', 'DISTRACTION - FROM INSIDE VEHICLE',\n",
        "        'DISTRACTION - FROM OUTSIDE VEHICLE', 'IMPROPER TURNING/NO SIGNAL',\n",
        "        'IMPROPER BACKING', 'TURNING RIGHT ON RED', 'DRIVING ON WRONG SIDE/WRONG WAY',\n",
        "        'DISREGARDING STOP SIGN', 'CELL PHONE USE OTHER THAN TEXTING', 'TEXTING',\n",
        "        'HAD BEEN DRINKING (USE WHEN ARREST IS NOT MADE)'\n",
        "    ]:\n",
        "        return 'Driver Error'\n",
        "\n",
        "    elif cause in [\n",
        "        'WEATHER', 'VISION OBSCURED (SIGNS, TREE LIMBS, BUILDINGS, ETC.)', 'ROADWAY SURFACE COND_ICE',\n",
        "        'ROAD CONSTRUCTION/MAINTENANCE', 'ROAD DEFECT_UNKNOWN', 'LIGHTING_CONDITION_DARKNESS',\n",
        "        'LIGHTING_CONDITION_DAWN', 'LIGHTING_CONDITION_DUSK'\n",
        "    ]:\n",
        "        return 'Environmental Factors'\n",
        "\n",
        "    elif cause in [\n",
        "        'EQUIPMENT - VEHICLE CONDITION', 'BRAKE FAILURE', 'TIRE FAILURE', 'ENGINE FAILURE',\n",
        "        'AIRBAG DEPLOYED_DID NOT DEPLOY'\n",
        "    ]:\n",
        "        return 'Mechanical Failures'\n",
        "\n",
        "    elif cause in [\n",
        "        'PEDESTRIAN ACTIONS', 'BICYCLE ADVANCING LEGALLY ON RED LIGHT', 'RELATED TO BUS STOP',\n",
        "        'OBSTRUCTED CROSSWALKS', 'ELECTRONIC DEVICE USE BY PEDESTRIAN'\n",
        "    ]:\n",
        "        return 'Pedestrian/Cyclist Errors'\n",
        "\n",
        "    elif cause in [\n",
        "        'UNDER THE INFLUENCE OF ALCOHOL/DRUGS (USE WHEN ARREST IS EFFECTED)', 'PHYSICAL CONDITION OF DRIVER',\n",
        "        'SLEEPING AT THE WHEEL'\n",
        "    ]:\n",
        "        return 'Alcohol/Drugs and Physical Condition'\n",
        "\n",
        "    else:\n",
        "        return 'Other'\n"
      ]
    },
    {
      "cell_type": "code",
      "execution_count": 148,
      "metadata": {
        "id": "3RbFcjYuEgDP"
      },
      "outputs": [
        {
          "name": "stdout",
          "output_type": "stream",
          "text": [
            "Our target variable now has 6 unique values\n"
          ]
        }
      ],
      "source": [
        "data['PRIM_CONTRIBUTORY_CAUSE_GROUPED'] = data['PRIM_CONTRIBUTORY_CAUSE'].apply(categorize_cause)\n",
        "data = data.drop(columns=['PRIM_CONTRIBUTORY_CAUSE'])\n",
        "\n",
        "print(f'Our target variable now has {data[\"PRIM_CONTRIBUTORY_CAUSE_GROUPED\"].nunique()} unique values')\n"
      ]
    },
    {
      "cell_type": "code",
      "execution_count": 149,
      "metadata": {
        "colab": {
          "base_uri": "https://localhost:8080/",
          "height": 872
        },
        "id": "dmpSKlsOr4r_",
        "outputId": "22c38026-b1ad-4ad6-c617-e64f1da11137"
      },
      "outputs": [
        {
          "data": {
            "image/png": "[encoded data removed]",
            "text/plain": [
              "<Figure size 1296x576 with 1 Axes>"
            ]
          },
          "metadata": {
            "needs_background": "light"
          },
          "output_type": "display_data"
        }
      ],
      "source": [
        "# Compare the distribution of variables in our target\n",
        "plt.figure(figsize=(18, 8))\n",
        "\n",
        "sns.histplot(data['PRIM_CONTRIBUTORY_CAUSE_GROUPED'], color='orange', label='Distributions', stat='density', kde=True)\n",
        "\n",
        "plt.legend()\n",
        "plt.title('PRIM_CONTRIBUTORY_CAUSE_GROUPED Distribution')\n",
        "plt.show()\n"
      ]
    },
    {
      "cell_type": "markdown",
      "metadata": {
        "id": "H49VUBh8kB7U"
      },
      "source": [
        "### **e) Duplicates**"
      ]
    },
    {
      "cell_type": "code",
      "execution_count": 150,
      "metadata": {
        "colab": {
          "base_uri": "https://localhost:8080/"
        },
        "id": "8QiEH01vkB7V",
        "outputId": "b924ecbb-dd43-4ab8-d8e6-945ed9bc7ca4"
      },
      "outputs": [
        {
          "data": {
            "text/plain": [
              "0"
            ]
          },
          "execution_count": 150,
          "metadata": {},
          "output_type": "execute_result"
        }
      ],
      "source": [
        "data.duplicated().sum()"
      ]
    },
    {
      "cell_type": "markdown",
      "metadata": {
        "id": "p0LWpUjJkB7V"
      },
      "source": [
        "There are no duplicates in our dataset"
      ]
    },
    {
      "cell_type": "markdown",
      "metadata": {
        "id": "WUuSrmdtkB7W"
      },
      "source": [
        "### **f) Datatypes**"
      ]
    },
    {
      "cell_type": "code",
      "execution_count": 151,
      "metadata": {
        "colab": {
          "base_uri": "https://localhost:8080/"
        },
        "id": "bjbGkGZ8kB7W",
        "outputId": "17c1bdbb-7dae-4e57-d1f1-04f0582f2603"
      },
      "outputs": [
        {
          "name": "stdout",
          "output_type": "stream",
          "text": [
            "<class 'pandas.core.frame.DataFrame'>\n",
            "RangeIndex: 881316 entries, 0 to 881315\n",
            "Data columns (total 48 columns):\n",
            " #   Column                           Non-Null Count   Dtype  \n",
            "---  ------                           --------------   -----  \n",
            " 0   CRASH_RECORD_ID                  881316 non-null  object \n",
            " 1   CRASH_DATE_EST_I                 65291 non-null   object \n",
            " 2   CRASH_DATE                       881316 non-null  object \n",
            " 3   POSTED_SPEED_LIMIT               881316 non-null  int64  \n",
            " 4   TRAFFIC_CONTROL_DEVICE           881316 non-null  object \n",
            " 5   DEVICE_CONDITION                 881316 non-null  object \n",
            " 6   WEATHER_CONDITION                881316 non-null  object \n",
            " 7   LIGHTING_CONDITION               881316 non-null  object \n",
            " 8   FIRST_CRASH_TYPE                 881316 non-null  object \n",
            " 9   TRAFFICWAY_TYPE                  881316 non-null  object \n",
            " 10  LANE_CNT                         199017 non-null  float64\n",
            " 11  ALIGNMENT                        881316 non-null  object \n",
            " 12  ROADWAY_SURFACE_COND             881316 non-null  object \n",
            " 13  ROAD_DEFECT                      881316 non-null  object \n",
            " 14  REPORT_TYPE                      854232 non-null  object \n",
            " 15  CRASH_TYPE                       881316 non-null  object \n",
            " 16  INTERSECTION_RELATED_I           202158 non-null  object \n",
            " 17  NOT_RIGHT_OF_WAY_I               40259 non-null   object \n",
            " 18  HIT_AND_RUN_I                    276385 non-null  object \n",
            " 19  DAMAGE                           881316 non-null  object \n",
            " 20  DATE_POLICE_NOTIFIED             881316 non-null  object \n",
            " 21  SEC_CONTRIBUTORY_CAUSE           881316 non-null  object \n",
            " 22  STREET_NO                        881316 non-null  int64  \n",
            " 23  STREET_DIRECTION                 881312 non-null  object \n",
            " 24  STREET_NAME                      881315 non-null  object \n",
            " 25  BEAT_OF_OCCURRENCE               881311 non-null  float64\n",
            " 26  PHOTOS_TAKEN_I                   11969 non-null   object \n",
            " 27  STATEMENTS_TAKEN_I               20177 non-null   object \n",
            " 28  DOORING_I                        2789 non-null    object \n",
            " 29  WORK_ZONE_I                      4969 non-null    object \n",
            " 30  WORK_ZONE_TYPE                   3839 non-null    object \n",
            " 31  WORKERS_PRESENT_I                1278 non-null    object \n",
            " 32  NUM_UNITS                        881316 non-null  int64  \n",
            " 33  MOST_SEVERE_INJURY               879357 non-null  object \n",
            " 34  INJURIES_TOTAL                   879371 non-null  float64\n",
            " 35  INJURIES_FATAL                   879371 non-null  float64\n",
            " 36  INJURIES_INCAPACITATING          879371 non-null  float64\n",
            " 37  INJURIES_NON_INCAPACITATING      879371 non-null  float64\n",
            " 38  INJURIES_REPORTED_NOT_EVIDENT    879371 non-null  float64\n",
            " 39  INJURIES_NO_INDICATION           879371 non-null  float64\n",
            " 40  INJURIES_UNKNOWN                 879371 non-null  float64\n",
            " 41  CRASH_HOUR                       881316 non-null  int64  \n",
            " 42  CRASH_DAY_OF_WEEK                881316 non-null  int64  \n",
            " 43  CRASH_MONTH                      881316 non-null  int64  \n",
            " 44  LATITUDE                         875032 non-null  float64\n",
            " 45  LONGITUDE                        875032 non-null  float64\n",
            " 46  LOCATION                         875032 non-null  object \n",
            " 47  PRIM_CONTRIBUTORY_CAUSE_GROUPED  881316 non-null  object \n",
            "dtypes: float64(11), int64(6), object(31)\n",
            "memory usage: 322.7+ MB\n"
          ]
        }
      ],
      "source": [
        "data.info()"
      ]
    },
    {
      "cell_type": "markdown",
      "metadata": {
        "id": "dqpdxHtJkB7X"
      },
      "source": [
        "Our dataset is quite large with several columns that seem to contain similar information.\n",
        "\n",
        "\n",
        "\n",
        "Below we drop some columns that have limited useful information given our overall objective and similarity to other columns which we will include in our dataset. "
      ]
    },
    {
      "cell_type": "code",
      "execution_count": 152,
      "metadata": {
        "colab": {
          "base_uri": "https://localhost:8080/",
          "height": 446
        },
        "id": "G9ewScXYkB7Z",
        "outputId": "4faa1ff8-8dba-4779-da3d-93ed9e8c9e5c"
      },
      "outputs": [
        {
          "data": {
            "text/html": [
              "<div>\n",
              "<style scoped>\n",
              "    .dataframe tbody tr th:only-of-type {\n",
              "        vertical-align: middle;\n",
              "    }\n",
              "\n",
              "    .dataframe tbody tr th {\n",
              "        vertical-align: top;\n",
              "    }\n",
              "\n",
              "    .dataframe thead th {\n",
              "        text-align: right;\n",
              "    }\n",
              "</style>\n",
              "<table border=\"1\" class=\"dataframe\">\n",
              "  <thead>\n",
              "    <tr style=\"text-align: right;\">\n",
              "      <th></th>\n",
              "      <th>POSTED_SPEED_LIMIT</th>\n",
              "      <th>TRAFFIC_CONTROL_DEVICE</th>\n",
              "      <th>DEVICE_CONDITION</th>\n",
              "      <th>WEATHER_CONDITION</th>\n",
              "      <th>LIGHTING_CONDITION</th>\n",
              "      <th>FIRST_CRASH_TYPE</th>\n",
              "      <th>TRAFFICWAY_TYPE</th>\n",
              "      <th>ALIGNMENT</th>\n",
              "      <th>ROADWAY_SURFACE_COND</th>\n",
              "      <th>ROAD_DEFECT</th>\n",
              "      <th>...</th>\n",
              "      <th>NUM_UNITS</th>\n",
              "      <th>MOST_SEVERE_INJURY</th>\n",
              "      <th>INJURIES_TOTAL</th>\n",
              "      <th>INJURIES_FATAL</th>\n",
              "      <th>INJURIES_INCAPACITATING</th>\n",
              "      <th>INJURIES_NON_INCAPACITATING</th>\n",
              "      <th>CRASH_HOUR</th>\n",
              "      <th>CRASH_DAY_OF_WEEK</th>\n",
              "      <th>CRASH_MONTH</th>\n",
              "      <th>PRIM_CONTRIBUTORY_CAUSE_GROUPED</th>\n",
              "    </tr>\n",
              "  </thead>\n",
              "  <tbody>\n",
              "    <tr>\n",
              "      <th>0</th>\n",
              "      <td>15</td>\n",
              "      <td>OTHER</td>\n",
              "      <td>FUNCTIONING PROPERLY</td>\n",
              "      <td>CLEAR</td>\n",
              "      <td>DAYLIGHT</td>\n",
              "      <td>REAR END</td>\n",
              "      <td>OTHER</td>\n",
              "      <td>STRAIGHT AND LEVEL</td>\n",
              "      <td>DRY</td>\n",
              "      <td>NO DEFECTS</td>\n",
              "      <td>...</td>\n",
              "      <td>2</td>\n",
              "      <td>NONINCAPACITATING INJURY</td>\n",
              "      <td>1.0</td>\n",
              "      <td>0.0</td>\n",
              "      <td>0.0</td>\n",
              "      <td>1.0</td>\n",
              "      <td>12</td>\n",
              "      <td>6</td>\n",
              "      <td>8</td>\n",
              "      <td>Driver Error</td>\n",
              "    </tr>\n",
              "    <tr>\n",
              "      <th>1</th>\n",
              "      <td>30</td>\n",
              "      <td>TRAFFIC SIGNAL</td>\n",
              "      <td>FUNCTIONING PROPERLY</td>\n",
              "      <td>CLEAR</td>\n",
              "      <td>DAYLIGHT</td>\n",
              "      <td>PARKED MOTOR VEHICLE</td>\n",
              "      <td>DIVIDED - W/MEDIAN (NOT RAISED)</td>\n",
              "      <td>STRAIGHT AND LEVEL</td>\n",
              "      <td>DRY</td>\n",
              "      <td>NO DEFECTS</td>\n",
              "      <td>...</td>\n",
              "      <td>4</td>\n",
              "      <td>NO INDICATION OF INJURY</td>\n",
              "      <td>0.0</td>\n",
              "      <td>0.0</td>\n",
              "      <td>0.0</td>\n",
              "      <td>0.0</td>\n",
              "      <td>14</td>\n",
              "      <td>7</td>\n",
              "      <td>7</td>\n",
              "      <td>Other</td>\n",
              "    </tr>\n",
              "    <tr>\n",
              "      <th>2</th>\n",
              "      <td>30</td>\n",
              "      <td>NO CONTROLS</td>\n",
              "      <td>NO CONTROLS</td>\n",
              "      <td>CLEAR</td>\n",
              "      <td>DAYLIGHT</td>\n",
              "      <td>PEDALCYCLIST</td>\n",
              "      <td>NOT DIVIDED</td>\n",
              "      <td>STRAIGHT AND LEVEL</td>\n",
              "      <td>DRY</td>\n",
              "      <td>NO DEFECTS</td>\n",
              "      <td>...</td>\n",
              "      <td>2</td>\n",
              "      <td>NONINCAPACITATING INJURY</td>\n",
              "      <td>1.0</td>\n",
              "      <td>0.0</td>\n",
              "      <td>0.0</td>\n",
              "      <td>1.0</td>\n",
              "      <td>17</td>\n",
              "      <td>6</td>\n",
              "      <td>8</td>\n",
              "      <td>Other</td>\n",
              "    </tr>\n",
              "    <tr>\n",
              "      <th>3</th>\n",
              "      <td>25</td>\n",
              "      <td>NO CONTROLS</td>\n",
              "      <td>NO CONTROLS</td>\n",
              "      <td>CLEAR</td>\n",
              "      <td>DAYLIGHT</td>\n",
              "      <td>PEDESTRIAN</td>\n",
              "      <td>ONE-WAY</td>\n",
              "      <td>CURVE ON GRADE</td>\n",
              "      <td>DRY</td>\n",
              "      <td>NO DEFECTS</td>\n",
              "      <td>...</td>\n",
              "      <td>2</td>\n",
              "      <td>FATAL</td>\n",
              "      <td>1.0</td>\n",
              "      <td>1.0</td>\n",
              "      <td>0.0</td>\n",
              "      <td>0.0</td>\n",
              "      <td>8</td>\n",
              "      <td>3</td>\n",
              "      <td>11</td>\n",
              "      <td>Other</td>\n",
              "    </tr>\n",
              "    <tr>\n",
              "      <th>4</th>\n",
              "      <td>20</td>\n",
              "      <td>NO CONTROLS</td>\n",
              "      <td>NO CONTROLS</td>\n",
              "      <td>CLEAR</td>\n",
              "      <td>DAYLIGHT</td>\n",
              "      <td>FIXED OBJECT</td>\n",
              "      <td>OTHER</td>\n",
              "      <td>STRAIGHT AND LEVEL</td>\n",
              "      <td>DRY</td>\n",
              "      <td>NO DEFECTS</td>\n",
              "      <td>...</td>\n",
              "      <td>1</td>\n",
              "      <td>NO INDICATION OF INJURY</td>\n",
              "      <td>0.0</td>\n",
              "      <td>0.0</td>\n",
              "      <td>0.0</td>\n",
              "      <td>0.0</td>\n",
              "      <td>10</td>\n",
              "      <td>6</td>\n",
              "      <td>8</td>\n",
              "      <td>Driver Error</td>\n",
              "    </tr>\n",
              "  </tbody>\n",
              "</table>\n",
              "<p>5 rows × 29 columns</p>\n",
              "</div>"
            ],
            "text/plain": [
              "   POSTED_SPEED_LIMIT TRAFFIC_CONTROL_DEVICE      DEVICE_CONDITION  \\\n",
              "0                  15                  OTHER  FUNCTIONING PROPERLY   \n",
              "1                  30         TRAFFIC SIGNAL  FUNCTIONING PROPERLY   \n",
              "2                  30            NO CONTROLS           NO CONTROLS   \n",
              "3                  25            NO CONTROLS           NO CONTROLS   \n",
              "4                  20            NO CONTROLS           NO CONTROLS   \n",
              "\n",
              "  WEATHER_CONDITION LIGHTING_CONDITION      FIRST_CRASH_TYPE  \\\n",
              "0             CLEAR           DAYLIGHT              REAR END   \n",
              "1             CLEAR           DAYLIGHT  PARKED MOTOR VEHICLE   \n",
              "2             CLEAR           DAYLIGHT          PEDALCYCLIST   \n",
              "3             CLEAR           DAYLIGHT            PEDESTRIAN   \n",
              "4             CLEAR           DAYLIGHT          FIXED OBJECT   \n",
              "\n",
              "                   TRAFFICWAY_TYPE           ALIGNMENT ROADWAY_SURFACE_COND  \\\n",
              "0                            OTHER  STRAIGHT AND LEVEL                  DRY   \n",
              "1  DIVIDED - W/MEDIAN (NOT RAISED)  STRAIGHT AND LEVEL                  DRY   \n",
              "2                      NOT DIVIDED  STRAIGHT AND LEVEL                  DRY   \n",
              "3                          ONE-WAY      CURVE ON GRADE                  DRY   \n",
              "4                            OTHER  STRAIGHT AND LEVEL                  DRY   \n",
              "\n",
              "  ROAD_DEFECT  ... NUM_UNITS        MOST_SEVERE_INJURY INJURIES_TOTAL  \\\n",
              "0  NO DEFECTS  ...         2  NONINCAPACITATING INJURY            1.0   \n",
              "1  NO DEFECTS  ...         4   NO INDICATION OF INJURY            0.0   \n",
              "2  NO DEFECTS  ...         2  NONINCAPACITATING INJURY            1.0   \n",
              "3  NO DEFECTS  ...         2                     FATAL            1.0   \n",
              "4  NO DEFECTS  ...         1   NO INDICATION OF INJURY            0.0   \n",
              "\n",
              "  INJURIES_FATAL INJURIES_INCAPACITATING INJURIES_NON_INCAPACITATING  \\\n",
              "0            0.0                     0.0                         1.0   \n",
              "1            0.0                     0.0                         0.0   \n",
              "2            0.0                     0.0                         1.0   \n",
              "3            1.0                     0.0                         0.0   \n",
              "4            0.0                     0.0                         0.0   \n",
              "\n",
              "  CRASH_HOUR CRASH_DAY_OF_WEEK CRASH_MONTH  PRIM_CONTRIBUTORY_CAUSE_GROUPED  \n",
              "0         12                 6           8                     Driver Error  \n",
              "1         14                 7           7                            Other  \n",
              "2         17                 6           8                            Other  \n",
              "3          8                 3          11                            Other  \n",
              "4         10                 6           8                     Driver Error  \n",
              "\n",
              "[5 rows x 29 columns]"
            ]
          },
          "execution_count": 152,
          "metadata": {},
          "output_type": "execute_result"
        }
      ],
      "source": [
        "columns_to_drop = ['CRASH_RECORD_ID','CRASH_DATE_EST_I', 'CRASH_DATE','REPORT_TYPE', 'PHOTOS_TAKEN_I','STATEMENTS_TAKEN_I',\n",
        "'DOORING_I','STREET_NO','STREET_DIRECTION','DATE_POLICE_NOTIFIED','BEAT_OF_OCCURRENCE','LANE_CNT','LATITUDE',\n",
        "'LONGITUDE','INJURIES_REPORTED_NOT_EVIDENT','INJURIES_NO_INDICATION','INJURIES_UNKNOWN','SEC_CONTRIBUTORY_CAUSE', 'LOCATION']\n",
        "\n",
        "relevant_data = data.drop(columns = columns_to_drop, axis=1)\n",
        "relevant_data.head()"
      ]
    },
    {
      "cell_type": "code",
      "execution_count": 153,
      "metadata": {},
      "outputs": [
        {
          "name": "stdout",
          "output_type": "stream",
          "text": [
            "Our data now has 881316 rows and 29 columns\n"
          ]
        }
      ],
      "source": [
        "print('Our data now has {} rows and {} columns'.format(relevant_data.shape[0], relevant_data.shape[1]))"
      ]
    },
    {
      "cell_type": "markdown",
      "metadata": {
        "id": "BTdJpWi3kB7a"
      },
      "source": [
        "### **g) Missing Values**"
      ]
    },
    {
      "cell_type": "markdown",
      "metadata": {
        "id": "UNDwpNb-kB7b"
      },
      "source": [
        "Next, we will look at missing data by column percentage."
      ]
    },
    {
      "cell_type": "code",
      "execution_count": 154,
      "metadata": {
        "colab": {
          "base_uri": "https://localhost:8080/",
          "height": 962
        },
        "id": "__OrSisxkB7b",
        "outputId": "248e1526-73f0-4ef2-f97d-a66a09fdb600"
      },
      "outputs": [
        {
          "data": {
            "text/plain": [
              "POSTED_SPEED_LIMIT                  0.000000\n",
              "TRAFFIC_CONTROL_DEVICE              0.000000\n",
              "DEVICE_CONDITION                    0.000000\n",
              "WEATHER_CONDITION                   0.000000\n",
              "LIGHTING_CONDITION                  0.000000\n",
              "FIRST_CRASH_TYPE                    0.000000\n",
              "TRAFFICWAY_TYPE                     0.000000\n",
              "ALIGNMENT                           0.000000\n",
              "ROADWAY_SURFACE_COND                0.000000\n",
              "ROAD_DEFECT                         0.000000\n",
              "CRASH_TYPE                          0.000000\n",
              "INTERSECTION_RELATED_I             77.061803\n",
              "NOT_RIGHT_OF_WAY_I                 95.431945\n",
              "HIT_AND_RUN_I                      68.639512\n",
              "DAMAGE                              0.000000\n",
              "STREET_NAME                         0.000113\n",
              "WORK_ZONE_I                        99.436184\n",
              "WORK_ZONE_TYPE                     99.564401\n",
              "WORKERS_PRESENT_I                  99.854990\n",
              "NUM_UNITS                           0.000000\n",
              "MOST_SEVERE_INJURY                  0.222281\n",
              "INJURIES_TOTAL                      0.220693\n",
              "INJURIES_FATAL                      0.220693\n",
              "INJURIES_INCAPACITATING             0.220693\n",
              "INJURIES_NON_INCAPACITATING         0.220693\n",
              "CRASH_HOUR                          0.000000\n",
              "CRASH_DAY_OF_WEEK                   0.000000\n",
              "CRASH_MONTH                         0.000000\n",
              "PRIM_CONTRIBUTORY_CAUSE_GROUPED     0.000000\n",
              "dtype: float64"
            ]
          },
          "execution_count": 154,
          "metadata": {},
          "output_type": "execute_result"
        }
      ],
      "source": [
        "relevant_data.isna().sum()/data.shape[0]*100"
      ]
    },
    {
      "cell_type": "markdown",
      "metadata": {},
      "source": [
        "We will start by inspecting and handling columns with a large amount of missing data"
      ]
    },
    {
      "cell_type": "code",
      "execution_count": 155,
      "metadata": {
        "colab": {
          "base_uri": "https://localhost:8080/"
        },
        "id": "1ZPj0eIpkB7c",
        "outputId": "5b5ba9a9-1e47-49dc-f9bd-1eb65997b5de"
      },
      "outputs": [
        {
          "name": "stdout",
          "output_type": "stream",
          "text": [
            "INTERSECTION_RELATED_I\n",
            " Missing value percent 77.06\n",
            " Unique values [nan 'Y' 'N']\n",
            "NOT_RIGHT_OF_WAY_I\n",
            " Missing value percent 95.43\n",
            " Unique values [nan 'Y' 'N']\n",
            "HIT_AND_RUN_I\n",
            " Missing value percent 68.64\n",
            " Unique values [nan 'Y' 'N']\n",
            "WORK_ZONE_I\n",
            " Missing value percent 99.44\n",
            " Unique values [nan 'Y' 'N']\n",
            "WORK_ZONE_TYPE\n",
            " Missing value percent 99.56\n",
            " Unique values [nan 'CONSTRUCTION' 'UTILITY' 'UNKNOWN' 'MAINTENANCE']\n",
            "WORKERS_PRESENT_I\n",
            " Missing value percent 99.85\n",
            " Unique values [nan 'Y' 'N']\n"
          ]
        }
      ],
      "source": [
        "for col in relevant_data.columns:\n",
        "    if relevant_data[col].isna().sum()/relevant_data.shape[0]*100 > 50:\n",
        "        print(f'{col}\\n Missing value percent {relevant_data[col].isna().sum()/relevant_data.shape[0]*100:.2f}\\n Unique values {relevant_data[col].unique()}')"
      ]
    },
    {
      "cell_type": "markdown",
      "metadata": {
        "id": "2dxlPlaAkB7c"
      },
      "source": [
        "We can drop these columns as they contain a large amount of missing data and imputing them based on mean, mode or median will change their distributions"
      ]
    },
    {
      "cell_type": "code",
      "execution_count": 156,
      "metadata": {
        "colab": {
          "base_uri": "https://localhost:8080/",
          "height": 446
        },
        "id": "1qQzpJYbkB7d",
        "outputId": "453a9b97-4427-4c20-bc6b-0b2a445e0480"
      },
      "outputs": [
        {
          "name": "stdout",
          "output_type": "stream",
          "text": [
            "POSTED_SPEED_LIMIT                    0\n",
            "TRAFFIC_CONTROL_DEVICE                0\n",
            "DEVICE_CONDITION                      0\n",
            "WEATHER_CONDITION                     0\n",
            "LIGHTING_CONDITION                    0\n",
            "FIRST_CRASH_TYPE                      0\n",
            "TRAFFICWAY_TYPE                       0\n",
            "ALIGNMENT                             0\n",
            "ROADWAY_SURFACE_COND                  0\n",
            "ROAD_DEFECT                           0\n",
            "CRASH_TYPE                            0\n",
            "DAMAGE                                0\n",
            "STREET_NAME                           1\n",
            "NUM_UNITS                             0\n",
            "MOST_SEVERE_INJURY                 1959\n",
            "INJURIES_TOTAL                     1945\n",
            "INJURIES_FATAL                     1945\n",
            "INJURIES_INCAPACITATING            1945\n",
            "INJURIES_NON_INCAPACITATING        1945\n",
            "CRASH_HOUR                            0\n",
            "CRASH_DAY_OF_WEEK                     0\n",
            "CRASH_MONTH                           0\n",
            "PRIM_CONTRIBUTORY_CAUSE_GROUPED       0\n",
            "dtype: int64\n"
          ]
        }
      ],
      "source": [
        "columns_to_drop = [col for col in relevant_data.columns if relevant_data[col].isna().sum()/relevant_data.shape[0]*100 > 50]\n",
        "relevant_data = relevant_data.drop(columns = columns_to_drop, axis=1)\n",
        "\n",
        "print(relevant_data.isna().sum())\n"
      ]
    },
    {
      "cell_type": "markdown",
      "metadata": {
        "id": "pvHcZUnQkB7e"
      },
      "source": [
        "We can drop the remaining columns with missing values as their number is small and unlikely to affect the overall data distribution materially"
      ]
    },
    {
      "cell_type": "code",
      "execution_count": 157,
      "metadata": {
        "colab": {
          "base_uri": "https://localhost:8080/"
        },
        "id": "zvYCi544kB7f",
        "outputId": "379f3a49-e3ea-4772-8ea6-5d1f1d8b3e62"
      },
      "outputs": [
        {
          "name": "stdout",
          "output_type": "stream",
          "text": [
            "We now have 0 rows with missing values\n",
            "Our data now has 879356 rows and 23 columns\n"
          ]
        }
      ],
      "source": [
        "relevant_data = relevant_data.dropna()\n",
        "print('We now have {} rows with missing values'.format(relevant_data.isna().sum().sum()))\n",
        "print('Our data now has {} rows and {} columns'.format(relevant_data.shape[0], relevant_data.shape[1]))"
      ]
    },
    {
      "cell_type": "markdown",
      "metadata": {
        "id": "sViiMI19kB7f"
      },
      "source": [
        "### **h) Variable Types**"
      ]
    },
    {
      "cell_type": "code",
      "execution_count": 158,
      "metadata": {
        "colab": {
          "base_uri": "https://localhost:8080/"
        },
        "id": "ayWiw3UckB7g",
        "outputId": "61b10294-9348-4795-d574-90931c093967"
      },
      "outputs": [
        {
          "name": "stdout",
          "output_type": "stream",
          "text": [
            "We have 14 categorical columns and 9 continuous columns\n"
          ]
        }
      ],
      "source": [
        "# Separate categorical columns\n",
        "categorical_columns = relevant_data.select_dtypes(include=['object']).columns.tolist()\n",
        "\n",
        "# Separate continuous (numerical) columns\n",
        "continuous_columns = relevant_data.select_dtypes(include=['float64', 'int64']).columns.tolist()\n",
        "\n",
        "# Display the separated columns\n",
        "print(f\"We have {len(categorical_columns)} categorical columns and {len(continuous_columns)} continuous columns\")"
      ]
    },
    {
      "cell_type": "markdown",
      "metadata": {
        "id": "aPYWQWMXkB7h"
      },
      "source": [
        "# **3. EDA & Data Preparation**"
      ]
    },
    {
      "cell_type": "markdown",
      "metadata": {
        "id": "O8shRD3kkB7h"
      },
      "source": [
        "### **a) Basic Descriptive Statistics**"
      ]
    },
    {
      "cell_type": "markdown",
      "metadata": {
        "id": "eMBW8tkKkB7i"
      },
      "source": [
        "- **Continuous Columns:** We will get an overview of the distribution, central tendency, and spread"
      ]
    },
    {
      "cell_type": "code",
      "execution_count": 159,
      "metadata": {
        "colab": {
          "base_uri": "https://localhost:8080/",
          "height": 300
        },
        "id": "RTAH4PDWkB7i",
        "outputId": "c85b7b32-664c-4aae-bf16-363739e5f4ae"
      },
      "outputs": [
        {
          "data": {
            "text/html": [
              "<div>\n",
              "<style scoped>\n",
              "    .dataframe tbody tr th:only-of-type {\n",
              "        vertical-align: middle;\n",
              "    }\n",
              "\n",
              "    .dataframe tbody tr th {\n",
              "        vertical-align: top;\n",
              "    }\n",
              "\n",
              "    .dataframe thead th {\n",
              "        text-align: right;\n",
              "    }\n",
              "</style>\n",
              "<table border=\"1\" class=\"dataframe\">\n",
              "  <thead>\n",
              "    <tr style=\"text-align: right;\">\n",
              "      <th></th>\n",
              "      <th>POSTED_SPEED_LIMIT</th>\n",
              "      <th>NUM_UNITS</th>\n",
              "      <th>INJURIES_TOTAL</th>\n",
              "      <th>INJURIES_FATAL</th>\n",
              "      <th>INJURIES_INCAPACITATING</th>\n",
              "      <th>INJURIES_NON_INCAPACITATING</th>\n",
              "      <th>CRASH_HOUR</th>\n",
              "      <th>CRASH_DAY_OF_WEEK</th>\n",
              "      <th>CRASH_MONTH</th>\n",
              "    </tr>\n",
              "  </thead>\n",
              "  <tbody>\n",
              "    <tr>\n",
              "      <th>count</th>\n",
              "      <td>879356.000000</td>\n",
              "      <td>879356.000000</td>\n",
              "      <td>879356.000000</td>\n",
              "      <td>879356.000000</td>\n",
              "      <td>879356.000000</td>\n",
              "      <td>879356.000000</td>\n",
              "      <td>879356.000000</td>\n",
              "      <td>879356.000000</td>\n",
              "      <td>879356.000000</td>\n",
              "    </tr>\n",
              "    <tr>\n",
              "      <th>mean</th>\n",
              "      <td>28.423983</td>\n",
              "      <td>2.035989</td>\n",
              "      <td>0.193645</td>\n",
              "      <td>0.001188</td>\n",
              "      <td>0.019820</td>\n",
              "      <td>0.108672</td>\n",
              "      <td>13.208652</td>\n",
              "      <td>4.120734</td>\n",
              "      <td>6.645852</td>\n",
              "    </tr>\n",
              "    <tr>\n",
              "      <th>std</th>\n",
              "      <td>6.114623</td>\n",
              "      <td>0.450910</td>\n",
              "      <td>0.571626</td>\n",
              "      <td>0.037366</td>\n",
              "      <td>0.164921</td>\n",
              "      <td>0.425145</td>\n",
              "      <td>5.567887</td>\n",
              "      <td>1.981332</td>\n",
              "      <td>3.363492</td>\n",
              "    </tr>\n",
              "    <tr>\n",
              "      <th>min</th>\n",
              "      <td>0.000000</td>\n",
              "      <td>1.000000</td>\n",
              "      <td>0.000000</td>\n",
              "      <td>0.000000</td>\n",
              "      <td>0.000000</td>\n",
              "      <td>0.000000</td>\n",
              "      <td>0.000000</td>\n",
              "      <td>1.000000</td>\n",
              "      <td>1.000000</td>\n",
              "    </tr>\n",
              "    <tr>\n",
              "      <th>25%</th>\n",
              "      <td>30.000000</td>\n",
              "      <td>2.000000</td>\n",
              "      <td>0.000000</td>\n",
              "      <td>0.000000</td>\n",
              "      <td>0.000000</td>\n",
              "      <td>0.000000</td>\n",
              "      <td>9.000000</td>\n",
              "      <td>2.000000</td>\n",
              "      <td>4.000000</td>\n",
              "    </tr>\n",
              "    <tr>\n",
              "      <th>50%</th>\n",
              "      <td>30.000000</td>\n",
              "      <td>2.000000</td>\n",
              "      <td>0.000000</td>\n",
              "      <td>0.000000</td>\n",
              "      <td>0.000000</td>\n",
              "      <td>0.000000</td>\n",
              "      <td>14.000000</td>\n",
              "      <td>4.000000</td>\n",
              "      <td>7.000000</td>\n",
              "    </tr>\n",
              "    <tr>\n",
              "      <th>75%</th>\n",
              "      <td>30.000000</td>\n",
              "      <td>2.000000</td>\n",
              "      <td>0.000000</td>\n",
              "      <td>0.000000</td>\n",
              "      <td>0.000000</td>\n",
              "      <td>0.000000</td>\n",
              "      <td>17.000000</td>\n",
              "      <td>6.000000</td>\n",
              "      <td>9.000000</td>\n",
              "    </tr>\n",
              "    <tr>\n",
              "      <th>max</th>\n",
              "      <td>99.000000</td>\n",
              "      <td>18.000000</td>\n",
              "      <td>21.000000</td>\n",
              "      <td>4.000000</td>\n",
              "      <td>10.000000</td>\n",
              "      <td>21.000000</td>\n",
              "      <td>23.000000</td>\n",
              "      <td>7.000000</td>\n",
              "      <td>12.000000</td>\n",
              "    </tr>\n",
              "  </tbody>\n",
              "</table>\n",
              "</div>"
            ],
            "text/plain": [
              "       POSTED_SPEED_LIMIT      NUM_UNITS  INJURIES_TOTAL  INJURIES_FATAL  \\\n",
              "count       879356.000000  879356.000000   879356.000000   879356.000000   \n",
              "mean            28.423983       2.035989        0.193645        0.001188   \n",
              "std              6.114623       0.450910        0.571626        0.037366   \n",
              "min              0.000000       1.000000        0.000000        0.000000   \n",
              "25%             30.000000       2.000000        0.000000        0.000000   \n",
              "50%             30.000000       2.000000        0.000000        0.000000   \n",
              "75%             30.000000       2.000000        0.000000        0.000000   \n",
              "max             99.000000      18.000000       21.000000        4.000000   \n",
              "\n",
              "       INJURIES_INCAPACITATING  INJURIES_NON_INCAPACITATING     CRASH_HOUR  \\\n",
              "count            879356.000000                879356.000000  879356.000000   \n",
              "mean                  0.019820                     0.108672      13.208652   \n",
              "std                   0.164921                     0.425145       5.567887   \n",
              "min                   0.000000                     0.000000       0.000000   \n",
              "25%                   0.000000                     0.000000       9.000000   \n",
              "50%                   0.000000                     0.000000      14.000000   \n",
              "75%                   0.000000                     0.000000      17.000000   \n",
              "max                  10.000000                    21.000000      23.000000   \n",
              "\n",
              "       CRASH_DAY_OF_WEEK    CRASH_MONTH  \n",
              "count      879356.000000  879356.000000  \n",
              "mean            4.120734       6.645852  \n",
              "std             1.981332       3.363492  \n",
              "min             1.000000       1.000000  \n",
              "25%             2.000000       4.000000  \n",
              "50%             4.000000       7.000000  \n",
              "75%             6.000000       9.000000  \n",
              "max             7.000000      12.000000  "
            ]
          },
          "execution_count": 159,
          "metadata": {},
          "output_type": "execute_result"
        }
      ],
      "source": [
        "relevant_data[continuous_columns].describe()"
      ]
    },
    {
      "cell_type": "markdown",
      "metadata": {
        "id": "_5BO8WRKkB7j"
      },
      "source": [
        "Our continuous data seems to have different scales across different features. Hence we may need to scale it"
      ]
    },
    {
      "cell_type": "markdown",
      "metadata": {
        "id": "nh_qdVVvkB7k"
      },
      "source": [
        "- **Categorical Columns:** We will get an overview of the distribution in each categorical column"
      ]
    },
    {
      "cell_type": "code",
      "execution_count": 161,
      "metadata": {
        "colab": {
          "base_uri": "https://localhost:8080/",
          "height": 230
        },
        "id": "42hD56OzkB7l",
        "outputId": "c7deb064-4c1b-4cf2-d2fb-8e739f68533c"
      },
      "outputs": [
        {
          "data": {
            "text/html": [
              "<div>\n",
              "<style scoped>\n",
              "    .dataframe tbody tr th:only-of-type {\n",
              "        vertical-align: middle;\n",
              "    }\n",
              "\n",
              "    .dataframe tbody tr th {\n",
              "        vertical-align: top;\n",
              "    }\n",
              "\n",
              "    .dataframe thead th {\n",
              "        text-align: right;\n",
              "    }\n",
              "</style>\n",
              "<table border=\"1\" class=\"dataframe\">\n",
              "  <thead>\n",
              "    <tr style=\"text-align: right;\">\n",
              "      <th></th>\n",
              "      <th>TRAFFIC_CONTROL_DEVICE</th>\n",
              "      <th>DEVICE_CONDITION</th>\n",
              "      <th>WEATHER_CONDITION</th>\n",
              "      <th>LIGHTING_CONDITION</th>\n",
              "      <th>FIRST_CRASH_TYPE</th>\n",
              "      <th>TRAFFICWAY_TYPE</th>\n",
              "      <th>ALIGNMENT</th>\n",
              "      <th>ROADWAY_SURFACE_COND</th>\n",
              "      <th>ROAD_DEFECT</th>\n",
              "      <th>CRASH_TYPE</th>\n",
              "      <th>DAMAGE</th>\n",
              "      <th>STREET_NAME</th>\n",
              "      <th>MOST_SEVERE_INJURY</th>\n",
              "      <th>PRIM_CONTRIBUTORY_CAUSE_GROUPED</th>\n",
              "    </tr>\n",
              "  </thead>\n",
              "  <tbody>\n",
              "    <tr>\n",
              "      <th>count</th>\n",
              "      <td>879356</td>\n",
              "      <td>879356</td>\n",
              "      <td>879356</td>\n",
              "      <td>879356</td>\n",
              "      <td>879356</td>\n",
              "      <td>879356</td>\n",
              "      <td>879356</td>\n",
              "      <td>879356</td>\n",
              "      <td>879356</td>\n",
              "      <td>879356</td>\n",
              "      <td>879356</td>\n",
              "      <td>879356</td>\n",
              "      <td>879356</td>\n",
              "      <td>879356</td>\n",
              "    </tr>\n",
              "    <tr>\n",
              "      <th>unique</th>\n",
              "      <td>19</td>\n",
              "      <td>8</td>\n",
              "      <td>12</td>\n",
              "      <td>6</td>\n",
              "      <td>18</td>\n",
              "      <td>20</td>\n",
              "      <td>6</td>\n",
              "      <td>7</td>\n",
              "      <td>7</td>\n",
              "      <td>2</td>\n",
              "      <td>3</td>\n",
              "      <td>1645</td>\n",
              "      <td>5</td>\n",
              "      <td>6</td>\n",
              "    </tr>\n",
              "    <tr>\n",
              "      <th>top</th>\n",
              "      <td>NO CONTROLS</td>\n",
              "      <td>NO CONTROLS</td>\n",
              "      <td>CLEAR</td>\n",
              "      <td>DAYLIGHT</td>\n",
              "      <td>PARKED MOTOR VEHICLE</td>\n",
              "      <td>NOT DIVIDED</td>\n",
              "      <td>STRAIGHT AND LEVEL</td>\n",
              "      <td>DRY</td>\n",
              "      <td>NO DEFECTS</td>\n",
              "      <td>NO INJURY / DRIVE AWAY</td>\n",
              "      <td>OVER $1,500</td>\n",
              "      <td>WESTERN AVE</td>\n",
              "      <td>NO INDICATION OF INJURY</td>\n",
              "      <td>Other</td>\n",
              "    </tr>\n",
              "    <tr>\n",
              "      <th>freq</th>\n",
              "      <td>497956</td>\n",
              "      <td>503888</td>\n",
              "      <td>692413</td>\n",
              "      <td>566484</td>\n",
              "      <td>203418</td>\n",
              "      <td>379550</td>\n",
              "      <td>858549</td>\n",
              "      <td>651303</td>\n",
              "      <td>702166</td>\n",
              "      <td>643328</td>\n",
              "      <td>551652</td>\n",
              "      <td>24032</td>\n",
              "      <td>755902</td>\n",
              "      <td>523251</td>\n",
              "    </tr>\n",
              "  </tbody>\n",
              "</table>\n",
              "</div>"
            ],
            "text/plain": [
              "       TRAFFIC_CONTROL_DEVICE DEVICE_CONDITION WEATHER_CONDITION  \\\n",
              "count                  879356           879356            879356   \n",
              "unique                     19                8                12   \n",
              "top               NO CONTROLS      NO CONTROLS             CLEAR   \n",
              "freq                   497956           503888            692413   \n",
              "\n",
              "       LIGHTING_CONDITION      FIRST_CRASH_TYPE TRAFFICWAY_TYPE  \\\n",
              "count              879356                879356          879356   \n",
              "unique                  6                    18              20   \n",
              "top              DAYLIGHT  PARKED MOTOR VEHICLE     NOT DIVIDED   \n",
              "freq               566484                203418          379550   \n",
              "\n",
              "                 ALIGNMENT ROADWAY_SURFACE_COND ROAD_DEFECT  \\\n",
              "count               879356               879356      879356   \n",
              "unique                   6                    7           7   \n",
              "top     STRAIGHT AND LEVEL                  DRY  NO DEFECTS   \n",
              "freq                858549               651303      702166   \n",
              "\n",
              "                    CRASH_TYPE       DAMAGE  STREET_NAME  \\\n",
              "count                   879356       879356       879356   \n",
              "unique                       2            3         1645   \n",
              "top     NO INJURY / DRIVE AWAY  OVER $1,500  WESTERN AVE   \n",
              "freq                    643328       551652        24032   \n",
              "\n",
              "             MOST_SEVERE_INJURY PRIM_CONTRIBUTORY_CAUSE_GROUPED  \n",
              "count                    879356                          879356  \n",
              "unique                        5                               6  \n",
              "top     NO INDICATION OF INJURY                           Other  \n",
              "freq                     755902                          523251  "
            ]
          },
          "execution_count": 161,
          "metadata": {},
          "output_type": "execute_result"
        }
      ],
      "source": [
        "relevant_data[categorical_columns].describe()"
      ]
    },
    {
      "cell_type": "markdown",
      "metadata": {
        "id": "UzRr9zNGkB7l"
      },
      "source": [
        "Some of our categorical features have a lot of categories. Hence we may need to use **target encoding** to deal with high cardinality.\n",
        "\n",
        "Target encoding replaces each category with the mean of the target variable for that category. This reduces the dimensionality by not increasing the number of features, which can help in preventing overfitting. Example: If a category is frequently associated with fatalities, the encoding will reflect that association. Target encoding should not alter the shape of our data."
      ]
    },
    {
      "cell_type": "markdown",
      "metadata": {
        "id": "2jUaB39-kB7l"
      },
      "source": [
        "### **c) Visualizations**"
      ]
    },
    {
      "cell_type": "markdown",
      "metadata": {
        "id": "LVUKuWKdkB7m"
      },
      "source": [
        "We will use visualizations to help display the relationships and patterns in our data intuitively.\n",
        "\n",
        "- **Distribution of continuous features:**\n",
        "\n",
        "**1) Histograms**"
      ]
    },
    {
      "cell_type": "code",
      "execution_count": 162,
      "metadata": {
        "colab": {
          "base_uri": "https://localhost:8080/",
          "height": 852
        },
        "id": "Ryp7YszYkB7m",
        "outputId": "7d29675c-d758-49db-c431-1ee8bd5f2fd9"
      },
      "outputs": [
        {
          "data": {
            "image/png": "[encoded data removed]",
            "text/plain": [
              "<Figure size 720x720 with 9 Axes>"
            ]
          },
          "metadata": {
            "needs_background": "light"
          },
          "output_type": "display_data"
        }
      ],
      "source": [
        "import matplotlib.pyplot as plt\n",
        "relevant_data[continuous_columns].hist(figsize=(10, 10), bins=10) #plot histograms\n",
        "plt.show()\n"
      ]
    },
    {
      "cell_type": "markdown",
      "metadata": {
        "id": "y6nUiSr-kB7n"
      },
      "source": [
        "Although we currently classify 'CRASH_HOUR', 'CRASH_DAY_OF_WEEK', 'CRASH_MONTH', as continuous features, their distributions imply that they represent discrete time periods rather than a continuous range. Each hour, day, and month is a distinct category which may have unique traffic patterns. We will convert these features to categorical"
      ]
    },
    {
      "cell_type": "code",
      "execution_count": 163,
      "metadata": {
        "colab": {
          "base_uri": "https://localhost:8080/"
        },
        "id": "OyLJcBBPkB7n",
        "outputId": "9f9c1bd1-7a77-43df-90bd-482953034da1"
      },
      "outputs": [
        {
          "name": "stdout",
          "output_type": "stream",
          "text": [
            "Time columns already removed\n",
            "We now have 17 categorical columns and 6 continuous columns\n"
          ]
        }
      ],
      "source": [
        "time_col = ['CRASH_HOUR', 'CRASH_DAY_OF_WEEK', 'CRASH_MONTH']\n",
        "\n",
        "\n",
        "for col in time_col:\n",
        "  if col in relevant_data[continuous_columns]:\n",
        "    categorical_columns.append(col)\n",
        "    continuous_columns.remove(col)\n",
        "    relevant_data[col] = relevant_data[col].astype('object')\n",
        "  else:\n",
        "    continue\n",
        "print('Time columns already removed')\n",
        "\n",
        "\n",
        "print(f\"We now have {len(categorical_columns)} categorical columns and {len(continuous_columns)} continuous columns\")"
      ]
    },
    {
      "cell_type": "markdown",
      "metadata": {
        "id": "-KvW5iYgkB7o"
      },
      "source": [
        "We can also visualize our continuous columns using boxplots to check for outliers\n",
        "\n",
        "**2) Boxplots**"
      ]
    },
    {
      "cell_type": "code",
      "execution_count": 164,
      "metadata": {
        "colab": {
          "base_uri": "https://localhost:8080/",
          "height": 1000
        },
        "id": "jL8FsKgokB7o",
        "outputId": "8401a730-c1bd-42c1-925a-625a33e8b3e5"
      },
      "outputs": [
        {
          "data": {
            "image/png": "[encoded data removed]",
            "text/plain": [
              "<Figure size 1080x720 with 6 Axes>"
            ]
          },
          "metadata": {
            "needs_background": "light"
          },
          "output_type": "display_data"
        }
      ],
      "source": [
        "# Create a grid of subplots with 2 rows and 3 columns\n",
        "n_cols = 3\n",
        "n_rows = (len(continuous_columns) + n_cols - 1) // n_cols  # This ensures enough rows\n",
        "\n",
        "fig, axes = plt.subplots(n_rows, n_cols, figsize=(15, 10))  # create subplots\n",
        "\n",
        "# Iterate over the continuous columns and plot each one in a separate subplot\n",
        "for i, col in enumerate(continuous_columns):\n",
        "    # Get the appropriate subplot\n",
        "    ax = axes[i // n_cols, i % n_cols]\n",
        "\n",
        "    sns.boxplot(y=relevant_data[col], ax=ax)\n",
        "\n",
        "    # Set the title of the subplot\n",
        "    ax.set_title(col)\n",
        "\n",
        "    # Set labels for y-axis\n",
        "    ax.set_ylabel(\"Values\")\n",
        "\n",
        "# Hide any empty subplots\n",
        "for i in range(len(continuous_columns), n_rows * n_cols):\n",
        "    ax = axes[i // n_cols, i % n_cols]\n",
        "    ax.axis('off')\n",
        "\n",
        "# Adjust the layout to prevent overlapping\n",
        "plt.tight_layout()\n",
        "\n",
        "# Show the plot\n",
        "plt.show()"
      ]
    },
    {
      "cell_type": "markdown",
      "metadata": {
        "id": "Z3qHI9D_kB7o"
      },
      "source": [
        "Looking at the boxplots, our continuous columns appear concentrated in certain values likely due to the nature of the crash data. It seems like there might be a lot of zero values which might give the appearance of categories but the features are actually continuous.\n",
        "\n",
        "- **POSTED_SPEED_LIMIT:** This is continuous, but there might be common values (e.g., 30, 40 mph) that make it appear categorical.\n",
        "- **NUM_UNITS:** The number of units (vehicles, people) involved in a crash. This is likely continuous (discrete, but not categorical).\n",
        "- **INJURIES_TOTAL, INJURIES_FATAL, INJURIES_INCAPACITATING, INJURIES_NON_INCAPACITATING:** These are continuous as they count the number of injuries, though they might have many zeroes.\n",
        "\n",
        "Further, our data does not seem to have any outliers."
      ]
    },
    {
      "cell_type": "markdown",
      "metadata": {
        "id": "ZsPt-OYpkB7p"
      },
      "source": [
        "**3) Bar Plots**"
      ]
    },
    {
      "cell_type": "code",
      "execution_count": 165,
      "metadata": {
        "colab": {
          "base_uri": "https://localhost:8080/",
          "height": 875
        },
        "id": "buT1DAJhkB7q",
        "outputId": "b83dc18a-ef8f-4bda-e462-b51a45b523f5"
      },
      "outputs": [
        {
          "data": {
            "image/png": "[encoded data removed]",
            "text/plain": [
              "<Figure size 1800x864 with 8 Axes>"
            ]
          },
          "metadata": {
            "needs_background": "light"
          },
          "output_type": "display_data"
        }
      ],
      "source": [
        "#we will remove STREET_NAME as it is hard to represent in the plot\n",
        "if 'STREET_NAME' in categorical_columns:\n",
        "  categorical_columns.remove('STREET_NAME')\n",
        "else:\n",
        "  print('STREET_NAME column already removed')\n",
        "\n",
        "# Determine number of rows and columns for the subplots based on the number of categorical columns\n",
        "n_cols = 4\n",
        "n_rows = (len(categorical_columns[:8]) + n_cols - 1) // n_cols  # This ensures enough rows\n",
        "\n",
        "fig, axes = plt.subplots(n_rows, n_cols,figsize=(25, 12)) #create subplots\n",
        "\n",
        "axes = axes.flatten() #flatten axes\n",
        "\n",
        "#plot each categorical column in a subplot\n",
        "for i, col in enumerate(categorical_columns[:8]):\n",
        "    relevant_data[col].value_counts().plot(kind = 'bar', ax=axes[i], color = 'skyblue')\n",
        "    axes[i].set_title(f'Distribution of {col}')\n",
        "    axes[i].set_xlabel(col)\n",
        "    axes[i].set_ylabel('Count')\n",
        "\n",
        "#remove empty subplots\n",
        "for j in range(i+1, len(axes)):\n",
        "    fig.delaxes(axes[j])\n",
        "\n",
        "plt.tight_layout() #prevent overlapping\n",
        "plt.show()"
      ]
    },
    {
      "cell_type": "code",
      "execution_count": 166,
      "metadata": {},
      "outputs": [
        {
          "name": "stdout",
          "output_type": "stream",
          "text": [
            "TRAFFIC_CONTROL_DEVICE 19\n",
            "DEVICE_CONDITION 8\n",
            "WEATHER_CONDITION 12\n",
            "LIGHTING_CONDITION 6\n",
            "FIRST_CRASH_TYPE 18\n",
            "TRAFFICWAY_TYPE 20\n",
            "ALIGNMENT 6\n",
            "ROADWAY_SURFACE_COND 7\n",
            "ROAD_DEFECT 7\n",
            "CRASH_TYPE 2\n",
            "DAMAGE 3\n",
            "MOST_SEVERE_INJURY 5\n",
            "PRIM_CONTRIBUTORY_CAUSE_GROUPED 6\n",
            "CRASH_HOUR 24\n",
            "CRASH_DAY_OF_WEEK 7\n",
            "CRASH_MONTH 12\n"
          ]
        }
      ],
      "source": [
        "for col in categorical_columns:\n",
        "    print(col, relevant_data[col].nunique())"
      ]
    },
    {
      "cell_type": "code",
      "execution_count": 167,
      "metadata": {
        "colab": {
          "base_uri": "https://localhost:8080/",
          "height": 901
        },
        "id": "c3n1SnWqkB7q",
        "outputId": "f9c782d1-94e7-42cd-fbc3-020382d55d4f"
      },
      "outputs": [
        {
          "name": "stdout",
          "output_type": "stream",
          "text": [
            "STREET_NAME column already removed\n"
          ]
        },
        {
          "data": {
            "image/png": "[encoded data removed]",
            "text/plain": [
              "<Figure size 1800x864 with 8 Axes>"
            ]
          },
          "metadata": {
            "needs_background": "light"
          },
          "output_type": "display_data"
        },
        {
          "name": "stdout",
          "output_type": "stream",
          "text": [
            "We now have 16 categorical columns and 6 continuous columns\n"
          ]
        }
      ],
      "source": [
        "#plot the rest of the categorical columns\n",
        "#we will remove STREET_NAME as it is hard to represent in the plot\n",
        "if 'STREET_NAME' in categorical_columns:\n",
        "  categorical_columns.remove('STREET_NAME')\n",
        "else:\n",
        "  print('STREET_NAME column already removed')\n",
        "\n",
        "# Determine number of rows and columns for the subplots based on the number of categorical columns\n",
        "n_cols = 4\n",
        "n_rows = (len(categorical_columns[8:]) + n_cols - 1) // n_cols  # This ensures enough rows\n",
        "\n",
        "fig, axes = plt.subplots(n_rows, n_cols,figsize=(25, 12)) #create subplots\n",
        "\n",
        "axes = axes.flatten() #flatten axes\n",
        "\n",
        "#plot each categorical column in a subplot\n",
        "for i, col in enumerate(categorical_columns[8:]):\n",
        "    relevant_data[col].value_counts().plot(kind = 'bar', ax=axes[i], color = 'skyblue')\n",
        "    axes[i].set_title(f'Distribution of {col}')\n",
        "    axes[i].set_xlabel(col)\n",
        "    axes[i].set_ylabel('Count')\n",
        "\n",
        "#remove empty subplots\n",
        "for j in range(i+1, len(axes)):\n",
        "    fig.delaxes(axes[j])\n",
        "\n",
        "plt.tight_layout() #prevent overlapping\n",
        "plt.show()\n",
        "print(f\"We now have {len(categorical_columns)} categorical columns and {len(continuous_columns)} continuous columns\")"
      ]
    },
    {
      "cell_type": "markdown",
      "metadata": {},
      "source": [
        "**Specific Observations for Data Understanding and Preparation:**\n",
        "\n",
        "**Target Variable (`PRIM_CONTRIBUTORY_CAUSE_GROUPED`)**\n",
        "- **Highly imbalanced**\n",
        "- **High cardinality** (6 categories)\n",
        "- **Approach**: Consider label encoding.\n",
        "\n",
        "**High Cardinality Features**\n",
        "- `TRAFFIC_CONTROL_DEVICE`, `FIRST_CRASH_TYPE`, `TRAFFICWAY_TYPE`,`STREET_NAME`\n",
        "- **Approach**: Apply target\\frequency encoding technique.\n",
        "\n",
        "**Severely Imbalanced Features**\n",
        "- `WEATHER_CONDITION`, `LIGHTING_CONDITION`, `ROAD_DEFECT`, `DAMAGE`, `MOST_SEVERE_INJURY`\n",
        "- **Approach**: Group rare categories or use resampling techniques.\n",
        "\n",
        "**Temporal Features**\n",
        "- `CRASH_HOUR`, `CRASH_DAY_OF_WEEK`, `CRASH_MONTH`\n",
        "- **Approach**: Create bins.\n",
        "\n",
        "**Related Variables**\n",
        "- `DEVICE_CONDITION` and `TRAFFIC_CONTROL_DEVICE`\n",
        "- `WEATHER_CONDITION` and `ROADWAY_SURFACE_COND`\n",
        "- **Approach**: Create interaction features or combined categories.\n",
        "\n",
        "\n",
        "\n",
        "**Modeling Guidelines**\n",
        "\n",
        "**Handling Imbalance**\n",
        "- Use **SMOTE**, **class weighting**, or **ensemble methods**.\n",
        "\n",
        "**Feature Engineering**\n",
        "- Create **interaction terms**.\n",
        "- Bin **continuous variables**.\n",
        "- Encode **cyclical features**.\n",
        "\n",
        "**Model Selection**\n",
        "- **Tree-based models**: Random Forest, Gradient Boosting.\n",
        "- **Neural networks** with entity embeddings.\n",
        "\n",
        "**Evaluation Metrics**\n",
        "- **F1-score**, **precision**, **recall**, **Accuracy**.\n",
        "\n",
        "**Cross-validation**\n",
        "- Use **stratified k-fold cross-validation**.\n",
        "\n",
        "**Interpretability**\n",
        "- Use **SHAP values** or **LIME** for model explanations.\n"
      ]
    },
    {
      "cell_type": "markdown",
      "metadata": {
        "id": "6Vw2wocJkB7s"
      },
      "source": [
        "### **d) Correlation Analysis**"
      ]
    },
    {
      "cell_type": "code",
      "execution_count": 68,
      "metadata": {
        "colab": {
          "base_uri": "https://localhost:8080/",
          "height": 1000
        },
        "id": "DOadKRcZkB7t",
        "outputId": "90190324-61da-414a-cd48-5fbfa82a42ee"
      },
      "outputs": [
        {
          "data": {
            "image/png": "[encoded data removed]",
            "text/plain": [
              "<Figure size 1440x1080 with 2 Axes>"
            ]
          },
          "metadata": {
            "needs_background": "light"
          },
          "output_type": "display_data"
        }
      ],
      "source": [
        "plt.subplots(figsize=(20,15))\n",
        "sns.heatmap(relevant_data[continuous_columns].corr(),cmap=\"coolwarm\",annot=True);"
      ]
    },
    {
      "cell_type": "markdown",
      "metadata": {
        "id": "FAUAsKxdkB7t"
      },
      "source": [
        "Our correlation analysis only includes numerical features with only INJURIES_TOTAL and INJURY_NON_INCAPACITATING having high correlation (77%) which is to be expected."
      ]
    },
    {
      "cell_type": "markdown",
      "metadata": {
        "id": "qrqNuMebkB7u"
      },
      "source": [
        "### **e) Encoding, Interaction Terms and Binning**\n",
        "\n",
        "We will start by splitting our data into a training and test set before proceeding to avoid any data leakage\n",
        "\n",
        "### **Train Test Split**"
      ]
    },
    {
      "cell_type": "code",
      "execution_count": 241,
      "metadata": {
        "colab": {
          "base_uri": "https://localhost:8080/"
        },
        "id": "9j93F323kB7u",
        "outputId": "a1586051-4bfd-470e-f364-743c7f5d4771"
      },
      "outputs": [
        {
          "name": "stdout",
          "output_type": "stream",
          "text": [
            "X_train shape: (615549, 22)\n",
            "X_test shape: (263807, 22)\n",
            "y_train shape: (615549,)\n",
            "y_test shape: (263807,)\n"
          ]
        }
      ],
      "source": [
        "from sklearn.model_selection import train_test_split\n",
        "\n",
        "X=relevant_data.drop('PRIM_CONTRIBUTORY_CAUSE_GROUPED', axis=1)\n",
        "y=relevant_data['PRIM_CONTRIBUTORY_CAUSE_GROUPED']\n",
        "\n",
        "X_train, X_test, y_train, y_test = train_test_split(X, y, test_size=0.3, random_state=42)\n",
        "\n",
        "print('X_train shape:', X_train.shape)\n",
        "print('X_test shape:', X_test.shape)\n",
        "print('y_train shape:', y_train.shape)\n",
        "print('y_test shape:', y_test.shape)"
      ]
    },
    {
      "cell_type": "markdown",
      "metadata": {},
      "source": [
        "### **Binning POSTED_SPEED_LIMIT, CRASH_HOUR, INJURIES_TOTAL**\n",
        "\n",
        "Binning  involves converting continuous variables into categorical ones by grouping them into defined intervals or \"bins. Binning helps in improved model performance as it reduces noise, handles outliers, simplifies relationships, and increases interpretability."
      ]
    },
    {
      "cell_type": "code",
      "execution_count": 245,
      "metadata": {},
      "outputs": [],
      "source": [
        "# Define bins and labels for POSTED_SPEED_LIMIT\n",
        "speed_bins = [0, 20, 40, 60, float('inf')]\n",
        "speed_labels = ['Low Speed (0-20)', 'Moderate Speed (21-40)', 'High Speed (41-60)', 'Very High Speed (61+)']\n",
        "\n",
        "# Define bins and labels for CRASH_HOUR\n",
        "hour_bins = [0, 6, 12, 18, 24]\n",
        "hour_labels = ['Night (0-6)', 'Morning (6-12)', 'Afternoon (12-18)', 'Evening (18-24)']\n",
        "\n",
        "# Define bins and labels for INJURIES_TOTAL\n",
        "injury_bins = [0, 1, 4, 7, float('inf')]\n",
        "injury_labels = ['No Injuries', 'Few Injuries (1-3)', 'Moderate Injuries (4-6)', 'High Injuries (7+)']\n",
        "\n",
        "# Apply binning to the training set\n",
        "X_train['speed_limit_binned'] = pd.cut(X_train['POSTED_SPEED_LIMIT'], bins=speed_bins, labels=speed_labels, right=False)\n",
        "X_train['crash_hour_binned'] = pd.cut(X_train['CRASH_HOUR'], bins=hour_bins, labels=hour_labels, right=False)\n",
        "X_train['injuries_binned'] = pd.cut(X_train['INJURIES_TOTAL'], bins=injury_bins, labels=injury_labels, right=False)\n",
        "\n",
        "# Apply binning to the test set\n",
        "X_test['speed_limit_binned'] = pd.cut(X_test['POSTED_SPEED_LIMIT'], bins=speed_bins, labels=speed_labels, right=False)\n",
        "X_test['crash_hour_binned'] = pd.cut(X_test['CRASH_HOUR'], bins=hour_bins, labels=hour_labels, right=False)\n",
        "X_test['injuries_binned'] = pd.cut(X_test['INJURIES_TOTAL'], bins=injury_bins, labels=injury_labels, right=False)\n"
      ]
    },
    {
      "cell_type": "markdown",
      "metadata": {},
      "source": [
        "### **Interaction Terms FOR WEATHER_CONDITION and ROADWAY_SURFACE_COND**\n",
        "\n",
        "Interaction terms capture the combined effect of two or more features on the target variable, revealing relationships that might not be apparent when examining each feature individually. This will improve model performance by allowing the models to learn more complex patterns and dependencies in the data. This will help improve predictive accuracy and offers deeper insights into the underlying factors influencing the outcome.\n"
      ]
    },
    {
      "cell_type": "code",
      "execution_count": 247,
      "metadata": {},
      "outputs": [],
      "source": [
        "from sklearn.preprocessing import LabelEncoder\n",
        "\n",
        "# Initialize the LabelEncoder\n",
        "le_weather = LabelEncoder()\n",
        "le_roadway = LabelEncoder()\n",
        "\n",
        "# Fit and transform the training set\n",
        "X_train['WEATHER_CONDITION_encoded'] = le_weather.fit_transform(X_train['WEATHER_CONDITION'])\n",
        "X_train['ROADWAY_SURFACE_COND_encoded'] = le_roadway.fit_transform(X_train['ROADWAY_SURFACE_COND'])\n",
        "\n",
        "# For the test set, only transform\n",
        "X_test['WEATHER_CONDITION_encoded'] = le_weather.transform(X_test['WEATHER_CONDITION'])\n",
        "X_test['ROADWAY_SURFACE_COND_encoded'] = le_roadway.transform(X_test['ROADWAY_SURFACE_COND'])\n",
        "\n",
        "# Create interaction terms using the encoded columns\n",
        "X_train['weather_road_interaction'] = X_train['WEATHER_CONDITION_encoded'] * X_train['ROADWAY_SURFACE_COND_encoded']\n",
        "X_test['weather_road_interaction'] = X_test['WEATHER_CONDITION_encoded'] * X_test['ROADWAY_SURFACE_COND_encoded']\n"
      ]
    },
    {
      "cell_type": "markdown",
      "metadata": {},
      "source": [
        "### **Frequency Encoding for STREET_NAME**\n",
        "\n",
        "In a classification setting, the frequency of occurrences of each street name can be significant. Some streets may be more prone to accidents or certain types of accidents than others, and encoding these frequencies allows the model to learn from this information. Frequency encoding converts categorical street names into numerical values based on their occurrence counts, making them suitable for various classifiers.Unlike label encoding, which assigns arbitrary integers to categories, frequency encoding reflects the actual count of occurrences. This avoids the risk of introducing a false ordinal relationship among street names."
      ]
    },
    {
      "cell_type": "code",
      "execution_count": 251,
      "metadata": {},
      "outputs": [],
      "source": [
        "# Count occurrences of each street name in the training set\n",
        "street_counts_train = X_train['STREET_NAME'].value_counts()\n",
        "street_counts_test = X_test['STREET_NAME'].value_counts()\n",
        "\n",
        "# Map the counts back to the original DataFrame for the training set\n",
        "X_train['street_name_frequency'] = X_train['STREET_NAME'].map(street_counts_train)\n",
        "\n",
        "# Apply the same frequency mapping to the test set\n",
        "X_test['street_name_frequency'] = X_test['STREET_NAME'].map(street_counts_test)\n"
      ]
    },
    {
      "cell_type": "code",
      "execution_count": 253,
      "metadata": {},
      "outputs": [],
      "source": [
        "# Drop original features that have been processed\n",
        "columns_to_drop = [\n",
        "    'POSTED_SPEED_LIMIT',    # Dropped after binning\n",
        "    'CRASH_HOUR',            # Dropped after binning\n",
        "    'INJURIES_TOTAL',        # Dropped after binning\n",
        "    'STREET_NAME'            # Dropped after encoding\n",
        "]\n",
        "\n",
        "# For X_train and X_test, drop the original features\n",
        "X_train = X_train.drop(columns=columns_to_drop)\n",
        "X_test = X_test.drop(columns=columns_to_drop)\n"
      ]
    },
    {
      "cell_type": "markdown",
      "metadata": {},
      "source": [
        "Next we do encode the rest of our data. First we need to split this into high cardinality and low cardinality based on the number of features"
      ]
    },
    {
      "cell_type": "code",
      "execution_count": 254,
      "metadata": {},
      "outputs": [
        {
          "name": "stdout",
          "output_type": "stream",
          "text": [
            "Summary of Frequency Distribution in our Features\n",
            "\n",
            "High Cardinality Cols: ['TRAFFIC_CONTROL_DEVICE', 'DEVICE_CONDITION', 'WEATHER_CONDITION', 'FIRST_CRASH_TYPE', 'TRAFFICWAY_TYPE', 'CRASH_MONTH', 'WEATHER_CONDITION_encoded', 'weather_road_interaction']\n",
            "Low Cardinality Cols: ['LIGHTING_CONDITION', 'ALIGNMENT', 'ROADWAY_SURFACE_COND', 'ROAD_DEFECT', 'CRASH_TYPE', 'DAMAGE', 'MOST_SEVERE_INJURY', 'CRASH_DAY_OF_WEEK', 'speed_limit_binned', 'crash_hour_binned', 'injuries_binned', 'ROADWAY_SURFACE_COND_encoded']\n"
          ]
        }
      ],
      "source": [
        "print('Summary of Frequency Distribution in our Features\\n')\n",
        "\n",
        "# Adjusted condition to include both 'object' and 'category' types\n",
        "high_cardinality_cols = [\n",
        "    column for column in X_train.columns \n",
        "    if X_train[column].nunique() > 7 and \n",
        "    (X_train[column].dtype == 'object' or X_train[column].dtype == 'category' or X_train[column].dtype == 'int')\n",
        "]\n",
        "\n",
        "print('High Cardinality Cols:', high_cardinality_cols)\n",
        "\n",
        "low_cardinality_cols = [\n",
        "    column for column in X_train.columns \n",
        "    if X_train[column].nunique() <= 7 and \n",
        "    (X_train[column].dtype == 'object' or X_train[column].dtype == 'category' or X_train[column].dtype == 'int')\n",
        "]\n",
        "\n",
        "print('Low Cardinality Cols:', low_cardinality_cols)\n"
      ]
    },
    {
      "cell_type": "code",
      "execution_count": 255,
      "metadata": {
        "colab": {
          "base_uri": "https://localhost:8080/"
        },
        "id": "OdWHF_FVrF6q",
        "outputId": "7fc115fc-9fd7-424a-c9c8-85e229c95e30"
      },
      "outputs": [
        {
          "name": "stdout",
          "output_type": "stream",
          "text": [
            "TRAFFIC_CONTROL_DEVICE 19\n",
            "DEVICE_CONDITION 8\n",
            "WEATHER_CONDITION 12\n",
            "LIGHTING_CONDITION 6\n",
            "FIRST_CRASH_TYPE 18\n",
            "TRAFFICWAY_TYPE 20\n",
            "ALIGNMENT 6\n",
            "ROADWAY_SURFACE_COND 7\n",
            "ROAD_DEFECT 7\n",
            "CRASH_TYPE 2\n",
            "DAMAGE 3\n",
            "NUM_UNITS 16\n",
            "MOST_SEVERE_INJURY 5\n",
            "INJURIES_FATAL 4\n",
            "INJURIES_INCAPACITATING 9\n",
            "INJURIES_NON_INCAPACITATING 19\n",
            "CRASH_DAY_OF_WEEK 7\n",
            "CRASH_MONTH 12\n",
            "speed_limit_binned 4\n",
            "crash_hour_binned 4\n",
            "injuries_binned 4\n",
            "WEATHER_CONDITION_encoded 12\n",
            "ROADWAY_SURFACE_COND_encoded 7\n",
            "weather_road_interaction 38\n",
            "street_name_frequency 539\n"
          ]
        }
      ],
      "source": [
        "for col in X_train.columns:\n",
        "    print(col, X_train[col].nunique())"
      ]
    },
    {
      "cell_type": "markdown",
      "metadata": {
        "id": "VK2-KBOTkB7v"
      },
      "source": [
        "Feature Summary (Before Encoding)\n",
        "\n",
        "The following features are included in the dataset before applying target encoding and one-hot encoding:\n",
        "\n",
        "### High Frequency Features (Target Encoding)\n",
        "- **`TRAFFIC_CONTROL_DEVICE`**: 19 unique values\n",
        "- **`DEVICE_CONDITION`**: 8 unique values\n",
        "- **`WEATHER_CONDITION`**: 12 unique values\n",
        "- **`FIRST_CRASH_TYPE`**: 18 unique values\n",
        "- **`TRAFFICWAY_TYPE`**: 20 unique values\n",
        "- **`ALIGNMENT`**: 6 unique values\n",
        "- **`ROADWAY_SURFACE_COND`**: 7 unique values\n",
        "- **`ROAD_DEFECT`**: 7 unique values\n",
        "- **`NUM_UNITS`**: 16 unique values\n",
        "- **`MOST_SEVERE_INJURY`**: 5 unique values\n",
        "- **`INJURIES_FATAL`**: 4 unique values\n",
        "- **`INJURIES_INCAPACITATING`**: 9 unique values\n",
        "- **`INJURIES_NON_INCAPACITATING`**: 19 unique values\n",
        "- **`CRASH_DAY_OF_WEEK`**: 7 unique values\n",
        "- **`CRASH_MONTH`**: 12 unique values\n",
        "\n",
        "### Low Frequency Features (One-Hot Encoding)\n",
        "- **`LIGHTING_CONDITION`**: 6 unique values\n",
        "- **`CRASH_TYPE`**: 2 unique values\n",
        "- **`DAMAGE`**: 3 unique values\n",
        "\n",
        "### Binned Features\n",
        "- **`speed_limit_binned`**: 4 unique values\n",
        "- **`crash_hour_binned`**: 4 unique values\n",
        "- **`injuries_binned`**: 4 unique values\n",
        "\n",
        "### Label/Frequency Encoded Features\n",
        "- **`WEATHER_CONDITION_encoded`**: 12 unique values\n",
        "- **`ROADWAY_SURFACE_COND_encoded`**: 7 unique values\n",
        "- **`street_name_frequency`**: 539 unique values\n",
        "\n",
        "### Interaction Terms\n",
        "- **`weather_road_interaction`**: 38 unique values\n",
        "\n",
        "This feature set will undergo target encoding for high-frequency features and one-hot encoding for low-frequency features to prepare it for the modeling phase.\n"
      ]
    },
    {
      "cell_type": "markdown",
      "metadata": {
        "id": "XVYm7st8kB7v"
      },
      "source": [
        "### **Label Encoding**\n",
        "\n",
        "Our target 'PRIM_CONTRIBUTORY_CAUSE' has 40 unique values whuch have a natural order so we will use label encoding for this.\n",
        "Label encoding the target variable is crucial because many machine learning algorithms require numeric input. By converting the categorical target into numerical values, we enable algorithms  to interpret and process the target effectively. This step ensures the model can measure relationships between features and target classes accurately, improving the overall performance and interpretability of the model."
      ]
    },
    {
      "cell_type": "code",
      "execution_count": 258,
      "metadata": {
        "colab": {
          "base_uri": "https://localhost:8080/"
        },
        "id": "_Wk5PbdHkB7w",
        "outputId": "8d29cb67-c398-4727-a4ea-c32c8c80a04c"
      },
      "outputs": [
        {
          "data": {
            "text/plain": [
              "array([4, 1, 2, 3, 0, 5])"
            ]
          },
          "execution_count": 258,
          "metadata": {},
          "output_type": "execute_result"
        }
      ],
      "source": [
        "from sklearn.preprocessing import LabelEncoder\n",
        "\n",
        "# Initialize LabelEncoder for the target\n",
        "le = LabelEncoder()\n",
        "\n",
        "# Reset the index of y_train and y_test\n",
        "#y_train = y_train.reset_index(drop=True)\n",
        "#y_test = y_test.reset_index(drop=True)\n",
        "\n",
        "# Encode y_train and y_test\n",
        "y_train_encoded = le.fit_transform(y_train)\n",
        "y_test_encoded = le.transform(y_test)\n",
        "\n",
        "# Create new Pandas Series with the encoded values and the old indexes\n",
        "y_train = pd.Series(y_train_encoded, index=y_train.index)\n",
        "y_test = pd.Series(y_test_encoded, index=y_test.index)\n",
        "\n",
        "y_train.unique()"
      ]
    },
    {
      "cell_type": "code",
      "execution_count": 259,
      "metadata": {
        "colab": {
          "base_uri": "https://localhost:8080/",
          "height": 272
        },
        "id": "ijVP6TdQkB7w",
        "outputId": "1e65412d-01e0-42f3-b2f0-93b2bbe227e7"
      },
      "outputs": [
        {
          "data": {
            "text/plain": [
              "4    366218\n",
              "1    225047\n",
              "2     13614\n",
              "0      6448\n",
              "3      3770\n",
              "5       452\n",
              "dtype: int64"
            ]
          },
          "execution_count": 259,
          "metadata": {},
          "output_type": "execute_result"
        }
      ],
      "source": [
        "y_train.value_counts()"
      ]
    },
    {
      "cell_type": "markdown",
      "metadata": {
        "id": "3aC4hgc4kB7x"
      },
      "source": [
        "#### **Target Encoding**\n",
        "We will use target encoding to deal with our high cardinality features.\n",
        "\n",
        "Target encoding replaces each category with the mean of the target variable for that category. This reduces the dimensionality by not increasing the number of features, which can help in preventing overfitting. Example: If a category is frequently associated with an outcome related to the values in our target (e.g., No INDICATION OF INJURY), the encoding will reflect that association. Target encoding should not alter the shape of our data"
      ]
    },
    {
      "cell_type": "code",
      "execution_count": 41,
      "metadata": {
        "colab": {
          "base_uri": "https://localhost:8080/"
        },
        "id": "QNGIFIqelz7P",
        "outputId": "520395a3-1d0b-445a-8ba1-caa74ab56e84"
      },
      "outputs": [
        {
          "name": "stdout",
          "output_type": "stream",
          "text": [
            "Requirement already satisfied: category_encoders in /usr/local/lib/python3.10/dist-packages (2.6.4)\n",
            "Requirement already satisfied: numpy>=1.14.0 in /usr/local/lib/python3.10/dist-packages (from category_encoders) (1.26.4)\n",
            "Requirement already satisfied: scikit-learn>=0.20.0 in /usr/local/lib/python3.10/dist-packages (from category_encoders) (1.5.2)\n",
            "Requirement already satisfied: scipy>=1.0.0 in /usr/local/lib/python3.10/dist-packages (from category_encoders) (1.13.1)\n",
            "Requirement already satisfied: statsmodels>=0.9.0 in /usr/local/lib/python3.10/dist-packages (from category_encoders) (0.14.4)\n",
            "Requirement already satisfied: pandas>=1.0.5 in /usr/local/lib/python3.10/dist-packages (from category_encoders) (2.2.2)\n",
            "Requirement already satisfied: patsy>=0.5.1 in /usr/local/lib/python3.10/dist-packages (from category_encoders) (0.5.6)\n",
            "Requirement already satisfied: python-dateutil>=2.8.2 in /usr/local/lib/python3.10/dist-packages (from pandas>=1.0.5->category_encoders) (2.8.2)\n",
            "Requirement already satisfied: pytz>=2020.1 in /usr/local/lib/python3.10/dist-packages (from pandas>=1.0.5->category_encoders) (2024.2)\n",
            "Requirement already satisfied: tzdata>=2022.7 in /usr/local/lib/python3.10/dist-packages (from pandas>=1.0.5->category_encoders) (2024.2)\n",
            "Requirement already satisfied: six in /usr/local/lib/python3.10/dist-packages (from patsy>=0.5.1->category_encoders) (1.16.0)\n",
            "Requirement already satisfied: joblib>=1.2.0 in /usr/local/lib/python3.10/dist-packages (from scikit-learn>=0.20.0->category_encoders) (1.4.2)\n",
            "Requirement already satisfied: threadpoolctl>=3.1.0 in /usr/local/lib/python3.10/dist-packages (from scikit-learn>=0.20.0->category_encoders) (3.5.0)\n",
            "Requirement already satisfied: packaging>=21.3 in /usr/local/lib/python3.10/dist-packages (from statsmodels>=0.9.0->category_encoders) (24.1)\n"
          ]
        }
      ],
      "source": [
        "!pip install category_encoders"
      ]
    },
    {
      "cell_type": "code",
      "execution_count": 260,
      "metadata": {
        "id": "EQRqMRZVkB7x"
      },
      "outputs": [],
      "source": [
        "from category_encoders import TargetEncoder\n",
        "\n",
        "#encode the high cardinality features\n",
        "te = TargetEncoder(cols=high_cardinality_cols) #create encoder instance\n",
        "te.fit(X_train, y_train_encoded) #fit the encoder\n",
        "X_train_te = te.transform(X_train) #transfrom X_train\n",
        "X_test_te = te.transform(X_test)  #transfrom X_test\n",
        "\n",
        "#assign the transform values into a dataframe\n",
        "X_train_te_df = pd.DataFrame(X_train_te, columns=X_train[high_cardinality_cols].columns)\n",
        "X_test_te_df = pd.DataFrame(X_test_te, columns=X_test[high_cardinality_cols].columns)\n",
        "\n",
        "#drop the original low cardinality features from our train and test set\n",
        "X_train = X_train.drop(columns=high_cardinality_cols)\n",
        "X_test = X_test.drop(columns=high_cardinality_cols)\n",
        "\n",
        "# reset index of Train and Test\n",
        "X_train = X_train.reset_index(drop=True)\n",
        "X_test = X_test.reset_index(drop=True)\n",
        "\n",
        "#reset index of te df\n",
        "X_train_te_df = X_train_te_df.reset_index(drop=True)\n",
        "X_test_te_df = X_test_te_df.reset_index(drop=True)\n",
        "\n",
        "#update train and test feature set with the encoded values\n",
        "X_train = pd.concat([X_train, X_train_te_df], axis=1)\n",
        "X_test = pd.concat([X_test, X_test_te_df], axis=1)"
      ]
    },
    {
      "cell_type": "markdown",
      "metadata": {
        "id": "7XS-nZCGkB7y"
      },
      "source": [
        "Below we do some tests to check the integrity of our data after target encoding it\n",
        "\n"
      ]
    },
    {
      "cell_type": "code",
      "execution_count": 261,
      "metadata": {
        "colab": {
          "base_uri": "https://localhost:8080/"
        },
        "id": "TRo0bfaTkB7y",
        "outputId": "ef27b7ac-0cb5-45b4-f2c4-3dd3a4d087c9"
      },
      "outputs": [
        {
          "data": {
            "text/plain": [
              "(615549, 25)"
            ]
          },
          "execution_count": 261,
          "metadata": {},
          "output_type": "execute_result"
        }
      ],
      "source": [
        "X_train.shape"
      ]
    },
    {
      "cell_type": "code",
      "execution_count": 262,
      "metadata": {
        "colab": {
          "base_uri": "https://localhost:8080/",
          "height": 464
        },
        "id": "-eH7wwiPrF60",
        "outputId": "ed0b9e75-e536-44b4-ca73-f2fe4353b96f"
      },
      "outputs": [
        {
          "data": {
            "text/html": [
              "<div>\n",
              "<style scoped>\n",
              "    .dataframe tbody tr th:only-of-type {\n",
              "        vertical-align: middle;\n",
              "    }\n",
              "\n",
              "    .dataframe tbody tr th {\n",
              "        vertical-align: top;\n",
              "    }\n",
              "\n",
              "    .dataframe thead th {\n",
              "        text-align: right;\n",
              "    }\n",
              "</style>\n",
              "<table border=\"1\" class=\"dataframe\">\n",
              "  <thead>\n",
              "    <tr style=\"text-align: right;\">\n",
              "      <th></th>\n",
              "      <th>LIGHTING_CONDITION</th>\n",
              "      <th>ALIGNMENT</th>\n",
              "      <th>ROADWAY_SURFACE_COND</th>\n",
              "      <th>ROAD_DEFECT</th>\n",
              "      <th>CRASH_TYPE</th>\n",
              "      <th>DAMAGE</th>\n",
              "      <th>NUM_UNITS</th>\n",
              "      <th>MOST_SEVERE_INJURY</th>\n",
              "      <th>INJURIES_FATAL</th>\n",
              "      <th>INJURIES_INCAPACITATING</th>\n",
              "      <th>...</th>\n",
              "      <th>ROADWAY_SURFACE_COND_encoded</th>\n",
              "      <th>street_name_frequency</th>\n",
              "      <th>TRAFFIC_CONTROL_DEVICE</th>\n",
              "      <th>DEVICE_CONDITION</th>\n",
              "      <th>WEATHER_CONDITION</th>\n",
              "      <th>FIRST_CRASH_TYPE</th>\n",
              "      <th>TRAFFICWAY_TYPE</th>\n",
              "      <th>CRASH_MONTH</th>\n",
              "      <th>WEATHER_CONDITION_encoded</th>\n",
              "      <th>weather_road_interaction</th>\n",
              "    </tr>\n",
              "  </thead>\n",
              "  <tbody>\n",
              "    <tr>\n",
              "      <th>0</th>\n",
              "      <td>DAYLIGHT</td>\n",
              "      <td>STRAIGHT AND LEVEL</td>\n",
              "      <td>DRY</td>\n",
              "      <td>UNKNOWN</td>\n",
              "      <td>NO INJURY / DRIVE AWAY</td>\n",
              "      <td>OVER $1,500</td>\n",
              "      <td>2</td>\n",
              "      <td>NO INDICATION OF INJURY</td>\n",
              "      <td>0.0</td>\n",
              "      <td>0.0</td>\n",
              "      <td>...</td>\n",
              "      <td>0</td>\n",
              "      <td>2539</td>\n",
              "      <td>2.522502</td>\n",
              "      <td>2.456771</td>\n",
              "      <td>2.780833</td>\n",
              "      <td>3.026217</td>\n",
              "      <td>2.477828</td>\n",
              "      <td>2.821468</td>\n",
              "      <td>2.780833</td>\n",
              "      <td>2.767103</td>\n",
              "    </tr>\n",
              "    <tr>\n",
              "      <th>1</th>\n",
              "      <td>DAYLIGHT</td>\n",
              "      <td>STRAIGHT AND LEVEL</td>\n",
              "      <td>DRY</td>\n",
              "      <td>NO DEFECTS</td>\n",
              "      <td>NO INJURY / DRIVE AWAY</td>\n",
              "      <td>$501 - $1,500</td>\n",
              "      <td>2</td>\n",
              "      <td>NO INDICATION OF INJURY</td>\n",
              "      <td>0.0</td>\n",
              "      <td>0.0</td>\n",
              "      <td>...</td>\n",
              "      <td>0</td>\n",
              "      <td>635</td>\n",
              "      <td>2.988227</td>\n",
              "      <td>2.971633</td>\n",
              "      <td>2.780833</td>\n",
              "      <td>2.558411</td>\n",
              "      <td>3.100338</td>\n",
              "      <td>2.829791</td>\n",
              "      <td>2.780833</td>\n",
              "      <td>2.767103</td>\n",
              "    </tr>\n",
              "    <tr>\n",
              "      <th>2</th>\n",
              "      <td>DAYLIGHT</td>\n",
              "      <td>STRAIGHT AND LEVEL</td>\n",
              "      <td>DRY</td>\n",
              "      <td>NO DEFECTS</td>\n",
              "      <td>NO INJURY / DRIVE AWAY</td>\n",
              "      <td>$500 OR LESS</td>\n",
              "      <td>2</td>\n",
              "      <td>NO INDICATION OF INJURY</td>\n",
              "      <td>0.0</td>\n",
              "      <td>0.0</td>\n",
              "      <td>...</td>\n",
              "      <td>0</td>\n",
              "      <td>25</td>\n",
              "      <td>2.988227</td>\n",
              "      <td>2.971633</td>\n",
              "      <td>2.780833</td>\n",
              "      <td>3.415856</td>\n",
              "      <td>2.934549</td>\n",
              "      <td>2.791856</td>\n",
              "      <td>2.780833</td>\n",
              "      <td>2.767103</td>\n",
              "    </tr>\n",
              "    <tr>\n",
              "      <th>3</th>\n",
              "      <td>DAYLIGHT</td>\n",
              "      <td>STRAIGHT AND LEVEL</td>\n",
              "      <td>DRY</td>\n",
              "      <td>NO DEFECTS</td>\n",
              "      <td>INJURY AND / OR TOW DUE TO CRASH</td>\n",
              "      <td>$500 OR LESS</td>\n",
              "      <td>2</td>\n",
              "      <td>NO INDICATION OF INJURY</td>\n",
              "      <td>0.0</td>\n",
              "      <td>0.0</td>\n",
              "      <td>...</td>\n",
              "      <td>0</td>\n",
              "      <td>5229</td>\n",
              "      <td>2.522502</td>\n",
              "      <td>2.456771</td>\n",
              "      <td>2.780833</td>\n",
              "      <td>2.289852</td>\n",
              "      <td>2.813515</td>\n",
              "      <td>2.791856</td>\n",
              "      <td>2.780833</td>\n",
              "      <td>2.767103</td>\n",
              "    </tr>\n",
              "    <tr>\n",
              "      <th>4</th>\n",
              "      <td>UNKNOWN</td>\n",
              "      <td>STRAIGHT AND LEVEL</td>\n",
              "      <td>DRY</td>\n",
              "      <td>NO DEFECTS</td>\n",
              "      <td>NO INJURY / DRIVE AWAY</td>\n",
              "      <td>$501 - $1,500</td>\n",
              "      <td>2</td>\n",
              "      <td>NO INDICATION OF INJURY</td>\n",
              "      <td>0.0</td>\n",
              "      <td>0.0</td>\n",
              "      <td>...</td>\n",
              "      <td>0</td>\n",
              "      <td>4403</td>\n",
              "      <td>2.988227</td>\n",
              "      <td>3.273286</td>\n",
              "      <td>2.780833</td>\n",
              "      <td>2.289852</td>\n",
              "      <td>2.686206</td>\n",
              "      <td>2.823555</td>\n",
              "      <td>2.780833</td>\n",
              "      <td>2.767103</td>\n",
              "    </tr>\n",
              "  </tbody>\n",
              "</table>\n",
              "<p>5 rows × 25 columns</p>\n",
              "</div>"
            ],
            "text/plain": [
              "  LIGHTING_CONDITION           ALIGNMENT ROADWAY_SURFACE_COND ROAD_DEFECT  \\\n",
              "0           DAYLIGHT  STRAIGHT AND LEVEL                  DRY     UNKNOWN   \n",
              "1           DAYLIGHT  STRAIGHT AND LEVEL                  DRY  NO DEFECTS   \n",
              "2           DAYLIGHT  STRAIGHT AND LEVEL                  DRY  NO DEFECTS   \n",
              "3           DAYLIGHT  STRAIGHT AND LEVEL                  DRY  NO DEFECTS   \n",
              "4            UNKNOWN  STRAIGHT AND LEVEL                  DRY  NO DEFECTS   \n",
              "\n",
              "                         CRASH_TYPE         DAMAGE  NUM_UNITS  \\\n",
              "0            NO INJURY / DRIVE AWAY    OVER $1,500          2   \n",
              "1            NO INJURY / DRIVE AWAY  $501 - $1,500          2   \n",
              "2            NO INJURY / DRIVE AWAY   $500 OR LESS          2   \n",
              "3  INJURY AND / OR TOW DUE TO CRASH   $500 OR LESS          2   \n",
              "4            NO INJURY / DRIVE AWAY  $501 - $1,500          2   \n",
              "\n",
              "        MOST_SEVERE_INJURY  INJURIES_FATAL  INJURIES_INCAPACITATING  ...  \\\n",
              "0  NO INDICATION OF INJURY             0.0                      0.0  ...   \n",
              "1  NO INDICATION OF INJURY             0.0                      0.0  ...   \n",
              "2  NO INDICATION OF INJURY             0.0                      0.0  ...   \n",
              "3  NO INDICATION OF INJURY             0.0                      0.0  ...   \n",
              "4  NO INDICATION OF INJURY             0.0                      0.0  ...   \n",
              "\n",
              "   ROADWAY_SURFACE_COND_encoded street_name_frequency TRAFFIC_CONTROL_DEVICE  \\\n",
              "0                             0                  2539               2.522502   \n",
              "1                             0                   635               2.988227   \n",
              "2                             0                    25               2.988227   \n",
              "3                             0                  5229               2.522502   \n",
              "4                             0                  4403               2.988227   \n",
              "\n",
              "  DEVICE_CONDITION WEATHER_CONDITION  FIRST_CRASH_TYPE  TRAFFICWAY_TYPE  \\\n",
              "0         2.456771          2.780833          3.026217         2.477828   \n",
              "1         2.971633          2.780833          2.558411         3.100338   \n",
              "2         2.971633          2.780833          3.415856         2.934549   \n",
              "3         2.456771          2.780833          2.289852         2.813515   \n",
              "4         3.273286          2.780833          2.289852         2.686206   \n",
              "\n",
              "   CRASH_MONTH  WEATHER_CONDITION_encoded  weather_road_interaction  \n",
              "0     2.821468                   2.780833                  2.767103  \n",
              "1     2.829791                   2.780833                  2.767103  \n",
              "2     2.791856                   2.780833                  2.767103  \n",
              "3     2.791856                   2.780833                  2.767103  \n",
              "4     2.823555                   2.780833                  2.767103  \n",
              "\n",
              "[5 rows x 25 columns]"
            ]
          },
          "execution_count": 262,
          "metadata": {},
          "output_type": "execute_result"
        }
      ],
      "source": [
        "X_train.head()"
      ]
    },
    {
      "cell_type": "code",
      "execution_count": 263,
      "metadata": {
        "colab": {
          "base_uri": "https://localhost:8080/"
        },
        "id": "3GQOh8-mkB7y",
        "outputId": "542db9f9-1fc1-4f34-a278-dba1ad108b69"
      },
      "outputs": [
        {
          "name": "stdout",
          "output_type": "stream",
          "text": [
            "X_train shape: (615549, 25)\n",
            "X_test shape: (263807, 25)\n",
            "y_train shape: (615549,)\n",
            "y_test shape: (263807,)\n"
          ]
        }
      ],
      "source": [
        "print('X_train shape:', X_train.shape)\n",
        "print('X_test shape:', X_test.shape)\n",
        "print('y_train shape:', y_train.shape)\n",
        "print('y_test shape:', y_test.shape)\n"
      ]
    },
    {
      "cell_type": "markdown",
      "metadata": {
        "id": "gacm98dnkB7z"
      },
      "source": [
        "### **One Hot Encoding**"
      ]
    },
    {
      "cell_type": "markdown",
      "metadata": {
        "id": "Jl2zKNG8kB7z"
      },
      "source": [
        "One-hot encoding is essential for converting categorical features into a binary matrix representation, where each category is represented as a separate binary column. This process prevents the model from assuming any ordinal relationship between categorical values, which can be misleading when categories have no inherent order (e.g., weather conditions or traffic control devices). By applying one-hot encoding, we ensure that the model treats each category independently, improving its ability to capture the true relationships between features and the target.\n",
        "We expect one hot encoding to change the shape of our data by increasing the number of features."
      ]
    },
    {
      "cell_type": "code",
      "execution_count": 265,
      "metadata": {
        "colab": {
          "base_uri": "https://localhost:8080/",
          "height": 273
        },
        "id": "HhHT4dNWkB70",
        "outputId": "2102ef3c-d0e5-4f00-bcb9-7a49bdec6bcb"
      },
      "outputs": [
        {
          "data": {
            "text/html": [
              "<div>\n",
              "<style scoped>\n",
              "    .dataframe tbody tr th:only-of-type {\n",
              "        vertical-align: middle;\n",
              "    }\n",
              "\n",
              "    .dataframe tbody tr th {\n",
              "        vertical-align: top;\n",
              "    }\n",
              "\n",
              "    .dataframe thead th {\n",
              "        text-align: right;\n",
              "    }\n",
              "</style>\n",
              "<table border=\"1\" class=\"dataframe\">\n",
              "  <thead>\n",
              "    <tr style=\"text-align: right;\">\n",
              "      <th></th>\n",
              "      <th>NUM_UNITS</th>\n",
              "      <th>INJURIES_FATAL</th>\n",
              "      <th>INJURIES_INCAPACITATING</th>\n",
              "      <th>INJURIES_NON_INCAPACITATING</th>\n",
              "      <th>street_name_frequency</th>\n",
              "      <th>TRAFFIC_CONTROL_DEVICE</th>\n",
              "      <th>DEVICE_CONDITION</th>\n",
              "      <th>WEATHER_CONDITION</th>\n",
              "      <th>FIRST_CRASH_TYPE</th>\n",
              "      <th>TRAFFICWAY_TYPE</th>\n",
              "      <th>...</th>\n",
              "      <th>crash_hour_binned_Night (0-6)</th>\n",
              "      <th>injuries_binned_High Injuries (7+)</th>\n",
              "      <th>injuries_binned_Moderate Injuries (4-6)</th>\n",
              "      <th>injuries_binned_No Injuries</th>\n",
              "      <th>ROADWAY_SURFACE_COND_encoded_1</th>\n",
              "      <th>ROADWAY_SURFACE_COND_encoded_2</th>\n",
              "      <th>ROADWAY_SURFACE_COND_encoded_3</th>\n",
              "      <th>ROADWAY_SURFACE_COND_encoded_4</th>\n",
              "      <th>ROADWAY_SURFACE_COND_encoded_5</th>\n",
              "      <th>ROADWAY_SURFACE_COND_encoded_6</th>\n",
              "    </tr>\n",
              "  </thead>\n",
              "  <tbody>\n",
              "    <tr>\n",
              "      <th>0</th>\n",
              "      <td>2</td>\n",
              "      <td>0.0</td>\n",
              "      <td>0.0</td>\n",
              "      <td>0.0</td>\n",
              "      <td>2539</td>\n",
              "      <td>2.522502</td>\n",
              "      <td>2.456771</td>\n",
              "      <td>2.780833</td>\n",
              "      <td>3.026217</td>\n",
              "      <td>2.477828</td>\n",
              "      <td>...</td>\n",
              "      <td>0.0</td>\n",
              "      <td>0.0</td>\n",
              "      <td>0.0</td>\n",
              "      <td>1.0</td>\n",
              "      <td>0.0</td>\n",
              "      <td>0.0</td>\n",
              "      <td>0.0</td>\n",
              "      <td>0.0</td>\n",
              "      <td>0.0</td>\n",
              "      <td>0.0</td>\n",
              "    </tr>\n",
              "    <tr>\n",
              "      <th>1</th>\n",
              "      <td>2</td>\n",
              "      <td>0.0</td>\n",
              "      <td>0.0</td>\n",
              "      <td>0.0</td>\n",
              "      <td>635</td>\n",
              "      <td>2.988227</td>\n",
              "      <td>2.971633</td>\n",
              "      <td>2.780833</td>\n",
              "      <td>2.558411</td>\n",
              "      <td>3.100338</td>\n",
              "      <td>...</td>\n",
              "      <td>0.0</td>\n",
              "      <td>0.0</td>\n",
              "      <td>0.0</td>\n",
              "      <td>1.0</td>\n",
              "      <td>0.0</td>\n",
              "      <td>0.0</td>\n",
              "      <td>0.0</td>\n",
              "      <td>0.0</td>\n",
              "      <td>0.0</td>\n",
              "      <td>0.0</td>\n",
              "    </tr>\n",
              "    <tr>\n",
              "      <th>2</th>\n",
              "      <td>2</td>\n",
              "      <td>0.0</td>\n",
              "      <td>0.0</td>\n",
              "      <td>0.0</td>\n",
              "      <td>25</td>\n",
              "      <td>2.988227</td>\n",
              "      <td>2.971633</td>\n",
              "      <td>2.780833</td>\n",
              "      <td>3.415856</td>\n",
              "      <td>2.934549</td>\n",
              "      <td>...</td>\n",
              "      <td>0.0</td>\n",
              "      <td>0.0</td>\n",
              "      <td>0.0</td>\n",
              "      <td>1.0</td>\n",
              "      <td>0.0</td>\n",
              "      <td>0.0</td>\n",
              "      <td>0.0</td>\n",
              "      <td>0.0</td>\n",
              "      <td>0.0</td>\n",
              "      <td>0.0</td>\n",
              "    </tr>\n",
              "    <tr>\n",
              "      <th>3</th>\n",
              "      <td>2</td>\n",
              "      <td>0.0</td>\n",
              "      <td>0.0</td>\n",
              "      <td>0.0</td>\n",
              "      <td>5229</td>\n",
              "      <td>2.522502</td>\n",
              "      <td>2.456771</td>\n",
              "      <td>2.780833</td>\n",
              "      <td>2.289852</td>\n",
              "      <td>2.813515</td>\n",
              "      <td>...</td>\n",
              "      <td>0.0</td>\n",
              "      <td>0.0</td>\n",
              "      <td>0.0</td>\n",
              "      <td>1.0</td>\n",
              "      <td>0.0</td>\n",
              "      <td>0.0</td>\n",
              "      <td>0.0</td>\n",
              "      <td>0.0</td>\n",
              "      <td>0.0</td>\n",
              "      <td>0.0</td>\n",
              "    </tr>\n",
              "    <tr>\n",
              "      <th>4</th>\n",
              "      <td>2</td>\n",
              "      <td>0.0</td>\n",
              "      <td>0.0</td>\n",
              "      <td>0.0</td>\n",
              "      <td>4403</td>\n",
              "      <td>2.988227</td>\n",
              "      <td>3.273286</td>\n",
              "      <td>2.780833</td>\n",
              "      <td>2.289852</td>\n",
              "      <td>2.686206</td>\n",
              "      <td>...</td>\n",
              "      <td>0.0</td>\n",
              "      <td>0.0</td>\n",
              "      <td>0.0</td>\n",
              "      <td>1.0</td>\n",
              "      <td>0.0</td>\n",
              "      <td>0.0</td>\n",
              "      <td>0.0</td>\n",
              "      <td>0.0</td>\n",
              "      <td>0.0</td>\n",
              "      <td>0.0</td>\n",
              "    </tr>\n",
              "  </tbody>\n",
              "</table>\n",
              "<p>5 rows × 63 columns</p>\n",
              "</div>"
            ],
            "text/plain": [
              "   NUM_UNITS  INJURIES_FATAL  INJURIES_INCAPACITATING  \\\n",
              "0          2             0.0                      0.0   \n",
              "1          2             0.0                      0.0   \n",
              "2          2             0.0                      0.0   \n",
              "3          2             0.0                      0.0   \n",
              "4          2             0.0                      0.0   \n",
              "\n",
              "   INJURIES_NON_INCAPACITATING  street_name_frequency  TRAFFIC_CONTROL_DEVICE  \\\n",
              "0                          0.0                   2539                2.522502   \n",
              "1                          0.0                    635                2.988227   \n",
              "2                          0.0                     25                2.988227   \n",
              "3                          0.0                   5229                2.522502   \n",
              "4                          0.0                   4403                2.988227   \n",
              "\n",
              "   DEVICE_CONDITION  WEATHER_CONDITION  FIRST_CRASH_TYPE  TRAFFICWAY_TYPE  \\\n",
              "0          2.456771           2.780833          3.026217         2.477828   \n",
              "1          2.971633           2.780833          2.558411         3.100338   \n",
              "2          2.971633           2.780833          3.415856         2.934549   \n",
              "3          2.456771           2.780833          2.289852         2.813515   \n",
              "4          3.273286           2.780833          2.289852         2.686206   \n",
              "\n",
              "   ...  crash_hour_binned_Night (0-6)  injuries_binned_High Injuries (7+)  \\\n",
              "0  ...                            0.0                                 0.0   \n",
              "1  ...                            0.0                                 0.0   \n",
              "2  ...                            0.0                                 0.0   \n",
              "3  ...                            0.0                                 0.0   \n",
              "4  ...                            0.0                                 0.0   \n",
              "\n",
              "   injuries_binned_Moderate Injuries (4-6)  injuries_binned_No Injuries  \\\n",
              "0                                      0.0                          1.0   \n",
              "1                                      0.0                          1.0   \n",
              "2                                      0.0                          1.0   \n",
              "3                                      0.0                          1.0   \n",
              "4                                      0.0                          1.0   \n",
              "\n",
              "   ROADWAY_SURFACE_COND_encoded_1  ROADWAY_SURFACE_COND_encoded_2  \\\n",
              "0                             0.0                             0.0   \n",
              "1                             0.0                             0.0   \n",
              "2                             0.0                             0.0   \n",
              "3                             0.0                             0.0   \n",
              "4                             0.0                             0.0   \n",
              "\n",
              "   ROADWAY_SURFACE_COND_encoded_3  ROADWAY_SURFACE_COND_encoded_4  \\\n",
              "0                             0.0                             0.0   \n",
              "1                             0.0                             0.0   \n",
              "2                             0.0                             0.0   \n",
              "3                             0.0                             0.0   \n",
              "4                             0.0                             0.0   \n",
              "\n",
              "   ROADWAY_SURFACE_COND_encoded_5  ROADWAY_SURFACE_COND_encoded_6  \n",
              "0                             0.0                             0.0  \n",
              "1                             0.0                             0.0  \n",
              "2                             0.0                             0.0  \n",
              "3                             0.0                             0.0  \n",
              "4                             0.0                             0.0  \n",
              "\n",
              "[5 rows x 63 columns]"
            ]
          },
          "execution_count": 265,
          "metadata": {},
          "output_type": "execute_result"
        }
      ],
      "source": [
        "from sklearn.preprocessing import OneHotEncoder\n",
        "\n",
        "#fit the ohe\n",
        "ohe = OneHotEncoder(handle_unknown=\"ignore\", drop=\"first\")\n",
        "ohe.fit(X_train[low_cardinality_cols])\n",
        "\n",
        "#transform our train and test feature set\n",
        "X_train_ohe = ohe.transform(X_train[low_cardinality_cols])\n",
        "X_test_ohe = ohe.transform(X_test[low_cardinality_cols])\n",
        "\n",
        "#assign the transform values into a dataframe\n",
        "X_train_ohe_df = pd.DataFrame(X_train_ohe.toarray(), columns=ohe.get_feature_names_out(X_train[low_cardinality_cols].columns))\n",
        "X_test_ohe_df = pd.DataFrame(X_test_ohe.toarray(), columns=ohe.get_feature_names_out(X_test[low_cardinality_cols].columns))\n",
        "\n",
        "#drop the original low cardinality features from our train and test set\n",
        "X_train = X_train.drop(low_cardinality_cols, axis=1)\n",
        "X_test = X_test.drop(low_cardinality_cols, axis=1)\n",
        "\n",
        "# reset index of Train and Test\n",
        "X_train = X_train.reset_index(drop=True)\n",
        "X_test = X_test.reset_index(drop=True)\n",
        "\n",
        "#reset index of ohe\n",
        "X_train_ohe_df = X_train_ohe_df.reset_index(drop=True)\n",
        "X_test_ohe_df = X_test_ohe_df.reset_index(drop=True)\n",
        "\n",
        "\n",
        "#update train and test feature set with the encoded values\n",
        "X_train = pd.concat([X_train, X_train_ohe_df], axis=1 )\n",
        "X_test = pd.concat([X_test, X_test_ohe_df], axis=1)\n",
        "\n",
        "X_train.head()"
      ]
    },
    {
      "cell_type": "code",
      "execution_count": 266,
      "metadata": {
        "colab": {
          "base_uri": "https://localhost:8080/",
          "height": 273
        },
        "id": "rTjSD7mvkB70",
        "outputId": "6dbf321b-ab64-4329-c8bf-6c078eea50eb"
      },
      "outputs": [
        {
          "data": {
            "text/html": [
              "<div>\n",
              "<style scoped>\n",
              "    .dataframe tbody tr th:only-of-type {\n",
              "        vertical-align: middle;\n",
              "    }\n",
              "\n",
              "    .dataframe tbody tr th {\n",
              "        vertical-align: top;\n",
              "    }\n",
              "\n",
              "    .dataframe thead th {\n",
              "        text-align: right;\n",
              "    }\n",
              "</style>\n",
              "<table border=\"1\" class=\"dataframe\">\n",
              "  <thead>\n",
              "    <tr style=\"text-align: right;\">\n",
              "      <th></th>\n",
              "      <th>NUM_UNITS</th>\n",
              "      <th>INJURIES_FATAL</th>\n",
              "      <th>INJURIES_INCAPACITATING</th>\n",
              "      <th>INJURIES_NON_INCAPACITATING</th>\n",
              "      <th>street_name_frequency</th>\n",
              "      <th>TRAFFIC_CONTROL_DEVICE</th>\n",
              "      <th>DEVICE_CONDITION</th>\n",
              "      <th>WEATHER_CONDITION</th>\n",
              "      <th>FIRST_CRASH_TYPE</th>\n",
              "      <th>TRAFFICWAY_TYPE</th>\n",
              "      <th>...</th>\n",
              "      <th>crash_hour_binned_Night (0-6)</th>\n",
              "      <th>injuries_binned_High Injuries (7+)</th>\n",
              "      <th>injuries_binned_Moderate Injuries (4-6)</th>\n",
              "      <th>injuries_binned_No Injuries</th>\n",
              "      <th>ROADWAY_SURFACE_COND_encoded_1</th>\n",
              "      <th>ROADWAY_SURFACE_COND_encoded_2</th>\n",
              "      <th>ROADWAY_SURFACE_COND_encoded_3</th>\n",
              "      <th>ROADWAY_SURFACE_COND_encoded_4</th>\n",
              "      <th>ROADWAY_SURFACE_COND_encoded_5</th>\n",
              "      <th>ROADWAY_SURFACE_COND_encoded_6</th>\n",
              "    </tr>\n",
              "  </thead>\n",
              "  <tbody>\n",
              "    <tr>\n",
              "      <th>0</th>\n",
              "      <td>2</td>\n",
              "      <td>0.0</td>\n",
              "      <td>0.0</td>\n",
              "      <td>0.0</td>\n",
              "      <td>107</td>\n",
              "      <td>2.988227</td>\n",
              "      <td>2.971633</td>\n",
              "      <td>2.780833</td>\n",
              "      <td>3.026217</td>\n",
              "      <td>3.078812</td>\n",
              "      <td>...</td>\n",
              "      <td>0.0</td>\n",
              "      <td>0.0</td>\n",
              "      <td>0.0</td>\n",
              "      <td>1.0</td>\n",
              "      <td>0.0</td>\n",
              "      <td>0.0</td>\n",
              "      <td>0.0</td>\n",
              "      <td>0.0</td>\n",
              "      <td>0.0</td>\n",
              "      <td>0.0</td>\n",
              "    </tr>\n",
              "    <tr>\n",
              "      <th>1</th>\n",
              "      <td>2</td>\n",
              "      <td>0.0</td>\n",
              "      <td>0.0</td>\n",
              "      <td>0.0</td>\n",
              "      <td>459</td>\n",
              "      <td>2.988227</td>\n",
              "      <td>2.971633</td>\n",
              "      <td>3.543188</td>\n",
              "      <td>3.026217</td>\n",
              "      <td>2.813515</td>\n",
              "      <td>...</td>\n",
              "      <td>0.0</td>\n",
              "      <td>0.0</td>\n",
              "      <td>0.0</td>\n",
              "      <td>1.0</td>\n",
              "      <td>0.0</td>\n",
              "      <td>0.0</td>\n",
              "      <td>0.0</td>\n",
              "      <td>0.0</td>\n",
              "      <td>1.0</td>\n",
              "      <td>0.0</td>\n",
              "    </tr>\n",
              "    <tr>\n",
              "      <th>2</th>\n",
              "      <td>2</td>\n",
              "      <td>0.0</td>\n",
              "      <td>0.0</td>\n",
              "      <td>0.0</td>\n",
              "      <td>2718</td>\n",
              "      <td>2.486455</td>\n",
              "      <td>2.456771</td>\n",
              "      <td>2.780833</td>\n",
              "      <td>2.289852</td>\n",
              "      <td>2.686206</td>\n",
              "      <td>...</td>\n",
              "      <td>0.0</td>\n",
              "      <td>0.0</td>\n",
              "      <td>0.0</td>\n",
              "      <td>1.0</td>\n",
              "      <td>0.0</td>\n",
              "      <td>0.0</td>\n",
              "      <td>0.0</td>\n",
              "      <td>0.0</td>\n",
              "      <td>0.0</td>\n",
              "      <td>0.0</td>\n",
              "    </tr>\n",
              "    <tr>\n",
              "      <th>3</th>\n",
              "      <td>2</td>\n",
              "      <td>0.0</td>\n",
              "      <td>0.0</td>\n",
              "      <td>0.0</td>\n",
              "      <td>120</td>\n",
              "      <td>2.356478</td>\n",
              "      <td>2.464039</td>\n",
              "      <td>2.780833</td>\n",
              "      <td>2.241562</td>\n",
              "      <td>2.347791</td>\n",
              "      <td>...</td>\n",
              "      <td>0.0</td>\n",
              "      <td>0.0</td>\n",
              "      <td>0.0</td>\n",
              "      <td>1.0</td>\n",
              "      <td>0.0</td>\n",
              "      <td>0.0</td>\n",
              "      <td>0.0</td>\n",
              "      <td>0.0</td>\n",
              "      <td>0.0</td>\n",
              "      <td>0.0</td>\n",
              "    </tr>\n",
              "    <tr>\n",
              "      <th>4</th>\n",
              "      <td>3</td>\n",
              "      <td>0.0</td>\n",
              "      <td>0.0</td>\n",
              "      <td>0.0</td>\n",
              "      <td>486</td>\n",
              "      <td>2.988227</td>\n",
              "      <td>2.971633</td>\n",
              "      <td>2.780833</td>\n",
              "      <td>2.241562</td>\n",
              "      <td>2.347791</td>\n",
              "      <td>...</td>\n",
              "      <td>0.0</td>\n",
              "      <td>0.0</td>\n",
              "      <td>0.0</td>\n",
              "      <td>0.0</td>\n",
              "      <td>0.0</td>\n",
              "      <td>0.0</td>\n",
              "      <td>0.0</td>\n",
              "      <td>0.0</td>\n",
              "      <td>0.0</td>\n",
              "      <td>0.0</td>\n",
              "    </tr>\n",
              "  </tbody>\n",
              "</table>\n",
              "<p>5 rows × 63 columns</p>\n",
              "</div>"
            ],
            "text/plain": [
              "   NUM_UNITS  INJURIES_FATAL  INJURIES_INCAPACITATING  \\\n",
              "0          2             0.0                      0.0   \n",
              "1          2             0.0                      0.0   \n",
              "2          2             0.0                      0.0   \n",
              "3          2             0.0                      0.0   \n",
              "4          3             0.0                      0.0   \n",
              "\n",
              "   INJURIES_NON_INCAPACITATING  street_name_frequency  TRAFFIC_CONTROL_DEVICE  \\\n",
              "0                          0.0                    107                2.988227   \n",
              "1                          0.0                    459                2.988227   \n",
              "2                          0.0                   2718                2.486455   \n",
              "3                          0.0                    120                2.356478   \n",
              "4                          0.0                    486                2.988227   \n",
              "\n",
              "   DEVICE_CONDITION  WEATHER_CONDITION  FIRST_CRASH_TYPE  TRAFFICWAY_TYPE  \\\n",
              "0          2.971633           2.780833          3.026217         3.078812   \n",
              "1          2.971633           3.543188          3.026217         2.813515   \n",
              "2          2.456771           2.780833          2.289852         2.686206   \n",
              "3          2.464039           2.780833          2.241562         2.347791   \n",
              "4          2.971633           2.780833          2.241562         2.347791   \n",
              "\n",
              "   ...  crash_hour_binned_Night (0-6)  injuries_binned_High Injuries (7+)  \\\n",
              "0  ...                            0.0                                 0.0   \n",
              "1  ...                            0.0                                 0.0   \n",
              "2  ...                            0.0                                 0.0   \n",
              "3  ...                            0.0                                 0.0   \n",
              "4  ...                            0.0                                 0.0   \n",
              "\n",
              "   injuries_binned_Moderate Injuries (4-6)  injuries_binned_No Injuries  \\\n",
              "0                                      0.0                          1.0   \n",
              "1                                      0.0                          1.0   \n",
              "2                                      0.0                          1.0   \n",
              "3                                      0.0                          1.0   \n",
              "4                                      0.0                          0.0   \n",
              "\n",
              "   ROADWAY_SURFACE_COND_encoded_1  ROADWAY_SURFACE_COND_encoded_2  \\\n",
              "0                             0.0                             0.0   \n",
              "1                             0.0                             0.0   \n",
              "2                             0.0                             0.0   \n",
              "3                             0.0                             0.0   \n",
              "4                             0.0                             0.0   \n",
              "\n",
              "   ROADWAY_SURFACE_COND_encoded_3  ROADWAY_SURFACE_COND_encoded_4  \\\n",
              "0                             0.0                             0.0   \n",
              "1                             0.0                             0.0   \n",
              "2                             0.0                             0.0   \n",
              "3                             0.0                             0.0   \n",
              "4                             0.0                             0.0   \n",
              "\n",
              "   ROADWAY_SURFACE_COND_encoded_5  ROADWAY_SURFACE_COND_encoded_6  \n",
              "0                             0.0                             0.0  \n",
              "1                             1.0                             0.0  \n",
              "2                             0.0                             0.0  \n",
              "3                             0.0                             0.0  \n",
              "4                             0.0                             0.0  \n",
              "\n",
              "[5 rows x 63 columns]"
            ]
          },
          "execution_count": 266,
          "metadata": {},
          "output_type": "execute_result"
        }
      ],
      "source": [
        "X_test.head()"
      ]
    },
    {
      "cell_type": "code",
      "execution_count": 267,
      "metadata": {
        "colab": {
          "base_uri": "https://localhost:8080/"
        },
        "id": "iWgtD-k3kB71",
        "outputId": "944e055c-a7fa-4015-f518-0b918425048a"
      },
      "outputs": [
        {
          "name": "stdout",
          "output_type": "stream",
          "text": [
            "No. of rows in encoded data: 879356\n",
            "No. of rows in original data: 879356\n",
            "No of features in encoded data 63 in Train Set and 63 in test set:\n",
            "No. of features in original data: 22\n"
          ]
        }
      ],
      "source": [
        "print('No. of rows in encoded data:', (X_train.shape[0]+X_test.shape[0]))\n",
        "print('No. of rows in original data:', (relevant_data.shape[0]))\n",
        "print(f'No of features in encoded data {X_train.shape[1]} in Train Set and {X_test.shape[1]} in test set:')\n",
        "print('No. of features in original data:', (relevant_data.drop('MOST_SEVERE_INJURY', axis=1).shape[1]))"
      ]
    },
    {
      "cell_type": "markdown",
      "metadata": {
        "id": "RHHEOic8kB71"
      },
      "source": [
        "Our data looks ok.\n",
        "\n",
        "### **f) Correlation Analysis**\n",
        "\n",
        "Below, we run correlation analysis afresh after encoding our data as this will give us a better representation of the correlation our features have with the target variable since we have a numerical representation of our dataset."
      ]
    },
    {
      "cell_type": "code",
      "execution_count": null,
      "metadata": {
        "colab": {
          "base_uri": "https://localhost:8080/",
          "height": 1000
        },
        "id": "c181_2inkB71",
        "outputId": "eced8320-45e5-473e-9c1c-ea2b2bb8ec9d"
      },
      "outputs": [],
      "source": [
        "def analyze_and_plot_correlations(df, threshold=0.5, target=None):\n",
        "    # Compute correlation matrix\n",
        "    corr_matrix = df.corr()\n",
        "\n",
        "    # Plot heatmap\n",
        "    plt.figure(figsize=(20, 15))\n",
        "    sns.heatmap(corr_matrix, annot=False, cmap='coolwarm', square=True)\n",
        "    plt.title('Correlation Matrix of All Features', fontsize=16)\n",
        "    plt.tight_layout()\n",
        "    plt.show()\n",
        "\n",
        "    # Get high correlations\n",
        "    high_corrs = corr_matrix.unstack()\n",
        "    high_corrs = high_corrs[(abs(high_corrs) > threshold) & (abs(high_corrs) < 1.0)]\n",
        "    high_corrs = high_corrs.sort_values(ascending=False).reset_index()\n",
        "    high_corrs.columns = ['Feature 1', 'Feature 2', 'Correlation']\n",
        "\n",
        "    # Print highly correlated feature pairs\n",
        "    print(\"Highly correlated feature pairs:\")\n",
        "    for _, row in high_corrs.iterrows():\n",
        "        print(f\"{row['Feature 1']} - {row['Feature 2']}: {row['Correlation']:.2f}\")\n",
        "\n",
        "    # Focus on specific feature correlations if provided\n",
        "    if target is not None:\n",
        "        target_corrs = corr_matrix[target]\n",
        "        target_corrs = target_corrs[(abs(target_corrs) > threshold) & (abs(target_corrs) < 1.0)]\n",
        "        target_corrs = target_corrs.sort_values(key=abs, ascending=False)\n",
        "\n",
        "        print(f\"\\nFeatures highly correlated with {target}:\")\n",
        "        for feat, corr in target_corrs.items():\n",
        "            print(f\"{feat}: {corr:.2f}\")\n",
        "\n",
        "\n",
        "X_train_plus_target = pd.concat([X_train, y_train.rename('PRIM_CONTRIBUTORY_CAUSE_GROUPED')], axis=1) #add back y_train to X_train to perform correlation analysis\n",
        "\n",
        "analyze_and_plot_correlations(X_train_plus_target, threshold=0.0, target='PRIM_CONTRIBUTORY_CAUSE_GROUPED')\n"
      ]
    },
    {
      "cell_type": "code",
      "execution_count": 240,
      "metadata": {},
      "outputs": [
        {
          "data": {
            "text/plain": [
              "60"
            ]
          },
          "execution_count": 240,
          "metadata": {},
          "output_type": "execute_result"
        }
      ],
      "source": [
        "X_test.isna().sum().sum()"
      ]
    },
    {
      "cell_type": "markdown",
      "metadata": {
        "id": "rlIPGWjzkB72"
      },
      "source": [
        "Our data is ready for modeling. We have several highly correlated features which is expected after One Hot Encoding. We will keep the unrelated features in mind when we are modeling to prevent the effects of multicollinearity.E.g. we may neeed to use Principal Component Analysis to transform the feature space into a smaller set of uncorrelated variable which will also help in reducing dimensionality."
      ]
    },
    {
      "cell_type": "markdown",
      "metadata": {
        "id": "kjezMLOdkB73"
      },
      "source": [
        "# 4. Modeling"
      ]
    },
    {
      "cell_type": "code",
      "execution_count": 191,
      "metadata": {
        "id": "J7cVMvf3kB74"
      },
      "outputs": [
        {
          "name": "stderr",
          "output_type": "stream",
          "text": [
            "c:\\Users\\Richard\\anaconda3\\envs\\learn-env\\lib\\site-packages\\xgboost\\compat.py:93: FutureWarning: pandas.Int64Index is deprecated and will be removed from pandas in a future version. Use pandas.Index with the appropriate dtype instead.\n",
            "  from pandas import MultiIndex, Int64Index\n"
          ]
        }
      ],
      "source": [
        "#import necessary packages\n",
        "from sklearn.pipeline import Pipeline\n",
        "from sklearn.compose import ColumnTransformer\n",
        "from sklearn.preprocessing import StandardScaler\n",
        "from sklearn.linear_model import LogisticRegression\n",
        "from sklearn.ensemble import RandomForestClassifier\n",
        "from xgboost import XGBClassifier\n",
        "from sklearn.neural_network import MLPClassifier\n",
        "from keras import models, layers, optimizers\n",
        "from sklearn.metrics import accuracy_score, precision_score, recall_score, f1_score\n",
        "from sklearn.model_selection import GridSearchCV\n",
        "from sklearn.metrics import accuracy_score, confusion_matrix, ConfusionMatrixDisplay, silhouette_score, classification_report\n",
        "from sklearn.neighbors import KNeighborsClassifier\n",
        "from sklearn.naive_bayes import MultinomialNB\n",
        "from sklearn.linear_model import LogisticRegression\n",
        "from sklearn.dummy import DummyClassifier\n",
        "from sklearn.decomposition import PCA\n"
      ]
    },
    {
      "cell_type": "markdown",
      "metadata": {
        "id": "Fp_S69PSkB74"
      },
      "source": [
        "### **1) Baseline Model: Dummy Classifier**"
      ]
    },
    {
      "cell_type": "code",
      "execution_count": 236,
      "metadata": {
        "colab": {
          "base_uri": "https://localhost:8080/"
        },
        "id": "7mC-eFHkkB75",
        "outputId": "f6746ce3-c4d1-405a-ba08-5e547f246024"
      },
      "outputs": [
        {
          "name": "stdout",
          "output_type": "stream",
          "text": [
            "Baseline Model Accuracy: 0.5953\n",
            "\n",
            "Baseline Model Classification Report:\n",
            "                                      precision    recall  f1-score   support\n",
            "\n",
            "                        Driver Error       0.00      0.00      0.00      2826\n",
            "                               Other       0.00      0.00      0.00     96287\n",
            "               Environmental Factors       0.00      0.00      0.00      5845\n",
            "                 Mechanical Failures       0.00      0.00      0.00      1631\n",
            "           Pedestrian/Cyclist Errors       0.60      1.00      0.75    157033\n",
            "Alcohol/Drugs and Physical Condition       0.00      0.00      0.00       185\n",
            "\n",
            "                            accuracy                           0.60    263807\n",
            "                           macro avg       0.10      0.17      0.12    263807\n",
            "                        weighted avg       0.35      0.60      0.44    263807\n",
            "\n"
          ]
        }
      ],
      "source": [
        "# Fit the DummyClassifier (baseline model)\n",
        "dummy_clf = DummyClassifier(strategy='most_frequent', random_state=42)\n",
        "dummy_clf.fit(X_train, y_train)\n",
        "\n",
        "# Predict using the baseline model on the test set\n",
        "y_pred_baseline = dummy_clf.predict(X_test)\n",
        "\n",
        "# Calculate accuracy score\n",
        "accuracy_baseline = accuracy_score(y_test, y_pred_baseline)\n",
        "print(f\"Baseline Model Accuracy: {accuracy_baseline:.4f}\")\n",
        "\n",
        "# Generate the classification report\n",
        "print(\"\\nBaseline Model Classification Report:\")\n",
        "print(classification_report(y_test, y_pred_baseline, zero_division=0, target_names=relevant_data['PRIM_CONTRIBUTORY_CAUSE_GROUPED'].unique()));"
      ]
    },
    {
      "cell_type": "markdown",
      "metadata": {
        "id": "Pwf6i0r3rF68"
      },
      "source": [
        "**Baseline Model Evaluation**\n",
        "\n",
        "**Baseline Model Accuracy:** The accuracy of the baseline model is **0.5953**, indicating that the model correctly predicts approximately 59.53% of the instances. \n",
        "\n",
        "**Findings**\n",
        "- The model exhibits a strong **imbalance in predictions**, as it only predicts the class **\"Pedestrian/Cyclist Errors\"** effectively, achieving a recall of **1.00**. This indicates that all instances of this class were correctly identified.\n",
        "- However, the model fails to predict any instances of the other classes, resulting in **zero precision and recall** for them. This highlights a significant shortfall in the model's ability to generalize across all categories.\n",
        "- The **macro average** metrics indicate overall poor performance, with an F1-score of only **0.12**, emphasizing the need for improvement.\n",
        "\n",
        "\n",
        "Given the limitations of the baseline model, particularly its inability to predict multiple classes effectively, we will now implement a **Logistic Regression** model. This model is expected to provide a better understanding of the relationships between features and the target variable, potentially improving classification accuracy across all classes. Additionally, logistic regression will allow us to investigate the influence of different factors on the probability of each contributory cause, which is crucial for gaining actionable insights.\n",
        "\n",
        "Next, we will focus on tuning the logistic regression model to address the issues identified in the baseline evaluation and enhance its predictive capabilities.\n"
      ]
    },
    {
      "cell_type": "markdown",
      "metadata": {
        "id": "mP2xcX27rF68"
      },
      "source": [
        "### **2) Logistic Regression**\n",
        "\n",
        "The performance of the baseline dummy classifier highlights the need for a more robust modeling approach, such as Logistic Regression, which is capable of learning from the feature set and identifying patterns that the dummy model failed to capture."
      ]
    },
    {
      "cell_type": "markdown",
      "metadata": {
        "id": "J7A3vdilD1qh"
      },
      "source": [
        "**Data Scaling**\n",
        "Before fitting the logistic regression model, we applied **data scaling** to our features. Scaling is crucial for the following reasons:\n",
        "- **Uniformity**: Many machine learning algorithms, including logistic regression, are sensitive to the scale of the input features. Features with larger ranges can disproportionately influence the model's performance, leading to biased results.\n",
        "- **Improved Convergence**: Scaling helps gradient-based optimization algorithms converge faster and more reliably, which is especially important in models like logistic regression.\n",
        "\n",
        "**Principal Component Analysis (PCA)**\n",
        "After scaling the data, we performed **Principal Component Analysis (PCA)** to reduce the dimensionality of our feature space. PCA is necessary for several reasons:\n",
        "- **Dimensionality Reduction**: With a large number of features, PCA helps simplify the dataset by transforming it into a smaller set of uncorrelated components. This reduces the risk of overfitting while retaining most of the variance in the data.\n",
        "- **Noise Reduction**: PCA can help filter out noise and less informative features, leading to more robust model performance.\n",
        "- **Improved Interpretability**: By reducing the number of features, PCA makes it easier to visualize and interpret the underlying patterns in the data, aiding in decision-making.\n",
        "\n",
        "\n",
        "By scaling our data and applying PCA, we enhance the performance and interpretability of the logistic regression model, ensuring it is more efficient and effective at capturing the relationships within the data. This step is essential given the high dimensionality and varying scales of the features present in our dataset.\n"
      ]
    },
    {
      "cell_type": "code",
      "execution_count": 237,
      "metadata": {
        "id": "hJzNb_VjEF7g"
      },
      "outputs": [
        {
          "ename": "ValueError",
          "evalue": "Input X contains NaN.\nPCA does not accept missing values encoded as NaN natively. For supervised learning, you might want to consider sklearn.ensemble.HistGradientBoostingClassifier and Regressor which accept missing values encoded as NaNs natively. Alternatively, it is possible to preprocess the data, for instance by using an imputer transformer in a pipeline or drop samples with missing values. See https://scikit-learn.org/stable/modules/impute.html You can find a list of all estimators that handle NaN values at the following page: https://scikit-learn.org/stable/modules/impute.html#estimators-that-handle-nan-values",
          "output_type": "error",
          "traceback": [
            "\u001b[1;31m---------------------------------------------------------------------------\u001b[0m",
            "\u001b[1;31mValueError\u001b[0m                                Traceback (most recent call last)",
            "\u001b[1;32m<ipython-input-237-febef12c56a5>\u001b[0m in \u001b[0;36m<module>\u001b[1;34m\u001b[0m\n\u001b[0;32m      5\u001b[0m \u001b[0mpca\u001b[0m \u001b[1;33m=\u001b[0m \u001b[0mPCA\u001b[0m\u001b[1;33m(\u001b[0m\u001b[0mn_components\u001b[0m\u001b[1;33m=\u001b[0m\u001b[1;36m0.9\u001b[0m\u001b[1;33m,\u001b[0m \u001b[0msvd_solver\u001b[0m\u001b[1;33m=\u001b[0m\u001b[1;34m'full'\u001b[0m\u001b[1;33m)\u001b[0m  \u001b[1;31m# Retain 90% of variance\u001b[0m\u001b[1;33m\u001b[0m\u001b[1;33m\u001b[0m\u001b[0m\n\u001b[0;32m      6\u001b[0m \u001b[0mX_train_pca\u001b[0m \u001b[1;33m=\u001b[0m \u001b[0mpca\u001b[0m\u001b[1;33m.\u001b[0m\u001b[0mfit_transform\u001b[0m\u001b[1;33m(\u001b[0m\u001b[0mX_train_pca\u001b[0m\u001b[1;33m)\u001b[0m\u001b[1;33m\u001b[0m\u001b[1;33m\u001b[0m\u001b[0m\n\u001b[1;32m----> 7\u001b[1;33m \u001b[0mX_test_pca\u001b[0m \u001b[1;33m=\u001b[0m \u001b[0mpca\u001b[0m\u001b[1;33m.\u001b[0m\u001b[0mtransform\u001b[0m\u001b[1;33m(\u001b[0m\u001b[0mX_test_pca\u001b[0m\u001b[1;33m)\u001b[0m\u001b[1;33m\u001b[0m\u001b[1;33m\u001b[0m\u001b[0m\n\u001b[0m",
            "\u001b[1;32mc:\\Users\\Richard\\anaconda3\\envs\\learn-env\\lib\\site-packages\\sklearn\\utils\\_set_output.py\u001b[0m in \u001b[0;36mwrapped\u001b[1;34m(self, X, *args, **kwargs)\u001b[0m\n\u001b[0;32m    155\u001b[0m     \u001b[1;33m@\u001b[0m\u001b[0mwraps\u001b[0m\u001b[1;33m(\u001b[0m\u001b[0mf\u001b[0m\u001b[1;33m)\u001b[0m\u001b[1;33m\u001b[0m\u001b[1;33m\u001b[0m\u001b[0m\n\u001b[0;32m    156\u001b[0m     \u001b[1;32mdef\u001b[0m \u001b[0mwrapped\u001b[0m\u001b[1;33m(\u001b[0m\u001b[0mself\u001b[0m\u001b[1;33m,\u001b[0m \u001b[0mX\u001b[0m\u001b[1;33m,\u001b[0m \u001b[1;33m*\u001b[0m\u001b[0margs\u001b[0m\u001b[1;33m,\u001b[0m \u001b[1;33m**\u001b[0m\u001b[0mkwargs\u001b[0m\u001b[1;33m)\u001b[0m\u001b[1;33m:\u001b[0m\u001b[1;33m\u001b[0m\u001b[1;33m\u001b[0m\u001b[0m\n\u001b[1;32m--> 157\u001b[1;33m         \u001b[0mdata_to_wrap\u001b[0m \u001b[1;33m=\u001b[0m \u001b[0mf\u001b[0m\u001b[1;33m(\u001b[0m\u001b[0mself\u001b[0m\u001b[1;33m,\u001b[0m \u001b[0mX\u001b[0m\u001b[1;33m,\u001b[0m \u001b[1;33m*\u001b[0m\u001b[0margs\u001b[0m\u001b[1;33m,\u001b[0m \u001b[1;33m**\u001b[0m\u001b[0mkwargs\u001b[0m\u001b[1;33m)\u001b[0m\u001b[1;33m\u001b[0m\u001b[1;33m\u001b[0m\u001b[0m\n\u001b[0m\u001b[0;32m    158\u001b[0m         \u001b[1;32mif\u001b[0m \u001b[0misinstance\u001b[0m\u001b[1;33m(\u001b[0m\u001b[0mdata_to_wrap\u001b[0m\u001b[1;33m,\u001b[0m \u001b[0mtuple\u001b[0m\u001b[1;33m)\u001b[0m\u001b[1;33m:\u001b[0m\u001b[1;33m\u001b[0m\u001b[1;33m\u001b[0m\u001b[0m\n\u001b[0;32m    159\u001b[0m             \u001b[1;31m# only wrap the first output for cross decomposition\u001b[0m\u001b[1;33m\u001b[0m\u001b[1;33m\u001b[0m\u001b[1;33m\u001b[0m\u001b[0m\n",
            "\u001b[1;32mc:\\Users\\Richard\\anaconda3\\envs\\learn-env\\lib\\site-packages\\sklearn\\decomposition\\_base.py\u001b[0m in \u001b[0;36mtransform\u001b[1;34m(self, X)\u001b[0m\n\u001b[0;32m    119\u001b[0m         \u001b[0mcheck_is_fitted\u001b[0m\u001b[1;33m(\u001b[0m\u001b[0mself\u001b[0m\u001b[1;33m)\u001b[0m\u001b[1;33m\u001b[0m\u001b[1;33m\u001b[0m\u001b[0m\n\u001b[0;32m    120\u001b[0m \u001b[1;33m\u001b[0m\u001b[0m\n\u001b[1;32m--> 121\u001b[1;33m         \u001b[0mX\u001b[0m \u001b[1;33m=\u001b[0m \u001b[0mself\u001b[0m\u001b[1;33m.\u001b[0m\u001b[0m_validate_data\u001b[0m\u001b[1;33m(\u001b[0m\u001b[0mX\u001b[0m\u001b[1;33m,\u001b[0m \u001b[0mdtype\u001b[0m\u001b[1;33m=\u001b[0m\u001b[1;33m[\u001b[0m\u001b[0mnp\u001b[0m\u001b[1;33m.\u001b[0m\u001b[0mfloat64\u001b[0m\u001b[1;33m,\u001b[0m \u001b[0mnp\u001b[0m\u001b[1;33m.\u001b[0m\u001b[0mfloat32\u001b[0m\u001b[1;33m]\u001b[0m\u001b[1;33m,\u001b[0m \u001b[0mreset\u001b[0m\u001b[1;33m=\u001b[0m\u001b[1;32mFalse\u001b[0m\u001b[1;33m)\u001b[0m\u001b[1;33m\u001b[0m\u001b[1;33m\u001b[0m\u001b[0m\n\u001b[0m\u001b[0;32m    122\u001b[0m         \u001b[1;32mif\u001b[0m \u001b[0mself\u001b[0m\u001b[1;33m.\u001b[0m\u001b[0mmean_\u001b[0m \u001b[1;32mis\u001b[0m \u001b[1;32mnot\u001b[0m \u001b[1;32mNone\u001b[0m\u001b[1;33m:\u001b[0m\u001b[1;33m\u001b[0m\u001b[1;33m\u001b[0m\u001b[0m\n\u001b[0;32m    123\u001b[0m             \u001b[0mX\u001b[0m \u001b[1;33m=\u001b[0m \u001b[0mX\u001b[0m \u001b[1;33m-\u001b[0m \u001b[0mself\u001b[0m\u001b[1;33m.\u001b[0m\u001b[0mmean_\u001b[0m\u001b[1;33m\u001b[0m\u001b[1;33m\u001b[0m\u001b[0m\n",
            "\u001b[1;32mc:\\Users\\Richard\\anaconda3\\envs\\learn-env\\lib\\site-packages\\sklearn\\base.py\u001b[0m in \u001b[0;36m_validate_data\u001b[1;34m(self, X, y, reset, validate_separately, cast_to_ndarray, **check_params)\u001b[0m\n\u001b[0;32m    603\u001b[0m                 \u001b[0mout\u001b[0m \u001b[1;33m=\u001b[0m \u001b[0mX\u001b[0m\u001b[1;33m,\u001b[0m \u001b[0my\u001b[0m\u001b[1;33m\u001b[0m\u001b[1;33m\u001b[0m\u001b[0m\n\u001b[0;32m    604\u001b[0m         \u001b[1;32melif\u001b[0m \u001b[1;32mnot\u001b[0m \u001b[0mno_val_X\u001b[0m \u001b[1;32mand\u001b[0m \u001b[0mno_val_y\u001b[0m\u001b[1;33m:\u001b[0m\u001b[1;33m\u001b[0m\u001b[1;33m\u001b[0m\u001b[0m\n\u001b[1;32m--> 605\u001b[1;33m             \u001b[0mout\u001b[0m \u001b[1;33m=\u001b[0m \u001b[0mcheck_array\u001b[0m\u001b[1;33m(\u001b[0m\u001b[0mX\u001b[0m\u001b[1;33m,\u001b[0m \u001b[0minput_name\u001b[0m\u001b[1;33m=\u001b[0m\u001b[1;34m\"X\"\u001b[0m\u001b[1;33m,\u001b[0m \u001b[1;33m**\u001b[0m\u001b[0mcheck_params\u001b[0m\u001b[1;33m)\u001b[0m\u001b[1;33m\u001b[0m\u001b[1;33m\u001b[0m\u001b[0m\n\u001b[0m\u001b[0;32m    606\u001b[0m         \u001b[1;32melif\u001b[0m \u001b[0mno_val_X\u001b[0m \u001b[1;32mand\u001b[0m \u001b[1;32mnot\u001b[0m \u001b[0mno_val_y\u001b[0m\u001b[1;33m:\u001b[0m\u001b[1;33m\u001b[0m\u001b[1;33m\u001b[0m\u001b[0m\n\u001b[0;32m    607\u001b[0m             \u001b[0mout\u001b[0m \u001b[1;33m=\u001b[0m \u001b[0m_check_y\u001b[0m\u001b[1;33m(\u001b[0m\u001b[0my\u001b[0m\u001b[1;33m,\u001b[0m \u001b[1;33m**\u001b[0m\u001b[0mcheck_params\u001b[0m\u001b[1;33m)\u001b[0m\u001b[1;33m\u001b[0m\u001b[1;33m\u001b[0m\u001b[0m\n",
            "\u001b[1;32mc:\\Users\\Richard\\anaconda3\\envs\\learn-env\\lib\\site-packages\\sklearn\\utils\\validation.py\u001b[0m in \u001b[0;36mcheck_array\u001b[1;34m(array, accept_sparse, accept_large_sparse, dtype, order, copy, force_all_finite, ensure_2d, allow_nd, ensure_min_samples, ensure_min_features, estimator, input_name)\u001b[0m\n\u001b[0;32m    955\u001b[0m \u001b[1;33m\u001b[0m\u001b[0m\n\u001b[0;32m    956\u001b[0m         \u001b[1;32mif\u001b[0m \u001b[0mforce_all_finite\u001b[0m\u001b[1;33m:\u001b[0m\u001b[1;33m\u001b[0m\u001b[1;33m\u001b[0m\u001b[0m\n\u001b[1;32m--> 957\u001b[1;33m             _assert_all_finite(\n\u001b[0m\u001b[0;32m    958\u001b[0m                 \u001b[0marray\u001b[0m\u001b[1;33m,\u001b[0m\u001b[1;33m\u001b[0m\u001b[1;33m\u001b[0m\u001b[0m\n\u001b[0;32m    959\u001b[0m                 \u001b[0minput_name\u001b[0m\u001b[1;33m=\u001b[0m\u001b[0minput_name\u001b[0m\u001b[1;33m,\u001b[0m\u001b[1;33m\u001b[0m\u001b[1;33m\u001b[0m\u001b[0m\n",
            "\u001b[1;32mc:\\Users\\Richard\\anaconda3\\envs\\learn-env\\lib\\site-packages\\sklearn\\utils\\validation.py\u001b[0m in \u001b[0;36m_assert_all_finite\u001b[1;34m(X, allow_nan, msg_dtype, estimator_name, input_name)\u001b[0m\n\u001b[0;32m    120\u001b[0m         \u001b[1;32mreturn\u001b[0m\u001b[1;33m\u001b[0m\u001b[1;33m\u001b[0m\u001b[0m\n\u001b[0;32m    121\u001b[0m \u001b[1;33m\u001b[0m\u001b[0m\n\u001b[1;32m--> 122\u001b[1;33m     _assert_all_finite_element_wise(\n\u001b[0m\u001b[0;32m    123\u001b[0m         \u001b[0mX\u001b[0m\u001b[1;33m,\u001b[0m\u001b[1;33m\u001b[0m\u001b[1;33m\u001b[0m\u001b[0m\n\u001b[0;32m    124\u001b[0m         \u001b[0mxp\u001b[0m\u001b[1;33m=\u001b[0m\u001b[0mxp\u001b[0m\u001b[1;33m,\u001b[0m\u001b[1;33m\u001b[0m\u001b[1;33m\u001b[0m\u001b[0m\n",
            "\u001b[1;32mc:\\Users\\Richard\\anaconda3\\envs\\learn-env\\lib\\site-packages\\sklearn\\utils\\validation.py\u001b[0m in \u001b[0;36m_assert_all_finite_element_wise\u001b[1;34m(X, xp, allow_nan, msg_dtype, estimator_name, input_name)\u001b[0m\n\u001b[0;32m    169\u001b[0m                 \u001b[1;34m\"#estimators-that-handle-nan-values\"\u001b[0m\u001b[1;33m\u001b[0m\u001b[1;33m\u001b[0m\u001b[0m\n\u001b[0;32m    170\u001b[0m             )\n\u001b[1;32m--> 171\u001b[1;33m         \u001b[1;32mraise\u001b[0m \u001b[0mValueError\u001b[0m\u001b[1;33m(\u001b[0m\u001b[0mmsg_err\u001b[0m\u001b[1;33m)\u001b[0m\u001b[1;33m\u001b[0m\u001b[1;33m\u001b[0m\u001b[0m\n\u001b[0m\u001b[0;32m    172\u001b[0m \u001b[1;33m\u001b[0m\u001b[0m\n\u001b[0;32m    173\u001b[0m \u001b[1;33m\u001b[0m\u001b[0m\n",
            "\u001b[1;31mValueError\u001b[0m: Input X contains NaN.\nPCA does not accept missing values encoded as NaN natively. For supervised learning, you might want to consider sklearn.ensemble.HistGradientBoostingClassifier and Regressor which accept missing values encoded as NaNs natively. Alternatively, it is possible to preprocess the data, for instance by using an imputer transformer in a pipeline or drop samples with missing values. See https://scikit-learn.org/stable/modules/impute.html You can find a list of all estimators that handle NaN values at the following page: https://scikit-learn.org/stable/modules/impute.html#estimators-that-handle-nan-values"
          ]
        }
      ],
      "source": [
        "scaler = StandardScaler()\n",
        "X_train_pca = scaler.fit_transform(X_train)\n",
        "X_test_pca = scaler.transform(X_test)\n",
        "\n",
        "pca = PCA(n_components=0.9, svd_solver='full')  # Retain 90% of variance\n",
        "X_train_pca = pca.fit_transform(X_train_pca)\n",
        "X_test_pca = pca.transform(X_test_pca)\n"
      ]
    },
    {
      "cell_type": "code",
      "execution_count": 53,
      "metadata": {
        "colab": {
          "base_uri": "https://localhost:8080/"
        },
        "id": "5IMCA7NUrF69",
        "outputId": "7fed31c6-8576-45ab-bb57-f75204be2dd9"
      },
      "outputs": [
        {
          "name": "stderr",
          "output_type": "stream",
          "text": [
            "/usr/local/lib/python3.10/dist-packages/sklearn/linear_model/_logistic.py:1247: FutureWarning: 'multi_class' was deprecated in version 1.5 and will be removed in 1.7. From then on, it will always use 'multinomial'. Leave it to its default value to avoid this warning.\n",
            "  warnings.warn(\n"
          ]
        },
        {
          "name": "stdout",
          "output_type": "stream",
          "text": [
            "Baseline Model Accuracy: 0.6372\n",
            "\n",
            "Logistic Regression Model Classification Report:\n",
            "                                      precision    recall  f1-score   support\n",
            "\n",
            "                        Driver Error       0.00      0.00      0.00       278\n",
            "                               Other       0.00      0.00      0.00      9589\n",
            "               Environmental Factors       0.00      0.00      0.00       591\n",
            "Alcohol/Drugs and Physical Condition       0.00      0.00      0.00       167\n",
            "                 Mechanical Failures       0.60      1.00      0.75     15707\n",
            "           Pedestrian/Cyclist Errors       0.00      0.00      0.00        21\n",
            "\n",
            "                            accuracy                           0.60     26353\n",
            "                           macro avg       0.10      0.17      0.12     26353\n",
            "                        weighted avg       0.36      0.60      0.45     26353\n",
            "\n"
          ]
        }
      ],
      "source": [
        "logreg = LogisticRegression(max_iter=1000, multi_class='multinomial', solver='lbfgs', random_state=42) #instaniate our logistic regression model\n",
        "\n",
        "logreg.fit(X_train_pca, y_train)\n",
        "\n",
        "y_pred = logreg.predict(X_test_pca)\n",
        "\n",
        "# Calculate accuracy score\n",
        "accuracy_baseline = accuracy_score(y_test, y_pred)\n",
        "print(f\"Baseline Model Accuracy: {accuracy_baseline:.4f}\")\n",
        "\n",
        "# Generate the classification report\n",
        "print(\"\\nLogistic Regression Model Classification Report:\")\n",
        "print(classification_report(y_test, y_pred_baseline, zero_division=0, target_names=relevant_data['PRIM_CONTRIBUTORY_CAUSE_GROUPED'].unique()));\n"
      ]
    },
    {
      "cell_type": "code",
      "execution_count": 54,
      "metadata": {
        "colab": {
          "base_uri": "https://localhost:8080/"
        },
        "id": "UNr_SbDUQMVo",
        "outputId": "11bf97c6-83d6-48d2-b630-bdbed6b4a0e2"
      },
      "outputs": [
        {
          "name": "stdout",
          "output_type": "stream",
          "text": [
            "Logistic Regression Model after SMOTE:\n",
            "accuracy score 0.33518005540166207\n",
            "              precision    recall  f1-score   support\n",
            "\n",
            "           0       0.06      0.52      0.10       278\n",
            "           1       0.53      0.35      0.42      9589\n",
            "           2       0.11      0.63      0.19       591\n",
            "           3       0.02      0.28      0.03       167\n",
            "           4       0.82      0.31      0.45     15707\n",
            "           5       0.00      0.29      0.00        21\n",
            "\n",
            "    accuracy                           0.34     26353\n",
            "   macro avg       0.26      0.40      0.20     26353\n",
            "weighted avg       0.68      0.34      0.43     26353\n",
            "\n"
          ]
        }
      ],
      "source": [
        "from imblearn.over_sampling import SMOTE\n",
        "from sklearn.linear_model import LogisticRegression\n",
        "from sklearn.metrics import classification_report\n",
        "\n",
        "# Apply SMOTE to oversample the minority classes\n",
        "smote = SMOTE(random_state=42)\n",
        "X_train_resampled, y_train_resampled = smote.fit_resample(X_train_pca, y_train)\n",
        "\n",
        "\n",
        "\n",
        "# Fit the logistic regression model on resampled data\n",
        "log_reg_smote = LogisticRegression(max_iter=10000, solver='lbfgs', penalty ='l2',C=1)\n",
        "log_reg_smote.fit(X_train_resampled, y_train_resampled)\n",
        "\n",
        "# Predict on the test set\n",
        "y_pred_smote = log_reg_smote.predict(X_test_pca)\n",
        "\n",
        "# Print classification report\n",
        "print(\"Logistic Regression Model after SMOTE:\")\n",
        "print('accuracy score', accuracy_score(y_test, y_pred_smote,zero_division=0, target_names=relevant_data['PRIM_CONTRIBUTORY_CAUSE_GROUPED'].unique()));))\n",
        "print(classification_report(y_test, y_pred_smote))\n"
      ]
    },
    {
      "cell_type": "code",
      "execution_count": 55,
      "metadata": {
        "colab": {
          "base_uri": "https://localhost:8080/"
        },
        "id": "HkD1QPJf4MhZ",
        "outputId": "4576b38d-0b0e-4890-b189-99a5efc9cece"
      },
      "outputs": [
        {
          "name": "stdout",
          "output_type": "stream",
          "text": [
            "Fitting 3 folds for each of 3 candidates, totalling 9 fits\n"
          ]
        },
        {
          "name": "stderr",
          "output_type": "stream",
          "text": [
            "/usr/local/lib/python3.10/dist-packages/sklearn/model_selection/_search.py:320: UserWarning: The total space of parameters 3 is smaller than n_iter=5. Running 3 iterations. For exhaustive searches, use GridSearchCV.\n",
            "  warnings.warn(\n",
            "/usr/local/lib/python3.10/dist-packages/sklearn/linear_model/_logistic.py:1247: FutureWarning: 'multi_class' was deprecated in version 1.5 and will be removed in 1.7. From then on, it will always use 'multinomial'. Leave it to its default value to avoid this warning.\n",
            "  warnings.warn(\n"
          ]
        },
        {
          "name": "stdout",
          "output_type": "stream",
          "text": [
            "Best Hyperparameters: {'solver': 'lbfgs', 'penalty': 'l2', 'C': 1}\n",
            "Best Score (F1): 0.6107428247146846\n"
          ]
        }
      ],
      "source": [
        "from sklearn.model_selection import RandomizedSearchCV\n",
        "\n",
        "# Initialize model\n",
        "logreg = LogisticRegression(max_iter=1000, multi_class='multinomial', random_state=42)\n",
        "\n",
        "# Define a simplified param grid\n",
        "param_grid = {\n",
        "    'C': [0.01, 1, 100],  # Regularization strength\n",
        "    'penalty': ['l2'],     # Focus on one penalty\n",
        "    'solver': ['lbfgs'],   # Use one solver\n",
        "}\n",
        "\n",
        "# Set up RandomizedSearchCV\n",
        "random_search = RandomizedSearchCV(estimator=logreg,\n",
        "                                   param_distributions=param_grid,\n",
        "                                   n_iter=5,             # Fewer iterations\n",
        "                                   scoring='f1_weighted',\n",
        "                                   cv=3,                 # Fewer folds\n",
        "                                   n_jobs=-1,\n",
        "                                   verbose=1,\n",
        "                                   random_state=42)\n",
        "\n",
        "# Fit the model\n",
        "random_search.fit(X_train_pca, y_train)  # Make sure you're using PCA here\n",
        "\n",
        "# Display the best parameters and score\n",
        "print(\"Best Hyperparameters:\", random_search.best_params_)\n",
        "print(\"Best Score (F1):\", random_search.best_score_)\n"
      ]
    },
    {
      "cell_type": "code",
      "execution_count": 56,
      "metadata": {
        "colab": {
          "base_uri": "https://localhost:8080/"
        },
        "id": "hBHxZcMpy3d3",
        "outputId": "268f2c4a-6733-4fa1-f9a7-fe6700043a67"
      },
      "outputs": [
        {
          "name": "stdout",
          "output_type": "stream",
          "text": [
            "Random Forest Accuracy: 0.6183\n",
            "Classification Report:\n",
            "                                      precision    recall  f1-score   support\n",
            "\n",
            "                        Driver Error       0.18      0.01      0.01       278\n",
            "                               Other       0.53      0.41      0.46      9589\n",
            "               Environmental Factors       0.28      0.05      0.08       591\n",
            "Alcohol/Drugs and Physical Condition       0.00      0.00      0.00       167\n",
            "                 Mechanical Failures       0.66      0.78      0.72     15707\n",
            "           Pedestrian/Cyclist Errors       0.00      0.00      0.00        21\n",
            "\n",
            "                            accuracy                           0.62     26353\n",
            "                           macro avg       0.27      0.21      0.21     26353\n",
            "                        weighted avg       0.59      0.62      0.60     26353\n",
            "\n"
          ]
        }
      ],
      "source": [
        "# Initialize the Random Forest classifier\n",
        "rf_model = RandomForestClassifier(random_state=42, class_weight='balanced')\n",
        "\n",
        "# Fit the model on the training data\n",
        "rf_model.fit(X_train_pca, y_train)\n",
        "# Make predictions on the test set\n",
        "y_pred_rf = rf_model.predict(X_test_pca)\n",
        "\n",
        "# Evaluate the model\n",
        "accuracy_rf = accuracy_score(y_test, y_pred_rf)\n",
        "\n",
        "class_report_rf = classification_report(y_test, y_pred_rf,zero_division=0, target_names=relevant_data['PRIM_CONTRIBUTORY_CAUSE_GROUPED'].unique())\n",
        "\n",
        "print(f'Random Forest Accuracy: {accuracy_rf:.4f}')\n",
        "print('Classification Report:')\n",
        "print(class_report_rf)\n"
      ]
    },
    {
      "cell_type": "code",
      "execution_count": 57,
      "metadata": {
        "colab": {
          "base_uri": "https://localhost:8080/"
        },
        "id": "iS01MFNAkB77",
        "outputId": "31515b0d-4f9f-4e34-f353-49dbbd0d6543"
      },
      "outputs": [
        {
          "name": "stdout",
          "output_type": "stream",
          "text": [
            "XGBoost Accuracy: 0.6325\n",
            "Classification Report:\n",
            "              precision    recall  f1-score   support\n",
            "\n",
            "           0       0.27      0.01      0.03       278\n",
            "           1       0.54      0.48      0.51      9589\n",
            "           2       0.30      0.08      0.12       591\n",
            "           3       0.17      0.01      0.01       167\n",
            "           4       0.68      0.76      0.72     15707\n",
            "           5       0.00      0.00      0.00        21\n",
            "\n",
            "    accuracy                           0.63     26353\n",
            "   macro avg       0.33      0.22      0.23     26353\n",
            "weighted avg       0.61      0.63      0.62     26353\n",
            "\n"
          ]
        }
      ],
      "source": [
        "import xgboost as xgb\n",
        "\n",
        "# Convert your data into DMatrix format, which is optimized for XGBoost\n",
        "dtrain = xgb.DMatrix(X_train_pca, label=y_train)\n",
        "dtest = xgb.DMatrix(X_test_pca, label=y_test)\n",
        "\n",
        "# Set parameters for XGBoost\n",
        "params = {\n",
        "    'objective': 'multi:softmax',  # Multi-class classification\n",
        "    'num_class': len(y.unique()),   # Number of classes\n",
        "    'max_depth': 6,                 # Maximum depth of the tree\n",
        "    'eta': 0.3,                     # Learning rate\n",
        "    'subsample': 0.8,               # Subsample ratio\n",
        "    'colsample_bytree': 0.8,        # Column sample ratio\n",
        "    'seed': 42                      # Random seed\n",
        "}\n",
        "\n",
        "# Train the model\n",
        "xgb_model = xgb.train(params, dtrain, num_boost_round=100)\n",
        "# Make predictions on the test set\n",
        "y_pred_xgb = xgb_model.predict(dtest)\n",
        "\n",
        "# Evaluate the model\n",
        "accuracy_xgb = accuracy_score(y_test, y_pred_xgb)\n",
        "class_report_xgb = classification_report(y_test, y_pred_xgb)\n",
        "\n",
        "print(f'XGBoost Accuracy: {accuracy_xgb:.4f}')\n",
        "print('Classification Report:')\n",
        "print(class_report_xgb)\n"
      ]
    },
    {
      "cell_type": "code",
      "execution_count": 58,
      "metadata": {
        "colab": {
          "base_uri": "https://localhost:8080/",
          "height": 1000
        },
        "id": "53fKb65bkB78",
        "outputId": "869cc0de-3b7d-4c1e-981b-fcc0f652ce14"
      },
      "outputs": [
        {
          "name": "stdout",
          "output_type": "stream",
          "text": [
            "Num GPUs Available:  0\n",
            "Epoch 1/50\n",
            "\u001b[1m1538/1538\u001b[0m \u001b[32m━━━━━━━━━━━━━━━━━━━━\u001b[0m\u001b[37m\u001b[0m \u001b[1m7s\u001b[0m 4ms/step - accuracy: 0.5108 - loss: 1.1668 - val_accuracy: 0.6402 - val_loss: 0.7938\n",
            "Epoch 2/50\n",
            "\u001b[1m1538/1538\u001b[0m \u001b[32m━━━━━━━━━━━━━━━━━━━━\u001b[0m\u001b[37m\u001b[0m \u001b[1m8s\u001b[0m 2ms/step - accuracy: 0.6236 - loss: 0.8157 - val_accuracy: 0.6466 - val_loss: 0.7688\n",
            "Epoch 3/50\n",
            "\u001b[1m1538/1538\u001b[0m \u001b[32m━━━━━━━━━━━━━━━━━━━━\u001b[0m\u001b[37m\u001b[0m \u001b[1m4s\u001b[0m 2ms/step - accuracy: 0.6227 - loss: 0.7904 - val_accuracy: 0.6477 - val_loss: 0.7573\n",
            "Epoch 4/50\n",
            "\u001b[1m1538/1538\u001b[0m \u001b[32m━━━━━━━━━━━━━━━━━━━━\u001b[0m\u001b[37m\u001b[0m \u001b[1m6s\u001b[0m 3ms/step - accuracy: 0.6260 - loss: 0.7734 - val_accuracy: 0.6482 - val_loss: 0.7520\n",
            "Epoch 5/50\n",
            "\u001b[1m1538/1538\u001b[0m \u001b[32m━━━━━━━━━━━━━━━━━━━━\u001b[0m\u001b[37m\u001b[0m \u001b[1m4s\u001b[0m 2ms/step - accuracy: 0.6279 - loss: 0.7697 - val_accuracy: 0.6486 - val_loss: 0.7475\n",
            "Epoch 6/50\n",
            "\u001b[1m1538/1538\u001b[0m \u001b[32m━━━━━━━━━━━━━━━━━━━━\u001b[0m\u001b[37m\u001b[0m \u001b[1m5s\u001b[0m 2ms/step - accuracy: 0.6265 - loss: 0.7618 - val_accuracy: 0.6490 - val_loss: 0.7450\n",
            "Epoch 7/50\n",
            "\u001b[1m1538/1538\u001b[0m \u001b[32m━━━━━━━━━━━━━━━━━━━━\u001b[0m\u001b[37m\u001b[0m \u001b[1m5s\u001b[0m 3ms/step - accuracy: 0.6331 - loss: 0.7672 - val_accuracy: 0.6486 - val_loss: 0.7437\n",
            "Epoch 8/50\n",
            "\u001b[1m1538/1538\u001b[0m \u001b[32m━━━━━━━━━━━━━━━━━━━━\u001b[0m\u001b[37m\u001b[0m \u001b[1m4s\u001b[0m 2ms/step - accuracy: 0.6266 - loss: 0.7591 - val_accuracy: 0.6515 - val_loss: 0.7402\n",
            "Epoch 9/50\n",
            "\u001b[1m1538/1538\u001b[0m \u001b[32m━━━━━━━━━━━━━━━━━━━━\u001b[0m\u001b[37m\u001b[0m \u001b[1m4s\u001b[0m 2ms/step - accuracy: 0.6343 - loss: 0.7543 - val_accuracy: 0.6504 - val_loss: 0.7418\n",
            "Epoch 10/50\n",
            "\u001b[1m1538/1538\u001b[0m \u001b[32m━━━━━━━━━━━━━━━━━━━━\u001b[0m\u001b[37m\u001b[0m \u001b[1m3s\u001b[0m 2ms/step - accuracy: 0.6285 - loss: 0.7524 - val_accuracy: 0.6520 - val_loss: 0.7374\n",
            "Epoch 11/50\n",
            "\u001b[1m1538/1538\u001b[0m \u001b[32m━━━━━━━━━━━━━━━━━━━━\u001b[0m\u001b[37m\u001b[0m \u001b[1m7s\u001b[0m 3ms/step - accuracy: 0.6297 - loss: 0.7511 - val_accuracy: 0.6529 - val_loss: 0.7373\n",
            "Epoch 12/50\n",
            "\u001b[1m1538/1538\u001b[0m \u001b[32m━━━━━━━━━━━━━━━━━━━━\u001b[0m\u001b[37m\u001b[0m \u001b[1m9s\u001b[0m 2ms/step - accuracy: 0.6371 - loss: 0.7469 - val_accuracy: 0.6530 - val_loss: 0.7368\n",
            "Epoch 13/50\n",
            "\u001b[1m1538/1538\u001b[0m \u001b[32m━━━━━━━━━━━━━━━━━━━━\u001b[0m\u001b[37m\u001b[0m \u001b[1m5s\u001b[0m 3ms/step - accuracy: 0.6339 - loss: 0.7506 - val_accuracy: 0.6500 - val_loss: 0.7357\n",
            "Epoch 14/50\n",
            "\u001b[1m1538/1538\u001b[0m \u001b[32m━━━━━━━━━━━━━━━━━━━━\u001b[0m\u001b[37m\u001b[0m \u001b[1m4s\u001b[0m 3ms/step - accuracy: 0.6313 - loss: 0.7478 - val_accuracy: 0.6494 - val_loss: 0.7369\n",
            "Epoch 15/50\n",
            "\u001b[1m1538/1538\u001b[0m \u001b[32m━━━━━━━━━━━━━━━━━━━━\u001b[0m\u001b[37m\u001b[0m \u001b[1m5s\u001b[0m 2ms/step - accuracy: 0.6362 - loss: 0.7440 - val_accuracy: 0.6517 - val_loss: 0.7357\n",
            "Epoch 16/50\n",
            "\u001b[1m1538/1538\u001b[0m \u001b[32m━━━━━━━━━━━━━━━━━━━━\u001b[0m\u001b[37m\u001b[0m \u001b[1m4s\u001b[0m 3ms/step - accuracy: 0.6368 - loss: 0.7395 - val_accuracy: 0.6540 - val_loss: 0.7345\n",
            "Epoch 17/50\n",
            "\u001b[1m1538/1538\u001b[0m \u001b[32m━━━━━━━━━━━━━━━━━━━━\u001b[0m\u001b[37m\u001b[0m \u001b[1m5s\u001b[0m 3ms/step - accuracy: 0.6377 - loss: 0.7383 - val_accuracy: 0.6513 - val_loss: 0.7344\n",
            "Epoch 18/50\n",
            "\u001b[1m1538/1538\u001b[0m \u001b[32m━━━━━━━━━━━━━━━━━━━━\u001b[0m\u001b[37m\u001b[0m \u001b[1m4s\u001b[0m 2ms/step - accuracy: 0.6392 - loss: 0.7359 - val_accuracy: 0.6487 - val_loss: 0.7346\n",
            "Epoch 19/50\n",
            "\u001b[1m1538/1538\u001b[0m \u001b[32m━━━━━━━━━━━━━━━━━━━━\u001b[0m\u001b[37m\u001b[0m \u001b[1m6s\u001b[0m 3ms/step - accuracy: 0.6400 - loss: 0.7401 - val_accuracy: 0.6503 - val_loss: 0.7341\n",
            "Epoch 20/50\n",
            "\u001b[1m1538/1538\u001b[0m \u001b[32m━━━━━━━━━━━━━━━━━━━━\u001b[0m\u001b[37m\u001b[0m \u001b[1m6s\u001b[0m 3ms/step - accuracy: 0.6339 - loss: 0.7451 - val_accuracy: 0.6473 - val_loss: 0.7335\n",
            "Epoch 21/50\n",
            "\u001b[1m1538/1538\u001b[0m \u001b[32m━━━━━━━━━━━━━━━━━━━━\u001b[0m\u001b[37m\u001b[0m \u001b[1m4s\u001b[0m 2ms/step - accuracy: 0.6446 - loss: 0.7312 - val_accuracy: 0.6543 - val_loss: 0.7324\n",
            "Epoch 22/50\n",
            "\u001b[1m1538/1538\u001b[0m \u001b[32m━━━━━━━━━━━━━━━━━━━━\u001b[0m\u001b[37m\u001b[0m \u001b[1m3s\u001b[0m 2ms/step - accuracy: 0.6387 - loss: 0.7359 - val_accuracy: 0.6580 - val_loss: 0.7326\n",
            "Epoch 23/50\n",
            "\u001b[1m1538/1538\u001b[0m \u001b[32m━━━━━━━━━━━━━━━━━━━━\u001b[0m\u001b[37m\u001b[0m \u001b[1m7s\u001b[0m 4ms/step - accuracy: 0.6396 - loss: 0.7362 - val_accuracy: 0.6575 - val_loss: 0.7326\n",
            "Epoch 24/50\n",
            "\u001b[1m1538/1538\u001b[0m \u001b[32m━━━━━━━━━━━━━━━━━━━━\u001b[0m\u001b[37m\u001b[0m \u001b[1m8s\u001b[0m 2ms/step - accuracy: 0.6337 - loss: 0.7347 - val_accuracy: 0.6559 - val_loss: 0.7317\n",
            "Epoch 25/50\n",
            "\u001b[1m1538/1538\u001b[0m \u001b[32m━━━━━━━━━━━━━━━━━━━━\u001b[0m\u001b[37m\u001b[0m \u001b[1m7s\u001b[0m 4ms/step - accuracy: 0.6374 - loss: 0.7386 - val_accuracy: 0.6568 - val_loss: 0.7326\n",
            "Epoch 26/50\n",
            "\u001b[1m1538/1538\u001b[0m \u001b[32m━━━━━━━━━━━━━━━━━━━━\u001b[0m\u001b[37m\u001b[0m \u001b[1m8s\u001b[0m 2ms/step - accuracy: 0.6402 - loss: 0.7368 - val_accuracy: 0.6532 - val_loss: 0.7318\n",
            "Epoch 27/50\n",
            "\u001b[1m1538/1538\u001b[0m \u001b[32m━━━━━━━━━━━━━━━━━━━━\u001b[0m\u001b[37m\u001b[0m \u001b[1m5s\u001b[0m 3ms/step - accuracy: 0.6395 - loss: 0.7403 - val_accuracy: 0.6547 - val_loss: 0.7313\n",
            "Epoch 28/50\n",
            "\u001b[1m1538/1538\u001b[0m \u001b[32m━━━━━━━━━━━━━━━━━━━━\u001b[0m\u001b[37m\u001b[0m \u001b[1m5s\u001b[0m 3ms/step - accuracy: 0.6448 - loss: 0.7313 - val_accuracy: 0.6598 - val_loss: 0.7316\n",
            "Epoch 29/50\n",
            "\u001b[1m1538/1538\u001b[0m \u001b[32m━━━━━━━━━━━━━━━━━━━━\u001b[0m\u001b[37m\u001b[0m \u001b[1m4s\u001b[0m 2ms/step - accuracy: 0.6430 - loss: 0.7293 - val_accuracy: 0.6561 - val_loss: 0.7315\n",
            "Epoch 30/50\n",
            "\u001b[1m1538/1538\u001b[0m \u001b[32m━━━━━━━━━━━━━━━━━━━━\u001b[0m\u001b[37m\u001b[0m \u001b[1m6s\u001b[0m 3ms/step - accuracy: 0.6364 - loss: 0.7338 - val_accuracy: 0.6592 - val_loss: 0.7309\n",
            "Epoch 31/50\n",
            "\u001b[1m1538/1538\u001b[0m \u001b[32m━━━━━━━━━━━━━━━━━━━━\u001b[0m\u001b[37m\u001b[0m \u001b[1m5s\u001b[0m 3ms/step - accuracy: 0.6420 - loss: 0.7294 - val_accuracy: 0.6573 - val_loss: 0.7307\n",
            "Epoch 32/50\n",
            "\u001b[1m1538/1538\u001b[0m \u001b[32m━━━━━━━━━━━━━━━━━━━━\u001b[0m\u001b[37m\u001b[0m \u001b[1m4s\u001b[0m 2ms/step - accuracy: 0.6403 - loss: 0.7303 - val_accuracy: 0.6561 - val_loss: 0.7297\n",
            "Epoch 33/50\n",
            "\u001b[1m1538/1538\u001b[0m \u001b[32m━━━━━━━━━━━━━━━━━━━━\u001b[0m\u001b[37m\u001b[0m \u001b[1m3s\u001b[0m 2ms/step - accuracy: 0.6416 - loss: 0.7366 - val_accuracy: 0.6552 - val_loss: 0.7299\n",
            "Epoch 34/50\n",
            "\u001b[1m1538/1538\u001b[0m \u001b[32m━━━━━━━━━━━━━━━━━━━━\u001b[0m\u001b[37m\u001b[0m \u001b[1m4s\u001b[0m 2ms/step - accuracy: 0.6420 - loss: 0.7323 - val_accuracy: 0.6564 - val_loss: 0.7305\n",
            "Epoch 35/50\n",
            "\u001b[1m1538/1538\u001b[0m \u001b[32m━━━━━━━━━━━━━━━━━━━━\u001b[0m\u001b[37m\u001b[0m \u001b[1m6s\u001b[0m 4ms/step - accuracy: 0.6391 - loss: 0.7365 - val_accuracy: 0.6554 - val_loss: 0.7296\n",
            "Epoch 36/50\n",
            "\u001b[1m1538/1538\u001b[0m \u001b[32m━━━━━━━━━━━━━━━━━━━━\u001b[0m\u001b[37m\u001b[0m \u001b[1m3s\u001b[0m 2ms/step - accuracy: 0.6424 - loss: 0.7317 - val_accuracy: 0.6563 - val_loss: 0.7302\n",
            "Epoch 37/50\n",
            "\u001b[1m1538/1538\u001b[0m \u001b[32m━━━━━━━━━━━━━━━━━━━━\u001b[0m\u001b[37m\u001b[0m \u001b[1m5s\u001b[0m 2ms/step - accuracy: 0.6456 - loss: 0.7319 - val_accuracy: 0.6595 - val_loss: 0.7299\n",
            "Epoch 38/50\n",
            "\u001b[1m1538/1538\u001b[0m \u001b[32m━━━━━━━━━━━━━━━━━━━━\u001b[0m\u001b[37m\u001b[0m \u001b[1m7s\u001b[0m 4ms/step - accuracy: 0.6422 - loss: 0.7277 - val_accuracy: 0.6560 - val_loss: 0.7297\n",
            "Epoch 39/50\n",
            "\u001b[1m1538/1538\u001b[0m \u001b[32m━━━━━━━━━━━━━━━━━━━━\u001b[0m\u001b[37m\u001b[0m \u001b[1m3s\u001b[0m 2ms/step - accuracy: 0.6394 - loss: 0.7341 - val_accuracy: 0.6556 - val_loss: 0.7295\n",
            "Epoch 40/50\n",
            "\u001b[1m1538/1538\u001b[0m \u001b[32m━━━━━━━━━━━━━━━━━━━━\u001b[0m\u001b[37m\u001b[0m \u001b[1m5s\u001b[0m 2ms/step - accuracy: 0.6400 - loss: 0.7332 - val_accuracy: 0.6577 - val_loss: 0.7292\n",
            "Epoch 41/50\n",
            "\u001b[1m1538/1538\u001b[0m \u001b[32m━━━━━━━━━━━━━━━━━━━━\u001b[0m\u001b[37m\u001b[0m \u001b[1m7s\u001b[0m 3ms/step - accuracy: 0.6439 - loss: 0.7271 - val_accuracy: 0.6564 - val_loss: 0.7289\n",
            "Epoch 42/50\n",
            "\u001b[1m1538/1538\u001b[0m \u001b[32m━━━━━━━━━━━━━━━━━━━━\u001b[0m\u001b[37m\u001b[0m \u001b[1m4s\u001b[0m 2ms/step - accuracy: 0.6452 - loss: 0.7254 - val_accuracy: 0.6576 - val_loss: 0.7292\n",
            "Epoch 43/50\n",
            "\u001b[1m1538/1538\u001b[0m \u001b[32m━━━━━━━━━━━━━━━━━━━━\u001b[0m\u001b[37m\u001b[0m \u001b[1m5s\u001b[0m 2ms/step - accuracy: 0.6436 - loss: 0.7270 - val_accuracy: 0.6537 - val_loss: 0.7299\n",
            "Epoch 44/50\n",
            "\u001b[1m1538/1538\u001b[0m \u001b[32m━━━━━━━━━━━━━━━━━━━━\u001b[0m\u001b[37m\u001b[0m \u001b[1m8s\u001b[0m 4ms/step - accuracy: 0.6419 - loss: 0.7294 - val_accuracy: 0.6577 - val_loss: 0.7289\n",
            "Epoch 45/50\n",
            "\u001b[1m1538/1538\u001b[0m \u001b[32m━━━━━━━━━━━━━━━━━━━━\u001b[0m\u001b[37m\u001b[0m \u001b[1m4s\u001b[0m 3ms/step - accuracy: 0.6470 - loss: 0.7297 - val_accuracy: 0.6553 - val_loss: 0.7296\n",
            "Epoch 46/50\n",
            "\u001b[1m1538/1538\u001b[0m \u001b[32m━━━━━━━━━━━━━━━━━━━━\u001b[0m\u001b[37m\u001b[0m \u001b[1m6s\u001b[0m 4ms/step - accuracy: 0.6465 - loss: 0.7230 - val_accuracy: 0.6574 - val_loss: 0.7292\n",
            "Epoch 47/50\n",
            "\u001b[1m1538/1538\u001b[0m \u001b[32m━━━━━━━━━━━━━━━━━━━━\u001b[0m\u001b[37m\u001b[0m \u001b[1m4s\u001b[0m 2ms/step - accuracy: 0.6407 - loss: 0.7317 - val_accuracy: 0.6608 - val_loss: 0.7287\n",
            "Epoch 48/50\n",
            "\u001b[1m1538/1538\u001b[0m \u001b[32m━━━━━━━━━━━━━━━━━━━━\u001b[0m\u001b[37m\u001b[0m \u001b[1m4s\u001b[0m 2ms/step - accuracy: 0.6398 - loss: 0.7340 - val_accuracy: 0.6542 - val_loss: 0.7286\n",
            "Epoch 49/50\n",
            "\u001b[1m1538/1538\u001b[0m \u001b[32m━━━━━━━━━━━━━━━━━━━━\u001b[0m\u001b[37m\u001b[0m \u001b[1m6s\u001b[0m 3ms/step - accuracy: 0.6497 - loss: 0.7250 - val_accuracy: 0.6538 - val_loss: 0.7293\n",
            "Epoch 50/50\n",
            "\u001b[1m1538/1538\u001b[0m \u001b[32m━━━━━━━━━━━━━━━━━━━━\u001b[0m\u001b[37m\u001b[0m \u001b[1m4s\u001b[0m 3ms/step - accuracy: 0.6434 - loss: 0.7319 - val_accuracy: 0.6556 - val_loss: 0.7290\n",
            "\u001b[1m824/824\u001b[0m \u001b[32m━━━━━━━━━━━━━━━━━━━━\u001b[0m\u001b[37m\u001b[0m \u001b[1m1s\u001b[0m 1ms/step\n"
          ]
        },
        {
          "name": "stderr",
          "output_type": "stream",
          "text": [
            "/usr/local/lib/python3.10/dist-packages/sklearn/metrics/_classification.py:1531: UndefinedMetricWarning: Precision is ill-defined and being set to 0.0 in labels with no predicted samples. Use `zero_division` parameter to control this behavior.\n",
            "  _warn_prf(average, modifier, f\"{metric.capitalize()} is\", len(result))\n",
            "/usr/local/lib/python3.10/dist-packages/sklearn/metrics/_classification.py:1531: UndefinedMetricWarning: Precision is ill-defined and being set to 0.0 in labels with no predicted samples. Use `zero_division` parameter to control this behavior.\n",
            "  _warn_prf(average, modifier, f\"{metric.capitalize()} is\", len(result))\n",
            "/usr/local/lib/python3.10/dist-packages/sklearn/metrics/_classification.py:1531: UndefinedMetricWarning: Precision is ill-defined and being set to 0.0 in labels with no predicted samples. Use `zero_division` parameter to control this behavior.\n",
            "  _warn_prf(average, modifier, f\"{metric.capitalize()} is\", len(result))\n"
          ]
        },
        {
          "name": "stdout",
          "output_type": "stream",
          "text": [
            "Neural Network Accuracy: 0.6405\n",
            "Confusion Matrix:\n",
            "[[    0    42     0     0   236     0]\n",
            " [    0  4310    22     0  5257     0]\n",
            " [    0   194    38     0   359     0]\n",
            " [    0    35     1     0   131     0]\n",
            " [    0  3134    42     0 12531     0]\n",
            " [    0     3     0     0    18     0]]\n",
            "Classification Report:\n",
            "              precision    recall  f1-score   support\n",
            "\n",
            "           0       0.00      0.00      0.00       278\n",
            "           1       0.56      0.45      0.50      9589\n",
            "           2       0.37      0.06      0.11       591\n",
            "           3       0.00      0.00      0.00       167\n",
            "           4       0.68      0.80      0.73     15707\n",
            "           5       0.00      0.00      0.00        21\n",
            "\n",
            "    accuracy                           0.64     26353\n",
            "   macro avg       0.27      0.22      0.22     26353\n",
            "weighted avg       0.61      0.64      0.62     26353\n",
            "\n"
          ]
        },
        {
          "data": {
            "image/png": "[encoded data removed]",
            "text/plain": [
              "<Figure size 1200x500 with 2 Axes>"
            ]
          },
          "metadata": {},
          "output_type": "display_data"
        }
      ],
      "source": [
        "from tensorflow import keras\n",
        "from tensorflow.keras import layers, models, optimizers\n",
        "import tensorflow as tf\n",
        "\n",
        "# Check if GPU is available\n",
        "gpu_available = tf.config.list_physical_devices('GPU')\n",
        "print(\"Num GPUs Available: \", len(gpu_available))\n",
        "\n",
        "\n",
        "# Create a Sequential model\n",
        "model = keras.Sequential()\n",
        "\n",
        "# Input layer\n",
        "model.add(layers.Input(shape=(X_train_pca.shape[1],)))\n",
        "\n",
        "# Hidden layers\n",
        "model.add(layers.Dense(128, activation='relu'))\n",
        "model.add(layers.Dropout(0.2))  # Dropout for regularization\n",
        "model.add(layers.Dense(64, activation='relu'))\n",
        "model.add(layers.Dropout(0.2))\n",
        "\n",
        "\n",
        "# Output layer\n",
        "model.add(layers.Dense(len(y.unique()), activation='softmax'))  # Use softmax for multi-class classification\n",
        "model.compile(loss='sparse_categorical_crossentropy',  # Use sparse_categorical_crossentropy for integer labels\n",
        "              optimizer=optimizers.Adam(learning_rate=0.0001),\n",
        "              metrics=['accuracy'])\n",
        "# Train the model\n",
        "history = model.fit(X_train_pca, y_train, epochs=50, batch_size=32, validation_split=0.2)\n",
        "# Make predictions\n",
        "y_pred_nn = np.argmax(model.predict(X_test_pca), axis=-1)\n",
        "\n",
        "# Evaluate performance\n",
        "accuracy_nn = accuracy_score(y_test, y_pred_nn)\n",
        "conf_matrix_nn = confusion_matrix(y_test, y_pred_nn)\n",
        "class_report_nn = classification_report(y_test, y_pred_nn)\n",
        "\n",
        "print(f'Neural Network Accuracy: {accuracy_nn:.4f}')\n",
        "print('Confusion Matrix:')\n",
        "print(conf_matrix_nn)\n",
        "print('Classification Report:')\n",
        "print(class_report_nn)\n",
        "import matplotlib.pyplot as plt\n",
        "\n",
        "# Plot training & validation accuracy values\n",
        "plt.figure(figsize=(12, 5))\n",
        "plt.subplot(1, 2, 1)\n",
        "plt.plot(history.history['accuracy'])\n",
        "plt.plot(history.history['val_accuracy'])\n",
        "plt.title('Model accuracy')\n",
        "plt.ylabel('Accuracy')\n",
        "plt.xlabel('Epoch')\n",
        "plt.legend(['Train', 'Validation'], loc='upper left')\n",
        "\n",
        "# Plot training & validation loss values\n",
        "plt.subplot(1, 2, 2)\n",
        "plt.plot(history.history['loss'])\n",
        "plt.plot(history.history['val_loss'])\n",
        "plt.title('Model loss')\n",
        "plt.ylabel('Loss')\n",
        "plt.xlabel('Epoch')\n",
        "plt.legend(['Train', 'Validation'], loc='upper left')\n",
        "\n",
        "plt.show()\n"
      ]
    },
    {
      "cell_type": "code",
      "execution_count": 61,
      "metadata": {
        "colab": {
          "base_uri": "https://localhost:8080/",
          "height": 1000
        },
        "id": "_TItPRvEdd-m",
        "outputId": "3ec0037a-6250-44aa-cbdc-419d999600b7"
      },
      "outputs": [
        {
          "name": "stdout",
          "output_type": "stream",
          "text": [
            "Num GPUs Available:  0\n",
            "Epoch 1/50\n",
            "\u001b[1m1538/1538\u001b[0m \u001b[32m━━━━━━━━━━━━━━━━━━━━\u001b[0m\u001b[37m\u001b[0m \u001b[1m18s\u001b[0m 6ms/step - accuracy: 0.0838 - loss: 2.1417 - val_accuracy: 0.3510 - val_loss: 1.6723\n",
            "Epoch 2/50\n",
            "\u001b[1m1538/1538\u001b[0m \u001b[32m━━━━━━━━━━━━━━━━━━━━\u001b[0m\u001b[37m\u001b[0m \u001b[1m8s\u001b[0m 5ms/step - accuracy: 0.1854 - loss: 2.0496 - val_accuracy: 0.3594 - val_loss: 1.6480\n",
            "Epoch 3/50\n",
            "\u001b[1m1538/1538\u001b[0m \u001b[32m━━━━━━━━━━━━━━━━━━━━\u001b[0m\u001b[37m\u001b[0m \u001b[1m8s\u001b[0m 5ms/step - accuracy: 0.2146 - loss: 1.8028 - val_accuracy: 0.4057 - val_loss: 1.5946\n",
            "Epoch 4/50\n",
            "\u001b[1m1538/1538\u001b[0m \u001b[32m━━━━━━━━━━━━━━━━━━━━\u001b[0m\u001b[37m\u001b[0m \u001b[1m8s\u001b[0m 4ms/step - accuracy: 0.2415 - loss: 1.6902 - val_accuracy: 0.3980 - val_loss: 1.5828\n",
            "Epoch 5/50\n",
            "\u001b[1m1538/1538\u001b[0m \u001b[32m━━━━━━━━━━━━━━━━━━━━\u001b[0m\u001b[37m\u001b[0m \u001b[1m10s\u001b[0m 4ms/step - accuracy: 0.2507 - loss: 1.7012 - val_accuracy: 0.3929 - val_loss: 1.5817\n",
            "Epoch 6/50\n",
            "\u001b[1m1538/1538\u001b[0m \u001b[32m━━━━━━━━━━━━━━━━━━━━\u001b[0m\u001b[37m\u001b[0m \u001b[1m6s\u001b[0m 4ms/step - accuracy: 0.2634 - loss: 1.6945 - val_accuracy: 0.3424 - val_loss: 1.5810\n",
            "Epoch 7/50\n",
            "\u001b[1m1538/1538\u001b[0m \u001b[32m━━━━━━━━━━━━━━━━━━━━\u001b[0m\u001b[37m\u001b[0m \u001b[1m7s\u001b[0m 5ms/step - accuracy: 0.2702 - loss: 1.5748 - val_accuracy: 0.2974 - val_loss: 1.6082\n",
            "Epoch 8/50\n",
            "\u001b[1m1538/1538\u001b[0m \u001b[32m━━━━━━━━━━━━━━━━━━━━\u001b[0m\u001b[37m\u001b[0m \u001b[1m11s\u001b[0m 5ms/step - accuracy: 0.2651 - loss: 1.5575 - val_accuracy: 0.3179 - val_loss: 1.5985\n",
            "Epoch 9/50\n",
            "\u001b[1m1538/1538\u001b[0m \u001b[32m━━━━━━━━━━━━━━━━━━━━\u001b[0m\u001b[37m\u001b[0m \u001b[1m6s\u001b[0m 4ms/step - accuracy: 0.2792 - loss: 1.4760 - val_accuracy: 0.3218 - val_loss: 1.5941\n",
            "Epoch 10/50\n",
            "\u001b[1m1538/1538\u001b[0m \u001b[32m━━━━━━━━━━━━━━━━━━━━\u001b[0m\u001b[37m\u001b[0m \u001b[1m6s\u001b[0m 4ms/step - accuracy: 0.2773 - loss: 1.5868 - val_accuracy: 0.3023 - val_loss: 1.5920\n",
            "Epoch 11/50\n",
            "\u001b[1m1538/1538\u001b[0m \u001b[32m━━━━━━━━━━━━━━━━━━━━\u001b[0m\u001b[37m\u001b[0m \u001b[1m7s\u001b[0m 5ms/step - accuracy: 0.2781 - loss: 1.4653 - val_accuracy: 0.3067 - val_loss: 1.5866\n",
            "Epoch 12/50\n",
            "\u001b[1m1538/1538\u001b[0m \u001b[32m━━━━━━━━━━━━━━━━━━━━\u001b[0m\u001b[37m\u001b[0m \u001b[1m6s\u001b[0m 4ms/step - accuracy: 0.2848 - loss: 1.4896 - val_accuracy: 0.3158 - val_loss: 1.5887\n",
            "Epoch 13/50\n",
            "\u001b[1m1538/1538\u001b[0m \u001b[32m━━━━━━━━━━━━━━━━━━━━\u001b[0m\u001b[37m\u001b[0m \u001b[1m8s\u001b[0m 5ms/step - accuracy: 0.2781 - loss: 1.5529 - val_accuracy: 0.3292 - val_loss: 1.5818\n",
            "Epoch 14/50\n",
            "\u001b[1m1538/1538\u001b[0m \u001b[32m━━━━━━━━━━━━━━━━━━━━\u001b[0m\u001b[37m\u001b[0m \u001b[1m8s\u001b[0m 4ms/step - accuracy: 0.2979 - loss: 1.4557 - val_accuracy: 0.3177 - val_loss: 1.5686\n",
            "Epoch 15/50\n",
            "\u001b[1m1538/1538\u001b[0m \u001b[32m━━━━━━━━━━━━━━━━━━━━\u001b[0m\u001b[37m\u001b[0m \u001b[1m10s\u001b[0m 4ms/step - accuracy: 0.3031 - loss: 1.3999 - val_accuracy: 0.3115 - val_loss: 1.5664\n",
            "Epoch 16/50\n",
            "\u001b[1m1538/1538\u001b[0m \u001b[32m━━━━━━━━━━━━━━━━━━━━\u001b[0m\u001b[37m\u001b[0m \u001b[1m12s\u001b[0m 5ms/step - accuracy: 0.2913 - loss: 1.3975 - val_accuracy: 0.3285 - val_loss: 1.5413\n",
            "Epoch 17/50\n",
            "\u001b[1m1538/1538\u001b[0m \u001b[32m━━━━━━━━━━━━━━━━━━━━\u001b[0m\u001b[37m\u001b[0m \u001b[1m9s\u001b[0m 4ms/step - accuracy: 0.2960 - loss: 1.4807 - val_accuracy: 0.3100 - val_loss: 1.5724\n",
            "Epoch 18/50\n",
            "\u001b[1m1538/1538\u001b[0m \u001b[32m━━━━━━━━━━━━━━━━━━━━\u001b[0m\u001b[37m\u001b[0m \u001b[1m10s\u001b[0m 4ms/step - accuracy: 0.3006 - loss: 1.3816 - val_accuracy: 0.2826 - val_loss: 1.5915\n",
            "Epoch 19/50\n",
            "\u001b[1m1538/1538\u001b[0m \u001b[32m━━━━━━━━━━━━━━━━━━━━\u001b[0m\u001b[37m\u001b[0m \u001b[1m11s\u001b[0m 4ms/step - accuracy: 0.2914 - loss: 1.3551 - val_accuracy: 0.2904 - val_loss: 1.5860\n",
            "Epoch 20/50\n",
            "\u001b[1m1538/1538\u001b[0m \u001b[32m━━━━━━━━━━━━━━━━━━━━\u001b[0m\u001b[37m\u001b[0m \u001b[1m7s\u001b[0m 5ms/step - accuracy: 0.2980 - loss: 1.3961 - val_accuracy: 0.2820 - val_loss: 1.5882\n",
            "Epoch 21/50\n",
            "\u001b[1m1538/1538\u001b[0m \u001b[32m━━━━━━━━━━━━━━━━━━━━\u001b[0m\u001b[37m\u001b[0m \u001b[1m8s\u001b[0m 5ms/step - accuracy: 0.2947 - loss: 1.3548 - val_accuracy: 0.3066 - val_loss: 1.5600\n",
            "Epoch 22/50\n",
            "\u001b[1m1538/1538\u001b[0m \u001b[32m━━━━━━━━━━━━━━━━━━━━\u001b[0m\u001b[37m\u001b[0m \u001b[1m7s\u001b[0m 4ms/step - accuracy: 0.3000 - loss: 1.3900 - val_accuracy: 0.3101 - val_loss: 1.5438\n",
            "Epoch 23/50\n",
            "\u001b[1m1538/1538\u001b[0m \u001b[32m━━━━━━━━━━━━━━━━━━━━\u001b[0m\u001b[37m\u001b[0m \u001b[1m9s\u001b[0m 4ms/step - accuracy: 0.3084 - loss: 1.3871 - val_accuracy: 0.3177 - val_loss: 1.5688\n",
            "Epoch 24/50\n",
            "\u001b[1m1538/1538\u001b[0m \u001b[32m━━━━━━━━━━━━━━━━━━━━\u001b[0m\u001b[37m\u001b[0m \u001b[1m11s\u001b[0m 4ms/step - accuracy: 0.3120 - loss: 1.3551 - val_accuracy: 0.3083 - val_loss: 1.5586\n",
            "Epoch 25/50\n",
            "\u001b[1m1538/1538\u001b[0m \u001b[32m━━━━━━━━━━━━━━━━━━━━\u001b[0m\u001b[37m\u001b[0m \u001b[1m6s\u001b[0m 4ms/step - accuracy: 0.3115 - loss: 1.3499 - val_accuracy: 0.3092 - val_loss: 1.5644\n",
            "Epoch 26/50\n",
            "\u001b[1m1538/1538\u001b[0m \u001b[32m━━━━━━━━━━━━━━━━━━━━\u001b[0m\u001b[37m\u001b[0m \u001b[1m7s\u001b[0m 5ms/step - accuracy: 0.3111 - loss: 1.3266 - val_accuracy: 0.3013 - val_loss: 1.5837\n",
            "Epoch 27/50\n",
            "\u001b[1m1538/1538\u001b[0m \u001b[32m━━━━━━━━━━━━━━━━━━━━\u001b[0m\u001b[37m\u001b[0m \u001b[1m10s\u001b[0m 5ms/step - accuracy: 0.3132 - loss: 1.3159 - val_accuracy: 0.2986 - val_loss: 1.5770\n",
            "Epoch 28/50\n",
            "\u001b[1m1538/1538\u001b[0m \u001b[32m━━━━━━━━━━━━━━━━━━━━\u001b[0m\u001b[37m\u001b[0m \u001b[1m6s\u001b[0m 4ms/step - accuracy: 0.3172 - loss: 1.3000 - val_accuracy: 0.3352 - val_loss: 1.5333\n",
            "Epoch 29/50\n",
            "\u001b[1m1538/1538\u001b[0m \u001b[32m━━━━━━━━━━━━━━━━━━━━\u001b[0m\u001b[37m\u001b[0m \u001b[1m12s\u001b[0m 5ms/step - accuracy: 0.3237 - loss: 1.2655 - val_accuracy: 0.3285 - val_loss: 1.5420\n",
            "Epoch 30/50\n",
            "\u001b[1m1538/1538\u001b[0m \u001b[32m━━━━━━━━━━━━━━━━━━━━\u001b[0m\u001b[37m\u001b[0m \u001b[1m6s\u001b[0m 4ms/step - accuracy: 0.3180 - loss: 1.3530 - val_accuracy: 0.3488 - val_loss: 1.5083\n",
            "Epoch 31/50\n",
            "\u001b[1m1538/1538\u001b[0m \u001b[32m━━━━━━━━━━━━━━━━━━━━\u001b[0m\u001b[37m\u001b[0m \u001b[1m7s\u001b[0m 4ms/step - accuracy: 0.3341 - loss: 1.3421 - val_accuracy: 0.3369 - val_loss: 1.5498\n",
            "Epoch 32/50\n",
            "\u001b[1m1538/1538\u001b[0m \u001b[32m━━━━━━━━━━━━━━━━━━━━\u001b[0m\u001b[37m\u001b[0m \u001b[1m6s\u001b[0m 4ms/step - accuracy: 0.3280 - loss: 1.2782 - val_accuracy: 0.3405 - val_loss: 1.5370\n",
            "Epoch 33/50\n",
            "\u001b[1m1538/1538\u001b[0m \u001b[32m━━━━━━━━━━━━━━━━━━━━\u001b[0m\u001b[37m\u001b[0m \u001b[1m6s\u001b[0m 4ms/step - accuracy: 0.3289 - loss: 1.3024 - val_accuracy: 0.3519 - val_loss: 1.5016\n",
            "Epoch 34/50\n",
            "\u001b[1m1538/1538\u001b[0m \u001b[32m━━━━━━━━━━━━━━━━━━━━\u001b[0m\u001b[37m\u001b[0m \u001b[1m12s\u001b[0m 5ms/step - accuracy: 0.3499 - loss: 1.2686 - val_accuracy: 0.3232 - val_loss: 1.5538\n",
            "Epoch 35/50\n",
            "\u001b[1m1538/1538\u001b[0m \u001b[32m━━━━━━━━━━━━━━━━━━━━\u001b[0m\u001b[37m\u001b[0m \u001b[1m9s\u001b[0m 4ms/step - accuracy: 0.3357 - loss: 1.2736 - val_accuracy: 0.3438 - val_loss: 1.5238\n",
            "Epoch 36/50\n",
            "\u001b[1m1538/1538\u001b[0m \u001b[32m━━━━━━━━━━━━━━━━━━━━\u001b[0m\u001b[37m\u001b[0m \u001b[1m12s\u001b[0m 5ms/step - accuracy: 0.3351 - loss: 1.2728 - val_accuracy: 0.3464 - val_loss: 1.5227\n",
            "Epoch 37/50\n",
            "\u001b[1m1538/1538\u001b[0m \u001b[32m━━━━━━━━━━━━━━━━━━━━\u001b[0m\u001b[37m\u001b[0m \u001b[1m6s\u001b[0m 4ms/step - accuracy: 0.3366 - loss: 1.3134 - val_accuracy: 0.3466 - val_loss: 1.5250\n",
            "Epoch 38/50\n",
            "\u001b[1m1538/1538\u001b[0m \u001b[32m━━━━━━━━━━━━━━━━━━━━\u001b[0m\u001b[37m\u001b[0m \u001b[1m12s\u001b[0m 5ms/step - accuracy: 0.3422 - loss: 1.2886 - val_accuracy: 0.3494 - val_loss: 1.5166\n",
            "Epoch 39/50\n",
            "\u001b[1m1538/1538\u001b[0m \u001b[32m━━━━━━━━━━━━━━━━━━━━\u001b[0m\u001b[37m\u001b[0m \u001b[1m6s\u001b[0m 4ms/step - accuracy: 0.3410 - loss: 1.1987 - val_accuracy: 0.3373 - val_loss: 1.5585\n",
            "Epoch 40/50\n",
            "\u001b[1m1538/1538\u001b[0m \u001b[32m━━━━━━━━━━━━━━━━━━━━\u001b[0m\u001b[37m\u001b[0m \u001b[1m10s\u001b[0m 4ms/step - accuracy: 0.3465 - loss: 1.2467 - val_accuracy: 0.3566 - val_loss: 1.5177\n",
            "Epoch 41/50\n",
            "\u001b[1m1538/1538\u001b[0m \u001b[32m━━━━━━━━━━━━━━━━━━━━\u001b[0m\u001b[37m\u001b[0m \u001b[1m7s\u001b[0m 4ms/step - accuracy: 0.3448 - loss: 1.1862 - val_accuracy: 0.3562 - val_loss: 1.5078\n",
            "Epoch 42/50\n",
            "\u001b[1m1538/1538\u001b[0m \u001b[32m━━━━━━━━━━━━━━━━━━━━\u001b[0m\u001b[37m\u001b[0m \u001b[1m7s\u001b[0m 4ms/step - accuracy: 0.3517 - loss: 1.2572 - val_accuracy: 0.3495 - val_loss: 1.5309\n",
            "Epoch 43/50\n",
            "\u001b[1m1538/1538\u001b[0m \u001b[32m━━━━━━━━━━━━━━━━━━━━\u001b[0m\u001b[37m\u001b[0m \u001b[1m11s\u001b[0m 5ms/step - accuracy: 0.3437 - loss: 1.2872 - val_accuracy: 0.3591 - val_loss: 1.5065\n",
            "Epoch 44/50\n",
            "\u001b[1m1538/1538\u001b[0m \u001b[32m━━━━━━━━━━━━━━━━━━━━\u001b[0m\u001b[37m\u001b[0m \u001b[1m6s\u001b[0m 4ms/step - accuracy: 0.3461 - loss: 1.2301 - val_accuracy: 0.3556 - val_loss: 1.5141\n",
            "Epoch 45/50\n",
            "\u001b[1m1538/1538\u001b[0m \u001b[32m━━━━━━━━━━━━━━━━━━━━\u001b[0m\u001b[37m\u001b[0m \u001b[1m7s\u001b[0m 5ms/step - accuracy: 0.3480 - loss: 1.2520 - val_accuracy: 0.3553 - val_loss: 1.4936\n",
            "Epoch 46/50\n",
            "\u001b[1m1538/1538\u001b[0m \u001b[32m━━━━━━━━━━━━━━━━━━━━\u001b[0m\u001b[37m\u001b[0m \u001b[1m6s\u001b[0m 4ms/step - accuracy: 0.3389 - loss: 1.2617 - val_accuracy: 0.3568 - val_loss: 1.4813\n",
            "Epoch 47/50\n",
            "\u001b[1m1538/1538\u001b[0m \u001b[32m━━━━━━━━━━━━━━━━━━━━\u001b[0m\u001b[37m\u001b[0m \u001b[1m7s\u001b[0m 4ms/step - accuracy: 0.3498 - loss: 1.2424 - val_accuracy: 0.3706 - val_loss: 1.4599\n",
            "Epoch 48/50\n",
            "\u001b[1m1538/1538\u001b[0m \u001b[32m━━━━━━━━━━━━━━━━━━━━\u001b[0m\u001b[37m\u001b[0m \u001b[1m8s\u001b[0m 5ms/step - accuracy: 0.3596 - loss: 1.1925 - val_accuracy: 0.3614 - val_loss: 1.5010\n",
            "Epoch 49/50\n",
            "\u001b[1m1538/1538\u001b[0m \u001b[32m━━━━━━━━━━━━━━━━━━━━\u001b[0m\u001b[37m\u001b[0m \u001b[1m6s\u001b[0m 4ms/step - accuracy: 0.3518 - loss: 1.1958 - val_accuracy: 0.3424 - val_loss: 1.5344\n",
            "Epoch 50/50\n",
            "\u001b[1m1538/1538\u001b[0m \u001b[32m━━━━━━━━━━━━━━━━━━━━\u001b[0m\u001b[37m\u001b[0m \u001b[1m8s\u001b[0m 5ms/step - accuracy: 0.3478 - loss: 1.2395 - val_accuracy: 0.3608 - val_loss: 1.4875\n",
            "\u001b[1m824/824\u001b[0m \u001b[32m━━━━━━━━━━━━━━━━━━━━\u001b[0m\u001b[37m\u001b[0m \u001b[1m2s\u001b[0m 2ms/step\n",
            "Neural Network Accuracy: 0.3565\n",
            "Confusion Matrix:\n",
            "[[ 149   34   20   41   22   12]\n",
            " [ 979 4037 1114  838 1130 1491]\n",
            " [  52   71  351   57   17   43]\n",
            " [  47   29   24   40    7   20]\n",
            " [1851 3749 1687 1438 4815 2167]\n",
            " [   3    4    2    4    6    2]]\n",
            "Classification Report:\n",
            "              precision    recall  f1-score   support\n",
            "\n",
            "           0       0.05      0.54      0.09       278\n",
            "           1       0.51      0.42      0.46      9589\n",
            "           2       0.11      0.59      0.19       591\n",
            "           3       0.02      0.24      0.03       167\n",
            "           4       0.80      0.31      0.44     15707\n",
            "           5       0.00      0.10      0.00        21\n",
            "\n",
            "    accuracy                           0.36     26353\n",
            "   macro avg       0.25      0.37      0.20     26353\n",
            "weighted avg       0.67      0.36      0.44     26353\n",
            "\n"
          ]
        },
        {
          "data": {
            "image/png": "[encoded data removed]",
            "text/plain": [
              "<Figure size 800x600 with 2 Axes>"
            ]
          },
          "metadata": {},
          "output_type": "display_data"
        },
        {
          "data": {
            "image/png": "[encoded data removed]",
            "text/plain": [
              "<Figure size 1200x500 with 2 Axes>"
            ]
          },
          "metadata": {},
          "output_type": "display_data"
        }
      ],
      "source": [
        "from tensorflow import keras\n",
        "from tensorflow.keras import layers, optimizers, callbacks\n",
        "import tensorflow as tf\n",
        "import numpy as np\n",
        "from sklearn.metrics import accuracy_score, confusion_matrix, classification_report\n",
        "import seaborn as sns\n",
        "import matplotlib.pyplot as plt\n",
        "from sklearn.utils.class_weight import compute_class_weight\n",
        "\n",
        "# Check if GPU is available\n",
        "gpu_available = tf.config.list_physical_devices('GPU')\n",
        "print(\"Num GPUs Available: \", len(gpu_available))\n",
        "\n",
        "# Convert y_train to NumPy array with integer values\n",
        "#y_train = y_train.values.astype(int)  # Ensure values are integers\n",
        "\n",
        "# Calculate class weights\n",
        "class_weights = compute_class_weight('balanced', classes=np.unique(y_train), y=y_train)\n",
        "class_weight_dict = dict(enumerate(class_weights))\n",
        "# Create a Sequential model\n",
        "model = keras.Sequential()\n",
        "\n",
        "# Input layer\n",
        "model.add(layers.Input(shape=(X_train_pca.shape[1],)))\n",
        "\n",
        "# Hidden layers\n",
        "model.add(layers.Dense(256, activation='relu'))\n",
        "model.add(layers.BatchNormalization())\n",
        "model.add(layers.Dropout(0.3))\n",
        "\n",
        "model.add(layers.Dense(128, activation='relu'))\n",
        "model.add(layers.BatchNormalization())\n",
        "model.add(layers.Dropout(0.3))\n",
        "\n",
        "model.add(layers.Dense(64, activation='relu'))\n",
        "model.add(layers.BatchNormalization())\n",
        "model.add(layers.Dropout(0.2))\n",
        "\n",
        "model.add(layers.Dense(32, activation='relu'))\n",
        "\n",
        "# Output layer for multi-class classification\n",
        "model.add(layers.Dense(len(y.unique()), activation='softmax'))\n",
        "\n",
        "# Compile the model with a low learning rate and Adam optimizer\n",
        "model.compile(loss='sparse_categorical_crossentropy',\n",
        "              optimizer=optimizers.Adam(learning_rate=0.0001),\n",
        "              metrics=['accuracy'])\n",
        "\n",
        "\n",
        "\n",
        "# Train the model with early stopping and class weights\n",
        "history = model.fit(X_train_pca, y_train,\n",
        "                    epochs=50, batch_size=32,\n",
        "                    validation_split=0.2,\n",
        "                    class_weight=class_weight_dict,\n",
        "                    )\n",
        "\n",
        "# Make predictions on the test set\n",
        "y_pred_nn = np.argmax(model.predict(X_test_pca), axis=-1)\n",
        "\n",
        "# Evaluate performance\n",
        "accuracy_nn = accuracy_score(y_test, y_pred_nn)\n",
        "conf_matrix_nn = confusion_matrix(y_test, y_pred_nn)\n",
        "class_report_nn = classification_report(y_test, y_pred_nn)\n",
        "\n",
        "# Print accuracy and classification report\n",
        "print(f'Neural Network Accuracy: {accuracy_nn:.4f}')\n",
        "print('Confusion Matrix:')\n",
        "print(conf_matrix_nn)\n",
        "print('Classification Report:')\n",
        "print(class_report_nn)\n",
        "\n",
        "# Plot confusion matrix\n",
        "plt.figure(figsize=(8, 6))\n",
        "sns.heatmap(conf_matrix_nn, annot=True, fmt='d', cmap='Blues')\n",
        "plt.ylabel('Actual')\n",
        "plt.xlabel('Predicted')\n",
        "plt.title('Confusion Matrix')\n",
        "plt.show()\n",
        "\n",
        "# Plot training & validation accuracy and loss\n",
        "plt.figure(figsize=(12, 5))\n",
        "\n",
        "# Accuracy plot\n",
        "plt.subplot(1, 2, 1)\n",
        "plt.plot(history.history['accuracy'], label='Train')\n",
        "plt.plot(history.history['val_accuracy'], label='Validation')\n",
        "plt.title('Model accuracy')\n",
        "plt.ylabel('Accuracy')\n",
        "plt.xlabel('Epoch')\n",
        "plt.legend(loc='upper left')\n",
        "\n",
        "# Loss plot\n",
        "plt.subplot(1, 2, 2)\n",
        "plt.plot(history.history['loss'], label='Train')\n",
        "plt.plot(history.history['val_loss'], label='Validation')\n",
        "plt.title('Model loss')\n",
        "plt.ylabel('Loss')\n",
        "plt.xlabel('Epoch')\n",
        "plt.legend(loc='upper left')\n",
        "\n",
        "plt.show()\n"
      ]
    },
    {
      "cell_type": "markdown",
      "metadata": {
        "id": "kMRJWI0kkB7-"
      },
      "source": [
        "# 5. Model Validation"
      ]
    },
    {
      "cell_type": "markdown",
      "metadata": {
        "id": "ANJSkakVkB7_"
      },
      "source": [
        "# 6. Conclusion and Summary"
      ]
    }
  ],
  "metadata": {
    "colab": {
      "provenance": []
    },
    "kernelspec": {
      "display_name": "learn-env",
      "language": "python",
      "name": "python3"
    },
    "language_info": {
      "codemirror_mode": {
        "name": "ipython",
        "version": 3
      },
      "file_extension": ".py",
      "mimetype": "text/x-python",
      "name": "python",
      "nbconvert_exporter": "python",
      "pygments_lexer": "ipython3",
      "version": "3.8.5"
    }
  },
  "nbformat": 4,
  "nbformat_minor": 0
}
