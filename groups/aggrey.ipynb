{
 "cells": [
  {
   "cell_type": "markdown",
   "metadata": {},
   "source": [
    "## OVERVIEW\n",
    "\n",
    "The goal \n",
    "1. to predict if the various road factors resulted to injury\n",
    "2. to determine the best model"
   ]
  },
  {
   "cell_type": "markdown",
   "metadata": {},
   "source": [
    "## DATA UNDERSTANDING"
   ]
  },
  {
   "cell_type": "code",
   "execution_count": 1,
   "metadata": {},
   "outputs": [],
   "source": [
    "# loading the data\n",
    "\n",
    "import pandas as pd \n",
    "import matplotlib.pyplot as plt\n",
    "\n",
    "df = pd.read_csv(\"Traffic_Crashes_-_Crashes_20241007.csv\")\n",
    "df.shape\n"
   ]
  },
  {
   "cell_type": "markdown",
   "metadata": {},
   "source": []
  },
  {
   "cell_type": "markdown",
   "metadata": {},
   "source": [
    "### Viewing the files"
   ]
  },
  {
   "cell_type": "code",
   "execution_count": 2,
   "metadata": {},
   "outputs": [
    {
     "data": {
      "text/html": [
       "<div>\n",
       "<style scoped>\n",
       "    .dataframe tbody tr th:only-of-type {\n",
       "        vertical-align: middle;\n",
       "    }\n",
       "\n",
       "    .dataframe tbody tr th {\n",
       "        vertical-align: top;\n",
       "    }\n",
       "\n",
       "    .dataframe thead th {\n",
       "        text-align: right;\n",
       "    }\n",
       "</style>\n",
       "<table border=\"1\" class=\"dataframe\">\n",
       "  <thead>\n",
       "    <tr style=\"text-align: right;\">\n",
       "      <th></th>\n",
       "      <th>CRASH_RECORD_ID</th>\n",
       "      <th>CRASH_DATE_EST_I</th>\n",
       "      <th>CRASH_DATE</th>\n",
       "      <th>POSTED_SPEED_LIMIT</th>\n",
       "      <th>TRAFFIC_CONTROL_DEVICE</th>\n",
       "      <th>DEVICE_CONDITION</th>\n",
       "      <th>WEATHER_CONDITION</th>\n",
       "      <th>LIGHTING_CONDITION</th>\n",
       "      <th>FIRST_CRASH_TYPE</th>\n",
       "      <th>TRAFFICWAY_TYPE</th>\n",
       "      <th>...</th>\n",
       "      <th>INJURIES_NON_INCAPACITATING</th>\n",
       "      <th>INJURIES_REPORTED_NOT_EVIDENT</th>\n",
       "      <th>INJURIES_NO_INDICATION</th>\n",
       "      <th>INJURIES_UNKNOWN</th>\n",
       "      <th>CRASH_HOUR</th>\n",
       "      <th>CRASH_DAY_OF_WEEK</th>\n",
       "      <th>CRASH_MONTH</th>\n",
       "      <th>LATITUDE</th>\n",
       "      <th>LONGITUDE</th>\n",
       "      <th>LOCATION</th>\n",
       "    </tr>\n",
       "  </thead>\n",
       "  <tbody>\n",
       "    <tr>\n",
       "      <th>0</th>\n",
       "      <td>23a79931ef555d54118f64dc9be2cf2dbf59636ce253f7...</td>\n",
       "      <td>NaN</td>\n",
       "      <td>09/05/2023 07:05:00 PM</td>\n",
       "      <td>30</td>\n",
       "      <td>TRAFFIC SIGNAL</td>\n",
       "      <td>FUNCTIONING PROPERLY</td>\n",
       "      <td>CLEAR</td>\n",
       "      <td>DUSK</td>\n",
       "      <td>ANGLE</td>\n",
       "      <td>FIVE POINT, OR MORE</td>\n",
       "      <td>...</td>\n",
       "      <td>2.0</td>\n",
       "      <td>0.0</td>\n",
       "      <td>2.0</td>\n",
       "      <td>0.0</td>\n",
       "      <td>19</td>\n",
       "      <td>3</td>\n",
       "      <td>9</td>\n",
       "      <td>NaN</td>\n",
       "      <td>NaN</td>\n",
       "      <td>NaN</td>\n",
       "    </tr>\n",
       "    <tr>\n",
       "      <th>1</th>\n",
       "      <td>2675c13fd0f474d730a5b780968b3cafc7c12d7adb661f...</td>\n",
       "      <td>NaN</td>\n",
       "      <td>09/22/2023 06:45:00 PM</td>\n",
       "      <td>50</td>\n",
       "      <td>NO CONTROLS</td>\n",
       "      <td>NO CONTROLS</td>\n",
       "      <td>CLEAR</td>\n",
       "      <td>DARKNESS, LIGHTED ROAD</td>\n",
       "      <td>REAR END</td>\n",
       "      <td>DIVIDED - W/MEDIAN BARRIER</td>\n",
       "      <td>...</td>\n",
       "      <td>0.0</td>\n",
       "      <td>0.0</td>\n",
       "      <td>2.0</td>\n",
       "      <td>0.0</td>\n",
       "      <td>18</td>\n",
       "      <td>6</td>\n",
       "      <td>9</td>\n",
       "      <td>NaN</td>\n",
       "      <td>NaN</td>\n",
       "      <td>NaN</td>\n",
       "    </tr>\n",
       "    <tr>\n",
       "      <th>2</th>\n",
       "      <td>5f54a59fcb087b12ae5b1acff96a3caf4f2d37e79f8db4...</td>\n",
       "      <td>NaN</td>\n",
       "      <td>07/29/2023 02:45:00 PM</td>\n",
       "      <td>30</td>\n",
       "      <td>TRAFFIC SIGNAL</td>\n",
       "      <td>FUNCTIONING PROPERLY</td>\n",
       "      <td>CLEAR</td>\n",
       "      <td>DAYLIGHT</td>\n",
       "      <td>PARKED MOTOR VEHICLE</td>\n",
       "      <td>DIVIDED - W/MEDIAN (NOT RAISED)</td>\n",
       "      <td>...</td>\n",
       "      <td>0.0</td>\n",
       "      <td>0.0</td>\n",
       "      <td>1.0</td>\n",
       "      <td>0.0</td>\n",
       "      <td>14</td>\n",
       "      <td>7</td>\n",
       "      <td>7</td>\n",
       "      <td>41.85412</td>\n",
       "      <td>-87.665902</td>\n",
       "      <td>POINT (-87.665902342962 41.854120262952)</td>\n",
       "    </tr>\n",
       "    <tr>\n",
       "      <th>3</th>\n",
       "      <td>7ebf015016f83d09b321afd671a836d6b148330535d5df...</td>\n",
       "      <td>NaN</td>\n",
       "      <td>08/09/2023 11:00:00 PM</td>\n",
       "      <td>30</td>\n",
       "      <td>NO CONTROLS</td>\n",
       "      <td>NO CONTROLS</td>\n",
       "      <td>CLEAR</td>\n",
       "      <td>DARKNESS, LIGHTED ROAD</td>\n",
       "      <td>SIDESWIPE SAME DIRECTION</td>\n",
       "      <td>NOT DIVIDED</td>\n",
       "      <td>...</td>\n",
       "      <td>0.0</td>\n",
       "      <td>0.0</td>\n",
       "      <td>2.0</td>\n",
       "      <td>0.0</td>\n",
       "      <td>23</td>\n",
       "      <td>4</td>\n",
       "      <td>8</td>\n",
       "      <td>NaN</td>\n",
       "      <td>NaN</td>\n",
       "      <td>NaN</td>\n",
       "    </tr>\n",
       "    <tr>\n",
       "      <th>4</th>\n",
       "      <td>6c1659069e9c6285a650e70d6f9b574ed5f64c12888479...</td>\n",
       "      <td>NaN</td>\n",
       "      <td>08/18/2023 12:50:00 PM</td>\n",
       "      <td>15</td>\n",
       "      <td>OTHER</td>\n",
       "      <td>FUNCTIONING PROPERLY</td>\n",
       "      <td>CLEAR</td>\n",
       "      <td>DAYLIGHT</td>\n",
       "      <td>REAR END</td>\n",
       "      <td>OTHER</td>\n",
       "      <td>...</td>\n",
       "      <td>1.0</td>\n",
       "      <td>0.0</td>\n",
       "      <td>1.0</td>\n",
       "      <td>0.0</td>\n",
       "      <td>12</td>\n",
       "      <td>6</td>\n",
       "      <td>8</td>\n",
       "      <td>NaN</td>\n",
       "      <td>NaN</td>\n",
       "      <td>NaN</td>\n",
       "    </tr>\n",
       "  </tbody>\n",
       "</table>\n",
       "<p>5 rows × 48 columns</p>\n",
       "</div>"
      ],
      "text/plain": [
       "                                     CRASH_RECORD_ID CRASH_DATE_EST_I  \\\n",
       "0  23a79931ef555d54118f64dc9be2cf2dbf59636ce253f7...              NaN   \n",
       "1  2675c13fd0f474d730a5b780968b3cafc7c12d7adb661f...              NaN   \n",
       "2  5f54a59fcb087b12ae5b1acff96a3caf4f2d37e79f8db4...              NaN   \n",
       "3  7ebf015016f83d09b321afd671a836d6b148330535d5df...              NaN   \n",
       "4  6c1659069e9c6285a650e70d6f9b574ed5f64c12888479...              NaN   \n",
       "\n",
       "               CRASH_DATE  POSTED_SPEED_LIMIT TRAFFIC_CONTROL_DEVICE  \\\n",
       "0  09/05/2023 07:05:00 PM                  30         TRAFFIC SIGNAL   \n",
       "1  09/22/2023 06:45:00 PM                  50            NO CONTROLS   \n",
       "2  07/29/2023 02:45:00 PM                  30         TRAFFIC SIGNAL   \n",
       "3  08/09/2023 11:00:00 PM                  30            NO CONTROLS   \n",
       "4  08/18/2023 12:50:00 PM                  15                  OTHER   \n",
       "\n",
       "       DEVICE_CONDITION WEATHER_CONDITION      LIGHTING_CONDITION  \\\n",
       "0  FUNCTIONING PROPERLY             CLEAR                    DUSK   \n",
       "1           NO CONTROLS             CLEAR  DARKNESS, LIGHTED ROAD   \n",
       "2  FUNCTIONING PROPERLY             CLEAR                DAYLIGHT   \n",
       "3           NO CONTROLS             CLEAR  DARKNESS, LIGHTED ROAD   \n",
       "4  FUNCTIONING PROPERLY             CLEAR                DAYLIGHT   \n",
       "\n",
       "           FIRST_CRASH_TYPE                  TRAFFICWAY_TYPE  ...  \\\n",
       "0                     ANGLE              FIVE POINT, OR MORE  ...   \n",
       "1                  REAR END       DIVIDED - W/MEDIAN BARRIER  ...   \n",
       "2      PARKED MOTOR VEHICLE  DIVIDED - W/MEDIAN (NOT RAISED)  ...   \n",
       "3  SIDESWIPE SAME DIRECTION                      NOT DIVIDED  ...   \n",
       "4                  REAR END                            OTHER  ...   \n",
       "\n",
       "   INJURIES_NON_INCAPACITATING INJURIES_REPORTED_NOT_EVIDENT  \\\n",
       "0                          2.0                           0.0   \n",
       "1                          0.0                           0.0   \n",
       "2                          0.0                           0.0   \n",
       "3                          0.0                           0.0   \n",
       "4                          1.0                           0.0   \n",
       "\n",
       "  INJURIES_NO_INDICATION INJURIES_UNKNOWN CRASH_HOUR CRASH_DAY_OF_WEEK  \\\n",
       "0                    2.0              0.0         19                 3   \n",
       "1                    2.0              0.0         18                 6   \n",
       "2                    1.0              0.0         14                 7   \n",
       "3                    2.0              0.0         23                 4   \n",
       "4                    1.0              0.0         12                 6   \n",
       "\n",
       "  CRASH_MONTH  LATITUDE  LONGITUDE                                  LOCATION  \n",
       "0           9       NaN        NaN                                       NaN  \n",
       "1           9       NaN        NaN                                       NaN  \n",
       "2           7  41.85412 -87.665902  POINT (-87.665902342962 41.854120262952)  \n",
       "3           8       NaN        NaN                                       NaN  \n",
       "4           8       NaN        NaN                                       NaN  \n",
       "\n",
       "[5 rows x 48 columns]"
      ]
     },
     "execution_count": 2,
     "metadata": {},
     "output_type": "execute_result"
    }
   ],
   "source": [
    "df.head()"
   ]
  },
  {
   "cell_type": "markdown",
   "metadata": {},
   "source": [
    "### 1. Checking for null values"
   ]
  },
  {
   "cell_type": "code",
   "execution_count": 3,
   "metadata": {},
   "outputs": [
    {
     "data": {
      "text/plain": [
       "CRASH_RECORD_ID                       0\n",
       "CRASH_DATE_EST_I                 815158\n",
       "CRASH_DATE                            0\n",
       "POSTED_SPEED_LIMIT                    0\n",
       "TRAFFIC_CONTROL_DEVICE                0\n",
       "DEVICE_CONDITION                      0\n",
       "WEATHER_CONDITION                     0\n",
       "LIGHTING_CONDITION                    0\n",
       "FIRST_CRASH_TYPE                      0\n",
       "TRAFFICWAY_TYPE                       0\n",
       "LANE_CNT                         681380\n",
       "ALIGNMENT                             0\n",
       "ROADWAY_SURFACE_COND                  0\n",
       "ROAD_DEFECT                           0\n",
       "REPORT_TYPE                       27042\n",
       "CRASH_TYPE                            0\n",
       "INTERSECTION_RELATED_I           678466\n",
       "NOT_RIGHT_OF_WAY_I               840169\n",
       "HIT_AND_RUN_I                    604340\n",
       "DAMAGE                                0\n",
       "DATE_POLICE_NOTIFIED                  0\n",
       "PRIM_CONTRIBUTORY_CAUSE               0\n",
       "SEC_CONTRIBUTORY_CAUSE                0\n",
       "STREET_NO                             0\n",
       "STREET_DIRECTION                      4\n",
       "STREET_NAME                           1\n",
       "BEAT_OF_OCCURRENCE                    5\n",
       "PHOTOS_TAKEN_I                   868455\n",
       "STATEMENTS_TAKEN_I               860242\n",
       "DOORING_I                        877611\n",
       "WORK_ZONE_I                      875430\n",
       "WORK_ZONE_TYPE                   876560\n",
       "WORKERS_PRESENT_I                879120\n",
       "NUM_UNITS                             0\n",
       "MOST_SEVERE_INJURY                 1956\n",
       "INJURIES_TOTAL                     1942\n",
       "INJURIES_FATAL                     1942\n",
       "INJURIES_INCAPACITATING            1942\n",
       "INJURIES_NON_INCAPACITATING        1942\n",
       "INJURIES_REPORTED_NOT_EVIDENT      1942\n",
       "INJURIES_NO_INDICATION             1942\n",
       "INJURIES_UNKNOWN                   1942\n",
       "CRASH_HOUR                            0\n",
       "CRASH_DAY_OF_WEEK                     0\n",
       "CRASH_MONTH                           0\n",
       "LATITUDE                           6273\n",
       "LONGITUDE                          6273\n",
       "LOCATION                           6273\n",
       "dtype: int64"
      ]
     },
     "execution_count": 3,
     "metadata": {},
     "output_type": "execute_result"
    }
   ],
   "source": [
    "df.isnull().sum()"
   ]
  },
  {
   "cell_type": "markdown",
   "metadata": {},
   "source": [
    "while some fields are complete and useful, others have high missing values, which may limit their role in detailed analysis. Dealing with these null values carefully will be essential for building accurate and reliable models or insights."
   ]
  },
  {
   "cell_type": "markdown",
   "metadata": {},
   "source": [
    "### Checking for duplicates"
   ]
  },
  {
   "cell_type": "code",
   "execution_count": 4,
   "metadata": {},
   "outputs": [
    {
     "data": {
      "text/plain": [
       "0"
      ]
     },
     "execution_count": 4,
     "metadata": {},
     "output_type": "execute_result"
    }
   ],
   "source": [
    "df.duplicated().sum()"
   ]
  },
  {
   "cell_type": "markdown",
   "metadata": {},
   "source": [
    "There are zero duplicates"
   ]
  },
  {
   "cell_type": "markdown",
   "metadata": {},
   "source": [
    "### 3. Checking the shape"
   ]
  },
  {
   "cell_type": "code",
   "execution_count": 5,
   "metadata": {},
   "outputs": [
    {
     "data": {
      "text/plain": [
       "(880397, 48)"
      ]
     },
     "execution_count": 5,
     "metadata": {},
     "output_type": "execute_result"
    }
   ],
   "source": [
    "df.shape"
   ]
  },
  {
   "cell_type": "markdown",
   "metadata": {},
   "source": [
    "### 4. Describing the data"
   ]
  },
  {
   "cell_type": "code",
   "execution_count": 6,
   "metadata": {},
   "outputs": [
    {
     "data": {
      "text/html": [
       "<div>\n",
       "<style scoped>\n",
       "    .dataframe tbody tr th:only-of-type {\n",
       "        vertical-align: middle;\n",
       "    }\n",
       "\n",
       "    .dataframe tbody tr th {\n",
       "        vertical-align: top;\n",
       "    }\n",
       "\n",
       "    .dataframe thead th {\n",
       "        text-align: right;\n",
       "    }\n",
       "</style>\n",
       "<table border=\"1\" class=\"dataframe\">\n",
       "  <thead>\n",
       "    <tr style=\"text-align: right;\">\n",
       "      <th></th>\n",
       "      <th>POSTED_SPEED_LIMIT</th>\n",
       "      <th>LANE_CNT</th>\n",
       "      <th>STREET_NO</th>\n",
       "      <th>BEAT_OF_OCCURRENCE</th>\n",
       "      <th>NUM_UNITS</th>\n",
       "      <th>INJURIES_TOTAL</th>\n",
       "      <th>INJURIES_FATAL</th>\n",
       "      <th>INJURIES_INCAPACITATING</th>\n",
       "      <th>INJURIES_NON_INCAPACITATING</th>\n",
       "      <th>INJURIES_REPORTED_NOT_EVIDENT</th>\n",
       "      <th>INJURIES_NO_INDICATION</th>\n",
       "      <th>INJURIES_UNKNOWN</th>\n",
       "      <th>CRASH_HOUR</th>\n",
       "      <th>CRASH_DAY_OF_WEEK</th>\n",
       "      <th>CRASH_MONTH</th>\n",
       "      <th>LATITUDE</th>\n",
       "      <th>LONGITUDE</th>\n",
       "    </tr>\n",
       "  </thead>\n",
       "  <tbody>\n",
       "    <tr>\n",
       "      <th>count</th>\n",
       "      <td>880397.000000</td>\n",
       "      <td>1.990170e+05</td>\n",
       "      <td>880397.000000</td>\n",
       "      <td>880392.000000</td>\n",
       "      <td>880397.000000</td>\n",
       "      <td>878455.000000</td>\n",
       "      <td>878455.000000</td>\n",
       "      <td>878455.000000</td>\n",
       "      <td>878455.000000</td>\n",
       "      <td>878455.000000</td>\n",
       "      <td>878455.000000</td>\n",
       "      <td>878455.0</td>\n",
       "      <td>880397.000000</td>\n",
       "      <td>880397.000000</td>\n",
       "      <td>880397.000000</td>\n",
       "      <td>874124.000000</td>\n",
       "      <td>874124.000000</td>\n",
       "    </tr>\n",
       "    <tr>\n",
       "      <th>mean</th>\n",
       "      <td>28.417869</td>\n",
       "      <td>1.332970e+01</td>\n",
       "      <td>3687.516283</td>\n",
       "      <td>1244.795019</td>\n",
       "      <td>2.035156</td>\n",
       "      <td>0.193559</td>\n",
       "      <td>0.001190</td>\n",
       "      <td>0.019827</td>\n",
       "      <td>0.108623</td>\n",
       "      <td>0.063920</td>\n",
       "      <td>2.001335</td>\n",
       "      <td>0.0</td>\n",
       "      <td>13.204423</td>\n",
       "      <td>4.121889</td>\n",
       "      <td>6.642730</td>\n",
       "      <td>41.855120</td>\n",
       "      <td>-87.673682</td>\n",
       "    </tr>\n",
       "    <tr>\n",
       "      <th>std</th>\n",
       "      <td>6.121812</td>\n",
       "      <td>2.961542e+03</td>\n",
       "      <td>2880.737882</td>\n",
       "      <td>705.003878</td>\n",
       "      <td>0.452478</td>\n",
       "      <td>0.571516</td>\n",
       "      <td>0.037385</td>\n",
       "      <td>0.164965</td>\n",
       "      <td>0.425052</td>\n",
       "      <td>0.325037</td>\n",
       "      <td>1.157204</td>\n",
       "      <td>0.0</td>\n",
       "      <td>5.573031</td>\n",
       "      <td>1.981378</td>\n",
       "      <td>3.363494</td>\n",
       "      <td>0.334126</td>\n",
       "      <td>0.678805</td>\n",
       "    </tr>\n",
       "    <tr>\n",
       "      <th>min</th>\n",
       "      <td>0.000000</td>\n",
       "      <td>0.000000e+00</td>\n",
       "      <td>0.000000</td>\n",
       "      <td>111.000000</td>\n",
       "      <td>1.000000</td>\n",
       "      <td>0.000000</td>\n",
       "      <td>0.000000</td>\n",
       "      <td>0.000000</td>\n",
       "      <td>0.000000</td>\n",
       "      <td>0.000000</td>\n",
       "      <td>0.000000</td>\n",
       "      <td>0.0</td>\n",
       "      <td>0.000000</td>\n",
       "      <td>1.000000</td>\n",
       "      <td>1.000000</td>\n",
       "      <td>0.000000</td>\n",
       "      <td>-87.936193</td>\n",
       "    </tr>\n",
       "    <tr>\n",
       "      <th>25%</th>\n",
       "      <td>30.000000</td>\n",
       "      <td>2.000000e+00</td>\n",
       "      <td>1250.000000</td>\n",
       "      <td>715.000000</td>\n",
       "      <td>2.000000</td>\n",
       "      <td>0.000000</td>\n",
       "      <td>0.000000</td>\n",
       "      <td>0.000000</td>\n",
       "      <td>0.000000</td>\n",
       "      <td>0.000000</td>\n",
       "      <td>1.000000</td>\n",
       "      <td>0.0</td>\n",
       "      <td>9.000000</td>\n",
       "      <td>2.000000</td>\n",
       "      <td>4.000000</td>\n",
       "      <td>41.783061</td>\n",
       "      <td>-87.721824</td>\n",
       "    </tr>\n",
       "    <tr>\n",
       "      <th>50%</th>\n",
       "      <td>30.000000</td>\n",
       "      <td>2.000000e+00</td>\n",
       "      <td>3201.000000</td>\n",
       "      <td>1212.000000</td>\n",
       "      <td>2.000000</td>\n",
       "      <td>0.000000</td>\n",
       "      <td>0.000000</td>\n",
       "      <td>0.000000</td>\n",
       "      <td>0.000000</td>\n",
       "      <td>0.000000</td>\n",
       "      <td>2.000000</td>\n",
       "      <td>0.0</td>\n",
       "      <td>14.000000</td>\n",
       "      <td>4.000000</td>\n",
       "      <td>7.000000</td>\n",
       "      <td>41.874952</td>\n",
       "      <td>-87.674228</td>\n",
       "    </tr>\n",
       "    <tr>\n",
       "      <th>75%</th>\n",
       "      <td>30.000000</td>\n",
       "      <td>4.000000e+00</td>\n",
       "      <td>5563.000000</td>\n",
       "      <td>1822.000000</td>\n",
       "      <td>2.000000</td>\n",
       "      <td>0.000000</td>\n",
       "      <td>0.000000</td>\n",
       "      <td>0.000000</td>\n",
       "      <td>0.000000</td>\n",
       "      <td>0.000000</td>\n",
       "      <td>2.000000</td>\n",
       "      <td>0.0</td>\n",
       "      <td>17.000000</td>\n",
       "      <td>6.000000</td>\n",
       "      <td>9.000000</td>\n",
       "      <td>41.924519</td>\n",
       "      <td>-87.633513</td>\n",
       "    </tr>\n",
       "    <tr>\n",
       "      <th>max</th>\n",
       "      <td>99.000000</td>\n",
       "      <td>1.191625e+06</td>\n",
       "      <td>451100.000000</td>\n",
       "      <td>6100.000000</td>\n",
       "      <td>18.000000</td>\n",
       "      <td>21.000000</td>\n",
       "      <td>4.000000</td>\n",
       "      <td>10.000000</td>\n",
       "      <td>21.000000</td>\n",
       "      <td>15.000000</td>\n",
       "      <td>61.000000</td>\n",
       "      <td>0.0</td>\n",
       "      <td>23.000000</td>\n",
       "      <td>7.000000</td>\n",
       "      <td>12.000000</td>\n",
       "      <td>42.022780</td>\n",
       "      <td>0.000000</td>\n",
       "    </tr>\n",
       "  </tbody>\n",
       "</table>\n",
       "</div>"
      ],
      "text/plain": [
       "       POSTED_SPEED_LIMIT      LANE_CNT      STREET_NO  BEAT_OF_OCCURRENCE  \\\n",
       "count       880397.000000  1.990170e+05  880397.000000       880392.000000   \n",
       "mean            28.417869  1.332970e+01    3687.516283         1244.795019   \n",
       "std              6.121812  2.961542e+03    2880.737882          705.003878   \n",
       "min              0.000000  0.000000e+00       0.000000          111.000000   \n",
       "25%             30.000000  2.000000e+00    1250.000000          715.000000   \n",
       "50%             30.000000  2.000000e+00    3201.000000         1212.000000   \n",
       "75%             30.000000  4.000000e+00    5563.000000         1822.000000   \n",
       "max             99.000000  1.191625e+06  451100.000000         6100.000000   \n",
       "\n",
       "           NUM_UNITS  INJURIES_TOTAL  INJURIES_FATAL  INJURIES_INCAPACITATING  \\\n",
       "count  880397.000000   878455.000000   878455.000000            878455.000000   \n",
       "mean        2.035156        0.193559        0.001190                 0.019827   \n",
       "std         0.452478        0.571516        0.037385                 0.164965   \n",
       "min         1.000000        0.000000        0.000000                 0.000000   \n",
       "25%         2.000000        0.000000        0.000000                 0.000000   \n",
       "50%         2.000000        0.000000        0.000000                 0.000000   \n",
       "75%         2.000000        0.000000        0.000000                 0.000000   \n",
       "max        18.000000       21.000000        4.000000                10.000000   \n",
       "\n",
       "       INJURIES_NON_INCAPACITATING  INJURIES_REPORTED_NOT_EVIDENT  \\\n",
       "count                878455.000000                  878455.000000   \n",
       "mean                      0.108623                       0.063920   \n",
       "std                       0.425052                       0.325037   \n",
       "min                       0.000000                       0.000000   \n",
       "25%                       0.000000                       0.000000   \n",
       "50%                       0.000000                       0.000000   \n",
       "75%                       0.000000                       0.000000   \n",
       "max                      21.000000                      15.000000   \n",
       "\n",
       "       INJURIES_NO_INDICATION  INJURIES_UNKNOWN     CRASH_HOUR  \\\n",
       "count           878455.000000          878455.0  880397.000000   \n",
       "mean                 2.001335               0.0      13.204423   \n",
       "std                  1.157204               0.0       5.573031   \n",
       "min                  0.000000               0.0       0.000000   \n",
       "25%                  1.000000               0.0       9.000000   \n",
       "50%                  2.000000               0.0      14.000000   \n",
       "75%                  2.000000               0.0      17.000000   \n",
       "max                 61.000000               0.0      23.000000   \n",
       "\n",
       "       CRASH_DAY_OF_WEEK    CRASH_MONTH       LATITUDE      LONGITUDE  \n",
       "count      880397.000000  880397.000000  874124.000000  874124.000000  \n",
       "mean            4.121889       6.642730      41.855120     -87.673682  \n",
       "std             1.981378       3.363494       0.334126       0.678805  \n",
       "min             1.000000       1.000000       0.000000     -87.936193  \n",
       "25%             2.000000       4.000000      41.783061     -87.721824  \n",
       "50%             4.000000       7.000000      41.874952     -87.674228  \n",
       "75%             6.000000       9.000000      41.924519     -87.633513  \n",
       "max             7.000000      12.000000      42.022780       0.000000  "
      ]
     },
     "execution_count": 6,
     "metadata": {},
     "output_type": "execute_result"
    }
   ],
   "source": [
    "df.describe()"
   ]
  },
  {
   "cell_type": "markdown",
   "metadata": {},
   "source": [
    "Most incidents are minor (low values in injury-related columns).\n",
    "\n",
    "High variability in lane counts may indicate recording issues or outliers.\n",
    "\n",
    "Time of incident (hour and day of week) shows a spread across all times, with no particular skew."
   ]
  },
  {
   "cell_type": "markdown",
   "metadata": {},
   "source": [
    "### 5 checking the data types"
   ]
  },
  {
   "cell_type": "code",
   "execution_count": 7,
   "metadata": {},
   "outputs": [
    {
     "data": {
      "text/plain": [
       "CRASH_RECORD_ID                   object\n",
       "CRASH_DATE_EST_I                  object\n",
       "CRASH_DATE                        object\n",
       "POSTED_SPEED_LIMIT                 int64\n",
       "TRAFFIC_CONTROL_DEVICE            object\n",
       "DEVICE_CONDITION                  object\n",
       "WEATHER_CONDITION                 object\n",
       "LIGHTING_CONDITION                object\n",
       "FIRST_CRASH_TYPE                  object\n",
       "TRAFFICWAY_TYPE                   object\n",
       "LANE_CNT                         float64\n",
       "ALIGNMENT                         object\n",
       "ROADWAY_SURFACE_COND              object\n",
       "ROAD_DEFECT                       object\n",
       "REPORT_TYPE                       object\n",
       "CRASH_TYPE                        object\n",
       "INTERSECTION_RELATED_I            object\n",
       "NOT_RIGHT_OF_WAY_I                object\n",
       "HIT_AND_RUN_I                     object\n",
       "DAMAGE                            object\n",
       "DATE_POLICE_NOTIFIED              object\n",
       "PRIM_CONTRIBUTORY_CAUSE           object\n",
       "SEC_CONTRIBUTORY_CAUSE            object\n",
       "STREET_NO                          int64\n",
       "STREET_DIRECTION                  object\n",
       "STREET_NAME                       object\n",
       "BEAT_OF_OCCURRENCE               float64\n",
       "PHOTOS_TAKEN_I                    object\n",
       "STATEMENTS_TAKEN_I                object\n",
       "DOORING_I                         object\n",
       "WORK_ZONE_I                       object\n",
       "WORK_ZONE_TYPE                    object\n",
       "WORKERS_PRESENT_I                 object\n",
       "NUM_UNITS                          int64\n",
       "MOST_SEVERE_INJURY                object\n",
       "INJURIES_TOTAL                   float64\n",
       "INJURIES_FATAL                   float64\n",
       "INJURIES_INCAPACITATING          float64\n",
       "INJURIES_NON_INCAPACITATING      float64\n",
       "INJURIES_REPORTED_NOT_EVIDENT    float64\n",
       "INJURIES_NO_INDICATION           float64\n",
       "INJURIES_UNKNOWN                 float64\n",
       "CRASH_HOUR                         int64\n",
       "CRASH_DAY_OF_WEEK                  int64\n",
       "CRASH_MONTH                        int64\n",
       "LATITUDE                         float64\n",
       "LONGITUDE                        float64\n",
       "LOCATION                          object\n",
       "dtype: object"
      ]
     },
     "execution_count": 7,
     "metadata": {},
     "output_type": "execute_result"
    }
   ],
   "source": [
    "df.dtypes"
   ]
  },
  {
   "cell_type": "markdown",
   "metadata": {},
   "source": [
    "## CLEANING THE DATA"
   ]
  },
  {
   "cell_type": "markdown",
   "metadata": {},
   "source": [
    "### 1. Dropping some collums"
   ]
  },
  {
   "cell_type": "code",
   "execution_count": 8,
   "metadata": {},
   "outputs": [
    {
     "data": {
      "text/plain": [
       "(880397, 44)"
      ]
     },
     "execution_count": 8,
     "metadata": {},
     "output_type": "execute_result"
    }
   ],
   "source": [
    "# dropping the CRASH_RECORD_ID \n",
    "df1 = df.drop(columns=['CRASH_RECORD_ID', 'CRASH_DATE_EST_I', 'CRASH_DATE', 'SEC_CONTRIBUTORY_CAUSE'])\n",
    "df1.shape"
   ]
  },
  {
   "cell_type": "markdown",
   "metadata": {},
   "source": [
    "### 2. Dealing with the null values"
   ]
  },
  {
   "cell_type": "markdown",
   "metadata": {},
   "source": [
    "filling using the mean"
   ]
  },
  {
   "cell_type": "code",
   "execution_count": 9,
   "metadata": {},
   "outputs": [],
   "source": [
    "df1['INJURIES_TOTAL'] = df1['INJURIES_TOTAL'].fillna(df1['INJURIES_TOTAL'].mean())"
   ]
  },
  {
   "cell_type": "markdown",
   "metadata": {},
   "source": [
    "using forward fill on the null values"
   ]
  },
  {
   "cell_type": "code",
   "execution_count": 10,
   "metadata": {},
   "outputs": [
    {
     "data": {
      "text/plain": [
       "POSTED_SPEED_LIMIT                    0\n",
       "TRAFFIC_CONTROL_DEVICE                0\n",
       "DEVICE_CONDITION                      0\n",
       "WEATHER_CONDITION                     0\n",
       "LIGHTING_CONDITION                    0\n",
       "FIRST_CRASH_TYPE                      0\n",
       "TRAFFICWAY_TYPE                       0\n",
       "LANE_CNT                             17\n",
       "ALIGNMENT                             0\n",
       "ROADWAY_SURFACE_COND                  0\n",
       "ROAD_DEFECT                           0\n",
       "REPORT_TYPE                           0\n",
       "CRASH_TYPE                            0\n",
       "INTERSECTION_RELATED_I                0\n",
       "NOT_RIGHT_OF_WAY_I                   39\n",
       "HIT_AND_RUN_I                         2\n",
       "DAMAGE                                0\n",
       "DATE_POLICE_NOTIFIED                  0\n",
       "PRIM_CONTRIBUTORY_CAUSE               0\n",
       "STREET_NO                             0\n",
       "STREET_DIRECTION                      4\n",
       "STREET_NAME                           1\n",
       "BEAT_OF_OCCURRENCE                    0\n",
       "PHOTOS_TAKEN_I                   868455\n",
       "STATEMENTS_TAKEN_I               860242\n",
       "DOORING_I                        877611\n",
       "WORK_ZONE_I                      875430\n",
       "WORK_ZONE_TYPE                   876560\n",
       "WORKERS_PRESENT_I                879120\n",
       "NUM_UNITS                             0\n",
       "MOST_SEVERE_INJURY                    0\n",
       "INJURIES_TOTAL                        0\n",
       "INJURIES_FATAL                        0\n",
       "INJURIES_INCAPACITATING               0\n",
       "INJURIES_NON_INCAPACITATING           0\n",
       "INJURIES_REPORTED_NOT_EVIDENT         0\n",
       "INJURIES_NO_INDICATION                0\n",
       "INJURIES_UNKNOWN                      0\n",
       "CRASH_HOUR                            0\n",
       "CRASH_DAY_OF_WEEK                     0\n",
       "CRASH_MONTH                           0\n",
       "LATITUDE                              2\n",
       "LONGITUDE                             2\n",
       "LOCATION                              2\n",
       "dtype: int64"
      ]
     },
     "execution_count": 10,
     "metadata": {},
     "output_type": "execute_result"
    }
   ],
   "source": [
    "columns_to_fill = ['LANE_CNT','INTERSECTION_RELATED_I', 'NOT_RIGHT_OF_WAY_I','REPORT_TYPE', 'HIT_AND_RUN_I', 'BEAT_OF_OCCURRENCE', 'LATITUDE', 'LONGITUDE', 'LOCATION', 'INJURIES_FATAL',\t'INJURIES_INCAPACITATING', 'INJURIES_NON_INCAPACITATING',\t'INJURIES_REPORTED_NOT_EVIDENT', 'INJURIES_NO_INDICATION',\t'MOST_SEVERE_INJURY', 'INJURIES_UNKNOWN'\n",
    "]\n",
    "\n",
    "\n",
    "df1[columns_to_fill] = df1[columns_to_fill].fillna(method='ffill')\n",
    "df1.isnull().sum()"
   ]
  },
  {
   "cell_type": "markdown",
   "metadata": {},
   "source": [
    "using backfill on `null values"
   ]
  },
  {
   "cell_type": "code",
   "execution_count": 11,
   "metadata": {},
   "outputs": [
    {
     "data": {
      "text/plain": [
       "POSTED_SPEED_LIMIT                    0\n",
       "TRAFFIC_CONTROL_DEVICE                0\n",
       "DEVICE_CONDITION                      0\n",
       "WEATHER_CONDITION                     0\n",
       "LIGHTING_CONDITION                    0\n",
       "FIRST_CRASH_TYPE                      0\n",
       "TRAFFICWAY_TYPE                       0\n",
       "LANE_CNT                              0\n",
       "ALIGNMENT                             0\n",
       "ROADWAY_SURFACE_COND                  0\n",
       "ROAD_DEFECT                           0\n",
       "REPORT_TYPE                           0\n",
       "CRASH_TYPE                            0\n",
       "INTERSECTION_RELATED_I                0\n",
       "NOT_RIGHT_OF_WAY_I                    0\n",
       "HIT_AND_RUN_I                         0\n",
       "DAMAGE                                0\n",
       "DATE_POLICE_NOTIFIED                  0\n",
       "PRIM_CONTRIBUTORY_CAUSE               0\n",
       "STREET_NO                             0\n",
       "STREET_DIRECTION                      4\n",
       "STREET_NAME                           1\n",
       "BEAT_OF_OCCURRENCE                    0\n",
       "PHOTOS_TAKEN_I                   868455\n",
       "STATEMENTS_TAKEN_I               860242\n",
       "DOORING_I                        877611\n",
       "WORK_ZONE_I                      875430\n",
       "WORK_ZONE_TYPE                   876560\n",
       "WORKERS_PRESENT_I                879120\n",
       "NUM_UNITS                             0\n",
       "MOST_SEVERE_INJURY                    0\n",
       "INJURIES_TOTAL                        0\n",
       "INJURIES_FATAL                        0\n",
       "INJURIES_INCAPACITATING               0\n",
       "INJURIES_NON_INCAPACITATING           0\n",
       "INJURIES_REPORTED_NOT_EVIDENT         0\n",
       "INJURIES_NO_INDICATION                0\n",
       "INJURIES_UNKNOWN                      0\n",
       "CRASH_HOUR                            0\n",
       "CRASH_DAY_OF_WEEK                     0\n",
       "CRASH_MONTH                           0\n",
       "LATITUDE                              2\n",
       "LONGITUDE                             2\n",
       "LOCATION                              0\n",
       "dtype: int64"
      ]
     },
     "execution_count": 11,
     "metadata": {},
     "output_type": "execute_result"
    }
   ],
   "source": [
    "columns_to_fill = ['LANE_CNT','INTERSECTION_RELATED_I', 'NOT_RIGHT_OF_WAY_I', 'HIT_AND_RUN_I', 'LOCATION']\n",
    "\n",
    "df1[columns_to_fill] = df1[columns_to_fill].fillna(method='bfill')\n",
    "df1.isnull().sum()"
   ]
  },
  {
   "cell_type": "code",
   "execution_count": 12,
   "metadata": {},
   "outputs": [
    {
     "data": {
      "text/plain": [
       "(880397, 44)"
      ]
     },
     "execution_count": 12,
     "metadata": {},
     "output_type": "execute_result"
    }
   ],
   "source": [
    "df1.dropna()\n",
    "df1.shape"
   ]
  },
  {
   "cell_type": "code",
   "execution_count": 13,
   "metadata": {},
   "outputs": [
    {
     "data": {
      "text/plain": [
       "POSTED_SPEED_LIMIT                 int64\n",
       "TRAFFIC_CONTROL_DEVICE            object\n",
       "DEVICE_CONDITION                  object\n",
       "WEATHER_CONDITION                 object\n",
       "LIGHTING_CONDITION                object\n",
       "FIRST_CRASH_TYPE                  object\n",
       "TRAFFICWAY_TYPE                   object\n",
       "LANE_CNT                         float64\n",
       "ALIGNMENT                         object\n",
       "ROADWAY_SURFACE_COND              object\n",
       "ROAD_DEFECT                       object\n",
       "REPORT_TYPE                       object\n",
       "CRASH_TYPE                        object\n",
       "INTERSECTION_RELATED_I            object\n",
       "NOT_RIGHT_OF_WAY_I                object\n",
       "HIT_AND_RUN_I                     object\n",
       "DAMAGE                            object\n",
       "DATE_POLICE_NOTIFIED              object\n",
       "PRIM_CONTRIBUTORY_CAUSE           object\n",
       "STREET_NO                          int64\n",
       "STREET_DIRECTION                  object\n",
       "STREET_NAME                       object\n",
       "BEAT_OF_OCCURRENCE               float64\n",
       "PHOTOS_TAKEN_I                    object\n",
       "STATEMENTS_TAKEN_I                object\n",
       "DOORING_I                         object\n",
       "WORK_ZONE_I                       object\n",
       "WORK_ZONE_TYPE                    object\n",
       "WORKERS_PRESENT_I                 object\n",
       "NUM_UNITS                          int64\n",
       "MOST_SEVERE_INJURY                object\n",
       "INJURIES_TOTAL                   float64\n",
       "INJURIES_FATAL                   float64\n",
       "INJURIES_INCAPACITATING          float64\n",
       "INJURIES_NON_INCAPACITATING      float64\n",
       "INJURIES_REPORTED_NOT_EVIDENT    float64\n",
       "INJURIES_NO_INDICATION           float64\n",
       "INJURIES_UNKNOWN                 float64\n",
       "CRASH_HOUR                         int64\n",
       "CRASH_DAY_OF_WEEK                  int64\n",
       "CRASH_MONTH                        int64\n",
       "LATITUDE                         float64\n",
       "LONGITUDE                        float64\n",
       "LOCATION                          object\n",
       "dtype: object"
      ]
     },
     "execution_count": 13,
     "metadata": {},
     "output_type": "execute_result"
    }
   ],
   "source": [
    "df1.dtypes"
   ]
  },
  {
   "cell_type": "markdown",
   "metadata": {},
   "source": [
    "### Using label encoder"
   ]
  },
  {
   "cell_type": "code",
   "execution_count": 14,
   "metadata": {},
   "outputs": [],
   "source": [
    "from sklearn.preprocessing import LabelEncoder\n",
    "\n",
    "categorical_cols = ['POSTED_SPEED_LIMIT', 'TRAFFIC_CONTROL_DEVICE',\t'DEVICE_CONDITION',\t'LIGHTING_CONDITION',\t'FIRST_CRASH_TYPE',\t'TRAFFICWAY_TYPE',\t'LANE_CNT',\t'ALIGNMENT',\t'ROADWAY_SURFACE_COND',\t'ROAD_DEFECT',\t'CRASH_TYPE',\t'INTERSECTION_RELATED_I','WEATHER_CONDITION', 'NOT_RIGHT_OF_WAY_I',\t'HIT_AND_RUN_I',\t'DAMAGE',\t'BEAT_OF_OCCURRENCE',\t'NUM_UNITS', 'REPORT_TYPE', 'PHOTOS_TAKEN_I', 'STATEMENTS_TAKEN_I', 'DOORING_I', 'WORK_ZONE_I', 'WORK_ZONE_TYPE','DATE_POLICE_NOTIFIED', 'WORKERS_PRESENT_I','LATITUDE',\t'LONGITUDE', 'CRASH_HOUR',\t'CRASH_DAY_OF_WEEK',\t'CRASH_MONTH', 'STREET_NO', 'STREET_DIRECTION', 'STREET_NAME', 'LOCATION', 'INJURIES_FATAL',\t'INJURIES_INCAPACITATING', 'INJURIES_NON_INCAPACITATING',\t'INJURIES_REPORTED_NOT_EVIDENT', 'INJURIES_NO_INDICATION',\t'MOST_SEVERE_INJURY', 'INJURIES_UNKNOWN'\n",
    "]\n",
    "\n",
    "for col in categorical_cols:\n",
    "    df1[col] = df1[col].astype(str)\n",
    "\n",
    "\n",
    "label_encoders = {col: LabelEncoder().fit(df1[col]) for col in categorical_cols}\n",
    "\n",
    "\n",
    "for col in categorical_cols:\n",
    "    df1[col] = label_encoders[col].transform(df1[col])"
   ]
  },
  {
   "cell_type": "markdown",
   "metadata": {},
   "source": [
    "The label encoder Converts categorical variables to numeric values for simpler analysis"
   ]
  },
  {
   "cell_type": "code",
   "execution_count": 15,
   "metadata": {},
   "outputs": [
    {
     "data": {
      "text/plain": [
       "POSTED_SPEED_LIMIT                 int32\n",
       "TRAFFIC_CONTROL_DEVICE             int32\n",
       "DEVICE_CONDITION                   int32\n",
       "WEATHER_CONDITION                  int32\n",
       "LIGHTING_CONDITION                 int32\n",
       "FIRST_CRASH_TYPE                   int32\n",
       "TRAFFICWAY_TYPE                    int32\n",
       "LANE_CNT                           int32\n",
       "ALIGNMENT                          int32\n",
       "ROADWAY_SURFACE_COND               int32\n",
       "ROAD_DEFECT                        int32\n",
       "REPORT_TYPE                        int32\n",
       "CRASH_TYPE                         int32\n",
       "INTERSECTION_RELATED_I             int32\n",
       "NOT_RIGHT_OF_WAY_I                 int32\n",
       "HIT_AND_RUN_I                      int32\n",
       "DAMAGE                             int32\n",
       "DATE_POLICE_NOTIFIED               int32\n",
       "PRIM_CONTRIBUTORY_CAUSE           object\n",
       "STREET_NO                          int32\n",
       "STREET_DIRECTION                   int32\n",
       "STREET_NAME                        int32\n",
       "BEAT_OF_OCCURRENCE                 int32\n",
       "PHOTOS_TAKEN_I                     int32\n",
       "STATEMENTS_TAKEN_I                 int32\n",
       "DOORING_I                          int32\n",
       "WORK_ZONE_I                        int32\n",
       "WORK_ZONE_TYPE                     int32\n",
       "WORKERS_PRESENT_I                  int32\n",
       "NUM_UNITS                          int32\n",
       "MOST_SEVERE_INJURY                 int32\n",
       "INJURIES_TOTAL                   float64\n",
       "INJURIES_FATAL                     int32\n",
       "INJURIES_INCAPACITATING            int32\n",
       "INJURIES_NON_INCAPACITATING        int32\n",
       "INJURIES_REPORTED_NOT_EVIDENT      int32\n",
       "INJURIES_NO_INDICATION             int32\n",
       "INJURIES_UNKNOWN                   int32\n",
       "CRASH_HOUR                         int32\n",
       "CRASH_DAY_OF_WEEK                  int32\n",
       "CRASH_MONTH                        int32\n",
       "LATITUDE                           int32\n",
       "LONGITUDE                          int32\n",
       "LOCATION                           int32\n",
       "dtype: object"
      ]
     },
     "execution_count": 15,
     "metadata": {},
     "output_type": "execute_result"
    }
   ],
   "source": [
    "df1.dtypes"
   ]
  },
  {
   "cell_type": "code",
   "execution_count": 16,
   "metadata": {},
   "outputs": [
    {
     "data": {
      "text/html": [
       "<div>\n",
       "<style scoped>\n",
       "    .dataframe tbody tr th:only-of-type {\n",
       "        vertical-align: middle;\n",
       "    }\n",
       "\n",
       "    .dataframe tbody tr th {\n",
       "        vertical-align: top;\n",
       "    }\n",
       "\n",
       "    .dataframe thead th {\n",
       "        text-align: right;\n",
       "    }\n",
       "</style>\n",
       "<table border=\"1\" class=\"dataframe\">\n",
       "  <thead>\n",
       "    <tr style=\"text-align: right;\">\n",
       "      <th></th>\n",
       "      <th>POSTED_SPEED_LIMIT</th>\n",
       "      <th>TRAFFIC_CONTROL_DEVICE</th>\n",
       "      <th>DEVICE_CONDITION</th>\n",
       "      <th>WEATHER_CONDITION</th>\n",
       "      <th>LIGHTING_CONDITION</th>\n",
       "      <th>FIRST_CRASH_TYPE</th>\n",
       "      <th>TRAFFICWAY_TYPE</th>\n",
       "      <th>LANE_CNT</th>\n",
       "      <th>ALIGNMENT</th>\n",
       "      <th>ROADWAY_SURFACE_COND</th>\n",
       "      <th>...</th>\n",
       "      <th>INJURIES_NON_INCAPACITATING</th>\n",
       "      <th>INJURIES_REPORTED_NOT_EVIDENT</th>\n",
       "      <th>INJURIES_NO_INDICATION</th>\n",
       "      <th>INJURIES_UNKNOWN</th>\n",
       "      <th>CRASH_HOUR</th>\n",
       "      <th>CRASH_DAY_OF_WEEK</th>\n",
       "      <th>CRASH_MONTH</th>\n",
       "      <th>LATITUDE</th>\n",
       "      <th>LONGITUDE</th>\n",
       "      <th>LOCATION</th>\n",
       "    </tr>\n",
       "  </thead>\n",
       "  <tbody>\n",
       "    <tr>\n",
       "      <th>0</th>\n",
       "      <td>18</td>\n",
       "      <td>16</td>\n",
       "      <td>1</td>\n",
       "      <td>2</td>\n",
       "      <td>4</td>\n",
       "      <td>0</td>\n",
       "      <td>5</td>\n",
       "      <td>13</td>\n",
       "      <td>3</td>\n",
       "      <td>0</td>\n",
       "      <td>...</td>\n",
       "      <td>10</td>\n",
       "      <td>0</td>\n",
       "      <td>12</td>\n",
       "      <td>0</td>\n",
       "      <td>11</td>\n",
       "      <td>2</td>\n",
       "      <td>11</td>\n",
       "      <td>314593</td>\n",
       "      <td>314556</td>\n",
       "      <td>127349</td>\n",
       "    </tr>\n",
       "    <tr>\n",
       "      <th>1</th>\n",
       "      <td>34</td>\n",
       "      <td>4</td>\n",
       "      <td>3</td>\n",
       "      <td>2</td>\n",
       "      <td>1</td>\n",
       "      <td>10</td>\n",
       "      <td>3</td>\n",
       "      <td>13</td>\n",
       "      <td>3</td>\n",
       "      <td>0</td>\n",
       "      <td>...</td>\n",
       "      <td>0</td>\n",
       "      <td>0</td>\n",
       "      <td>12</td>\n",
       "      <td>0</td>\n",
       "      <td>10</td>\n",
       "      <td>5</td>\n",
       "      <td>11</td>\n",
       "      <td>314593</td>\n",
       "      <td>314556</td>\n",
       "      <td>127349</td>\n",
       "    </tr>\n",
       "    <tr>\n",
       "      <th>2</th>\n",
       "      <td>18</td>\n",
       "      <td>16</td>\n",
       "      <td>1</td>\n",
       "      <td>2</td>\n",
       "      <td>3</td>\n",
       "      <td>7</td>\n",
       "      <td>2</td>\n",
       "      <td>13</td>\n",
       "      <td>3</td>\n",
       "      <td>0</td>\n",
       "      <td>...</td>\n",
       "      <td>0</td>\n",
       "      <td>0</td>\n",
       "      <td>1</td>\n",
       "      <td>0</td>\n",
       "      <td>6</td>\n",
       "      <td>6</td>\n",
       "      <td>9</td>\n",
       "      <td>135814</td>\n",
       "      <td>127246</td>\n",
       "      <td>127349</td>\n",
       "    </tr>\n",
       "    <tr>\n",
       "      <th>3</th>\n",
       "      <td>18</td>\n",
       "      <td>4</td>\n",
       "      <td>3</td>\n",
       "      <td>2</td>\n",
       "      <td>1</td>\n",
       "      <td>15</td>\n",
       "      <td>8</td>\n",
       "      <td>13</td>\n",
       "      <td>3</td>\n",
       "      <td>0</td>\n",
       "      <td>...</td>\n",
       "      <td>0</td>\n",
       "      <td>0</td>\n",
       "      <td>12</td>\n",
       "      <td>0</td>\n",
       "      <td>16</td>\n",
       "      <td>3</td>\n",
       "      <td>10</td>\n",
       "      <td>135814</td>\n",
       "      <td>127246</td>\n",
       "      <td>127349</td>\n",
       "    </tr>\n",
       "    <tr>\n",
       "      <th>4</th>\n",
       "      <td>6</td>\n",
       "      <td>6</td>\n",
       "      <td>1</td>\n",
       "      <td>2</td>\n",
       "      <td>3</td>\n",
       "      <td>10</td>\n",
       "      <td>11</td>\n",
       "      <td>13</td>\n",
       "      <td>3</td>\n",
       "      <td>0</td>\n",
       "      <td>...</td>\n",
       "      <td>1</td>\n",
       "      <td>0</td>\n",
       "      <td>1</td>\n",
       "      <td>0</td>\n",
       "      <td>4</td>\n",
       "      <td>5</td>\n",
       "      <td>10</td>\n",
       "      <td>135814</td>\n",
       "      <td>127246</td>\n",
       "      <td>127349</td>\n",
       "    </tr>\n",
       "  </tbody>\n",
       "</table>\n",
       "<p>5 rows × 44 columns</p>\n",
       "</div>"
      ],
      "text/plain": [
       "   POSTED_SPEED_LIMIT  TRAFFIC_CONTROL_DEVICE  DEVICE_CONDITION  \\\n",
       "0                  18                      16                 1   \n",
       "1                  34                       4                 3   \n",
       "2                  18                      16                 1   \n",
       "3                  18                       4                 3   \n",
       "4                   6                       6                 1   \n",
       "\n",
       "   WEATHER_CONDITION  LIGHTING_CONDITION  FIRST_CRASH_TYPE  TRAFFICWAY_TYPE  \\\n",
       "0                  2                   4                 0                5   \n",
       "1                  2                   1                10                3   \n",
       "2                  2                   3                 7                2   \n",
       "3                  2                   1                15                8   \n",
       "4                  2                   3                10               11   \n",
       "\n",
       "   LANE_CNT  ALIGNMENT  ROADWAY_SURFACE_COND  ...  \\\n",
       "0        13          3                     0  ...   \n",
       "1        13          3                     0  ...   \n",
       "2        13          3                     0  ...   \n",
       "3        13          3                     0  ...   \n",
       "4        13          3                     0  ...   \n",
       "\n",
       "   INJURIES_NON_INCAPACITATING  INJURIES_REPORTED_NOT_EVIDENT  \\\n",
       "0                           10                              0   \n",
       "1                            0                              0   \n",
       "2                            0                              0   \n",
       "3                            0                              0   \n",
       "4                            1                              0   \n",
       "\n",
       "   INJURIES_NO_INDICATION  INJURIES_UNKNOWN  CRASH_HOUR  CRASH_DAY_OF_WEEK  \\\n",
       "0                      12                 0          11                  2   \n",
       "1                      12                 0          10                  5   \n",
       "2                       1                 0           6                  6   \n",
       "3                      12                 0          16                  3   \n",
       "4                       1                 0           4                  5   \n",
       "\n",
       "   CRASH_MONTH  LATITUDE  LONGITUDE  LOCATION  \n",
       "0           11    314593     314556    127349  \n",
       "1           11    314593     314556    127349  \n",
       "2            9    135814     127246    127349  \n",
       "3           10    135814     127246    127349  \n",
       "4           10    135814     127246    127349  \n",
       "\n",
       "[5 rows x 44 columns]"
      ]
     },
     "execution_count": 16,
     "metadata": {},
     "output_type": "execute_result"
    }
   ],
   "source": [
    "df1['INJURIES_TOTAL'] = df1['INJURIES_TOTAL'].astype(int)\n",
    "df1['PRIM_CONTRIBUTORY_CAUSE'] = df1['PRIM_CONTRIBUTORY_CAUSE'].apply(lambda x: 0 if x.strip().upper() == \"UNABLE TO DETERMINE\" else 1)\n",
    "\n",
    "df1.head()"
   ]
  },
  {
   "cell_type": "markdown",
   "metadata": {},
   "source": [
    "### Splitting the data"
   ]
  },
  {
   "cell_type": "code",
   "execution_count": 17,
   "metadata": {},
   "outputs": [],
   "source": [
    "X = df1.drop(\"PRIM_CONTRIBUTORY_CAUSE\", axis =1)\n",
    "y = df1[\"PRIM_CONTRIBUTORY_CAUSE\"]"
   ]
  },
  {
   "cell_type": "code",
   "execution_count": 18,
   "metadata": {},
   "outputs": [],
   "source": [
    "from sklearn.model_selection import train_test_split\n",
    "X_train, X_test, y_train, y_test = train_test_split(X, y, test_size=0.2, random_state=42)"
   ]
  },
  {
   "cell_type": "markdown",
   "metadata": {},
   "source": [
    "### using pipelines to fit pca"
   ]
  },
  {
   "cell_type": "code",
   "execution_count": 27,
   "metadata": {},
   "outputs": [
    {
     "data": {
      "text/plain": [
       "(704317, 32)"
      ]
     },
     "execution_count": 27,
     "metadata": {},
     "output_type": "execute_result"
    }
   ],
   "source": [
    "from sklearn.decomposition import PCA\n",
    "from sklearn.pipeline import Pipeline\n",
    "from sklearn.preprocessing import StandardScaler, LabelEncoder\n",
    "\n",
    "pipeline = Pipeline([\n",
    "    ('scaler', StandardScaler()),\n",
    "    ('pca', PCA(n_components=0.9, svd_solver=\"full\")),\n",
    "])\n",
    "\n",
    "X_train_pca = pipeline.fit_transform(X_train)\n",
    "X_test_pca = pipeline.transform(X_test)\n",
    "\n",
    "X_train_pca.shape"
   ]
  },
  {
   "cell_type": "code",
   "execution_count": 28,
   "metadata": {},
   "outputs": [
    {
     "data": {
      "text/plain": [
       "Text(0, 0.5, 'y')"
      ]
     },
     "execution_count": 28,
     "metadata": {},
     "output_type": "execute_result"
    },
    {
     "data": {
      "image/png": "[encoded data removed]",
      "text/plain": [
       "<Figure size 720x504 with 1 Axes>"
      ]
     },
     "metadata": {
      "needs_background": "light"
     },
     "output_type": "display_data"
    }
   ],
   "source": [
    "plt.figure(figsize=(10, 7))\n",
    "plt.scatter(X_train_pca[:, 0], X_train_pca[:, 1], c=y_train, cmap='viridis')\n",
    "plt.title('PCA Clustering Graph')\n",
    "plt.xlabel('X_train_pca')\n",
    "plt.ylabel('y')"
   ]
  },
  {
   "cell_type": "markdown",
   "metadata": {},
   "source": []
  },
  {
   "cell_type": "markdown",
   "metadata": {},
   "source": [
    "## Logistic regression"
   ]
  },
  {
   "cell_type": "code",
   "execution_count": 29,
   "metadata": {},
   "outputs": [
    {
     "name": "stdout",
     "output_type": "stream",
     "text": [
      "Cross-Validation Accuracy: 0.6521921853702862\n",
      "Precision: 0.6634753538658511\n",
      "Recall: 0.8700656667412879\n",
      "F1-score: 0.7528551481448599\n"
     ]
    },
    {
     "data": {
      "image/png": "[encoded data removed]",
      "text/plain": [
       "<Figure size 576x432 with 2 Axes>"
      ]
     },
     "metadata": {
      "needs_background": "light"
     },
     "output_type": "display_data"
    }
   ],
   "source": [
    "from sklearn.linear_model import LogisticRegression\n",
    "import seaborn as sns\n",
    "from sklearn.metrics import classification_report, roc_curve, auc, confusion_matrix, precision_score, accuracy_score, f1_score, recall_score\n",
    "\n",
    "\n",
    "logreg = LogisticRegression()\n",
    "logreg.fit(X_train_pca, y_train)\n",
    "y_pred_logreg = logreg.predict(X_test_pca)\n",
    "\n",
    "\n",
    "accuracy_rf = accuracy_score(y_test, y_pred_logreg)\n",
    "precision_rf = precision_score(y_test, y_pred_logreg)\n",
    "recall_rf = recall_score(y_test, y_pred_logreg)\n",
    "f1_rf = f1_score(y_test, y_pred_logreg)\n",
    "\n",
    "# Print the evaluation metrics\n",
    "print(\"Cross-Validation Accuracy:\", accuracy_rf)\n",
    "print(\"Precision:\", precision_rf)\n",
    "print(\"Recall:\", recall_rf)\n",
    "print(\"F1-score:\", f1_rf)\n",
    "\n",
    "cm = confusion_matrix(y_test, y_pred_logreg)\n",
    "\n",
    "plt.figure(figsize=(8, 6))\n",
    "sns.heatmap(cm, annot=True, fmt='d', cmap=\"Blues\")\n",
    "plt.title(\"LogisticRegression Confusion Matrix\")\n",
    "\n",
    "plt.show()"
   ]
  },
  {
   "cell_type": "code",
   "execution_count": 30,
   "metadata": {},
   "outputs": [
    {
     "data": {
      "image/png": "[encoded data removed]",
      "text/plain": [
       "<Figure size 576x432 with 1 Axes>"
      ]
     },
     "metadata": {
      "needs_background": "light"
     },
     "output_type": "display_data"
    }
   ],
   "source": [
    "y_prob_logreg = logreg.predict_proba(X_test_pca)[:, 1]\n",
    "fpr, tpr, thresholds = roc_curve(y_test, y_prob_logreg, pos_label=1)\n",
    "roc_auc = auc(fpr, tpr)\n",
    "\n",
    "plt.figure(figsize=(8, 6))\n",
    "plt.plot(fpr, tpr, color='blue', label=f'Logistic Regression AUC = {roc_auc:.2f}')\n",
    "plt.plot([0, 1], [0, 1], color='gray', linestyle='--')\n",
    "plt.xlabel('False Positive Rate')\n",
    "plt.ylabel('True Positive Rate')\n",
    "plt.title('ROC Curve for Logistic Regression')\n",
    "plt.legend()\n",
    "plt.show()"
   ]
  },
  {
   "cell_type": "markdown",
   "metadata": {},
   "source": [
    "### K-Nearest Neighbors with GridSearchCV for hyperparameter tuning"
   ]
  },
  {
   "cell_type": "code",
   "execution_count": null,
   "metadata": {},
   "outputs": [],
   "source": [
    "from sklearn.model_selection import GridSearchCV\n",
    "from sklearn.neighbors import KNeighborsClassifier\n",
    "from sklearn.tree import DecisionTreeClassifier, plot_tree\n",
    "\n",
    "\n",
    "\n",
    "knn = KNeighborsClassifier()\n",
    "param_grid_knn = {'n_neighbors': [3, 5, 7]}\n",
    "grid_search_knn = GridSearchCV(knn, param_grid_knn, cv=5)\n",
    "grid_search_knn.fit(X_train_pca, y_train)\n",
    "print(\"\\nBest Hyperparameters for KNN:\", grid_search_knn.best_params_)\n",
    "y_pred_knn = grid_search_knn.predict(X_test_pca)\n",
    "\n",
    "\n",
    "accuracy_rf = accuracy_score(y_test, y_pred_knn)\n",
    "precision_rf = precision_score(y_test, y_pred_knn)\n",
    "recall_rf = recall_score(y_test, y_pred_knn)\n",
    "f1_rf = f1_score(y_test, y_pred_knn)\n",
    "\n",
    "# Print the evaluation metrics\n",
    "print(\"Cross-Validation Accuracy:\", accuracy_rf)\n",
    "print(\"Precision:\", precision_rf)\n",
    "print(\"Recall:\", recall_rf)\n",
    "print(\"F1-score:\", f1_rf)\n",
    "\n",
    "\n",
    "print(\"Confusion Matrix (Test Data):\")\n",
    "print(confusion_matrix(y_test, y_pred_knn))\n",
    "\n"
   ]
  },
  {
   "cell_type": "code",
   "execution_count": null,
   "metadata": {},
   "outputs": [],
   "source": [
    "y_prob_knn = grid_search_knn.predict_proba(X_test_pca)[:, 1]\n",
    "\n",
    "fpr, tpr, thresholds = roc_curve(y_test, y_prob_knn, pos_label=1)\n",
    "roc_auc = auc(fpr, tpr)\n",
    "\n",
    "plt.figure(figsize=(8, 6))\n",
    "plt.plot(fpr, tpr, color='blue', lw=2, label=f'KNN (AUC = {roc_auc:.2f})')\n",
    "plt.plot([0, 1], [0, 1], color='gray', linestyle='--')  # Diagonal line for reference\n",
    "plt.xlabel('False Positive Rate')\n",
    "plt.ylabel('True Positive Rate')\n",
    "plt.title('ROC Curve for KNN with Optimal Hyperparameters')\n",
    "plt.legend(loc=\"lower right\")\n",
    "plt.show()"
   ]
  },
  {
   "cell_type": "markdown",
   "metadata": {},
   "source": [
    "## Decision Tree with GridSearchCV for hyperparameter tuning"
   ]
  },
  {
   "cell_type": "code",
   "execution_count": null,
   "metadata": {},
   "outputs": [],
   "source": [
    "dt = DecisionTreeClassifier(random_state=42)\n",
    "param_grid_dt = {'max_depth': [3, 5, 10], 'min_samples_split': [2, 5, 10]}\n",
    "grid_search_dt = GridSearchCV(dt, param_grid_dt, cv=5)\n",
    "grid_search_dt.fit(X_train_pca, y_train)\n",
    "print(\"\\nBest Hyperparameters for Decision Tree:\", grid_search_dt.best_params_)\n",
    "y_pred_dt = grid_search_dt.predict(X_test_pca)\n",
    "\n",
    "\n",
    "accuracy_rf = accuracy_score(y_test, y_pred_dt)\n",
    "precision_rf = precision_score(y_test, y_pred_dt)\n",
    "recall_rf = recall_score(y_test, y_pred_dt)\n",
    "f1_rf = f1_score(y_test, y_pred_dt)\n",
    "\n",
    "# Print the evaluation metrics\n",
    "print(\"Cross-Validation Accuracy:\", accuracy_rf)\n",
    "print(\"Precision:\", precision_rf)\n",
    "print(\"Recall:\", recall_rf)\n",
    "print(\"F1-score:\", f1_rf)\n",
    "\n",
    "\n",
    "cm3 = confusion_matrix(y_test, y_pred_dt)\n",
    "\n",
    "plt.figure(figsize=(8, 6))\n",
    "sns.heatmap(cm3, annot=True, fmt='d', cmap=\"Blues\")\n",
    "plt.title(\"Decision tree Confusion Matrix\")\n",
    "\n",
    "plt.show()"
   ]
  },
  {
   "cell_type": "code",
   "execution_count": null,
   "metadata": {},
   "outputs": [],
   "source": [
    "y_prob_dtree = grid_search_dt.predict_proba(X_test_pca)[:, 1]\n",
    "\n",
    "fpr, tpr, thresholds = roc_curve(y_test, y_prob_dtree, pos_label=1)\n",
    "roc_auc = auc(fpr, tpr)\n",
    "\n",
    "plt.figure(figsize=(8, 6))\n",
    "plt.plot(fpr, tpr, color='blue', lw=2, label=f'Decision Tree (AUC = {roc_auc:.2f})')\n",
    "plt.plot([0, 1], [0, 1], color='gray', linestyle='--')  # Diagonal line for reference\n",
    "plt.xlabel('False Positive Rate')\n",
    "plt.ylabel('True Positive Rate')\n",
    "plt.title('ROC Curve for Decision Tree with Optimal Hyperparameters')\n",
    "plt.legend(loc=\"lower right\")\n",
    "plt.show()"
   ]
  },
  {
   "cell_type": "markdown",
   "metadata": {},
   "source": [
    "## Bagging with Decision Tree"
   ]
  },
  {
   "cell_type": "code",
   "execution_count": null,
   "metadata": {},
   "outputs": [],
   "source": [
    "from sklearn.ensemble import BaggingClassifier\n",
    "\n",
    "bagging = BaggingClassifier(base_estimator=grid_search_dt.best_estimator_, n_estimators=10, random_state=42)\n",
    "bagging.fit(X_train_pca, y_train)\n",
    "y_pred_bagging = bagging.predict(X_test_pca)\n",
    "#print(\"Bagging Classifier with Decision Tree Classification Report:\")\n",
    "# print(classification_report(y_test, y_pred_bagging))\n",
    "\n",
    "accuracy_rf = accuracy_score(y_test, y_pred_bagging)\n",
    "precision_rf = precision_score(y_test, y_pred_bagging)\n",
    "recall_rf = recall_score(y_test, y_pred_bagging)\n",
    "f1_rf = f1_score(y_test, y_pred_bagging)\n",
    "\n",
    "# Print the evaluation metrics\n",
    "print(\"Cross-Validation Accuracy:\", accuracy_rf)\n",
    "print(\"Precision:\", precision_rf)\n",
    "print(\"Recall:\", recall_rf)\n",
    "print(\"F1-score:\", f1_rf)\n",
    "\n",
    "cm3 = confusion_matrix(y_test, y_pred_bagging)\n",
    "\n",
    "plt.figure(figsize=(8, 6))\n",
    "sns.heatmap(cm3, annot=True, fmt='d', cmap=\"Blues\")\n",
    "plt.title(\"Bagging Confusion Matrix\")\n",
    "\n",
    "plt.show()"
   ]
  },
  {
   "cell_type": "code",
   "execution_count": null,
   "metadata": {},
   "outputs": [],
   "source": [
    "y_prob_bagging = bagging.predict_proba(X_test_pca)[:, 1]\n",
    "\n",
    "# Compute ROC curve and AUC\n",
    "fpr, tpr, thresholds = roc_curve(y_test, y_prob_bagging, pos_label=1)  # Change pos_label as needed\n",
    "roc_auc = auc(fpr, tpr)\n",
    "\n",
    "# Plot the ROC curve\n",
    "plt.figure(figsize=(8, 6))\n",
    "plt.plot(fpr, tpr, color='blue', lw=2, label=f'Bagging Classifier (AUC = {roc_auc:.2f})')\n",
    "plt.plot([0, 1], [0, 1], color='gray', linestyle='--')  # Diagonal line for reference\n",
    "plt.xlabel('False Positive Rate')\n",
    "plt.ylabel('True Positive Rate')\n",
    "plt.title('ROC Curve for Bagging Classifier with Decision Tree')\n",
    "plt.legend(loc=\"lower right\")\n",
    "plt.show()"
   ]
  },
  {
   "cell_type": "markdown",
   "metadata": {},
   "source": [
    "## Random forest"
   ]
  },
  {
   "cell_type": "code",
   "execution_count": null,
   "metadata": {},
   "outputs": [],
   "source": [
    "from sklearn.ensemble import RandomForestClassifier\n",
    "from sklearn.inspection import PartialDependenceDisplay\n",
    "\n",
    "rf = RandomForestClassifier(n_estimators=100, max_depth=10, random_state=42)\n",
    "\n",
    "# Train the Random Forest model\n",
    "rf.fit(X_train_pca, y_train)\n",
    "\n",
    "# Predictions and evaluation\n",
    "y_pred_rf = rf.predict(X_test_pca)\n",
    "#print(\"Random Forest Classification Report:\")\n",
    "#print(classification_report(y_test, y_pred_rf))\n",
    "\n",
    "accuracy_rf = accuracy_score(y_test, y_pred_rf)\n",
    "precision_rf = precision_score(y_test, y_pred_rf)\n",
    "recall_rf = recall_score(y_test, y_pred_rf)\n",
    "f1_rf = f1_score(y_test, y_pred_rf)\n",
    "\n",
    "# Print the evaluation metrics\n",
    "print(\"Cross-Validation Accuracy:\", accuracy_rf)\n",
    "print(\"Precision:\", precision_rf)\n",
    "print(\"Recall:\", recall_rf)\n",
    "print(\"F1-score:\", f1_rf)\n",
    "\n",
    "cm3 = confusion_matrix(y_test, y_pred_rf)\n",
    "\n",
    "plt.figure(figsize=(8, 6))\n",
    "sns.heatmap(cm3, annot=True, fmt='d', cmap=\"Blues\")\n",
    "plt.title(\"Random forest Confusion Matrix\")\n",
    "\n",
    "plt.show()"
   ]
  },
  {
   "cell_type": "code",
   "execution_count": null,
   "metadata": {},
   "outputs": [],
   "source": [
    "y_prob_rf = rf.predict_proba(X_test_pca)[:, 1]  # Assuming binary task; replace as needed\n",
    "fpr, tpr, thresholds = roc_curve(y_test, y_prob_rf, pos_label=1)\n",
    "roc_auc = auc(fpr, tpr)\n",
    "\n",
    "plt.figure(figsize=(8, 6))\n",
    "plt.plot(fpr, tpr, color='blue', label=f'Random Forest AUC = {roc_auc:.2f}')\n",
    "plt.plot([0, 1], [0, 1], color='gray', linestyle='--')\n",
    "plt.xlabel('False Positive Rate')\n",
    "plt.ylabel('True Positive Rate')\n",
    "plt.title('ROC Curve for Random Forest')\n",
    "plt.legend()\n",
    "plt.show()"
   ]
  }
 ],
 "metadata": {
  "kernelspec": {
   "display_name": "learn-env",
   "language": "python",
   "name": "python3"
  },
  "language_info": {
   "codemirror_mode": {
    "name": "ipython",
    "version": 3
   },
   "file_extension": ".py",
   "mimetype": "text/x-python",
   "name": "python",
   "nbconvert_exporter": "python",
   "pygments_lexer": "ipython3",
   "version": "3.8.5"
  }
 },
 "nbformat": 4,
 "nbformat_minor": 2
}
