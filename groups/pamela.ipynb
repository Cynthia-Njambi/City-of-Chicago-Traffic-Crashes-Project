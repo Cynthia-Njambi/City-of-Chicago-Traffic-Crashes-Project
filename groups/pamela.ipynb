{
 "cells": [
  {
   "cell_type": "markdown",
   "metadata": {},
   "source": [
    "## Chicago car crashes : Phase 4 group 9 Project"
   ]
  },
  {
   "cell_type": "markdown",
   "metadata": {},
   "source": [
    "## DATA UNDERSTANDING\n",
    "\n",
    "#### Crashes Dataset\n",
    "\n",
    "1. CRASH_RECORD_ID: Unique ID for each crash, used to link to related datasets.\n",
    "2. CRASH_DATE_EST_I: Estimated crash date if reported later.\n",
    "3. CRASH_DATE: Date and time of the crash.\n",
    "4. POSTED_SPEED_LIMIT: Speed limit at the crash location.\n",
    "5. TRAFFIC_CONTROL_DEVICE: Traffic control device present.\n",
    "6. DEVICE_CONDITION: Condition of the traffic control device.\n",
    "7. WEATHER_CONDITION: Weather at the time of the crash.\n",
    "8. LIGHTING_CONDITION: Lighting at the time of the crash.\n",
    "9. FIRST_CRASH_TYPE: Type of first collision.\n",
    "10. TRAFFICWAY_TYPE: Type of trafficway.\n",
    "11. LANE_CNT: Number of through lanes.\n",
    "12. ALIGNMENT: Street alignment.\n",
    "13. ROADWAY_SURFACE_COND: Road surface condition.\n",
    "14. ROAD_DEFECT: Road defects.\n",
    "15. REPORT_TYPE: Type of report (at scene, at desk, amended).\n",
    "16. CRASH_TYPE: Severity classification of the crash.\n",
    "17. INTERSECTION_RELATED_I: Whether an intersection played a role.\n",
    "18. NOT_RIGHT_OF_WAY_I: Whether the crash occurred outside the public right-of-way.\n",
    "19. HIT_AND_RUN_I: Whether it was a hit-and-run.\n",
    "20. DAMAGE: Estimated damage.\n",
    "21. DATE_POLICE_NOTIFIED: Date police were notified.\n",
    "22. PRIM_CONTRIBUTORY_CAUSE: Primary cause of the crash.\n",
    "23. SEC_CONTRIBUTORY_CAUSE: Secondary cause of the crash.\n",
    "24. STREET_NO: Street address number.\n",
    "25. STREET_DIRECTION: Street address direction.\n",
    "26. STREET_NAME: Street address name.\n",
    "27. BEAT_OF_OCCURRENCE: Chicago Police Department Beat ID.\n",
    "28. PHOTOS_TAKEN_I: Whether photos were taken.\n",
    "29. STATEMENTS_TAKEN_I: Whether statements were taken.\n",
    "30. DOORING_I: Whether it involved dooring.\n",
    "31. WORK_ZONE_I: Whether it occurred in a work zone.\n",
    "32. WORK_ZONE_TYPE: Type of work zone.\n",
    "33. WORKERS_PRESENT_I: Whether workers were present.\n",
    "34. NUM_UNITS: Number of units involved.\n",
    "35. MOST_SEVERE_INJURY: Most severe injury sustained.\n",
    "36. INJURIES_TOTAL: Total number of injuries.\n",
    "37. NJURIES_FATAL: Number of fatal injuries.\n",
    "38. INJURIES_INCAPACITATING: Number of incapacitating injuries.\n",
    "39. INJURIES_NON_INCAPACITATING: Number of non-incapacitating injuries.\n",
    "40. INJURIES_REPORTED_NOT_EVIDENT: Number of reported but not evident injuries.\n",
    "41. INJURIES_NO_INDICATION: Number of no indication of injuries.\n",
    "42. INJURIES_UNKNOWN: Number of unknown injuries.\n",
    "43. CRASH_HOUR: Hour of the crash.\n",
    "44. CRASH_DAY_OF_WEEK: Day of the week of the crash.\n",
    "45. CRASH_MONTH: Month of the crash.\n",
    "46. LATITUDE: Latitude of the crash location.\n",
    "47. LONGITUDE: Longitude of the crash location.\n",
    "48. LOCATION: Geographic location of the crash.\n",
    "\n",
    "#### People Dataset\n",
    "\n",
    "1. PERSON_ID: A unique identifier for each person record. IDs starting with P indicate passengers. IDs starting with O indicate a person who was not a passenger in the vehicle (e.g., driver, pedestrian, cyclist, etc.).\n",
    "2. PERSON_TYPE: Type of roadway user involved in crash\n",
    "3. CRASH_RECORD_ID: This number can be used to link to the same crash in the Crashes and Vehicles datasets. This number also serves as a unique ID in the Crashes dataset.\n",
    "4. VEHICLE_ID: The corresponding CRASH_UNIT_ID from the Vehicles dataset.\n",
    "5. CRASH_DATE: Date and time of crash as entered by the reporting officer\n",
    "6. SEAT_NO: Code for seating position of motor vehicle occupant: 1= driver, 2= center front, 3 = front passenger, 4 = second row left, 5 = second row center, 6 = second row right, 7 = enclosed passengers, 8 = exposed passengers, 9= unknown position, 10 = third row left, 11 = third row center, 12 = third row right\n",
    "7. CITY: City of residence of person involved in crash\n",
    "8. STATE: State of residence of person involved in crash\n",
    "9. ZIPCODE: ZIP Code of residence of person involved in crash\n",
    "10. SEX: Gender of person involved in crash, as determined by reporting officer\n",
    "11. AGE: Age of person involved in crash\n",
    "12. DRIVERS_LICENSE_STATE: State issuing driver's license of person involved in crash\n",
    "13. DRIVERS_LICENSE_CLASS: \tClass of driver's license of person involved in crash\n",
    "16. SAFETY_EQUIPMENT: Safety equipment used by vehicle occupant in crash, if any\n",
    "17. AIRBAG_DEPLOYED: Whether vehicle occupant airbag deployed as result of crash\n",
    "18. EJECTION: Whether vehicle occupant was ejected or extricated from the vehicle as a result of crash\n",
    "19. INJURY_CLASSIFICATION: Severity of injury person sustained in the crash\n",
    "20. HOSPITAL: Hospital to which person injured in the crash was taken\n",
    "21. EMS_AGENCY: EMS agency who transported person injured in crash to the hospital\n",
    "22. EMS_RUN_NO: EMS agency run number\n",
    "23. DRIVER_ACTION: Driver action that contributed to the crash, as determined by reporting officer\n",
    "24. DRIVER_VISION: What, if any, objects obscured the driver’s vision at time of crash\n",
    "25. PHYSICAL_CONDITION: Driver’s apparent physical condition at time of crash, as observed by the reporting officer\n",
    "26. PEDPEDAL_ACTION: Action of pedestrian or cyclist at the time of crash\n",
    "27. PEDPEDAL_VISIBILITY: Visibility of pedestrian of cyclist safety equipment in use at time of crash\n",
    "28. PEDPEDAL_LOCATION: Location of pedestrian or cyclist at the time of crash\n",
    "29. BAC_RESULT: Status of blood alcohol concentration testing for driver or other person involved in crash\n",
    "30. BAC_RESULT VALUE: Driver’s blood alcohol concentration test result (fatal crashes may include pedestrian or cyclist results)\n",
    "31. CELL_PHONE_USE: Whether person was/was not using cellphone at the time of the crash, as determined by the reporting officer"
   ]
  },
  {
   "cell_type": "markdown",
   "metadata": {},
   "source": [
    "### Import the necessary libraries for EDA"
   ]
  },
  {
   "cell_type": "code",
   "execution_count": 2,
   "metadata": {},
   "outputs": [],
   "source": [
    "#imports\n",
    "import pandas as pd\n",
    "import numpy as np\n",
    "import matplotlib.pyplot as plt\n",
    "import seaborn as sns"
   ]
  },
  {
   "cell_type": "markdown",
   "metadata": {},
   "source": [
    "### Load and explore the crashes dataset"
   ]
  },
  {
   "cell_type": "code",
   "execution_count": 3,
   "metadata": {},
   "outputs": [
    {
     "data": {
      "text/html": [
       "<div>\n",
       "<style scoped>\n",
       "    .dataframe tbody tr th:only-of-type {\n",
       "        vertical-align: middle;\n",
       "    }\n",
       "\n",
       "    .dataframe tbody tr th {\n",
       "        vertical-align: top;\n",
       "    }\n",
       "\n",
       "    .dataframe thead th {\n",
       "        text-align: right;\n",
       "    }\n",
       "</style>\n",
       "<table border=\"1\" class=\"dataframe\">\n",
       "  <thead>\n",
       "    <tr style=\"text-align: right;\">\n",
       "      <th></th>\n",
       "      <th>CRASH_RECORD_ID</th>\n",
       "      <th>CRASH_DATE_EST_I</th>\n",
       "      <th>CRASH_DATE</th>\n",
       "      <th>POSTED_SPEED_LIMIT</th>\n",
       "      <th>TRAFFIC_CONTROL_DEVICE</th>\n",
       "      <th>DEVICE_CONDITION</th>\n",
       "      <th>WEATHER_CONDITION</th>\n",
       "      <th>LIGHTING_CONDITION</th>\n",
       "      <th>FIRST_CRASH_TYPE</th>\n",
       "      <th>TRAFFICWAY_TYPE</th>\n",
       "      <th>...</th>\n",
       "      <th>INJURIES_NON_INCAPACITATING</th>\n",
       "      <th>INJURIES_REPORTED_NOT_EVIDENT</th>\n",
       "      <th>INJURIES_NO_INDICATION</th>\n",
       "      <th>INJURIES_UNKNOWN</th>\n",
       "      <th>CRASH_HOUR</th>\n",
       "      <th>CRASH_DAY_OF_WEEK</th>\n",
       "      <th>CRASH_MONTH</th>\n",
       "      <th>LATITUDE</th>\n",
       "      <th>LONGITUDE</th>\n",
       "      <th>LOCATION</th>\n",
       "    </tr>\n",
       "  </thead>\n",
       "  <tbody>\n",
       "    <tr>\n",
       "      <th>0</th>\n",
       "      <td>23a79931ef555d54118f64dc9be2cf2dbf59636ce253f7...</td>\n",
       "      <td>NaN</td>\n",
       "      <td>09/05/2023 07:05:00 PM</td>\n",
       "      <td>30</td>\n",
       "      <td>TRAFFIC SIGNAL</td>\n",
       "      <td>FUNCTIONING PROPERLY</td>\n",
       "      <td>CLEAR</td>\n",
       "      <td>DUSK</td>\n",
       "      <td>ANGLE</td>\n",
       "      <td>FIVE POINT, OR MORE</td>\n",
       "      <td>...</td>\n",
       "      <td>2.0</td>\n",
       "      <td>0.0</td>\n",
       "      <td>2.0</td>\n",
       "      <td>0.0</td>\n",
       "      <td>19</td>\n",
       "      <td>3</td>\n",
       "      <td>9</td>\n",
       "      <td>NaN</td>\n",
       "      <td>NaN</td>\n",
       "      <td>NaN</td>\n",
       "    </tr>\n",
       "    <tr>\n",
       "      <th>1</th>\n",
       "      <td>2675c13fd0f474d730a5b780968b3cafc7c12d7adb661f...</td>\n",
       "      <td>NaN</td>\n",
       "      <td>09/22/2023 06:45:00 PM</td>\n",
       "      <td>50</td>\n",
       "      <td>NO CONTROLS</td>\n",
       "      <td>NO CONTROLS</td>\n",
       "      <td>CLEAR</td>\n",
       "      <td>DARKNESS, LIGHTED ROAD</td>\n",
       "      <td>REAR END</td>\n",
       "      <td>DIVIDED - W/MEDIAN BARRIER</td>\n",
       "      <td>...</td>\n",
       "      <td>0.0</td>\n",
       "      <td>0.0</td>\n",
       "      <td>2.0</td>\n",
       "      <td>0.0</td>\n",
       "      <td>18</td>\n",
       "      <td>6</td>\n",
       "      <td>9</td>\n",
       "      <td>NaN</td>\n",
       "      <td>NaN</td>\n",
       "      <td>NaN</td>\n",
       "    </tr>\n",
       "    <tr>\n",
       "      <th>2</th>\n",
       "      <td>5f54a59fcb087b12ae5b1acff96a3caf4f2d37e79f8db4...</td>\n",
       "      <td>NaN</td>\n",
       "      <td>07/29/2023 02:45:00 PM</td>\n",
       "      <td>30</td>\n",
       "      <td>TRAFFIC SIGNAL</td>\n",
       "      <td>FUNCTIONING PROPERLY</td>\n",
       "      <td>CLEAR</td>\n",
       "      <td>DAYLIGHT</td>\n",
       "      <td>PARKED MOTOR VEHICLE</td>\n",
       "      <td>DIVIDED - W/MEDIAN (NOT RAISED)</td>\n",
       "      <td>...</td>\n",
       "      <td>0.0</td>\n",
       "      <td>0.0</td>\n",
       "      <td>1.0</td>\n",
       "      <td>0.0</td>\n",
       "      <td>14</td>\n",
       "      <td>7</td>\n",
       "      <td>7</td>\n",
       "      <td>41.85412</td>\n",
       "      <td>-87.665902</td>\n",
       "      <td>POINT (-87.665902342962 41.854120262952)</td>\n",
       "    </tr>\n",
       "    <tr>\n",
       "      <th>3</th>\n",
       "      <td>7ebf015016f83d09b321afd671a836d6b148330535d5df...</td>\n",
       "      <td>NaN</td>\n",
       "      <td>08/09/2023 11:00:00 PM</td>\n",
       "      <td>30</td>\n",
       "      <td>NO CONTROLS</td>\n",
       "      <td>NO CONTROLS</td>\n",
       "      <td>CLEAR</td>\n",
       "      <td>DARKNESS, LIGHTED ROAD</td>\n",
       "      <td>SIDESWIPE SAME DIRECTION</td>\n",
       "      <td>NOT DIVIDED</td>\n",
       "      <td>...</td>\n",
       "      <td>0.0</td>\n",
       "      <td>0.0</td>\n",
       "      <td>2.0</td>\n",
       "      <td>0.0</td>\n",
       "      <td>23</td>\n",
       "      <td>4</td>\n",
       "      <td>8</td>\n",
       "      <td>NaN</td>\n",
       "      <td>NaN</td>\n",
       "      <td>NaN</td>\n",
       "    </tr>\n",
       "    <tr>\n",
       "      <th>4</th>\n",
       "      <td>6c1659069e9c6285a650e70d6f9b574ed5f64c12888479...</td>\n",
       "      <td>NaN</td>\n",
       "      <td>08/18/2023 12:50:00 PM</td>\n",
       "      <td>15</td>\n",
       "      <td>OTHER</td>\n",
       "      <td>FUNCTIONING PROPERLY</td>\n",
       "      <td>CLEAR</td>\n",
       "      <td>DAYLIGHT</td>\n",
       "      <td>REAR END</td>\n",
       "      <td>OTHER</td>\n",
       "      <td>...</td>\n",
       "      <td>1.0</td>\n",
       "      <td>0.0</td>\n",
       "      <td>1.0</td>\n",
       "      <td>0.0</td>\n",
       "      <td>12</td>\n",
       "      <td>6</td>\n",
       "      <td>8</td>\n",
       "      <td>NaN</td>\n",
       "      <td>NaN</td>\n",
       "      <td>NaN</td>\n",
       "    </tr>\n",
       "  </tbody>\n",
       "</table>\n",
       "<p>5 rows × 48 columns</p>\n",
       "</div>"
      ],
      "text/plain": [
       "                                     CRASH_RECORD_ID CRASH_DATE_EST_I  \\\n",
       "0  23a79931ef555d54118f64dc9be2cf2dbf59636ce253f7...              NaN   \n",
       "1  2675c13fd0f474d730a5b780968b3cafc7c12d7adb661f...              NaN   \n",
       "2  5f54a59fcb087b12ae5b1acff96a3caf4f2d37e79f8db4...              NaN   \n",
       "3  7ebf015016f83d09b321afd671a836d6b148330535d5df...              NaN   \n",
       "4  6c1659069e9c6285a650e70d6f9b574ed5f64c12888479...              NaN   \n",
       "\n",
       "               CRASH_DATE  POSTED_SPEED_LIMIT TRAFFIC_CONTROL_DEVICE  \\\n",
       "0  09/05/2023 07:05:00 PM                  30         TRAFFIC SIGNAL   \n",
       "1  09/22/2023 06:45:00 PM                  50            NO CONTROLS   \n",
       "2  07/29/2023 02:45:00 PM                  30         TRAFFIC SIGNAL   \n",
       "3  08/09/2023 11:00:00 PM                  30            NO CONTROLS   \n",
       "4  08/18/2023 12:50:00 PM                  15                  OTHER   \n",
       "\n",
       "       DEVICE_CONDITION WEATHER_CONDITION      LIGHTING_CONDITION  \\\n",
       "0  FUNCTIONING PROPERLY             CLEAR                    DUSK   \n",
       "1           NO CONTROLS             CLEAR  DARKNESS, LIGHTED ROAD   \n",
       "2  FUNCTIONING PROPERLY             CLEAR                DAYLIGHT   \n",
       "3           NO CONTROLS             CLEAR  DARKNESS, LIGHTED ROAD   \n",
       "4  FUNCTIONING PROPERLY             CLEAR                DAYLIGHT   \n",
       "\n",
       "           FIRST_CRASH_TYPE                  TRAFFICWAY_TYPE  ...  \\\n",
       "0                     ANGLE              FIVE POINT, OR MORE  ...   \n",
       "1                  REAR END       DIVIDED - W/MEDIAN BARRIER  ...   \n",
       "2      PARKED MOTOR VEHICLE  DIVIDED - W/MEDIAN (NOT RAISED)  ...   \n",
       "3  SIDESWIPE SAME DIRECTION                      NOT DIVIDED  ...   \n",
       "4                  REAR END                            OTHER  ...   \n",
       "\n",
       "   INJURIES_NON_INCAPACITATING INJURIES_REPORTED_NOT_EVIDENT  \\\n",
       "0                          2.0                           0.0   \n",
       "1                          0.0                           0.0   \n",
       "2                          0.0                           0.0   \n",
       "3                          0.0                           0.0   \n",
       "4                          1.0                           0.0   \n",
       "\n",
       "  INJURIES_NO_INDICATION INJURIES_UNKNOWN CRASH_HOUR CRASH_DAY_OF_WEEK  \\\n",
       "0                    2.0              0.0         19                 3   \n",
       "1                    2.0              0.0         18                 6   \n",
       "2                    1.0              0.0         14                 7   \n",
       "3                    2.0              0.0         23                 4   \n",
       "4                    1.0              0.0         12                 6   \n",
       "\n",
       "  CRASH_MONTH  LATITUDE  LONGITUDE                                  LOCATION  \n",
       "0           9       NaN        NaN                                       NaN  \n",
       "1           9       NaN        NaN                                       NaN  \n",
       "2           7  41.85412 -87.665902  POINT (-87.665902342962 41.854120262952)  \n",
       "3           8       NaN        NaN                                       NaN  \n",
       "4           8       NaN        NaN                                       NaN  \n",
       "\n",
       "[5 rows x 48 columns]"
      ]
     },
     "execution_count": 3,
     "metadata": {},
     "output_type": "execute_result"
    }
   ],
   "source": [
    "# Loading Datasets\n",
    "crashes_df = pd.read_csv(\"..\\Traffic_Crashes_-_Crashes.csv\", low_memory=False)\n",
    "crashes_df.head()"
   ]
  },
  {
   "cell_type": "markdown",
   "metadata": {},
   "source": [
    "### Check the shape of the crashes dataset"
   ]
  },
  {
   "cell_type": "code",
   "execution_count": 4,
   "metadata": {},
   "outputs": [
    {
     "data": {
      "text/plain": [
       "(880654, 48)"
      ]
     },
     "execution_count": 4,
     "metadata": {},
     "output_type": "execute_result"
    }
   ],
   "source": [
    "crashes_df.shape"
   ]
  },
  {
   "cell_type": "markdown",
   "metadata": {},
   "source": [
    "- The dataset has 880,654 observations and 48 features.\n",
    "- Each row shows information about each traffic crash on city streets within the City of Chicago limits and under the jurisdiction of Chicago Police Department.\n",
    "- The columns are the values corresponding to the traffic crash in the survey"
   ]
  },
  {
   "cell_type": "markdown",
   "metadata": {},
   "source": [
    "#### checking the info of the crashes dataset"
   ]
  },
  {
   "cell_type": "code",
   "execution_count": 5,
   "metadata": {},
   "outputs": [
    {
     "name": "stdout",
     "output_type": "stream",
     "text": [
      "<class 'pandas.core.frame.DataFrame'>\n",
      "RangeIndex: 880654 entries, 0 to 880653\n",
      "Data columns (total 48 columns):\n",
      " #   Column                         Non-Null Count   Dtype  \n",
      "---  ------                         --------------   -----  \n",
      " 0   CRASH_RECORD_ID                880654 non-null  object \n",
      " 1   CRASH_DATE_EST_I               65255 non-null   object \n",
      " 2   CRASH_DATE                     880654 non-null  object \n",
      " 3   POSTED_SPEED_LIMIT             880654 non-null  int64  \n",
      " 4   TRAFFIC_CONTROL_DEVICE         880654 non-null  object \n",
      " 5   DEVICE_CONDITION               880654 non-null  object \n",
      " 6   WEATHER_CONDITION              880654 non-null  object \n",
      " 7   LIGHTING_CONDITION             880654 non-null  object \n",
      " 8   FIRST_CRASH_TYPE               880654 non-null  object \n",
      " 9   TRAFFICWAY_TYPE                880654 non-null  object \n",
      " 10  LANE_CNT                       199017 non-null  float64\n",
      " 11  ALIGNMENT                      880654 non-null  object \n",
      " 12  ROADWAY_SURFACE_COND           880654 non-null  object \n",
      " 13  ROAD_DEFECT                    880654 non-null  object \n",
      " 14  REPORT_TYPE                    853602 non-null  object \n",
      " 15  CRASH_TYPE                     880654 non-null  object \n",
      " 16  INTERSECTION_RELATED_I         201999 non-null  object \n",
      " 17  NOT_RIGHT_OF_WAY_I             40237 non-null   object \n",
      " 18  HIT_AND_RUN_I                  276164 non-null  object \n",
      " 19  DAMAGE                         880654 non-null  object \n",
      " 20  DATE_POLICE_NOTIFIED           880654 non-null  object \n",
      " 21  PRIM_CONTRIBUTORY_CAUSE        880654 non-null  object \n",
      " 22  SEC_CONTRIBUTORY_CAUSE         880654 non-null  object \n",
      " 23  STREET_NO                      880654 non-null  int64  \n",
      " 24  STREET_DIRECTION               880650 non-null  object \n",
      " 25  STREET_NAME                    880653 non-null  object \n",
      " 26  BEAT_OF_OCCURRENCE             880649 non-null  float64\n",
      " 27  PHOTOS_TAKEN_I                 11949 non-null   object \n",
      " 28  STATEMENTS_TAKEN_I             20162 non-null   object \n",
      " 29  DOORING_I                      2787 non-null    object \n",
      " 30  WORK_ZONE_I                    4967 non-null    object \n",
      " 31  WORK_ZONE_TYPE                 3837 non-null    object \n",
      " 32  WORKERS_PRESENT_I              1277 non-null    object \n",
      " 33  NUM_UNITS                      880654 non-null  int64  \n",
      " 34  MOST_SEVERE_INJURY             878696 non-null  object \n",
      " 35  INJURIES_TOTAL                 878710 non-null  float64\n",
      " 36  INJURIES_FATAL                 878710 non-null  float64\n",
      " 37  INJURIES_INCAPACITATING        878710 non-null  float64\n",
      " 38  INJURIES_NON_INCAPACITATING    878710 non-null  float64\n",
      " 39  INJURIES_REPORTED_NOT_EVIDENT  878710 non-null  float64\n",
      " 40  INJURIES_NO_INDICATION         878710 non-null  float64\n",
      " 41  INJURIES_UNKNOWN               878710 non-null  float64\n",
      " 42  CRASH_HOUR                     880654 non-null  int64  \n",
      " 43  CRASH_DAY_OF_WEEK              880654 non-null  int64  \n",
      " 44  CRASH_MONTH                    880654 non-null  int64  \n",
      " 45  LATITUDE                       874379 non-null  float64\n",
      " 46  LONGITUDE                      874379 non-null  float64\n",
      " 47  LOCATION                       874379 non-null  object \n",
      "dtypes: float64(11), int64(6), object(31)\n",
      "memory usage: 322.5+ MB\n"
     ]
    }
   ],
   "source": [
    "crashes_df.info()"
   ]
  },
  {
   "cell_type": "markdown",
   "metadata": {},
   "source": [
    "- The dataset contains both object and float datatypes.\n",
    "- The numerical feauture are 17 (float 64 =11 and int64 = 6) in number whereas the features of object data type are 31 in number"
   ]
  },
  {
   "cell_type": "markdown",
   "metadata": {},
   "source": [
    "### Exporing the People dataset"
   ]
  },
  {
   "cell_type": "code",
   "execution_count": 6,
   "metadata": {},
   "outputs": [
    {
     "data": {
      "text/html": [
       "<div>\n",
       "<style scoped>\n",
       "    .dataframe tbody tr th:only-of-type {\n",
       "        vertical-align: middle;\n",
       "    }\n",
       "\n",
       "    .dataframe tbody tr th {\n",
       "        vertical-align: top;\n",
       "    }\n",
       "\n",
       "    .dataframe thead th {\n",
       "        text-align: right;\n",
       "    }\n",
       "</style>\n",
       "<table border=\"1\" class=\"dataframe\">\n",
       "  <thead>\n",
       "    <tr style=\"text-align: right;\">\n",
       "      <th></th>\n",
       "      <th>PERSON_ID</th>\n",
       "      <th>PERSON_TYPE</th>\n",
       "      <th>CRASH_RECORD_ID</th>\n",
       "      <th>VEHICLE_ID</th>\n",
       "      <th>CRASH_DATE</th>\n",
       "      <th>SEAT_NO</th>\n",
       "      <th>CITY</th>\n",
       "      <th>STATE</th>\n",
       "      <th>ZIPCODE</th>\n",
       "      <th>SEX</th>\n",
       "      <th>...</th>\n",
       "      <th>EMS_RUN_NO</th>\n",
       "      <th>DRIVER_ACTION</th>\n",
       "      <th>DRIVER_VISION</th>\n",
       "      <th>PHYSICAL_CONDITION</th>\n",
       "      <th>PEDPEDAL_ACTION</th>\n",
       "      <th>PEDPEDAL_VISIBILITY</th>\n",
       "      <th>PEDPEDAL_LOCATION</th>\n",
       "      <th>BAC_RESULT</th>\n",
       "      <th>BAC_RESULT VALUE</th>\n",
       "      <th>CELL_PHONE_USE</th>\n",
       "    </tr>\n",
       "  </thead>\n",
       "  <tbody>\n",
       "    <tr>\n",
       "      <th>0</th>\n",
       "      <td>O749947</td>\n",
       "      <td>DRIVER</td>\n",
       "      <td>81dc0de2ed92aa62baccab641fa377be7feb1cc47e6554...</td>\n",
       "      <td>834816.0</td>\n",
       "      <td>09/28/2019 03:30:00 AM</td>\n",
       "      <td>NaN</td>\n",
       "      <td>CHICAGO</td>\n",
       "      <td>IL</td>\n",
       "      <td>60651</td>\n",
       "      <td>M</td>\n",
       "      <td>...</td>\n",
       "      <td>NaN</td>\n",
       "      <td>UNKNOWN</td>\n",
       "      <td>UNKNOWN</td>\n",
       "      <td>UNKNOWN</td>\n",
       "      <td>NaN</td>\n",
       "      <td>NaN</td>\n",
       "      <td>NaN</td>\n",
       "      <td>TEST NOT OFFERED</td>\n",
       "      <td>NaN</td>\n",
       "      <td>NaN</td>\n",
       "    </tr>\n",
       "    <tr>\n",
       "      <th>1</th>\n",
       "      <td>O871921</td>\n",
       "      <td>DRIVER</td>\n",
       "      <td>af84fb5c8d996fcd3aefd36593c3a02e6e7509eeb27568...</td>\n",
       "      <td>827212.0</td>\n",
       "      <td>04/13/2020 10:50:00 PM</td>\n",
       "      <td>NaN</td>\n",
       "      <td>CHICAGO</td>\n",
       "      <td>IL</td>\n",
       "      <td>60620</td>\n",
       "      <td>M</td>\n",
       "      <td>...</td>\n",
       "      <td>NaN</td>\n",
       "      <td>NONE</td>\n",
       "      <td>NOT OBSCURED</td>\n",
       "      <td>NORMAL</td>\n",
       "      <td>NaN</td>\n",
       "      <td>NaN</td>\n",
       "      <td>NaN</td>\n",
       "      <td>TEST NOT OFFERED</td>\n",
       "      <td>NaN</td>\n",
       "      <td>NaN</td>\n",
       "    </tr>\n",
       "    <tr>\n",
       "      <th>2</th>\n",
       "      <td>O10018</td>\n",
       "      <td>DRIVER</td>\n",
       "      <td>71162af7bf22799b776547132ebf134b5b438dcf3dac6b...</td>\n",
       "      <td>9579.0</td>\n",
       "      <td>11/01/2015 05:00:00 AM</td>\n",
       "      <td>NaN</td>\n",
       "      <td>NaN</td>\n",
       "      <td>NaN</td>\n",
       "      <td>NaN</td>\n",
       "      <td>X</td>\n",
       "      <td>...</td>\n",
       "      <td>NaN</td>\n",
       "      <td>IMPROPER BACKING</td>\n",
       "      <td>UNKNOWN</td>\n",
       "      <td>UNKNOWN</td>\n",
       "      <td>NaN</td>\n",
       "      <td>NaN</td>\n",
       "      <td>NaN</td>\n",
       "      <td>TEST NOT OFFERED</td>\n",
       "      <td>NaN</td>\n",
       "      <td>NaN</td>\n",
       "    </tr>\n",
       "    <tr>\n",
       "      <th>3</th>\n",
       "      <td>O10038</td>\n",
       "      <td>DRIVER</td>\n",
       "      <td>c21c476e2ccc41af550b5d858d22aaac4ffc88745a1700...</td>\n",
       "      <td>9598.0</td>\n",
       "      <td>11/01/2015 08:00:00 AM</td>\n",
       "      <td>NaN</td>\n",
       "      <td>NaN</td>\n",
       "      <td>NaN</td>\n",
       "      <td>NaN</td>\n",
       "      <td>X</td>\n",
       "      <td>...</td>\n",
       "      <td>NaN</td>\n",
       "      <td>UNKNOWN</td>\n",
       "      <td>UNKNOWN</td>\n",
       "      <td>UNKNOWN</td>\n",
       "      <td>NaN</td>\n",
       "      <td>NaN</td>\n",
       "      <td>NaN</td>\n",
       "      <td>TEST NOT OFFERED</td>\n",
       "      <td>NaN</td>\n",
       "      <td>NaN</td>\n",
       "    </tr>\n",
       "    <tr>\n",
       "      <th>4</th>\n",
       "      <td>O10039</td>\n",
       "      <td>DRIVER</td>\n",
       "      <td>eb390a4c8e114c69488f5fb8a097fe629f5a92fd528cf4...</td>\n",
       "      <td>9600.0</td>\n",
       "      <td>11/01/2015 10:15:00 AM</td>\n",
       "      <td>NaN</td>\n",
       "      <td>NaN</td>\n",
       "      <td>NaN</td>\n",
       "      <td>NaN</td>\n",
       "      <td>X</td>\n",
       "      <td>...</td>\n",
       "      <td>NaN</td>\n",
       "      <td>UNKNOWN</td>\n",
       "      <td>UNKNOWN</td>\n",
       "      <td>UNKNOWN</td>\n",
       "      <td>NaN</td>\n",
       "      <td>NaN</td>\n",
       "      <td>NaN</td>\n",
       "      <td>TEST NOT OFFERED</td>\n",
       "      <td>NaN</td>\n",
       "      <td>NaN</td>\n",
       "    </tr>\n",
       "  </tbody>\n",
       "</table>\n",
       "<p>5 rows × 29 columns</p>\n",
       "</div>"
      ],
      "text/plain": [
       "  PERSON_ID PERSON_TYPE                                    CRASH_RECORD_ID  \\\n",
       "0   O749947      DRIVER  81dc0de2ed92aa62baccab641fa377be7feb1cc47e6554...   \n",
       "1   O871921      DRIVER  af84fb5c8d996fcd3aefd36593c3a02e6e7509eeb27568...   \n",
       "2    O10018      DRIVER  71162af7bf22799b776547132ebf134b5b438dcf3dac6b...   \n",
       "3    O10038      DRIVER  c21c476e2ccc41af550b5d858d22aaac4ffc88745a1700...   \n",
       "4    O10039      DRIVER  eb390a4c8e114c69488f5fb8a097fe629f5a92fd528cf4...   \n",
       "\n",
       "   VEHICLE_ID              CRASH_DATE  SEAT_NO     CITY STATE ZIPCODE SEX  \\\n",
       "0    834816.0  09/28/2019 03:30:00 AM      NaN  CHICAGO    IL   60651   M   \n",
       "1    827212.0  04/13/2020 10:50:00 PM      NaN  CHICAGO    IL   60620   M   \n",
       "2      9579.0  11/01/2015 05:00:00 AM      NaN      NaN   NaN     NaN   X   \n",
       "3      9598.0  11/01/2015 08:00:00 AM      NaN      NaN   NaN     NaN   X   \n",
       "4      9600.0  11/01/2015 10:15:00 AM      NaN      NaN   NaN     NaN   X   \n",
       "\n",
       "   ...  EMS_RUN_NO     DRIVER_ACTION DRIVER_VISION PHYSICAL_CONDITION  \\\n",
       "0  ...         NaN           UNKNOWN       UNKNOWN            UNKNOWN   \n",
       "1  ...         NaN              NONE  NOT OBSCURED             NORMAL   \n",
       "2  ...         NaN  IMPROPER BACKING       UNKNOWN            UNKNOWN   \n",
       "3  ...         NaN           UNKNOWN       UNKNOWN            UNKNOWN   \n",
       "4  ...         NaN           UNKNOWN       UNKNOWN            UNKNOWN   \n",
       "\n",
       "  PEDPEDAL_ACTION PEDPEDAL_VISIBILITY PEDPEDAL_LOCATION        BAC_RESULT  \\\n",
       "0             NaN                 NaN               NaN  TEST NOT OFFERED   \n",
       "1             NaN                 NaN               NaN  TEST NOT OFFERED   \n",
       "2             NaN                 NaN               NaN  TEST NOT OFFERED   \n",
       "3             NaN                 NaN               NaN  TEST NOT OFFERED   \n",
       "4             NaN                 NaN               NaN  TEST NOT OFFERED   \n",
       "\n",
       "  BAC_RESULT VALUE CELL_PHONE_USE  \n",
       "0              NaN            NaN  \n",
       "1              NaN            NaN  \n",
       "2              NaN            NaN  \n",
       "3              NaN            NaN  \n",
       "4              NaN            NaN  \n",
       "\n",
       "[5 rows x 29 columns]"
      ]
     },
     "execution_count": 6,
     "metadata": {},
     "output_type": "execute_result"
    }
   ],
   "source": [
    "people_df = pd.read_csv(\"..\\Traffic_Crashes_People.csv\", low_memory=False)\n",
    "people_df.head()"
   ]
  },
  {
   "cell_type": "markdown",
   "metadata": {},
   "source": [
    "#### check the shape of the people dataset"
   ]
  },
  {
   "cell_type": "code",
   "execution_count": 7,
   "metadata": {},
   "outputs": [
    {
     "data": {
      "text/plain": [
       "(1934071, 29)"
      ]
     },
     "execution_count": 7,
     "metadata": {},
     "output_type": "execute_result"
    }
   ],
   "source": [
    "people_df.shape"
   ]
  },
  {
   "cell_type": "markdown",
   "metadata": {},
   "source": [
    "- The people dataset has 1,934,071 observations and 29 features.\n",
    "- Each record corresponds to an occupant in a vehicle listed in the Crashes dataset. Some people involved in a crash may not have been an occupant in a motor vehicle, but may have been a pedestrian, bicyclist, or using another non-motor vehicle mode of transportation.\n",
    "- The columns are the values corresponding to the people involved in the car crash"
   ]
  },
  {
   "cell_type": "markdown",
   "metadata": {},
   "source": [
    "#### checking the info of the people dataset"
   ]
  },
  {
   "cell_type": "code",
   "execution_count": 8,
   "metadata": {},
   "outputs": [
    {
     "name": "stdout",
     "output_type": "stream",
     "text": [
      "<class 'pandas.core.frame.DataFrame'>\n",
      "RangeIndex: 1934071 entries, 0 to 1934070\n",
      "Data columns (total 29 columns):\n",
      " #   Column                 Dtype  \n",
      "---  ------                 -----  \n",
      " 0   PERSON_ID              object \n",
      " 1   PERSON_TYPE            object \n",
      " 2   CRASH_RECORD_ID        object \n",
      " 3   VEHICLE_ID             float64\n",
      " 4   CRASH_DATE             object \n",
      " 5   SEAT_NO                float64\n",
      " 6   CITY                   object \n",
      " 7   STATE                  object \n",
      " 8   ZIPCODE                object \n",
      " 9   SEX                    object \n",
      " 10  AGE                    float64\n",
      " 11  DRIVERS_LICENSE_STATE  object \n",
      " 12  DRIVERS_LICENSE_CLASS  object \n",
      " 13  SAFETY_EQUIPMENT       object \n",
      " 14  AIRBAG_DEPLOYED        object \n",
      " 15  EJECTION               object \n",
      " 16  INJURY_CLASSIFICATION  object \n",
      " 17  HOSPITAL               object \n",
      " 18  EMS_AGENCY             object \n",
      " 19  EMS_RUN_NO             object \n",
      " 20  DRIVER_ACTION          object \n",
      " 21  DRIVER_VISION          object \n",
      " 22  PHYSICAL_CONDITION     object \n",
      " 23  PEDPEDAL_ACTION        object \n",
      " 24  PEDPEDAL_VISIBILITY    object \n",
      " 25  PEDPEDAL_LOCATION      object \n",
      " 26  BAC_RESULT             object \n",
      " 27  BAC_RESULT VALUE       float64\n",
      " 28  CELL_PHONE_USE         object \n",
      "dtypes: float64(4), object(25)\n",
      "memory usage: 427.9+ MB\n"
     ]
    }
   ],
   "source": [
    "people_df.info()"
   ]
  },
  {
   "cell_type": "markdown",
   "metadata": {},
   "source": [
    "- The dataset contains both object and float datatypes.\n",
    "- The feautures of type float are 4 in number whereas the features of object data type are 25 in number"
   ]
  },
  {
   "cell_type": "markdown",
   "metadata": {},
   "source": [
    "## **`EXPLORATORY DATA ANALYSIS`**"
   ]
  },
  {
   "cell_type": "markdown",
   "metadata": {},
   "source": [
    "### `Crashes Dataset`"
   ]
  },
  {
   "cell_type": "markdown",
   "metadata": {},
   "source": [
    "#### check the columns"
   ]
  },
  {
   "cell_type": "code",
   "execution_count": 9,
   "metadata": {},
   "outputs": [
    {
     "data": {
      "text/plain": [
       "Index(['CRASH_RECORD_ID', 'CRASH_DATE_EST_I', 'CRASH_DATE',\n",
       "       'POSTED_SPEED_LIMIT', 'TRAFFIC_CONTROL_DEVICE', 'DEVICE_CONDITION',\n",
       "       'WEATHER_CONDITION', 'LIGHTING_CONDITION', 'FIRST_CRASH_TYPE',\n",
       "       'TRAFFICWAY_TYPE', 'LANE_CNT', 'ALIGNMENT', 'ROADWAY_SURFACE_COND',\n",
       "       'ROAD_DEFECT', 'REPORT_TYPE', 'CRASH_TYPE', 'INTERSECTION_RELATED_I',\n",
       "       'NOT_RIGHT_OF_WAY_I', 'HIT_AND_RUN_I', 'DAMAGE', 'DATE_POLICE_NOTIFIED',\n",
       "       'PRIM_CONTRIBUTORY_CAUSE', 'SEC_CONTRIBUTORY_CAUSE', 'STREET_NO',\n",
       "       'STREET_DIRECTION', 'STREET_NAME', 'BEAT_OF_OCCURRENCE',\n",
       "       'PHOTOS_TAKEN_I', 'STATEMENTS_TAKEN_I', 'DOORING_I', 'WORK_ZONE_I',\n",
       "       'WORK_ZONE_TYPE', 'WORKERS_PRESENT_I', 'NUM_UNITS',\n",
       "       'MOST_SEVERE_INJURY', 'INJURIES_TOTAL', 'INJURIES_FATAL',\n",
       "       'INJURIES_INCAPACITATING', 'INJURIES_NON_INCAPACITATING',\n",
       "       'INJURIES_REPORTED_NOT_EVIDENT', 'INJURIES_NO_INDICATION',\n",
       "       'INJURIES_UNKNOWN', 'CRASH_HOUR', 'CRASH_DAY_OF_WEEK', 'CRASH_MONTH',\n",
       "       'LATITUDE', 'LONGITUDE', 'LOCATION'],\n",
       "      dtype='object')"
      ]
     },
     "execution_count": 9,
     "metadata": {},
     "output_type": "execute_result"
    }
   ],
   "source": [
    "crashes_df.columns"
   ]
  },
  {
   "cell_type": "markdown",
   "metadata": {},
   "source": [
    "The columns that seem to be irrelevant in the crashes dataset are dropped"
   ]
  },
  {
   "cell_type": "code",
   "execution_count": 10,
   "metadata": {},
   "outputs": [
    {
     "data": {
      "text/html": [
       "<div>\n",
       "<style scoped>\n",
       "    .dataframe tbody tr th:only-of-type {\n",
       "        vertical-align: middle;\n",
       "    }\n",
       "\n",
       "    .dataframe tbody tr th {\n",
       "        vertical-align: top;\n",
       "    }\n",
       "\n",
       "    .dataframe thead th {\n",
       "        text-align: right;\n",
       "    }\n",
       "</style>\n",
       "<table border=\"1\" class=\"dataframe\">\n",
       "  <thead>\n",
       "    <tr style=\"text-align: right;\">\n",
       "      <th></th>\n",
       "      <th>CRASH_RECORD_ID</th>\n",
       "      <th>POSTED_SPEED_LIMIT</th>\n",
       "      <th>TRAFFIC_CONTROL_DEVICE</th>\n",
       "      <th>DEVICE_CONDITION</th>\n",
       "      <th>WEATHER_CONDITION</th>\n",
       "      <th>LIGHTING_CONDITION</th>\n",
       "      <th>FIRST_CRASH_TYPE</th>\n",
       "      <th>TRAFFICWAY_TYPE</th>\n",
       "      <th>LANE_CNT</th>\n",
       "      <th>ALIGNMENT</th>\n",
       "      <th>...</th>\n",
       "      <th>MOST_SEVERE_INJURY</th>\n",
       "      <th>INJURIES_TOTAL</th>\n",
       "      <th>INJURIES_FATAL</th>\n",
       "      <th>INJURIES_INCAPACITATING</th>\n",
       "      <th>INJURIES_NON_INCAPACITATING</th>\n",
       "      <th>INJURIES_REPORTED_NOT_EVIDENT</th>\n",
       "      <th>INJURIES_NO_INDICATION</th>\n",
       "      <th>CRASH_HOUR</th>\n",
       "      <th>CRASH_DAY_OF_WEEK</th>\n",
       "      <th>CRASH_MONTH</th>\n",
       "    </tr>\n",
       "  </thead>\n",
       "  <tbody>\n",
       "    <tr>\n",
       "      <th>0</th>\n",
       "      <td>23a79931ef555d54118f64dc9be2cf2dbf59636ce253f7...</td>\n",
       "      <td>30</td>\n",
       "      <td>TRAFFIC SIGNAL</td>\n",
       "      <td>FUNCTIONING PROPERLY</td>\n",
       "      <td>CLEAR</td>\n",
       "      <td>DUSK</td>\n",
       "      <td>ANGLE</td>\n",
       "      <td>FIVE POINT, OR MORE</td>\n",
       "      <td>NaN</td>\n",
       "      <td>STRAIGHT AND LEVEL</td>\n",
       "      <td>...</td>\n",
       "      <td>INCAPACITATING INJURY</td>\n",
       "      <td>3.0</td>\n",
       "      <td>0.0</td>\n",
       "      <td>1.0</td>\n",
       "      <td>2.0</td>\n",
       "      <td>0.0</td>\n",
       "      <td>2.0</td>\n",
       "      <td>19</td>\n",
       "      <td>3</td>\n",
       "      <td>9</td>\n",
       "    </tr>\n",
       "    <tr>\n",
       "      <th>1</th>\n",
       "      <td>2675c13fd0f474d730a5b780968b3cafc7c12d7adb661f...</td>\n",
       "      <td>50</td>\n",
       "      <td>NO CONTROLS</td>\n",
       "      <td>NO CONTROLS</td>\n",
       "      <td>CLEAR</td>\n",
       "      <td>DARKNESS, LIGHTED ROAD</td>\n",
       "      <td>REAR END</td>\n",
       "      <td>DIVIDED - W/MEDIAN BARRIER</td>\n",
       "      <td>NaN</td>\n",
       "      <td>STRAIGHT AND LEVEL</td>\n",
       "      <td>...</td>\n",
       "      <td>NO INDICATION OF INJURY</td>\n",
       "      <td>0.0</td>\n",
       "      <td>0.0</td>\n",
       "      <td>0.0</td>\n",
       "      <td>0.0</td>\n",
       "      <td>0.0</td>\n",
       "      <td>2.0</td>\n",
       "      <td>18</td>\n",
       "      <td>6</td>\n",
       "      <td>9</td>\n",
       "    </tr>\n",
       "    <tr>\n",
       "      <th>2</th>\n",
       "      <td>5f54a59fcb087b12ae5b1acff96a3caf4f2d37e79f8db4...</td>\n",
       "      <td>30</td>\n",
       "      <td>TRAFFIC SIGNAL</td>\n",
       "      <td>FUNCTIONING PROPERLY</td>\n",
       "      <td>CLEAR</td>\n",
       "      <td>DAYLIGHT</td>\n",
       "      <td>PARKED MOTOR VEHICLE</td>\n",
       "      <td>DIVIDED - W/MEDIAN (NOT RAISED)</td>\n",
       "      <td>NaN</td>\n",
       "      <td>STRAIGHT AND LEVEL</td>\n",
       "      <td>...</td>\n",
       "      <td>NO INDICATION OF INJURY</td>\n",
       "      <td>0.0</td>\n",
       "      <td>0.0</td>\n",
       "      <td>0.0</td>\n",
       "      <td>0.0</td>\n",
       "      <td>0.0</td>\n",
       "      <td>1.0</td>\n",
       "      <td>14</td>\n",
       "      <td>7</td>\n",
       "      <td>7</td>\n",
       "    </tr>\n",
       "    <tr>\n",
       "      <th>3</th>\n",
       "      <td>7ebf015016f83d09b321afd671a836d6b148330535d5df...</td>\n",
       "      <td>30</td>\n",
       "      <td>NO CONTROLS</td>\n",
       "      <td>NO CONTROLS</td>\n",
       "      <td>CLEAR</td>\n",
       "      <td>DARKNESS, LIGHTED ROAD</td>\n",
       "      <td>SIDESWIPE SAME DIRECTION</td>\n",
       "      <td>NOT DIVIDED</td>\n",
       "      <td>NaN</td>\n",
       "      <td>STRAIGHT AND LEVEL</td>\n",
       "      <td>...</td>\n",
       "      <td>NO INDICATION OF INJURY</td>\n",
       "      <td>0.0</td>\n",
       "      <td>0.0</td>\n",
       "      <td>0.0</td>\n",
       "      <td>0.0</td>\n",
       "      <td>0.0</td>\n",
       "      <td>2.0</td>\n",
       "      <td>23</td>\n",
       "      <td>4</td>\n",
       "      <td>8</td>\n",
       "    </tr>\n",
       "    <tr>\n",
       "      <th>4</th>\n",
       "      <td>6c1659069e9c6285a650e70d6f9b574ed5f64c12888479...</td>\n",
       "      <td>15</td>\n",
       "      <td>OTHER</td>\n",
       "      <td>FUNCTIONING PROPERLY</td>\n",
       "      <td>CLEAR</td>\n",
       "      <td>DAYLIGHT</td>\n",
       "      <td>REAR END</td>\n",
       "      <td>OTHER</td>\n",
       "      <td>NaN</td>\n",
       "      <td>STRAIGHT AND LEVEL</td>\n",
       "      <td>...</td>\n",
       "      <td>NONINCAPACITATING INJURY</td>\n",
       "      <td>1.0</td>\n",
       "      <td>0.0</td>\n",
       "      <td>0.0</td>\n",
       "      <td>1.0</td>\n",
       "      <td>0.0</td>\n",
       "      <td>1.0</td>\n",
       "      <td>12</td>\n",
       "      <td>6</td>\n",
       "      <td>8</td>\n",
       "    </tr>\n",
       "  </tbody>\n",
       "</table>\n",
       "<p>5 rows × 35 columns</p>\n",
       "</div>"
      ],
      "text/plain": [
       "                                     CRASH_RECORD_ID  POSTED_SPEED_LIMIT  \\\n",
       "0  23a79931ef555d54118f64dc9be2cf2dbf59636ce253f7...                  30   \n",
       "1  2675c13fd0f474d730a5b780968b3cafc7c12d7adb661f...                  50   \n",
       "2  5f54a59fcb087b12ae5b1acff96a3caf4f2d37e79f8db4...                  30   \n",
       "3  7ebf015016f83d09b321afd671a836d6b148330535d5df...                  30   \n",
       "4  6c1659069e9c6285a650e70d6f9b574ed5f64c12888479...                  15   \n",
       "\n",
       "  TRAFFIC_CONTROL_DEVICE      DEVICE_CONDITION WEATHER_CONDITION  \\\n",
       "0         TRAFFIC SIGNAL  FUNCTIONING PROPERLY             CLEAR   \n",
       "1            NO CONTROLS           NO CONTROLS             CLEAR   \n",
       "2         TRAFFIC SIGNAL  FUNCTIONING PROPERLY             CLEAR   \n",
       "3            NO CONTROLS           NO CONTROLS             CLEAR   \n",
       "4                  OTHER  FUNCTIONING PROPERLY             CLEAR   \n",
       "\n",
       "       LIGHTING_CONDITION          FIRST_CRASH_TYPE  \\\n",
       "0                    DUSK                     ANGLE   \n",
       "1  DARKNESS, LIGHTED ROAD                  REAR END   \n",
       "2                DAYLIGHT      PARKED MOTOR VEHICLE   \n",
       "3  DARKNESS, LIGHTED ROAD  SIDESWIPE SAME DIRECTION   \n",
       "4                DAYLIGHT                  REAR END   \n",
       "\n",
       "                   TRAFFICWAY_TYPE  LANE_CNT           ALIGNMENT  ...  \\\n",
       "0              FIVE POINT, OR MORE       NaN  STRAIGHT AND LEVEL  ...   \n",
       "1       DIVIDED - W/MEDIAN BARRIER       NaN  STRAIGHT AND LEVEL  ...   \n",
       "2  DIVIDED - W/MEDIAN (NOT RAISED)       NaN  STRAIGHT AND LEVEL  ...   \n",
       "3                      NOT DIVIDED       NaN  STRAIGHT AND LEVEL  ...   \n",
       "4                            OTHER       NaN  STRAIGHT AND LEVEL  ...   \n",
       "\n",
       "         MOST_SEVERE_INJURY INJURIES_TOTAL INJURIES_FATAL  \\\n",
       "0     INCAPACITATING INJURY            3.0            0.0   \n",
       "1   NO INDICATION OF INJURY            0.0            0.0   \n",
       "2   NO INDICATION OF INJURY            0.0            0.0   \n",
       "3   NO INDICATION OF INJURY            0.0            0.0   \n",
       "4  NONINCAPACITATING INJURY            1.0            0.0   \n",
       "\n",
       "  INJURIES_INCAPACITATING INJURIES_NON_INCAPACITATING  \\\n",
       "0                     1.0                         2.0   \n",
       "1                     0.0                         0.0   \n",
       "2                     0.0                         0.0   \n",
       "3                     0.0                         0.0   \n",
       "4                     0.0                         1.0   \n",
       "\n",
       "  INJURIES_REPORTED_NOT_EVIDENT INJURIES_NO_INDICATION CRASH_HOUR  \\\n",
       "0                           0.0                    2.0         19   \n",
       "1                           0.0                    2.0         18   \n",
       "2                           0.0                    1.0         14   \n",
       "3                           0.0                    2.0         23   \n",
       "4                           0.0                    1.0         12   \n",
       "\n",
       "  CRASH_DAY_OF_WEEK  CRASH_MONTH  \n",
       "0                 3            9  \n",
       "1                 6            9  \n",
       "2                 7            7  \n",
       "3                 4            8  \n",
       "4                 6            8  \n",
       "\n",
       "[5 rows x 35 columns]"
      ]
     },
     "execution_count": 10,
     "metadata": {},
     "output_type": "execute_result"
    }
   ],
   "source": [
    "relevant_crashes = crashes_df.drop(['CRASH_DATE_EST_I', 'CRASH_DATE', 'REPORT_TYPE', 'DATE_POLICE_NOTIFIED',\n",
    "                                    'STREET_NO', 'STREET_DIRECTION', 'STREET_NAME', 'PHOTOS_TAKEN_I', \n",
    "                                    'STATEMENTS_TAKEN_I', 'INJURIES_UNKNOWN', 'LATITUDE', 'LONGITUDE', 'LOCATION'],\n",
    "                                    axis=1)\n",
    "relevant_crashes.head()"
   ]
  },
  {
   "cell_type": "markdown",
   "metadata": {},
   "source": [
    "#### Checking for missing values in the crashes dataset"
   ]
  },
  {
   "cell_type": "code",
   "execution_count": 11,
   "metadata": {},
   "outputs": [
    {
     "data": {
      "text/plain": [
       "WORKERS_PRESENT_I                879377\n",
       "DOORING_I                        877867\n",
       "WORK_ZONE_TYPE                   876817\n",
       "WORK_ZONE_I                      875687\n",
       "NOT_RIGHT_OF_WAY_I               840417\n",
       "LANE_CNT                         681637\n",
       "INTERSECTION_RELATED_I           678655\n",
       "HIT_AND_RUN_I                    604490\n",
       "MOST_SEVERE_INJURY                 1958\n",
       "INJURIES_INCAPACITATING            1944\n",
       "INJURIES_FATAL                     1944\n",
       "INJURIES_TOTAL                     1944\n",
       "INJURIES_NON_INCAPACITATING        1944\n",
       "INJURIES_REPORTED_NOT_EVIDENT      1944\n",
       "INJURIES_NO_INDICATION             1944\n",
       "BEAT_OF_OCCURRENCE                    5\n",
       "DEVICE_CONDITION                      0\n",
       "WEATHER_CONDITION                     0\n",
       "LIGHTING_CONDITION                    0\n",
       "ALIGNMENT                             0\n",
       "POSTED_SPEED_LIMIT                    0\n",
       "TRAFFIC_CONTROL_DEVICE                0\n",
       "FIRST_CRASH_TYPE                      0\n",
       "TRAFFICWAY_TYPE                       0\n",
       "CRASH_MONTH                           0\n",
       "PRIM_CONTRIBUTORY_CAUSE               0\n",
       "ROADWAY_SURFACE_COND                  0\n",
       "ROAD_DEFECT                           0\n",
       "CRASH_TYPE                            0\n",
       "DAMAGE                                0\n",
       "CRASH_DAY_OF_WEEK                     0\n",
       "SEC_CONTRIBUTORY_CAUSE                0\n",
       "NUM_UNITS                             0\n",
       "CRASH_HOUR                            0\n",
       "CRASH_RECORD_ID                       0\n",
       "dtype: int64"
      ]
     },
     "execution_count": 11,
     "metadata": {},
     "output_type": "execute_result"
    }
   ],
   "source": [
    "relevant_crashes.isna().sum().sort_values(ascending=False)"
   ]
  },
  {
   "cell_type": "markdown",
   "metadata": {},
   "source": [
    "- The columns that have missing values in the are `WORKERS_PRESENT_I`, `DOORING_I`,` WORK_ZONE_TYPE`, `WORK_ZONE_I`,  `NOT_RIGHT_OF_WAY_I`, `LANE_CNT`, `INTERSECTION_RELATED_I`, `HIT_AND_RUN_I`, `MOST_SEVERE_INJURY`, `INJURIES_TOTAL`, `INJURIES_FATAL`, `INJURIES_INCAPACITATING`, `INJURIES_NON_INCAPACITATING`, `INJURIES_REPORTED_NOT_EVIDENT`, `INJURIES_NO_INDICATION` and `BEAT_OF_OCCURRENCE `.\n",
    "- Some columns have very huge numbers of missing values e.g `WORKERS_PRESENT_I` has 879377 missing values whereas other features like `BEAT_OF_OCCURRENCE` have only 5 missing values.\n",
    "- We drop the columns that have missing values greater than 70%."
   ]
  },
  {
   "cell_type": "markdown",
   "metadata": {},
   "source": [
    "### Data Cleaning\n",
    "\n",
    "#### Writing function to drop columns with 70% missing values"
   ]
  },
  {
   "cell_type": "code",
   "execution_count": 12,
   "metadata": {},
   "outputs": [],
   "source": [
    "\n",
    "# Drops columns from a DataFrame where the percentage of missing values exceeds the given threshold.\n",
    "def drop_missing_columns(df, threshold=0.7):\n",
    "    \n",
    "    # Calculate the percentage of missing values for each column\n",
    "    missing_percentage = df.isnull().mean()\n",
    "\n",
    "    # Drop columns where missing percentage exceeds the threshold\n",
    "    df_cleaned = df.loc[:, missing_percentage <= threshold]\n",
    "\n",
    "    return df_cleaned"
   ]
  },
  {
   "cell_type": "markdown",
   "metadata": {},
   "source": [
    "#### Drop columns with missing values in crashes dataset"
   ]
  },
  {
   "cell_type": "code",
   "execution_count": 13,
   "metadata": {},
   "outputs": [
    {
     "data": {
      "text/html": [
       "<div>\n",
       "<style scoped>\n",
       "    .dataframe tbody tr th:only-of-type {\n",
       "        vertical-align: middle;\n",
       "    }\n",
       "\n",
       "    .dataframe tbody tr th {\n",
       "        vertical-align: top;\n",
       "    }\n",
       "\n",
       "    .dataframe thead th {\n",
       "        text-align: right;\n",
       "    }\n",
       "</style>\n",
       "<table border=\"1\" class=\"dataframe\">\n",
       "  <thead>\n",
       "    <tr style=\"text-align: right;\">\n",
       "      <th></th>\n",
       "      <th>CRASH_RECORD_ID</th>\n",
       "      <th>POSTED_SPEED_LIMIT</th>\n",
       "      <th>TRAFFIC_CONTROL_DEVICE</th>\n",
       "      <th>DEVICE_CONDITION</th>\n",
       "      <th>WEATHER_CONDITION</th>\n",
       "      <th>LIGHTING_CONDITION</th>\n",
       "      <th>FIRST_CRASH_TYPE</th>\n",
       "      <th>TRAFFICWAY_TYPE</th>\n",
       "      <th>ALIGNMENT</th>\n",
       "      <th>ROADWAY_SURFACE_COND</th>\n",
       "      <th>...</th>\n",
       "      <th>MOST_SEVERE_INJURY</th>\n",
       "      <th>INJURIES_TOTAL</th>\n",
       "      <th>INJURIES_FATAL</th>\n",
       "      <th>INJURIES_INCAPACITATING</th>\n",
       "      <th>INJURIES_NON_INCAPACITATING</th>\n",
       "      <th>INJURIES_REPORTED_NOT_EVIDENT</th>\n",
       "      <th>INJURIES_NO_INDICATION</th>\n",
       "      <th>CRASH_HOUR</th>\n",
       "      <th>CRASH_DAY_OF_WEEK</th>\n",
       "      <th>CRASH_MONTH</th>\n",
       "    </tr>\n",
       "  </thead>\n",
       "  <tbody>\n",
       "    <tr>\n",
       "      <th>0</th>\n",
       "      <td>23a79931ef555d54118f64dc9be2cf2dbf59636ce253f7...</td>\n",
       "      <td>30</td>\n",
       "      <td>TRAFFIC SIGNAL</td>\n",
       "      <td>FUNCTIONING PROPERLY</td>\n",
       "      <td>CLEAR</td>\n",
       "      <td>DUSK</td>\n",
       "      <td>ANGLE</td>\n",
       "      <td>FIVE POINT, OR MORE</td>\n",
       "      <td>STRAIGHT AND LEVEL</td>\n",
       "      <td>DRY</td>\n",
       "      <td>...</td>\n",
       "      <td>INCAPACITATING INJURY</td>\n",
       "      <td>3.0</td>\n",
       "      <td>0.0</td>\n",
       "      <td>1.0</td>\n",
       "      <td>2.0</td>\n",
       "      <td>0.0</td>\n",
       "      <td>2.0</td>\n",
       "      <td>19</td>\n",
       "      <td>3</td>\n",
       "      <td>9</td>\n",
       "    </tr>\n",
       "    <tr>\n",
       "      <th>1</th>\n",
       "      <td>2675c13fd0f474d730a5b780968b3cafc7c12d7adb661f...</td>\n",
       "      <td>50</td>\n",
       "      <td>NO CONTROLS</td>\n",
       "      <td>NO CONTROLS</td>\n",
       "      <td>CLEAR</td>\n",
       "      <td>DARKNESS, LIGHTED ROAD</td>\n",
       "      <td>REAR END</td>\n",
       "      <td>DIVIDED - W/MEDIAN BARRIER</td>\n",
       "      <td>STRAIGHT AND LEVEL</td>\n",
       "      <td>DRY</td>\n",
       "      <td>...</td>\n",
       "      <td>NO INDICATION OF INJURY</td>\n",
       "      <td>0.0</td>\n",
       "      <td>0.0</td>\n",
       "      <td>0.0</td>\n",
       "      <td>0.0</td>\n",
       "      <td>0.0</td>\n",
       "      <td>2.0</td>\n",
       "      <td>18</td>\n",
       "      <td>6</td>\n",
       "      <td>9</td>\n",
       "    </tr>\n",
       "    <tr>\n",
       "      <th>2</th>\n",
       "      <td>5f54a59fcb087b12ae5b1acff96a3caf4f2d37e79f8db4...</td>\n",
       "      <td>30</td>\n",
       "      <td>TRAFFIC SIGNAL</td>\n",
       "      <td>FUNCTIONING PROPERLY</td>\n",
       "      <td>CLEAR</td>\n",
       "      <td>DAYLIGHT</td>\n",
       "      <td>PARKED MOTOR VEHICLE</td>\n",
       "      <td>DIVIDED - W/MEDIAN (NOT RAISED)</td>\n",
       "      <td>STRAIGHT AND LEVEL</td>\n",
       "      <td>DRY</td>\n",
       "      <td>...</td>\n",
       "      <td>NO INDICATION OF INJURY</td>\n",
       "      <td>0.0</td>\n",
       "      <td>0.0</td>\n",
       "      <td>0.0</td>\n",
       "      <td>0.0</td>\n",
       "      <td>0.0</td>\n",
       "      <td>1.0</td>\n",
       "      <td>14</td>\n",
       "      <td>7</td>\n",
       "      <td>7</td>\n",
       "    </tr>\n",
       "    <tr>\n",
       "      <th>3</th>\n",
       "      <td>7ebf015016f83d09b321afd671a836d6b148330535d5df...</td>\n",
       "      <td>30</td>\n",
       "      <td>NO CONTROLS</td>\n",
       "      <td>NO CONTROLS</td>\n",
       "      <td>CLEAR</td>\n",
       "      <td>DARKNESS, LIGHTED ROAD</td>\n",
       "      <td>SIDESWIPE SAME DIRECTION</td>\n",
       "      <td>NOT DIVIDED</td>\n",
       "      <td>STRAIGHT AND LEVEL</td>\n",
       "      <td>DRY</td>\n",
       "      <td>...</td>\n",
       "      <td>NO INDICATION OF INJURY</td>\n",
       "      <td>0.0</td>\n",
       "      <td>0.0</td>\n",
       "      <td>0.0</td>\n",
       "      <td>0.0</td>\n",
       "      <td>0.0</td>\n",
       "      <td>2.0</td>\n",
       "      <td>23</td>\n",
       "      <td>4</td>\n",
       "      <td>8</td>\n",
       "    </tr>\n",
       "    <tr>\n",
       "      <th>4</th>\n",
       "      <td>6c1659069e9c6285a650e70d6f9b574ed5f64c12888479...</td>\n",
       "      <td>15</td>\n",
       "      <td>OTHER</td>\n",
       "      <td>FUNCTIONING PROPERLY</td>\n",
       "      <td>CLEAR</td>\n",
       "      <td>DAYLIGHT</td>\n",
       "      <td>REAR END</td>\n",
       "      <td>OTHER</td>\n",
       "      <td>STRAIGHT AND LEVEL</td>\n",
       "      <td>DRY</td>\n",
       "      <td>...</td>\n",
       "      <td>NONINCAPACITATING INJURY</td>\n",
       "      <td>1.0</td>\n",
       "      <td>0.0</td>\n",
       "      <td>0.0</td>\n",
       "      <td>1.0</td>\n",
       "      <td>0.0</td>\n",
       "      <td>1.0</td>\n",
       "      <td>12</td>\n",
       "      <td>6</td>\n",
       "      <td>8</td>\n",
       "    </tr>\n",
       "  </tbody>\n",
       "</table>\n",
       "<p>5 rows × 27 columns</p>\n",
       "</div>"
      ],
      "text/plain": [
       "                                     CRASH_RECORD_ID  POSTED_SPEED_LIMIT  \\\n",
       "0  23a79931ef555d54118f64dc9be2cf2dbf59636ce253f7...                  30   \n",
       "1  2675c13fd0f474d730a5b780968b3cafc7c12d7adb661f...                  50   \n",
       "2  5f54a59fcb087b12ae5b1acff96a3caf4f2d37e79f8db4...                  30   \n",
       "3  7ebf015016f83d09b321afd671a836d6b148330535d5df...                  30   \n",
       "4  6c1659069e9c6285a650e70d6f9b574ed5f64c12888479...                  15   \n",
       "\n",
       "  TRAFFIC_CONTROL_DEVICE      DEVICE_CONDITION WEATHER_CONDITION  \\\n",
       "0         TRAFFIC SIGNAL  FUNCTIONING PROPERLY             CLEAR   \n",
       "1            NO CONTROLS           NO CONTROLS             CLEAR   \n",
       "2         TRAFFIC SIGNAL  FUNCTIONING PROPERLY             CLEAR   \n",
       "3            NO CONTROLS           NO CONTROLS             CLEAR   \n",
       "4                  OTHER  FUNCTIONING PROPERLY             CLEAR   \n",
       "\n",
       "       LIGHTING_CONDITION          FIRST_CRASH_TYPE  \\\n",
       "0                    DUSK                     ANGLE   \n",
       "1  DARKNESS, LIGHTED ROAD                  REAR END   \n",
       "2                DAYLIGHT      PARKED MOTOR VEHICLE   \n",
       "3  DARKNESS, LIGHTED ROAD  SIDESWIPE SAME DIRECTION   \n",
       "4                DAYLIGHT                  REAR END   \n",
       "\n",
       "                   TRAFFICWAY_TYPE           ALIGNMENT ROADWAY_SURFACE_COND  \\\n",
       "0              FIVE POINT, OR MORE  STRAIGHT AND LEVEL                  DRY   \n",
       "1       DIVIDED - W/MEDIAN BARRIER  STRAIGHT AND LEVEL                  DRY   \n",
       "2  DIVIDED - W/MEDIAN (NOT RAISED)  STRAIGHT AND LEVEL                  DRY   \n",
       "3                      NOT DIVIDED  STRAIGHT AND LEVEL                  DRY   \n",
       "4                            OTHER  STRAIGHT AND LEVEL                  DRY   \n",
       "\n",
       "   ...        MOST_SEVERE_INJURY INJURIES_TOTAL INJURIES_FATAL  \\\n",
       "0  ...     INCAPACITATING INJURY            3.0            0.0   \n",
       "1  ...   NO INDICATION OF INJURY            0.0            0.0   \n",
       "2  ...   NO INDICATION OF INJURY            0.0            0.0   \n",
       "3  ...   NO INDICATION OF INJURY            0.0            0.0   \n",
       "4  ...  NONINCAPACITATING INJURY            1.0            0.0   \n",
       "\n",
       "  INJURIES_INCAPACITATING INJURIES_NON_INCAPACITATING  \\\n",
       "0                     1.0                         2.0   \n",
       "1                     0.0                         0.0   \n",
       "2                     0.0                         0.0   \n",
       "3                     0.0                         0.0   \n",
       "4                     0.0                         1.0   \n",
       "\n",
       "   INJURIES_REPORTED_NOT_EVIDENT  INJURIES_NO_INDICATION CRASH_HOUR  \\\n",
       "0                            0.0                     2.0         19   \n",
       "1                            0.0                     2.0         18   \n",
       "2                            0.0                     1.0         14   \n",
       "3                            0.0                     2.0         23   \n",
       "4                            0.0                     1.0         12   \n",
       "\n",
       "   CRASH_DAY_OF_WEEK  CRASH_MONTH  \n",
       "0                  3            9  \n",
       "1                  6            9  \n",
       "2                  7            7  \n",
       "3                  4            8  \n",
       "4                  6            8  \n",
       "\n",
       "[5 rows x 27 columns]"
      ]
     },
     "execution_count": 13,
     "metadata": {},
     "output_type": "execute_result"
    }
   ],
   "source": [
    "# dropping missing values \n",
    "relevant_crashes_cleaned = drop_missing_columns(relevant_crashes, threshold=0.6)\n",
    "relevant_crashes_cleaned.head()"
   ]
  },
  {
   "cell_type": "markdown",
   "metadata": {},
   "source": [
    "#### checking missing values"
   ]
  },
  {
   "cell_type": "code",
   "execution_count": 14,
   "metadata": {},
   "outputs": [
    {
     "data": {
      "text/plain": [
       "(880654, 27)"
      ]
     },
     "execution_count": 14,
     "metadata": {},
     "output_type": "execute_result"
    }
   ],
   "source": [
    "relevant_crashes_cleaned.isna().shape"
   ]
  },
  {
   "cell_type": "markdown",
   "metadata": {},
   "source": [
    "Check whether there is correlation in the crashes features"
   ]
  },
  {
   "cell_type": "code",
   "execution_count": 15,
   "metadata": {},
   "outputs": [
    {
     "data": {
      "text/plain": [
       "<AxesSubplot:>"
      ]
     },
     "execution_count": 15,
     "metadata": {},
     "output_type": "execute_result"
    },
    {
     "data": {
      "image/png": "[encoded data removed]",
      "text/plain": [
       "<Figure size 1440x432 with 2 Axes>"
      ]
     },
     "metadata": {
      "needs_background": "light"
     },
     "output_type": "display_data"
    }
   ],
   "source": [
    "plt.figure(figsize=(20, 6))\n",
    "sns.heatmap(relevant_crashes_cleaned.corr(), cmap=\"tab20\", annot=True)"
   ]
  },
  {
   "cell_type": "markdown",
   "metadata": {},
   "source": [
    "- From the correlation heatmap, it is clear that none of the features have a strong correlation with the severity of injuries\n"
   ]
  },
  {
   "cell_type": "markdown",
   "metadata": {},
   "source": [
    "Bar Plot for the Classification of the Crash"
   ]
  },
  {
   "cell_type": "code",
   "execution_count": 16,
   "metadata": {},
   "outputs": [
    {
     "data": {
      "image/png": "[encoded data removed]",
      "text/plain": [
       "<Figure size 432x288 with 1 Axes>"
      ]
     },
     "metadata": {
      "needs_background": "light"
     },
     "output_type": "display_data"
    }
   ],
   "source": [
    "# crash type by each crash\n",
    "sns.barplot(y=relevant_crashes_cleaned['CRASH_TYPE'].value_counts().index, \n",
    "            x=relevant_crashes_cleaned['CRASH_TYPE'].value_counts()\n",
    "           );"
   ]
  },
  {
   "cell_type": "markdown",
   "metadata": {},
   "source": [
    "- From the bar plot, it is clear that the number of car crashes with no injuries or where the car drove away is higher (over 600,00 ocurrences) whereas the instances where there were either injuries or the car was towed due to crash is lower (250,000 0ccurrences)\n",
    "- The bar plot on Damage can give more information on the cost of damage based on the cases that were reported."
   ]
  },
  {
   "cell_type": "markdown",
   "metadata": {},
   "source": [
    "Estimated Damage Bar Plot"
   ]
  },
  {
   "cell_type": "code",
   "execution_count": 17,
   "metadata": {},
   "outputs": [
    {
     "data": {
      "image/png": "[encoded data removed]",
      "text/plain": [
       "<Figure size 432x288 with 1 Axes>"
      ]
     },
     "metadata": {
      "needs_background": "light"
     },
     "output_type": "display_data"
    }
   ],
   "source": [
    "# crash type by each crash\n",
    "sns.barplot(y=relevant_crashes_cleaned['DAMAGE'].value_counts().index, \n",
    "            x=relevant_crashes_cleaned['DAMAGE'].value_counts()\n",
    "           );"
   ]
  },
  {
   "cell_type": "markdown",
   "metadata": {},
   "source": [
    "- From the plot it is clear that the car damage that exceeded the cost of 1500 dollars were the highest (Approximately 500,000) followed by the damages which cost between 501 and 1,500 (Approximately 250,000) and the damages which cost 500 or less were the least ( Approximately 100,000).\n",
    "- This implies that most of the Chicago Car Crashes caused a huge damage and thus costing more."
   ]
  },
  {
   "cell_type": "markdown",
   "metadata": {},
   "source": [
    "Bar plot for severenity of injuries"
   ]
  },
  {
   "cell_type": "code",
   "execution_count": 18,
   "metadata": {},
   "outputs": [
    {
     "data": {
      "image/png": "[encoded data removed]",
      "text/plain": [
       "<Figure size 432x288 with 1 Axes>"
      ]
     },
     "metadata": {
      "needs_background": "light"
     },
     "output_type": "display_data"
    }
   ],
   "source": [
    "# most severe injuries per person\n",
    "sns.barplot(y=relevant_crashes_cleaned['MOST_SEVERE_INJURY'].value_counts().index, \n",
    "            x=relevant_crashes_cleaned['MOST_SEVERE_INJURY'].value_counts()\n",
    "           );"
   ]
  },
  {
   "cell_type": "markdown",
   "metadata": {},
   "source": [
    "- From the bar plot it is evident that most of the crashes reported had no indication of injury.\n",
    "- Incapacitating injuries were the least"
   ]
  },
  {
   "cell_type": "markdown",
   "metadata": {},
   "source": [
    "Plot whether conditions per crash"
   ]
  },
  {
   "cell_type": "code",
   "execution_count": 19,
   "metadata": {},
   "outputs": [
    {
     "data": {
      "image/png": "[encoded data removed]",
      "text/plain": [
       "<Figure size 432x288 with 1 Axes>"
      ]
     },
     "metadata": {
      "needs_background": "light"
     },
     "output_type": "display_data"
    }
   ],
   "source": [
    "# Weather conditions per crush\n",
    "sns.barplot(y=relevant_crashes_cleaned['WEATHER_CONDITION'].value_counts().index, \n",
    "            x=relevant_crashes_cleaned['WEATHER_CONDITION'].value_counts()\n",
    "           );"
   ]
  },
  {
   "cell_type": "markdown",
   "metadata": {},
   "source": [
    "- Most of the car crashes happend on a clear day (almost 700,000). This indicates that most drivers are not careful when the whether is clear unlike on snowy or cloudy day that had less than 20,000 incidences."
   ]
  },
  {
   "cell_type": "markdown",
   "metadata": {},
   "source": [
    "### `EDA on People Dataset`"
   ]
  },
  {
   "cell_type": "markdown",
   "metadata": {},
   "source": [
    "### Check the columns in the people dataset"
   ]
  },
  {
   "cell_type": "code",
   "execution_count": 20,
   "metadata": {},
   "outputs": [
    {
     "data": {
      "text/plain": [
       "Index(['PERSON_ID', 'PERSON_TYPE', 'CRASH_RECORD_ID', 'VEHICLE_ID',\n",
       "       'CRASH_DATE', 'SEAT_NO', 'CITY', 'STATE', 'ZIPCODE', 'SEX', 'AGE',\n",
       "       'DRIVERS_LICENSE_STATE', 'DRIVERS_LICENSE_CLASS', 'SAFETY_EQUIPMENT',\n",
       "       'AIRBAG_DEPLOYED', 'EJECTION', 'INJURY_CLASSIFICATION', 'HOSPITAL',\n",
       "       'EMS_AGENCY', 'EMS_RUN_NO', 'DRIVER_ACTION', 'DRIVER_VISION',\n",
       "       'PHYSICAL_CONDITION', 'PEDPEDAL_ACTION', 'PEDPEDAL_VISIBILITY',\n",
       "       'PEDPEDAL_LOCATION', 'BAC_RESULT', 'BAC_RESULT VALUE',\n",
       "       'CELL_PHONE_USE'],\n",
       "      dtype='object')"
      ]
     },
     "execution_count": 20,
     "metadata": {},
     "output_type": "execute_result"
    }
   ],
   "source": [
    "# checking columns\n",
    "people_df.columns"
   ]
  },
  {
   "cell_type": "markdown",
   "metadata": {},
   "source": [
    "Drop irrelevant columns"
   ]
  },
  {
   "cell_type": "code",
   "execution_count": 21,
   "metadata": {},
   "outputs": [
    {
     "data": {
      "text/html": [
       "<div>\n",
       "<style scoped>\n",
       "    .dataframe tbody tr th:only-of-type {\n",
       "        vertical-align: middle;\n",
       "    }\n",
       "\n",
       "    .dataframe tbody tr th {\n",
       "        vertical-align: top;\n",
       "    }\n",
       "\n",
       "    .dataframe thead th {\n",
       "        text-align: right;\n",
       "    }\n",
       "</style>\n",
       "<table border=\"1\" class=\"dataframe\">\n",
       "  <thead>\n",
       "    <tr style=\"text-align: right;\">\n",
       "      <th></th>\n",
       "      <th>PERSON_TYPE</th>\n",
       "      <th>CRASH_RECORD_ID</th>\n",
       "      <th>VEHICLE_ID</th>\n",
       "      <th>CRASH_DATE</th>\n",
       "      <th>SEAT_NO</th>\n",
       "      <th>CITY</th>\n",
       "      <th>STATE</th>\n",
       "      <th>SEX</th>\n",
       "      <th>AGE</th>\n",
       "      <th>DRIVERS_LICENSE_STATE</th>\n",
       "      <th>...</th>\n",
       "      <th>INJURY_CLASSIFICATION</th>\n",
       "      <th>DRIVER_ACTION</th>\n",
       "      <th>DRIVER_VISION</th>\n",
       "      <th>PHYSICAL_CONDITION</th>\n",
       "      <th>PEDPEDAL_ACTION</th>\n",
       "      <th>PEDPEDAL_VISIBILITY</th>\n",
       "      <th>PEDPEDAL_LOCATION</th>\n",
       "      <th>BAC_RESULT</th>\n",
       "      <th>BAC_RESULT VALUE</th>\n",
       "      <th>CELL_PHONE_USE</th>\n",
       "    </tr>\n",
       "  </thead>\n",
       "  <tbody>\n",
       "    <tr>\n",
       "      <th>0</th>\n",
       "      <td>DRIVER</td>\n",
       "      <td>81dc0de2ed92aa62baccab641fa377be7feb1cc47e6554...</td>\n",
       "      <td>834816.0</td>\n",
       "      <td>09/28/2019 03:30:00 AM</td>\n",
       "      <td>NaN</td>\n",
       "      <td>CHICAGO</td>\n",
       "      <td>IL</td>\n",
       "      <td>M</td>\n",
       "      <td>25.0</td>\n",
       "      <td>IL</td>\n",
       "      <td>...</td>\n",
       "      <td>NO INDICATION OF INJURY</td>\n",
       "      <td>UNKNOWN</td>\n",
       "      <td>UNKNOWN</td>\n",
       "      <td>UNKNOWN</td>\n",
       "      <td>NaN</td>\n",
       "      <td>NaN</td>\n",
       "      <td>NaN</td>\n",
       "      <td>TEST NOT OFFERED</td>\n",
       "      <td>NaN</td>\n",
       "      <td>NaN</td>\n",
       "    </tr>\n",
       "    <tr>\n",
       "      <th>1</th>\n",
       "      <td>DRIVER</td>\n",
       "      <td>af84fb5c8d996fcd3aefd36593c3a02e6e7509eeb27568...</td>\n",
       "      <td>827212.0</td>\n",
       "      <td>04/13/2020 10:50:00 PM</td>\n",
       "      <td>NaN</td>\n",
       "      <td>CHICAGO</td>\n",
       "      <td>IL</td>\n",
       "      <td>M</td>\n",
       "      <td>37.0</td>\n",
       "      <td>IL</td>\n",
       "      <td>...</td>\n",
       "      <td>NO INDICATION OF INJURY</td>\n",
       "      <td>NONE</td>\n",
       "      <td>NOT OBSCURED</td>\n",
       "      <td>NORMAL</td>\n",
       "      <td>NaN</td>\n",
       "      <td>NaN</td>\n",
       "      <td>NaN</td>\n",
       "      <td>TEST NOT OFFERED</td>\n",
       "      <td>NaN</td>\n",
       "      <td>NaN</td>\n",
       "    </tr>\n",
       "    <tr>\n",
       "      <th>2</th>\n",
       "      <td>DRIVER</td>\n",
       "      <td>71162af7bf22799b776547132ebf134b5b438dcf3dac6b...</td>\n",
       "      <td>9579.0</td>\n",
       "      <td>11/01/2015 05:00:00 AM</td>\n",
       "      <td>NaN</td>\n",
       "      <td>NaN</td>\n",
       "      <td>NaN</td>\n",
       "      <td>X</td>\n",
       "      <td>NaN</td>\n",
       "      <td>NaN</td>\n",
       "      <td>...</td>\n",
       "      <td>NO INDICATION OF INJURY</td>\n",
       "      <td>IMPROPER BACKING</td>\n",
       "      <td>UNKNOWN</td>\n",
       "      <td>UNKNOWN</td>\n",
       "      <td>NaN</td>\n",
       "      <td>NaN</td>\n",
       "      <td>NaN</td>\n",
       "      <td>TEST NOT OFFERED</td>\n",
       "      <td>NaN</td>\n",
       "      <td>NaN</td>\n",
       "    </tr>\n",
       "    <tr>\n",
       "      <th>3</th>\n",
       "      <td>DRIVER</td>\n",
       "      <td>c21c476e2ccc41af550b5d858d22aaac4ffc88745a1700...</td>\n",
       "      <td>9598.0</td>\n",
       "      <td>11/01/2015 08:00:00 AM</td>\n",
       "      <td>NaN</td>\n",
       "      <td>NaN</td>\n",
       "      <td>NaN</td>\n",
       "      <td>X</td>\n",
       "      <td>NaN</td>\n",
       "      <td>NaN</td>\n",
       "      <td>...</td>\n",
       "      <td>NO INDICATION OF INJURY</td>\n",
       "      <td>UNKNOWN</td>\n",
       "      <td>UNKNOWN</td>\n",
       "      <td>UNKNOWN</td>\n",
       "      <td>NaN</td>\n",
       "      <td>NaN</td>\n",
       "      <td>NaN</td>\n",
       "      <td>TEST NOT OFFERED</td>\n",
       "      <td>NaN</td>\n",
       "      <td>NaN</td>\n",
       "    </tr>\n",
       "    <tr>\n",
       "      <th>4</th>\n",
       "      <td>DRIVER</td>\n",
       "      <td>eb390a4c8e114c69488f5fb8a097fe629f5a92fd528cf4...</td>\n",
       "      <td>9600.0</td>\n",
       "      <td>11/01/2015 10:15:00 AM</td>\n",
       "      <td>NaN</td>\n",
       "      <td>NaN</td>\n",
       "      <td>NaN</td>\n",
       "      <td>X</td>\n",
       "      <td>NaN</td>\n",
       "      <td>NaN</td>\n",
       "      <td>...</td>\n",
       "      <td>NO INDICATION OF INJURY</td>\n",
       "      <td>UNKNOWN</td>\n",
       "      <td>UNKNOWN</td>\n",
       "      <td>UNKNOWN</td>\n",
       "      <td>NaN</td>\n",
       "      <td>NaN</td>\n",
       "      <td>NaN</td>\n",
       "      <td>TEST NOT OFFERED</td>\n",
       "      <td>NaN</td>\n",
       "      <td>NaN</td>\n",
       "    </tr>\n",
       "  </tbody>\n",
       "</table>\n",
       "<p>5 rows × 24 columns</p>\n",
       "</div>"
      ],
      "text/plain": [
       "  PERSON_TYPE                                    CRASH_RECORD_ID  VEHICLE_ID  \\\n",
       "0      DRIVER  81dc0de2ed92aa62baccab641fa377be7feb1cc47e6554...    834816.0   \n",
       "1      DRIVER  af84fb5c8d996fcd3aefd36593c3a02e6e7509eeb27568...    827212.0   \n",
       "2      DRIVER  71162af7bf22799b776547132ebf134b5b438dcf3dac6b...      9579.0   \n",
       "3      DRIVER  c21c476e2ccc41af550b5d858d22aaac4ffc88745a1700...      9598.0   \n",
       "4      DRIVER  eb390a4c8e114c69488f5fb8a097fe629f5a92fd528cf4...      9600.0   \n",
       "\n",
       "               CRASH_DATE  SEAT_NO     CITY STATE SEX   AGE  \\\n",
       "0  09/28/2019 03:30:00 AM      NaN  CHICAGO    IL   M  25.0   \n",
       "1  04/13/2020 10:50:00 PM      NaN  CHICAGO    IL   M  37.0   \n",
       "2  11/01/2015 05:00:00 AM      NaN      NaN   NaN   X   NaN   \n",
       "3  11/01/2015 08:00:00 AM      NaN      NaN   NaN   X   NaN   \n",
       "4  11/01/2015 10:15:00 AM      NaN      NaN   NaN   X   NaN   \n",
       "\n",
       "  DRIVERS_LICENSE_STATE  ...    INJURY_CLASSIFICATION     DRIVER_ACTION  \\\n",
       "0                    IL  ...  NO INDICATION OF INJURY           UNKNOWN   \n",
       "1                    IL  ...  NO INDICATION OF INJURY              NONE   \n",
       "2                   NaN  ...  NO INDICATION OF INJURY  IMPROPER BACKING   \n",
       "3                   NaN  ...  NO INDICATION OF INJURY           UNKNOWN   \n",
       "4                   NaN  ...  NO INDICATION OF INJURY           UNKNOWN   \n",
       "\n",
       "  DRIVER_VISION PHYSICAL_CONDITION PEDPEDAL_ACTION PEDPEDAL_VISIBILITY  \\\n",
       "0       UNKNOWN            UNKNOWN             NaN                 NaN   \n",
       "1  NOT OBSCURED             NORMAL             NaN                 NaN   \n",
       "2       UNKNOWN            UNKNOWN             NaN                 NaN   \n",
       "3       UNKNOWN            UNKNOWN             NaN                 NaN   \n",
       "4       UNKNOWN            UNKNOWN             NaN                 NaN   \n",
       "\n",
       "  PEDPEDAL_LOCATION        BAC_RESULT BAC_RESULT VALUE CELL_PHONE_USE  \n",
       "0               NaN  TEST NOT OFFERED              NaN            NaN  \n",
       "1               NaN  TEST NOT OFFERED              NaN            NaN  \n",
       "2               NaN  TEST NOT OFFERED              NaN            NaN  \n",
       "3               NaN  TEST NOT OFFERED              NaN            NaN  \n",
       "4               NaN  TEST NOT OFFERED              NaN            NaN  \n",
       "\n",
       "[5 rows x 24 columns]"
      ]
     },
     "execution_count": 21,
     "metadata": {},
     "output_type": "execute_result"
    }
   ],
   "source": [
    "people_relevant = people_df.drop(['PERSON_ID', 'ZIPCODE', 'HOSPITAL',\n",
    "                             'EMS_AGENCY', 'EMS_RUN_NO'], axis=1)\n",
    "people_relevant.head()"
   ]
  },
  {
   "cell_type": "markdown",
   "metadata": {},
   "source": [
    "#### Check colums with missing values"
   ]
  },
  {
   "cell_type": "code",
   "execution_count": 22,
   "metadata": {},
   "outputs": [
    {
     "data": {
      "text/plain": [
       "CELL_PHONE_USE           1932911\n",
       "BAC_RESULT VALUE         1931954\n",
       "PEDPEDAL_VISIBILITY      1896437\n",
       "PEDPEDAL_LOCATION        1896369\n",
       "PEDPEDAL_ACTION          1896369\n",
       "SEAT_NO                  1542674\n",
       "DRIVERS_LICENSE_CLASS     991828\n",
       "DRIVERS_LICENSE_STATE     802141\n",
       "AGE                       563790\n",
       "CITY                      526939\n",
       "STATE                     505564\n",
       "DRIVER_VISION             395457\n",
       "DRIVER_ACTION             394865\n",
       "BAC_RESULT                393922\n",
       "PHYSICAL_CONDITION        393809\n",
       "VEHICLE_ID                 39489\n",
       "AIRBAG_DEPLOYED            37989\n",
       "SEX                        32547\n",
       "EJECTION                   24146\n",
       "SAFETY_EQUIPMENT            5381\n",
       "INJURY_CLASSIFICATION        743\n",
       "CRASH_DATE                     0\n",
       "CRASH_RECORD_ID                0\n",
       "PERSON_TYPE                    0\n",
       "dtype: int64"
      ]
     },
     "execution_count": 22,
     "metadata": {},
     "output_type": "execute_result"
    }
   ],
   "source": [
    "people_relevant.isna().sum().sort_values(ascending=False)"
   ]
  },
  {
   "cell_type": "markdown",
   "metadata": {},
   "source": [
    "- Almost all columns have missing values except the `CRASH_DATE` and `PERSON_TYPE ` columns.\n",
    "- some columns have very huge number of missing values of over 1,000,0000. The columns with huge missing values include; `CELL_PHONE_USE`, `BAC_RESULT VALUE`, `PEDPEDAL_VISIBILITY`, `PEDPEDAL_LOCATION`, `PEDPEDAL_ACTION`, `SEAT_NO` and `DRIVERS_LICENSE_CLASS `. Some columns eg `INJURY_CLASSIFICATION` have only 743 missing values in over a million observations\n",
    "- The features that have over 70% missing data will be dropped."
   ]
  },
  {
   "cell_type": "markdown",
   "metadata": {},
   "source": [
    "#### Dropping Columns with over 70% missing data in people dataset"
   ]
  },
  {
   "cell_type": "code",
   "execution_count": 23,
   "metadata": {},
   "outputs": [
    {
     "data": {
      "text/html": [
       "<div>\n",
       "<style scoped>\n",
       "    .dataframe tbody tr th:only-of-type {\n",
       "        vertical-align: middle;\n",
       "    }\n",
       "\n",
       "    .dataframe tbody tr th {\n",
       "        vertical-align: top;\n",
       "    }\n",
       "\n",
       "    .dataframe thead th {\n",
       "        text-align: right;\n",
       "    }\n",
       "</style>\n",
       "<table border=\"1\" class=\"dataframe\">\n",
       "  <thead>\n",
       "    <tr style=\"text-align: right;\">\n",
       "      <th></th>\n",
       "      <th>PERSON_TYPE</th>\n",
       "      <th>CRASH_RECORD_ID</th>\n",
       "      <th>VEHICLE_ID</th>\n",
       "      <th>CRASH_DATE</th>\n",
       "      <th>CITY</th>\n",
       "      <th>STATE</th>\n",
       "      <th>SEX</th>\n",
       "      <th>AGE</th>\n",
       "      <th>DRIVERS_LICENSE_STATE</th>\n",
       "      <th>DRIVERS_LICENSE_CLASS</th>\n",
       "      <th>SAFETY_EQUIPMENT</th>\n",
       "      <th>AIRBAG_DEPLOYED</th>\n",
       "      <th>EJECTION</th>\n",
       "      <th>INJURY_CLASSIFICATION</th>\n",
       "      <th>DRIVER_ACTION</th>\n",
       "      <th>DRIVER_VISION</th>\n",
       "      <th>PHYSICAL_CONDITION</th>\n",
       "      <th>BAC_RESULT</th>\n",
       "    </tr>\n",
       "  </thead>\n",
       "  <tbody>\n",
       "    <tr>\n",
       "      <th>0</th>\n",
       "      <td>DRIVER</td>\n",
       "      <td>81dc0de2ed92aa62baccab641fa377be7feb1cc47e6554...</td>\n",
       "      <td>834816.0</td>\n",
       "      <td>09/28/2019 03:30:00 AM</td>\n",
       "      <td>CHICAGO</td>\n",
       "      <td>IL</td>\n",
       "      <td>M</td>\n",
       "      <td>25.0</td>\n",
       "      <td>IL</td>\n",
       "      <td>D</td>\n",
       "      <td>NONE PRESENT</td>\n",
       "      <td>DEPLOYMENT UNKNOWN</td>\n",
       "      <td>NONE</td>\n",
       "      <td>NO INDICATION OF INJURY</td>\n",
       "      <td>UNKNOWN</td>\n",
       "      <td>UNKNOWN</td>\n",
       "      <td>UNKNOWN</td>\n",
       "      <td>TEST NOT OFFERED</td>\n",
       "    </tr>\n",
       "    <tr>\n",
       "      <th>1</th>\n",
       "      <td>DRIVER</td>\n",
       "      <td>af84fb5c8d996fcd3aefd36593c3a02e6e7509eeb27568...</td>\n",
       "      <td>827212.0</td>\n",
       "      <td>04/13/2020 10:50:00 PM</td>\n",
       "      <td>CHICAGO</td>\n",
       "      <td>IL</td>\n",
       "      <td>M</td>\n",
       "      <td>37.0</td>\n",
       "      <td>IL</td>\n",
       "      <td>NaN</td>\n",
       "      <td>SAFETY BELT USED</td>\n",
       "      <td>DID NOT DEPLOY</td>\n",
       "      <td>NONE</td>\n",
       "      <td>NO INDICATION OF INJURY</td>\n",
       "      <td>NONE</td>\n",
       "      <td>NOT OBSCURED</td>\n",
       "      <td>NORMAL</td>\n",
       "      <td>TEST NOT OFFERED</td>\n",
       "    </tr>\n",
       "    <tr>\n",
       "      <th>2</th>\n",
       "      <td>DRIVER</td>\n",
       "      <td>71162af7bf22799b776547132ebf134b5b438dcf3dac6b...</td>\n",
       "      <td>9579.0</td>\n",
       "      <td>11/01/2015 05:00:00 AM</td>\n",
       "      <td>NaN</td>\n",
       "      <td>NaN</td>\n",
       "      <td>X</td>\n",
       "      <td>NaN</td>\n",
       "      <td>NaN</td>\n",
       "      <td>NaN</td>\n",
       "      <td>USAGE UNKNOWN</td>\n",
       "      <td>DEPLOYMENT UNKNOWN</td>\n",
       "      <td>NONE</td>\n",
       "      <td>NO INDICATION OF INJURY</td>\n",
       "      <td>IMPROPER BACKING</td>\n",
       "      <td>UNKNOWN</td>\n",
       "      <td>UNKNOWN</td>\n",
       "      <td>TEST NOT OFFERED</td>\n",
       "    </tr>\n",
       "    <tr>\n",
       "      <th>3</th>\n",
       "      <td>DRIVER</td>\n",
       "      <td>c21c476e2ccc41af550b5d858d22aaac4ffc88745a1700...</td>\n",
       "      <td>9598.0</td>\n",
       "      <td>11/01/2015 08:00:00 AM</td>\n",
       "      <td>NaN</td>\n",
       "      <td>NaN</td>\n",
       "      <td>X</td>\n",
       "      <td>NaN</td>\n",
       "      <td>NaN</td>\n",
       "      <td>NaN</td>\n",
       "      <td>USAGE UNKNOWN</td>\n",
       "      <td>DEPLOYMENT UNKNOWN</td>\n",
       "      <td>UNKNOWN</td>\n",
       "      <td>NO INDICATION OF INJURY</td>\n",
       "      <td>UNKNOWN</td>\n",
       "      <td>UNKNOWN</td>\n",
       "      <td>UNKNOWN</td>\n",
       "      <td>TEST NOT OFFERED</td>\n",
       "    </tr>\n",
       "    <tr>\n",
       "      <th>4</th>\n",
       "      <td>DRIVER</td>\n",
       "      <td>eb390a4c8e114c69488f5fb8a097fe629f5a92fd528cf4...</td>\n",
       "      <td>9600.0</td>\n",
       "      <td>11/01/2015 10:15:00 AM</td>\n",
       "      <td>NaN</td>\n",
       "      <td>NaN</td>\n",
       "      <td>X</td>\n",
       "      <td>NaN</td>\n",
       "      <td>NaN</td>\n",
       "      <td>NaN</td>\n",
       "      <td>USAGE UNKNOWN</td>\n",
       "      <td>DEPLOYMENT UNKNOWN</td>\n",
       "      <td>UNKNOWN</td>\n",
       "      <td>NO INDICATION OF INJURY</td>\n",
       "      <td>UNKNOWN</td>\n",
       "      <td>UNKNOWN</td>\n",
       "      <td>UNKNOWN</td>\n",
       "      <td>TEST NOT OFFERED</td>\n",
       "    </tr>\n",
       "  </tbody>\n",
       "</table>\n",
       "</div>"
      ],
      "text/plain": [
       "  PERSON_TYPE                                    CRASH_RECORD_ID  VEHICLE_ID  \\\n",
       "0      DRIVER  81dc0de2ed92aa62baccab641fa377be7feb1cc47e6554...    834816.0   \n",
       "1      DRIVER  af84fb5c8d996fcd3aefd36593c3a02e6e7509eeb27568...    827212.0   \n",
       "2      DRIVER  71162af7bf22799b776547132ebf134b5b438dcf3dac6b...      9579.0   \n",
       "3      DRIVER  c21c476e2ccc41af550b5d858d22aaac4ffc88745a1700...      9598.0   \n",
       "4      DRIVER  eb390a4c8e114c69488f5fb8a097fe629f5a92fd528cf4...      9600.0   \n",
       "\n",
       "               CRASH_DATE     CITY STATE SEX   AGE DRIVERS_LICENSE_STATE  \\\n",
       "0  09/28/2019 03:30:00 AM  CHICAGO    IL   M  25.0                    IL   \n",
       "1  04/13/2020 10:50:00 PM  CHICAGO    IL   M  37.0                    IL   \n",
       "2  11/01/2015 05:00:00 AM      NaN   NaN   X   NaN                   NaN   \n",
       "3  11/01/2015 08:00:00 AM      NaN   NaN   X   NaN                   NaN   \n",
       "4  11/01/2015 10:15:00 AM      NaN   NaN   X   NaN                   NaN   \n",
       "\n",
       "  DRIVERS_LICENSE_CLASS  SAFETY_EQUIPMENT     AIRBAG_DEPLOYED EJECTION  \\\n",
       "0                     D      NONE PRESENT  DEPLOYMENT UNKNOWN     NONE   \n",
       "1                   NaN  SAFETY BELT USED      DID NOT DEPLOY     NONE   \n",
       "2                   NaN     USAGE UNKNOWN  DEPLOYMENT UNKNOWN     NONE   \n",
       "3                   NaN     USAGE UNKNOWN  DEPLOYMENT UNKNOWN  UNKNOWN   \n",
       "4                   NaN     USAGE UNKNOWN  DEPLOYMENT UNKNOWN  UNKNOWN   \n",
       "\n",
       "     INJURY_CLASSIFICATION     DRIVER_ACTION DRIVER_VISION PHYSICAL_CONDITION  \\\n",
       "0  NO INDICATION OF INJURY           UNKNOWN       UNKNOWN            UNKNOWN   \n",
       "1  NO INDICATION OF INJURY              NONE  NOT OBSCURED             NORMAL   \n",
       "2  NO INDICATION OF INJURY  IMPROPER BACKING       UNKNOWN            UNKNOWN   \n",
       "3  NO INDICATION OF INJURY           UNKNOWN       UNKNOWN            UNKNOWN   \n",
       "4  NO INDICATION OF INJURY           UNKNOWN       UNKNOWN            UNKNOWN   \n",
       "\n",
       "         BAC_RESULT  \n",
       "0  TEST NOT OFFERED  \n",
       "1  TEST NOT OFFERED  \n",
       "2  TEST NOT OFFERED  \n",
       "3  TEST NOT OFFERED  \n",
       "4  TEST NOT OFFERED  "
      ]
     },
     "execution_count": 23,
     "metadata": {},
     "output_type": "execute_result"
    }
   ],
   "source": [
    "people_relevant_cleaned = drop_missing_columns(people_relevant, threshold=0.7)\n",
    "people_relevant_cleaned.head()"
   ]
  },
  {
   "cell_type": "markdown",
   "metadata": {},
   "source": [
    "#### Check the shape of the new dataframe"
   ]
  },
  {
   "cell_type": "code",
   "execution_count": 24,
   "metadata": {},
   "outputs": [
    {
     "data": {
      "text/plain": [
       "(1934071, 18)"
      ]
     },
     "execution_count": 24,
     "metadata": {},
     "output_type": "execute_result"
    }
   ],
   "source": [
    "people_relevant_cleaned.shape"
   ]
  },
  {
   "cell_type": "markdown",
   "metadata": {},
   "source": [
    "### Merging the people dataframe and the crashes dataframe\n",
    "\n",
    "- The crashes dataset gives information on the most severe injuries whereas the people dataset gives information about severity of injury an individual sustained on the crash.\n",
    "- Combining the two datasets will help us focus on the severity of injury sustained by an individual by using `INJURY_CLASSIFICATION` as our target variable."
   ]
  },
  {
   "cell_type": "code",
   "execution_count": 25,
   "metadata": {},
   "outputs": [
    {
     "data": {
      "text/html": [
       "<div>\n",
       "<style scoped>\n",
       "    .dataframe tbody tr th:only-of-type {\n",
       "        vertical-align: middle;\n",
       "    }\n",
       "\n",
       "    .dataframe tbody tr th {\n",
       "        vertical-align: top;\n",
       "    }\n",
       "\n",
       "    .dataframe thead th {\n",
       "        text-align: right;\n",
       "    }\n",
       "</style>\n",
       "<table border=\"1\" class=\"dataframe\">\n",
       "  <thead>\n",
       "    <tr style=\"text-align: right;\">\n",
       "      <th></th>\n",
       "      <th>PERSON_TYPE</th>\n",
       "      <th>CRASH_RECORD_ID</th>\n",
       "      <th>VEHICLE_ID</th>\n",
       "      <th>CRASH_DATE</th>\n",
       "      <th>CITY</th>\n",
       "      <th>STATE</th>\n",
       "      <th>SEX</th>\n",
       "      <th>AGE</th>\n",
       "      <th>DRIVERS_LICENSE_STATE</th>\n",
       "      <th>DRIVERS_LICENSE_CLASS</th>\n",
       "      <th>...</th>\n",
       "      <th>MOST_SEVERE_INJURY</th>\n",
       "      <th>INJURIES_TOTAL</th>\n",
       "      <th>INJURIES_FATAL</th>\n",
       "      <th>INJURIES_INCAPACITATING</th>\n",
       "      <th>INJURIES_NON_INCAPACITATING</th>\n",
       "      <th>INJURIES_REPORTED_NOT_EVIDENT</th>\n",
       "      <th>INJURIES_NO_INDICATION</th>\n",
       "      <th>CRASH_HOUR</th>\n",
       "      <th>CRASH_DAY_OF_WEEK</th>\n",
       "      <th>CRASH_MONTH</th>\n",
       "    </tr>\n",
       "  </thead>\n",
       "  <tbody>\n",
       "    <tr>\n",
       "      <th>0</th>\n",
       "      <td>DRIVER</td>\n",
       "      <td>81dc0de2ed92aa62baccab641fa377be7feb1cc47e6554...</td>\n",
       "      <td>834816.0</td>\n",
       "      <td>09/28/2019 03:30:00 AM</td>\n",
       "      <td>CHICAGO</td>\n",
       "      <td>IL</td>\n",
       "      <td>M</td>\n",
       "      <td>25.0</td>\n",
       "      <td>IL</td>\n",
       "      <td>D</td>\n",
       "      <td>...</td>\n",
       "      <td>NO INDICATION OF INJURY</td>\n",
       "      <td>0.0</td>\n",
       "      <td>0.0</td>\n",
       "      <td>0.0</td>\n",
       "      <td>0.0</td>\n",
       "      <td>0.0</td>\n",
       "      <td>1.0</td>\n",
       "      <td>3</td>\n",
       "      <td>7</td>\n",
       "      <td>9</td>\n",
       "    </tr>\n",
       "    <tr>\n",
       "      <th>1</th>\n",
       "      <td>DRIVER</td>\n",
       "      <td>af84fb5c8d996fcd3aefd36593c3a02e6e7509eeb27568...</td>\n",
       "      <td>827212.0</td>\n",
       "      <td>04/13/2020 10:50:00 PM</td>\n",
       "      <td>CHICAGO</td>\n",
       "      <td>IL</td>\n",
       "      <td>M</td>\n",
       "      <td>37.0</td>\n",
       "      <td>IL</td>\n",
       "      <td>NaN</td>\n",
       "      <td>...</td>\n",
       "      <td>NO INDICATION OF INJURY</td>\n",
       "      <td>0.0</td>\n",
       "      <td>0.0</td>\n",
       "      <td>0.0</td>\n",
       "      <td>0.0</td>\n",
       "      <td>0.0</td>\n",
       "      <td>2.0</td>\n",
       "      <td>22</td>\n",
       "      <td>2</td>\n",
       "      <td>4</td>\n",
       "    </tr>\n",
       "    <tr>\n",
       "      <th>2</th>\n",
       "      <td>DRIVER</td>\n",
       "      <td>71162af7bf22799b776547132ebf134b5b438dcf3dac6b...</td>\n",
       "      <td>9579.0</td>\n",
       "      <td>11/01/2015 05:00:00 AM</td>\n",
       "      <td>NaN</td>\n",
       "      <td>NaN</td>\n",
       "      <td>X</td>\n",
       "      <td>NaN</td>\n",
       "      <td>NaN</td>\n",
       "      <td>NaN</td>\n",
       "      <td>...</td>\n",
       "      <td>NO INDICATION OF INJURY</td>\n",
       "      <td>0.0</td>\n",
       "      <td>0.0</td>\n",
       "      <td>0.0</td>\n",
       "      <td>0.0</td>\n",
       "      <td>0.0</td>\n",
       "      <td>1.0</td>\n",
       "      <td>5</td>\n",
       "      <td>1</td>\n",
       "      <td>11</td>\n",
       "    </tr>\n",
       "    <tr>\n",
       "      <th>3</th>\n",
       "      <td>DRIVER</td>\n",
       "      <td>c21c476e2ccc41af550b5d858d22aaac4ffc88745a1700...</td>\n",
       "      <td>9598.0</td>\n",
       "      <td>11/01/2015 08:00:00 AM</td>\n",
       "      <td>NaN</td>\n",
       "      <td>NaN</td>\n",
       "      <td>X</td>\n",
       "      <td>NaN</td>\n",
       "      <td>NaN</td>\n",
       "      <td>NaN</td>\n",
       "      <td>...</td>\n",
       "      <td>NO INDICATION OF INJURY</td>\n",
       "      <td>0.0</td>\n",
       "      <td>0.0</td>\n",
       "      <td>0.0</td>\n",
       "      <td>0.0</td>\n",
       "      <td>0.0</td>\n",
       "      <td>1.0</td>\n",
       "      <td>8</td>\n",
       "      <td>1</td>\n",
       "      <td>11</td>\n",
       "    </tr>\n",
       "    <tr>\n",
       "      <th>4</th>\n",
       "      <td>DRIVER</td>\n",
       "      <td>eb390a4c8e114c69488f5fb8a097fe629f5a92fd528cf4...</td>\n",
       "      <td>9600.0</td>\n",
       "      <td>11/01/2015 10:15:00 AM</td>\n",
       "      <td>NaN</td>\n",
       "      <td>NaN</td>\n",
       "      <td>X</td>\n",
       "      <td>NaN</td>\n",
       "      <td>NaN</td>\n",
       "      <td>NaN</td>\n",
       "      <td>...</td>\n",
       "      <td>NO INDICATION OF INJURY</td>\n",
       "      <td>0.0</td>\n",
       "      <td>0.0</td>\n",
       "      <td>0.0</td>\n",
       "      <td>0.0</td>\n",
       "      <td>0.0</td>\n",
       "      <td>1.0</td>\n",
       "      <td>10</td>\n",
       "      <td>1</td>\n",
       "      <td>11</td>\n",
       "    </tr>\n",
       "  </tbody>\n",
       "</table>\n",
       "<p>5 rows × 44 columns</p>\n",
       "</div>"
      ],
      "text/plain": [
       "  PERSON_TYPE                                    CRASH_RECORD_ID  VEHICLE_ID  \\\n",
       "0      DRIVER  81dc0de2ed92aa62baccab641fa377be7feb1cc47e6554...    834816.0   \n",
       "1      DRIVER  af84fb5c8d996fcd3aefd36593c3a02e6e7509eeb27568...    827212.0   \n",
       "2      DRIVER  71162af7bf22799b776547132ebf134b5b438dcf3dac6b...      9579.0   \n",
       "3      DRIVER  c21c476e2ccc41af550b5d858d22aaac4ffc88745a1700...      9598.0   \n",
       "4      DRIVER  eb390a4c8e114c69488f5fb8a097fe629f5a92fd528cf4...      9600.0   \n",
       "\n",
       "               CRASH_DATE     CITY STATE SEX   AGE DRIVERS_LICENSE_STATE  \\\n",
       "0  09/28/2019 03:30:00 AM  CHICAGO    IL   M  25.0                    IL   \n",
       "1  04/13/2020 10:50:00 PM  CHICAGO    IL   M  37.0                    IL   \n",
       "2  11/01/2015 05:00:00 AM      NaN   NaN   X   NaN                   NaN   \n",
       "3  11/01/2015 08:00:00 AM      NaN   NaN   X   NaN                   NaN   \n",
       "4  11/01/2015 10:15:00 AM      NaN   NaN   X   NaN                   NaN   \n",
       "\n",
       "  DRIVERS_LICENSE_CLASS  ...       MOST_SEVERE_INJURY INJURIES_TOTAL  \\\n",
       "0                     D  ...  NO INDICATION OF INJURY            0.0   \n",
       "1                   NaN  ...  NO INDICATION OF INJURY            0.0   \n",
       "2                   NaN  ...  NO INDICATION OF INJURY            0.0   \n",
       "3                   NaN  ...  NO INDICATION OF INJURY            0.0   \n",
       "4                   NaN  ...  NO INDICATION OF INJURY            0.0   \n",
       "\n",
       "  INJURIES_FATAL INJURIES_INCAPACITATING INJURIES_NON_INCAPACITATING  \\\n",
       "0            0.0                     0.0                         0.0   \n",
       "1            0.0                     0.0                         0.0   \n",
       "2            0.0                     0.0                         0.0   \n",
       "3            0.0                     0.0                         0.0   \n",
       "4            0.0                     0.0                         0.0   \n",
       "\n",
       "  INJURIES_REPORTED_NOT_EVIDENT INJURIES_NO_INDICATION CRASH_HOUR  \\\n",
       "0                           0.0                    1.0          3   \n",
       "1                           0.0                    2.0         22   \n",
       "2                           0.0                    1.0          5   \n",
       "3                           0.0                    1.0          8   \n",
       "4                           0.0                    1.0         10   \n",
       "\n",
       "   CRASH_DAY_OF_WEEK CRASH_MONTH  \n",
       "0                  7           9  \n",
       "1                  2           4  \n",
       "2                  1          11  \n",
       "3                  1          11  \n",
       "4                  1          11  \n",
       "\n",
       "[5 rows x 44 columns]"
      ]
     },
     "execution_count": 25,
     "metadata": {},
     "output_type": "execute_result"
    }
   ],
   "source": [
    "joined_df = people_relevant_cleaned.merge(relevant_crashes_cleaned, on=\"CRASH_RECORD_ID\", how=\"left\")\n",
    "joined_df.head()"
   ]
  },
  {
   "cell_type": "markdown",
   "metadata": {},
   "source": [
    "#### observing the target class"
   ]
  },
  {
   "cell_type": "code",
   "execution_count": 26,
   "metadata": {},
   "outputs": [
    {
     "data": {
      "image/png": "[encoded data removed]",
      "text/plain": [
       "<Figure size 432x288 with 1 Axes>"
      ]
     },
     "metadata": {
      "needs_background": "light"
     },
     "output_type": "display_data"
    }
   ],
   "source": [
    "# Checking the distribution of severity of injury sustained  by individual\n",
    "sns.barplot(y=joined_df['INJURY_CLASSIFICATION'].value_counts().index, \n",
    "            x=joined_df['INJURY_CLASSIFICATION'].value_counts()\n",
    "           );"
   ]
  },
  {
   "cell_type": "markdown",
   "metadata": {},
   "source": [
    "- The `INJURY_CLASSIFICATION` column seem to be having similarities with other columns that were originally in the crashes dataframe.\n",
    "- We therefore check the columns that are in the joined dataframe"
   ]
  },
  {
   "cell_type": "code",
   "execution_count": 27,
   "metadata": {},
   "outputs": [
    {
     "data": {
      "text/plain": [
       "Index(['PERSON_TYPE', 'CRASH_RECORD_ID', 'VEHICLE_ID', 'CRASH_DATE', 'CITY',\n",
       "       'STATE', 'SEX', 'AGE', 'DRIVERS_LICENSE_STATE', 'DRIVERS_LICENSE_CLASS',\n",
       "       'SAFETY_EQUIPMENT', 'AIRBAG_DEPLOYED', 'EJECTION',\n",
       "       'INJURY_CLASSIFICATION', 'DRIVER_ACTION', 'DRIVER_VISION',\n",
       "       'PHYSICAL_CONDITION', 'BAC_RESULT', 'POSTED_SPEED_LIMIT',\n",
       "       'TRAFFIC_CONTROL_DEVICE', 'DEVICE_CONDITION', 'WEATHER_CONDITION',\n",
       "       'LIGHTING_CONDITION', 'FIRST_CRASH_TYPE', 'TRAFFICWAY_TYPE',\n",
       "       'ALIGNMENT', 'ROADWAY_SURFACE_COND', 'ROAD_DEFECT', 'CRASH_TYPE',\n",
       "       'DAMAGE', 'PRIM_CONTRIBUTORY_CAUSE', 'SEC_CONTRIBUTORY_CAUSE',\n",
       "       'BEAT_OF_OCCURRENCE', 'NUM_UNITS', 'MOST_SEVERE_INJURY',\n",
       "       'INJURIES_TOTAL', 'INJURIES_FATAL', 'INJURIES_INCAPACITATING',\n",
       "       'INJURIES_NON_INCAPACITATING', 'INJURIES_REPORTED_NOT_EVIDENT',\n",
       "       'INJURIES_NO_INDICATION', 'CRASH_HOUR', 'CRASH_DAY_OF_WEEK',\n",
       "       'CRASH_MONTH'],\n",
       "      dtype='object')"
      ]
     },
     "execution_count": 27,
     "metadata": {},
     "output_type": "execute_result"
    }
   ],
   "source": [
    "joined_df.columns"
   ]
  },
  {
   "cell_type": "code",
   "execution_count": 28,
   "metadata": {},
   "outputs": [
    {
     "data": {
      "text/plain": [
       "NO INDICATION OF INJURY     1588388\n",
       "NONINCAPACITATING INJURY     191485\n",
       "REPORTED, NOT EVIDENT        110677\n",
       "INCAPACITATING INJURY         40831\n",
       "FATAL                          2676\n",
       "Name: MOST_SEVERE_INJURY, dtype: int64"
      ]
     },
     "execution_count": 28,
     "metadata": {},
     "output_type": "execute_result"
    }
   ],
   "source": [
    "joined_df.MOST_SEVERE_INJURY.value_counts()"
   ]
  },
  {
   "cell_type": "markdown",
   "metadata": {},
   "source": [
    "- The values for `MOST_SEVERE_INJURY` are similar to the values of the `INJURY_CLASSIFICATION`. We therefore drop all the injury columns and adopt only the `INJURY_CLASSIFICATION` column which will act as our target variable in the modelling stage."
   ]
  },
  {
   "cell_type": "code",
   "execution_count": 29,
   "metadata": {},
   "outputs": [
    {
     "data": {
      "text/plain": [
       "(1934071, 37)"
      ]
     },
     "execution_count": 29,
     "metadata": {},
     "output_type": "execute_result"
    }
   ],
   "source": [
    "# Dropping unnecesary columns\n",
    "\n",
    "joined_df = joined_df.drop(['MOST_SEVERE_INJURY', 'INJURIES_TOTAL', 'INJURIES_FATAL',\n",
    "       'INJURIES_INCAPACITATING', 'INJURIES_NON_INCAPACITATING',\n",
    "       'INJURIES_REPORTED_NOT_EVIDENT', 'INJURIES_NO_INDICATION'], axis=1)\n",
    "joined_df.shape"
   ]
  },
  {
   "cell_type": "code",
   "execution_count": 30,
   "metadata": {},
   "outputs": [
    {
     "data": {
      "text/plain": [
       "Index(['PERSON_TYPE', 'CRASH_RECORD_ID', 'VEHICLE_ID', 'CRASH_DATE', 'CITY',\n",
       "       'STATE', 'SEX', 'AGE', 'DRIVERS_LICENSE_STATE', 'DRIVERS_LICENSE_CLASS',\n",
       "       'SAFETY_EQUIPMENT', 'AIRBAG_DEPLOYED', 'EJECTION',\n",
       "       'INJURY_CLASSIFICATION', 'DRIVER_ACTION', 'DRIVER_VISION',\n",
       "       'PHYSICAL_CONDITION', 'BAC_RESULT', 'POSTED_SPEED_LIMIT',\n",
       "       'TRAFFIC_CONTROL_DEVICE', 'DEVICE_CONDITION', 'WEATHER_CONDITION',\n",
       "       'LIGHTING_CONDITION', 'FIRST_CRASH_TYPE', 'TRAFFICWAY_TYPE',\n",
       "       'ALIGNMENT', 'ROADWAY_SURFACE_COND', 'ROAD_DEFECT', 'CRASH_TYPE',\n",
       "       'DAMAGE', 'PRIM_CONTRIBUTORY_CAUSE', 'SEC_CONTRIBUTORY_CAUSE',\n",
       "       'BEAT_OF_OCCURRENCE', 'NUM_UNITS', 'CRASH_HOUR', 'CRASH_DAY_OF_WEEK',\n",
       "       'CRASH_MONTH'],\n",
       "      dtype='object')"
      ]
     },
     "execution_count": 30,
     "metadata": {},
     "output_type": "execute_result"
    }
   ],
   "source": [
    "joined_df.columns"
   ]
  },
  {
   "cell_type": "markdown",
   "metadata": {},
   "source": [
    "#### Correlation Heatmap for the joined dataframe"
   ]
  },
  {
   "cell_type": "code",
   "execution_count": 31,
   "metadata": {},
   "outputs": [
    {
     "data": {
      "text/plain": [
       "<AxesSubplot:>"
      ]
     },
     "execution_count": 31,
     "metadata": {},
     "output_type": "execute_result"
    },
    {
     "data": {
      "image/png": "[encoded data removed]",
      "text/plain": [
       "<Figure size 1440x432 with 2 Axes>"
      ]
     },
     "metadata": {
      "needs_background": "light"
     },
     "output_type": "display_data"
    }
   ],
   "source": [
    "plt.figure(figsize=(20, 6))\n",
    "sns.heatmap(joined_df.corr(), cmap=\"tab20\", annot=True)"
   ]
  },
  {
   "cell_type": "markdown",
   "metadata": {},
   "source": [
    "- The above correlation heatmap captured the data for numerical columns only.\n",
    "- From the correlation heatmap, it is clear that none of the columns are correlated with each other."
   ]
  },
  {
   "cell_type": "markdown",
   "metadata": {},
   "source": [
    "#### Check for distribution of safety Equipment"
   ]
  },
  {
   "cell_type": "code",
   "execution_count": 32,
   "metadata": {},
   "outputs": [
    {
     "data": {
      "image/png": "[encoded data removed]",
      "text/plain": [
       "<Figure size 432x288 with 1 Axes>"
      ]
     },
     "metadata": {
      "needs_background": "light"
     },
     "output_type": "display_data"
    }
   ],
   "source": [
    "# Checking the distribution of severity of injury sustained  by individual\n",
    "sns.barplot(y=joined_df['SAFETY_EQUIPMENT'].value_counts().index, \n",
    "            x=joined_df['SAFETY_EQUIPMENT'].value_counts()\n",
    "           );"
   ]
  },
  {
   "cell_type": "markdown",
   "metadata": {},
   "source": [
    "- Use of Safety Belts was the highest number of safety equipments reported"
   ]
  },
  {
   "cell_type": "markdown",
   "metadata": {},
   "source": [
    "Relationship between Safety Equipment and the target variable"
   ]
  },
  {
   "cell_type": "code",
   "execution_count": 33,
   "metadata": {},
   "outputs": [],
   "source": [
    "# Plot a stacked bar chart showing the relationship between two categorical variables.\n",
    "def plot_stacked_bar(df, x_col, target_col):\n",
    "   \n",
    "    # Create a crosstab to summarize the counts for each combination of x_col and target_col\n",
    "    crosstab_data = pd.crosstab(df[x_col], df[target_col])\n",
    "\n",
    "    # Plot the stacked bar chart\n",
    "    crosstab_data.plot(kind='bar', stacked=True, figsize=(10, 7))\n",
    "\n",
    "    # Add labels and title\n",
    "    plt.xlabel(x_col)\n",
    "    plt.ylabel('Count')\n",
    "    plt.title(f'Stacked Bar Chart of {x_col} and {target_col}')\n",
    "    plt.legend(title=target_col, bbox_to_anchor=(1.05, 1), loc='upper left')\n",
    "    plt.tight_layout()\n",
    "\n",
    "    # Show the plot\n",
    "    plt.show()"
   ]
  },
  {
   "cell_type": "markdown",
   "metadata": {},
   "source": [
    "#### Stacked Bar Chart for Use of safety equipment and Injury Classification\n",
    "\n",
    "- The stacked bar chart will give a visual representation of how the use of different safety equipment relates to various injury classifications."
   ]
  },
  {
   "cell_type": "code",
   "execution_count": 34,
   "metadata": {},
   "outputs": [
    {
     "data": {
      "image/png": "[encoded data removed]",
      "text/plain": [
       "<Figure size 720x504 with 1 Axes>"
      ]
     },
     "metadata": {
      "needs_background": "light"
     },
     "output_type": "display_data"
    }
   ],
   "source": [
    "plot_stacked_bar(joined_df, 'SAFETY_EQUIPMENT', 'INJURY_CLASSIFICATION')"
   ]
  },
  {
   "cell_type": "markdown",
   "metadata": {},
   "source": [
    "- From the above visualization, it is clear that with the use of Safety Belts, even if there are accidents, it mostly results to no indication of injuries. \n",
    "- Non-incapacitating injuries and injuries reported not evident are also less significant compaired to the total number of cases that were using safety belt as a safety equipment.\n",
    "- As for child restraint used, all the cases of accidents reported had no indication of injury.\n",
    "- we can therefore conclude that there is a positive correlation between the safety equipment and the target variable."
   ]
  },
  {
   "cell_type": "markdown",
   "metadata": {},
   "source": [
    "Stacked Bar Chart Injury Classification and Sex"
   ]
  },
  {
   "cell_type": "code",
   "execution_count": 35,
   "metadata": {},
   "outputs": [
    {
     "data": {
      "image/png": "[encoded data removed]",
      "text/plain": [
       "<Figure size 720x504 with 1 Axes>"
      ]
     },
     "metadata": {
      "needs_background": "light"
     },
     "output_type": "display_data"
    }
   ],
   "source": [
    "plot_stacked_bar(joined_df, 'INJURY_CLASSIFICATION', 'SEX')"
   ]
  },
  {
   "cell_type": "markdown",
   "metadata": {},
   "source": [
    "- From the above visualization, the \"No Indication f Injury\" was the highest level of injury reported with Male dominating the distribution. This indicates that more male were involved in the accident that female.\n",
    "- This is also shown in the fatal injuries since the cases reported were male only\n",
    "- This indicates that there is a strong correration with the target Variable."
   ]
  },
  {
   "cell_type": "markdown",
   "metadata": {},
   "source": [
    "#### Encoding the Target Column\n",
    "\n",
    "- First we'll need to deal with the missing values in the target column before encoding"
   ]
  },
  {
   "cell_type": "code",
   "execution_count": 36,
   "metadata": {},
   "outputs": [
    {
     "data": {
      "text/plain": [
       "743"
      ]
     },
     "execution_count": 36,
     "metadata": {},
     "output_type": "execute_result"
    }
   ],
   "source": [
    "# Checking missing values in the target column\n",
    "\n",
    "joined_df['INJURY_CLASSIFICATION'].isna().sum()"
   ]
  },
  {
   "cell_type": "code",
   "execution_count": 37,
   "metadata": {},
   "outputs": [
    {
     "data": {
      "text/plain": [
       "(1934071, 37)"
      ]
     },
     "execution_count": 37,
     "metadata": {},
     "output_type": "execute_result"
    }
   ],
   "source": [
    "joined_df.shape"
   ]
  },
  {
   "cell_type": "markdown",
   "metadata": {},
   "source": [
    "- The number of columns with missing values in the target column are only 743, which is less significant compaired to the total observations which are almost 2 million.\n",
    "- we will therefore drop the missing rows in the `INJURY_CLASSIFICATION` column"
   ]
  },
  {
   "cell_type": "markdown",
   "metadata": {},
   "source": [
    "#### Dropping Missing rows in the joined df"
   ]
  },
  {
   "cell_type": "code",
   "execution_count": 38,
   "metadata": {},
   "outputs": [
    {
     "data": {
      "text/plain": [
       "0"
      ]
     },
     "execution_count": 38,
     "metadata": {},
     "output_type": "execute_result"
    }
   ],
   "source": [
    "# Drop rows where 'INJURY_CLASSIFICATION' column has null (NaN) values\n",
    "joined_df = joined_df.dropna(subset=['INJURY_CLASSIFICATION'])\n",
    "joined_df.INJURY_CLASSIFICATION.isnull().sum()"
   ]
  },
  {
   "cell_type": "code",
   "execution_count": null,
   "metadata": {},
   "outputs": [],
   "source": []
  },
  {
   "cell_type": "code",
   "execution_count": 39,
   "metadata": {},
   "outputs": [
    {
     "data": {
      "text/plain": [
       "0    1762403\n",
       "1     152302\n",
       "2      17557\n",
       "3       1066\n",
       "Name: TARGET, dtype: int64"
      ]
     },
     "execution_count": 39,
     "metadata": {},
     "output_type": "execute_result"
    }
   ],
   "source": [
    "# Strip whitespace from the 'INJURY_CLASSIFICATION' column to ensure proper matching\n",
    "joined_df['INJURY_CLASSIFICATION'] = joined_df['INJURY_CLASSIFICATION'].str.strip()\n",
    "\n",
    "# Define the mapping dictionary for 'INJURY_CLASSIFICATION'\n",
    "injury_mapping = {\n",
    "    'NO INDICATION OF INJURY': 0,\n",
    "    'NONINCAPACITATING INJURY': 1,\n",
    "    'REPORTED, NOT EVIDENT': 1,\n",
    "    'INCAPACITATING INJURY': 2,\n",
    "    'FATAL': 3\n",
    "}\n",
    "\n",
    "# Apply the mapping to the 'INJURY_CLASSIFICATION' column\n",
    "joined_df['TARGET'] = joined_df['INJURY_CLASSIFICATION'].map(injury_mapping)\n",
    "\n",
    "# Check the counts of each category in the new 'TARGET' column\n",
    "joined_df['TARGET'].value_counts()\n"
   ]
  },
  {
   "cell_type": "markdown",
   "metadata": {},
   "source": [
    "Checking Columns"
   ]
  },
  {
   "cell_type": "code",
   "execution_count": 40,
   "metadata": {},
   "outputs": [
    {
     "data": {
      "text/plain": [
       "Index(['PERSON_TYPE', 'CRASH_RECORD_ID', 'VEHICLE_ID', 'CRASH_DATE', 'CITY',\n",
       "       'STATE', 'SEX', 'AGE', 'DRIVERS_LICENSE_STATE', 'DRIVERS_LICENSE_CLASS',\n",
       "       'SAFETY_EQUIPMENT', 'AIRBAG_DEPLOYED', 'EJECTION',\n",
       "       'INJURY_CLASSIFICATION', 'DRIVER_ACTION', 'DRIVER_VISION',\n",
       "       'PHYSICAL_CONDITION', 'BAC_RESULT', 'POSTED_SPEED_LIMIT',\n",
       "       'TRAFFIC_CONTROL_DEVICE', 'DEVICE_CONDITION', 'WEATHER_CONDITION',\n",
       "       'LIGHTING_CONDITION', 'FIRST_CRASH_TYPE', 'TRAFFICWAY_TYPE',\n",
       "       'ALIGNMENT', 'ROADWAY_SURFACE_COND', 'ROAD_DEFECT', 'CRASH_TYPE',\n",
       "       'DAMAGE', 'PRIM_CONTRIBUTORY_CAUSE', 'SEC_CONTRIBUTORY_CAUSE',\n",
       "       'BEAT_OF_OCCURRENCE', 'NUM_UNITS', 'CRASH_HOUR', 'CRASH_DAY_OF_WEEK',\n",
       "       'CRASH_MONTH', 'TARGET'],\n",
       "      dtype='object')"
      ]
     },
     "execution_count": 40,
     "metadata": {},
     "output_type": "execute_result"
    }
   ],
   "source": [
    "joined_df.columns"
   ]
  },
  {
   "cell_type": "code",
   "execution_count": 41,
   "metadata": {},
   "outputs": [
    {
     "data": {
      "text/plain": [
       "12/29/2020 05:00:00 PM    72\n",
       "11/10/2017 10:30:00 AM    64\n",
       "03/16/2018 10:17:00 AM    61\n",
       "08/21/2024 01:45:00 AM    56\n",
       "06/22/2019 06:15:00 PM    55\n",
       "                          ..\n",
       "10/17/2021 02:56:00 AM     1\n",
       "03/30/2021 11:00:00 AM     1\n",
       "06/11/2021 02:20:00 AM     1\n",
       "10/19/2016 11:00:00 PM     1\n",
       "07/17/2017 10:20:00 PM     1\n",
       "Name: CRASH_DATE, Length: 577662, dtype: int64"
      ]
     },
     "execution_count": 41,
     "metadata": {},
     "output_type": "execute_result"
    }
   ],
   "source": [
    "# Check value counts for date\n",
    "joined_df.CRASH_DATE.value_counts()"
   ]
  },
  {
   "cell_type": "markdown",
   "metadata": {},
   "source": [
    "- The crash date doesn't give the real values. This therefore need to be converted to year."
   ]
  },
  {
   "cell_type": "code",
   "execution_count": 42,
   "metadata": {},
   "outputs": [],
   "source": [
    "# Convert 'CRASH_DATE' to datetime and extract the year\n",
    "joined_df['CRASH_DATE'] = pd.to_datetime(joined_df['CRASH_DATE'])\n",
    "joined_df['CRASH_YEAR'] = joined_df['CRASH_DATE'].dt.year"
   ]
  },
  {
   "cell_type": "code",
   "execution_count": 43,
   "metadata": {},
   "outputs": [
    {
     "data": {
      "text/plain": [
       "2018    265541\n",
       "2019    263907\n",
       "2023    245105\n",
       "2022    233783\n",
       "2021    233745\n",
       "2020    199931\n",
       "2024    189246\n",
       "2017    185180\n",
       "2016     95953\n",
       "2015     20921\n",
       "2014        11\n",
       "2013         5\n",
       "Name: CRASH_YEAR, dtype: int64"
      ]
     },
     "execution_count": 43,
     "metadata": {},
     "output_type": "execute_result"
    }
   ],
   "source": [
    "joined_df.CRASH_YEAR.value_counts()"
   ]
  },
  {
   "cell_type": "code",
   "execution_count": 44,
   "metadata": {},
   "outputs": [
    {
     "data": {
      "text/html": [
       "<div>\n",
       "<style scoped>\n",
       "    .dataframe tbody tr th:only-of-type {\n",
       "        vertical-align: middle;\n",
       "    }\n",
       "\n",
       "    .dataframe tbody tr th {\n",
       "        vertical-align: top;\n",
       "    }\n",
       "\n",
       "    .dataframe thead th {\n",
       "        text-align: right;\n",
       "    }\n",
       "</style>\n",
       "<table border=\"1\" class=\"dataframe\">\n",
       "  <thead>\n",
       "    <tr style=\"text-align: right;\">\n",
       "      <th></th>\n",
       "      <th>PERSON_TYPE</th>\n",
       "      <th>STATE</th>\n",
       "      <th>SEX</th>\n",
       "      <th>AGE</th>\n",
       "      <th>DRIVERS_LICENSE_CLASS</th>\n",
       "      <th>SAFETY_EQUIPMENT</th>\n",
       "      <th>AIRBAG_DEPLOYED</th>\n",
       "      <th>EJECTION</th>\n",
       "      <th>DRIVER_ACTION</th>\n",
       "      <th>DRIVER_VISION</th>\n",
       "      <th>...</th>\n",
       "      <th>ROAD_DEFECT</th>\n",
       "      <th>DAMAGE</th>\n",
       "      <th>PRIM_CONTRIBUTORY_CAUSE</th>\n",
       "      <th>SEC_CONTRIBUTORY_CAUSE</th>\n",
       "      <th>BEAT_OF_OCCURRENCE</th>\n",
       "      <th>NUM_UNITS</th>\n",
       "      <th>CRASH_HOUR</th>\n",
       "      <th>CRASH_DAY_OF_WEEK</th>\n",
       "      <th>CRASH_MONTH</th>\n",
       "      <th>CRASH_YEAR</th>\n",
       "    </tr>\n",
       "  </thead>\n",
       "  <tbody>\n",
       "    <tr>\n",
       "      <th>0</th>\n",
       "      <td>DRIVER</td>\n",
       "      <td>IL</td>\n",
       "      <td>M</td>\n",
       "      <td>25.0</td>\n",
       "      <td>D</td>\n",
       "      <td>NONE PRESENT</td>\n",
       "      <td>DEPLOYMENT UNKNOWN</td>\n",
       "      <td>NONE</td>\n",
       "      <td>UNKNOWN</td>\n",
       "      <td>UNKNOWN</td>\n",
       "      <td>...</td>\n",
       "      <td>NO DEFECTS</td>\n",
       "      <td>OVER $1,500</td>\n",
       "      <td>UNABLE TO DETERMINE</td>\n",
       "      <td>NOT APPLICABLE</td>\n",
       "      <td>1531.0</td>\n",
       "      <td>3</td>\n",
       "      <td>3</td>\n",
       "      <td>7</td>\n",
       "      <td>9</td>\n",
       "      <td>2019</td>\n",
       "    </tr>\n",
       "    <tr>\n",
       "      <th>1</th>\n",
       "      <td>DRIVER</td>\n",
       "      <td>IL</td>\n",
       "      <td>M</td>\n",
       "      <td>37.0</td>\n",
       "      <td>NaN</td>\n",
       "      <td>SAFETY BELT USED</td>\n",
       "      <td>DID NOT DEPLOY</td>\n",
       "      <td>NONE</td>\n",
       "      <td>NONE</td>\n",
       "      <td>NOT OBSCURED</td>\n",
       "      <td>...</td>\n",
       "      <td>NO DEFECTS</td>\n",
       "      <td>$500 OR LESS</td>\n",
       "      <td>IMPROPER OVERTAKING/PASSING</td>\n",
       "      <td>FAILING TO REDUCE SPEED TO AVOID CRASH</td>\n",
       "      <td>613.0</td>\n",
       "      <td>2</td>\n",
       "      <td>22</td>\n",
       "      <td>2</td>\n",
       "      <td>4</td>\n",
       "      <td>2020</td>\n",
       "    </tr>\n",
       "    <tr>\n",
       "      <th>2</th>\n",
       "      <td>DRIVER</td>\n",
       "      <td>NaN</td>\n",
       "      <td>X</td>\n",
       "      <td>NaN</td>\n",
       "      <td>NaN</td>\n",
       "      <td>USAGE UNKNOWN</td>\n",
       "      <td>DEPLOYMENT UNKNOWN</td>\n",
       "      <td>NONE</td>\n",
       "      <td>IMPROPER BACKING</td>\n",
       "      <td>UNKNOWN</td>\n",
       "      <td>...</td>\n",
       "      <td>NO DEFECTS</td>\n",
       "      <td>OVER $1,500</td>\n",
       "      <td>DRIVING SKILLS/KNOWLEDGE/EXPERIENCE</td>\n",
       "      <td>NOT APPLICABLE</td>\n",
       "      <td>821.0</td>\n",
       "      <td>2</td>\n",
       "      <td>5</td>\n",
       "      <td>1</td>\n",
       "      <td>11</td>\n",
       "      <td>2015</td>\n",
       "    </tr>\n",
       "    <tr>\n",
       "      <th>3</th>\n",
       "      <td>DRIVER</td>\n",
       "      <td>NaN</td>\n",
       "      <td>X</td>\n",
       "      <td>NaN</td>\n",
       "      <td>NaN</td>\n",
       "      <td>USAGE UNKNOWN</td>\n",
       "      <td>DEPLOYMENT UNKNOWN</td>\n",
       "      <td>UNKNOWN</td>\n",
       "      <td>UNKNOWN</td>\n",
       "      <td>UNKNOWN</td>\n",
       "      <td>...</td>\n",
       "      <td>NO DEFECTS</td>\n",
       "      <td>$501 - $1,500</td>\n",
       "      <td>UNABLE TO DETERMINE</td>\n",
       "      <td>UNABLE TO DETERMINE</td>\n",
       "      <td>2023.0</td>\n",
       "      <td>2</td>\n",
       "      <td>8</td>\n",
       "      <td>1</td>\n",
       "      <td>11</td>\n",
       "      <td>2015</td>\n",
       "    </tr>\n",
       "    <tr>\n",
       "      <th>4</th>\n",
       "      <td>DRIVER</td>\n",
       "      <td>NaN</td>\n",
       "      <td>X</td>\n",
       "      <td>NaN</td>\n",
       "      <td>NaN</td>\n",
       "      <td>USAGE UNKNOWN</td>\n",
       "      <td>DEPLOYMENT UNKNOWN</td>\n",
       "      <td>UNKNOWN</td>\n",
       "      <td>UNKNOWN</td>\n",
       "      <td>UNKNOWN</td>\n",
       "      <td>...</td>\n",
       "      <td>NO DEFECTS</td>\n",
       "      <td>OVER $1,500</td>\n",
       "      <td>UNABLE TO DETERMINE</td>\n",
       "      <td>NOT APPLICABLE</td>\n",
       "      <td>223.0</td>\n",
       "      <td>2</td>\n",
       "      <td>10</td>\n",
       "      <td>1</td>\n",
       "      <td>11</td>\n",
       "      <td>2015</td>\n",
       "    </tr>\n",
       "  </tbody>\n",
       "</table>\n",
       "<p>5 rows × 31 columns</p>\n",
       "</div>"
      ],
      "text/plain": [
       "  PERSON_TYPE STATE SEX   AGE DRIVERS_LICENSE_CLASS  SAFETY_EQUIPMENT  \\\n",
       "0      DRIVER    IL   M  25.0                     D      NONE PRESENT   \n",
       "1      DRIVER    IL   M  37.0                   NaN  SAFETY BELT USED   \n",
       "2      DRIVER   NaN   X   NaN                   NaN     USAGE UNKNOWN   \n",
       "3      DRIVER   NaN   X   NaN                   NaN     USAGE UNKNOWN   \n",
       "4      DRIVER   NaN   X   NaN                   NaN     USAGE UNKNOWN   \n",
       "\n",
       "      AIRBAG_DEPLOYED EJECTION     DRIVER_ACTION DRIVER_VISION  ...  \\\n",
       "0  DEPLOYMENT UNKNOWN     NONE           UNKNOWN       UNKNOWN  ...   \n",
       "1      DID NOT DEPLOY     NONE              NONE  NOT OBSCURED  ...   \n",
       "2  DEPLOYMENT UNKNOWN     NONE  IMPROPER BACKING       UNKNOWN  ...   \n",
       "3  DEPLOYMENT UNKNOWN  UNKNOWN           UNKNOWN       UNKNOWN  ...   \n",
       "4  DEPLOYMENT UNKNOWN  UNKNOWN           UNKNOWN       UNKNOWN  ...   \n",
       "\n",
       "  ROAD_DEFECT         DAMAGE              PRIM_CONTRIBUTORY_CAUSE  \\\n",
       "0  NO DEFECTS    OVER $1,500                  UNABLE TO DETERMINE   \n",
       "1  NO DEFECTS   $500 OR LESS          IMPROPER OVERTAKING/PASSING   \n",
       "2  NO DEFECTS    OVER $1,500  DRIVING SKILLS/KNOWLEDGE/EXPERIENCE   \n",
       "3  NO DEFECTS  $501 - $1,500                  UNABLE TO DETERMINE   \n",
       "4  NO DEFECTS    OVER $1,500                  UNABLE TO DETERMINE   \n",
       "\n",
       "                   SEC_CONTRIBUTORY_CAUSE BEAT_OF_OCCURRENCE NUM_UNITS  \\\n",
       "0                          NOT APPLICABLE             1531.0         3   \n",
       "1  FAILING TO REDUCE SPEED TO AVOID CRASH              613.0         2   \n",
       "2                          NOT APPLICABLE              821.0         2   \n",
       "3                     UNABLE TO DETERMINE             2023.0         2   \n",
       "4                          NOT APPLICABLE              223.0         2   \n",
       "\n",
       "  CRASH_HOUR CRASH_DAY_OF_WEEK CRASH_MONTH CRASH_YEAR  \n",
       "0          3                 7           9       2019  \n",
       "1         22                 2           4       2020  \n",
       "2          5                 1          11       2015  \n",
       "3          8                 1          11       2015  \n",
       "4         10                 1          11       2015  \n",
       "\n",
       "[5 rows x 31 columns]"
      ]
     },
     "execution_count": 44,
     "metadata": {},
     "output_type": "execute_result"
    }
   ],
   "source": [
    "#select Features\n",
    "\n",
    "Selected_df = joined_df.drop([\n",
    "    'CRASH_RECORD_ID',\n",
    "    'VEHICLE_ID',\n",
    "    'CRASH_DATE',\n",
    "    'CITY',\n",
    "    'DRIVERS_LICENSE_STATE',\n",
    "    'INJURY_CLASSIFICATION',\n",
    "    'CRASH_TYPE',\n",
    "    'TARGET'\n",
    "    ], axis=1)\n",
    "Selected_df.head()"
   ]
  },
  {
   "cell_type": "markdown",
   "metadata": {},
   "source": [
    "#### Finding categorical Columns in the selected columns"
   ]
  },
  {
   "cell_type": "code",
   "execution_count": 45,
   "metadata": {},
   "outputs": [
    {
     "name": "stdout",
     "output_type": "stream",
     "text": [
      "Total categorical variables: 23 \n",
      "\n",
      "The categorical variables are: ['PERSON_TYPE', 'STATE', 'SEX', 'DRIVERS_LICENSE_CLASS', 'SAFETY_EQUIPMENT', 'AIRBAG_DEPLOYED', 'EJECTION', 'DRIVER_ACTION', 'DRIVER_VISION', 'PHYSICAL_CONDITION', 'BAC_RESULT', 'TRAFFIC_CONTROL_DEVICE', 'DEVICE_CONDITION', 'WEATHER_CONDITION', 'LIGHTING_CONDITION', 'FIRST_CRASH_TYPE', 'TRAFFICWAY_TYPE', 'ALIGNMENT', 'ROADWAY_SURFACE_COND', 'ROAD_DEFECT', 'DAMAGE', 'PRIM_CONTRIBUTORY_CAUSE', 'SEC_CONTRIBUTORY_CAUSE']\n"
     ]
    }
   ],
   "source": [
    "categorical = [var for var in Selected_df.columns if Selected_df[var].dtype=='object']\n",
    "\n",
    "print('Total categorical variables: {} \\n'.format(len(categorical)))\n",
    "\n",
    "print('The categorical variables are:', categorical)"
   ]
  },
  {
   "cell_type": "markdown",
   "metadata": {},
   "source": [
    "- There are 24 categorical values in total in the selected features"
   ]
  },
  {
   "cell_type": "markdown",
   "metadata": {},
   "source": [
    "##### Exploring Missing Values in Categorical Variables"
   ]
  },
  {
   "cell_type": "code",
   "execution_count": 46,
   "metadata": {},
   "outputs": [
    {
     "data": {
      "text/plain": [
       "PERSON_TYPE                     0\n",
       "STATE                      505050\n",
       "SEX                         31979\n",
       "DRIVERS_LICENSE_CLASS      991085\n",
       "SAFETY_EQUIPMENT             4761\n",
       "AIRBAG_DEPLOYED             37374\n",
       "EJECTION                    23524\n",
       "DRIVER_ACTION              394207\n",
       "DRIVER_VISION              394781\n",
       "PHYSICAL_CONDITION         393135\n",
       "BAC_RESULT                 393486\n",
       "TRAFFIC_CONTROL_DEVICE          0\n",
       "DEVICE_CONDITION                0\n",
       "WEATHER_CONDITION               0\n",
       "LIGHTING_CONDITION              0\n",
       "FIRST_CRASH_TYPE                0\n",
       "TRAFFICWAY_TYPE                 0\n",
       "ALIGNMENT                       0\n",
       "ROADWAY_SURFACE_COND            0\n",
       "ROAD_DEFECT                     0\n",
       "DAMAGE                          0\n",
       "PRIM_CONTRIBUTORY_CAUSE         0\n",
       "SEC_CONTRIBUTORY_CAUSE          0\n",
       "dtype: int64"
      ]
     },
     "execution_count": 46,
     "metadata": {},
     "output_type": "execute_result"
    }
   ],
   "source": [
    "Selected_df[categorical].isnull().sum()"
   ]
  },
  {
   "cell_type": "markdown",
   "metadata": {},
   "source": [
    "#### Finding Numerical Columns in the selected columns"
   ]
  },
  {
   "cell_type": "code",
   "execution_count": 47,
   "metadata": {},
   "outputs": [
    {
     "name": "stdout",
     "output_type": "stream",
     "text": [
      "There are 8 numerical variables in the features dataset\n",
      "\n",
      "The numerical variables are : ['AGE', 'POSTED_SPEED_LIMIT', 'BEAT_OF_OCCURRENCE', 'NUM_UNITS', 'CRASH_HOUR', 'CRASH_DAY_OF_WEEK', 'CRASH_MONTH', 'CRASH_YEAR']\n"
     ]
    }
   ],
   "source": [
    "# check numerical features\n",
    "\n",
    "numerical = [var for var in Selected_df.columns if Selected_df[var].dtype!='object']\n",
    "\n",
    "\n",
    "print('There are {} numerical variables in the features dataset\\n'.format(len(numerical)))\n",
    "\n",
    "print('The numerical variables are :', numerical)"
   ]
  },
  {
   "cell_type": "markdown",
   "metadata": {},
   "source": [
    "##### Checking for Missing Values in the numerical variables"
   ]
  },
  {
   "cell_type": "code",
   "execution_count": 48,
   "metadata": {},
   "outputs": [
    {
     "data": {
      "text/plain": [
       "AGE                   563074\n",
       "POSTED_SPEED_LIMIT         0\n",
       "BEAT_OF_OCCURRENCE        12\n",
       "NUM_UNITS                  0\n",
       "CRASH_HOUR                 0\n",
       "CRASH_DAY_OF_WEEK          0\n",
       "CRASH_MONTH                0\n",
       "CRASH_YEAR                 0\n",
       "dtype: int64"
      ]
     },
     "execution_count": 48,
     "metadata": {},
     "output_type": "execute_result"
    }
   ],
   "source": [
    "Selected_df[numerical].isnull().sum()"
   ]
  },
  {
   "cell_type": "markdown",
   "metadata": {},
   "source": [
    "- The `AGE` and `BIT_OF_OCCURRENCE` columns have missing values.\n",
    "- We impute the two columns using median since they are numerical columns \n"
   ]
  },
  {
   "cell_type": "markdown",
   "metadata": {},
   "source": [
    "Imputing Numerical Colums with Median"
   ]
  },
  {
   "cell_type": "code",
   "execution_count": 49,
   "metadata": {},
   "outputs": [
    {
     "data": {
      "text/plain": [
       "AGE                   0\n",
       "POSTED_SPEED_LIMIT    0\n",
       "BEAT_OF_OCCURRENCE    0\n",
       "NUM_UNITS             0\n",
       "CRASH_HOUR            0\n",
       "CRASH_DAY_OF_WEEK     0\n",
       "CRASH_MONTH           0\n",
       "CRASH_YEAR            0\n",
       "dtype: int64"
      ]
     },
     "execution_count": 49,
     "metadata": {},
     "output_type": "execute_result"
    }
   ],
   "source": [
    "# impute missing values with median\n",
    "Selected_df[numerical] = Selected_df[numerical].apply(lambda x: x.fillna(x.median()))\n",
    "\n",
    "# check whether there are still missing values.\n",
    "Selected_df[numerical][numerical].isnull().sum()"
   ]
  },
  {
   "cell_type": "markdown",
   "metadata": {},
   "source": [
    "Correlation Heatmap for numerical variables"
   ]
  },
  {
   "cell_type": "code",
   "execution_count": 50,
   "metadata": {},
   "outputs": [
    {
     "data": {
      "text/plain": [
       "<AxesSubplot:>"
      ]
     },
     "execution_count": 50,
     "metadata": {},
     "output_type": "execute_result"
    },
    {
     "data": {
      "image/png": "[encoded data removed]",
      "text/plain": [
       "<Figure size 1440x432 with 2 Axes>"
      ]
     },
     "metadata": {
      "needs_background": "light"
     },
     "output_type": "display_data"
    }
   ],
   "source": [
    "plt.figure(figsize=(20, 6))\n",
    "sns.heatmap(Selected_df[numerical].corr(), cmap=\"tab20\", annot=True)"
   ]
  },
  {
   "cell_type": "markdown",
   "metadata": {},
   "source": [
    "- "
   ]
  },
  {
   "cell_type": "markdown",
   "metadata": {},
   "source": [
    "## MODELLING"
   ]
  },
  {
   "cell_type": "markdown",
   "metadata": {},
   "source": [
    "#### Importing the Necessary Libraries for Modelling"
   ]
  },
  {
   "cell_type": "code",
   "execution_count": 51,
   "metadata": {},
   "outputs": [],
   "source": [
    "from sklearn.tree import DecisionTreeClassifier \n",
    "from sklearn.multioutput import MultiOutputClassifier\n",
    "from sklearn.model_selection import train_test_split, GridSearchCV, cross_validate, cross_val_predict, cross_val_score\n",
    "from sklearn.metrics import accuracy_score\n",
    "from sklearn.preprocessing import StandardScaler, OneHotEncoder\n",
    "from sklearn.impute import SimpleImputer\n",
    "from sklearn.compose import ColumnTransformer\n",
    "from sklearn.pipeline import Pipeline"
   ]
  },
  {
   "cell_type": "markdown",
   "metadata": {},
   "source": [
    "### MODEL 1: DECISION TREE CLASSIFIER VANILLA MODEL"
   ]
  },
  {
   "cell_type": "markdown",
   "metadata": {},
   "source": [
    "- The model uses gridsearch cv with max_depth and min_sample_splits\n",
    "- We also applied standard scaling"
   ]
  },
  {
   "cell_type": "code",
   "execution_count": null,
   "metadata": {},
   "outputs": [],
   "source": [
    "# selecting the predictors and the target variable\n",
    "\n",
    "X = Selected_df[numerical]\n",
    "y = joined_df['TARGET']\n",
    "\n",
    "#train test split\n",
    "X_train, X_test, y_train, y_test = train_test_split(X,y,random_state=42,test_size=0.3)\n",
    "\n",
    "# Create the pipeline\n",
    "pipe = Pipeline([('ss', StandardScaler()),\n",
    "                 ('tree', DecisionTreeClassifier(random_state=123))])\n",
    "\n",
    "# Create the grid parameter\n",
    "grid = [{'tree__max_depth': [None, 2, 6, 10], \n",
    "         'tree__min_samples_split': [5, 10]}]\n",
    "\n",
    "\n",
    "# Create the grid, with \"pipe\" as the estimator\n",
    "gridsearch = GridSearchCV(estimator=pipe, \n",
    "                          param_grid=grid, \n",
    "                          scoring='accuracy', \n",
    "                          cv=5)\n",
    "\n",
    "# Fit using grid search\n",
    "gridsearch.fit(X_train, y_train)\n",
    "\n",
    "# Calculate the test score\n",
    "gridsearch.score(X_test, y_test)\n",
    "\n",
    "\n",
    "#print train and test scores \n",
    "print(f'Model 1 Train score: {gridsearch.score(X_train, y_train)}')\n",
    "\n",
    "print(f'Model 1 Test Score: {gridsearch.score(X_test, y_test)}')\n"
   ]
  },
  {
   "cell_type": "markdown",
   "metadata": {},
   "source": [
    "#### Comments\n",
    "- The features that were used in this model are `AGE`, `POSTED_SPEED_LIMIT`, `BEAT_OF_OCCURRENCE`, `NUM_UNITS`,  `CRASH_HOUR`,  `CRASH_DAY_OF_WEEK `, `CRASH_MONTH ` and `CRASH_YEAR`.\n",
    "- The 91% perfrmance of the model both on train and test data indicate that the features \n"
   ]
  },
  {
   "cell_type": "markdown",
   "metadata": {},
   "source": []
  }
 ],
 "metadata": {
  "kernelspec": {
   "display_name": "learn-env",
   "language": "python",
   "name": "python3"
  },
  "language_info": {
   "codemirror_mode": {
    "name": "ipython",
    "version": 3
   },
   "file_extension": ".py",
   "mimetype": "text/x-python",
   "name": "python",
   "nbconvert_exporter": "python",
   "pygments_lexer": "ipython3",
   "version": "3.8.5"
  }
 },
 "nbformat": 4,
 "nbformat_minor": 2
}
